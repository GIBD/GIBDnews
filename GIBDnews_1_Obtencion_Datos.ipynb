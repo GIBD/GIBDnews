{
  "nbformat": 4,
  "nbformat_minor": 0,
  "metadata": {
    "colab": {
      "name": "GIBDnews_1_Obtencion_Datos.ipynb",
      "provenance": [],
      "collapsed_sections": [],
      "toc_visible": true,
      "include_colab_link": true
    },
    "kernelspec": {
      "name": "python3",
      "display_name": "Python 3"
    }
  },
  "cells": [
    {
      "cell_type": "markdown",
      "metadata": {
        "id": "view-in-github",
        "colab_type": "text"
      },
      "source": [
        "<a href=\"https://colab.research.google.com/github/GIBD/GIBDnews/blob/master/GIBDnews_1_Obtencion_Datos.ipynb\" target=\"_parent\"><img src=\"https://colab.research.google.com/assets/colab-badge.svg\" alt=\"Open In Colab\"/></a>"
      ]
    },
    {
      "cell_type": "markdown",
      "metadata": {
        "id": "hQhyMtnHUY27",
        "colab_type": "text"
      },
      "source": [
        "# **GIBDnews**\n",
        "**Aplicación de Técnicas de Minería de Textos a noticias** \n",
        "\n",
        "**Parte 1**\n"
      ]
    },
    {
      "cell_type": "markdown",
      "metadata": {
        "id": "-rHtDJxPdeGm",
        "colab_type": "text"
      },
      "source": [
        "---\n",
        "#**Obtención y Preparación de los Textos**\n",
        "\n",
        "---\n",
        "\n",
        "**Fuentes de información**\n",
        "\n",
        "Para este trabajo se consideró trabajar con tres periódicos digitales nacionales: Clarín, Infobae y La Nación. Se seleccionaron 6 secciones de los diarios: Deportes, Economía, Espectáculos, Política, Sociedad, Tecnología.\n",
        "\n",
        "---"
      ]
    },
    {
      "cell_type": "markdown",
      "metadata": {
        "id": "ILfNzqVkDNnO",
        "colab_type": "text"
      },
      "source": [
        "**Carga de librerías**\n",
        "\n",
        "---"
      ]
    },
    {
      "cell_type": "code",
      "metadata": {
        "id": "RajHAdp-CzvE",
        "colab_type": "code",
        "colab": {}
      },
      "source": [
        "import pandas as pd\n",
        "import os\n",
        "import chardet\n",
        "import numpy as np\n",
        "import datetime\n",
        "from os import path"
      ],
      "execution_count": 0,
      "outputs": []
    },
    {
      "cell_type": "code",
      "metadata": {
        "id": "yBS4zAD7C6Ot",
        "colab_type": "code",
        "outputId": "a324589d-7861-4d1e-8c56-055e99000459",
        "colab": {
          "base_uri": "https://localhost:8080/",
          "height": 146
        }
      },
      "source": [
        "! git clone https://github.com/GIBD/GIBDnews.git"
      ],
      "execution_count": 0,
      "outputs": [
        {
          "output_type": "stream",
          "text": [
            "Cloning into 'GIBDnews'...\n",
            "remote: Enumerating objects: 177, done.\u001b[K\n",
            "remote: Counting objects: 100% (177/177), done.\u001b[K\n",
            "remote: Compressing objects: 100% (173/173), done.\u001b[K\n",
            "remote: Total 259 (delta 10), reused 156 (delta 1), pack-reused 82\u001b[K\n",
            "Receiving objects: 100% (259/259), 9.36 MiB | 5.59 MiB/s, done.\n",
            "Resolving deltas: 100% (23/23), done.\n"
          ],
          "name": "stdout"
        }
      ]
    },
    {
      "cell_type": "markdown",
      "metadata": {
        "id": "cYhJTVU9es8C",
        "colab_type": "text"
      },
      "source": [
        "---\n",
        "\n",
        "**Generación de dataset único**\n",
        "\n",
        "\n",
        "---"
      ]
    },
    {
      "cell_type": "code",
      "metadata": {
        "id": "dCp2VP-uRsGa",
        "colab_type": "code",
        "colab": {}
      },
      "source": [
        "# Constantes\n",
        "\n",
        "# Solamente es necesario cambiar el directorio base\n",
        "\n",
        "\n",
        "DIRECTORIO_BASE = r'/content/GIBDnews'     \n",
        "DIRECTORIO_DATA = path.join(DIRECTORIO_BASE, 'data/raw/2020/04-ABR')\n",
        "DIRECTORIO_EXPORT = path.join(DIRECTORIO_BASE, 'export')\n",
        "\n",
        "TEMPLATE_EXPORT = 'news_abril'\n",
        "\n",
        "MES = 4\n",
        "DIA_INICIO = 11\n",
        "DIA_FIN = 22\n",
        "\n",
        "DIARIOS = ['clarin','infobae','lanacion'] # Metadatos para acceder a los archivos JSON\n",
        "SECCIONES = ['deportes','economia','sociedad','tecnologia']  #, 'politica'\n",
        "DIAS = list(range(DIA_INICIO, DIA_FIN + 1))"
      ],
      "execution_count": 0,
      "outputs": []
    },
    {
      "cell_type": "code",
      "metadata": {
        "id": "32p9K2cKSBAD",
        "colab_type": "code",
        "colab": {}
      },
      "source": [
        "# Utilidades\n",
        "\n",
        "def generar_nombre_export(nombre_export):\n",
        "    formato = \"%Y%m%d-%H%M%S\"\n",
        "    fecha_actual = datetime.datetime.now().strftime(formato)\n",
        "    nombre_archivo = f'{TEMPLATE_EXPORT}_{nombre_export}_{fecha_actual}.csv'\n",
        "    \n",
        "    return path.join(DIRECTORIO_EXPORT, nombre_archivo)\n",
        "\n",
        "def log(mensaje, nivel = 0):\n",
        "    tabs = ('\\t' * nivel) if nivel is not 0 else ''\n",
        "    print(tabs + mensaje)\n",
        "    \n",
        "def crear_directorio_si_no_existe(directorio):\n",
        "    if not path.exists(directorio):\n",
        "        os.makedirs(directorio)"
      ],
      "execution_count": 0,
      "outputs": []
    },
    {
      "cell_type": "code",
      "metadata": {
        "id": "P1zH__GNDeC6",
        "colab_type": "code",
        "outputId": "653661a1-f390-410f-d503-9f0bc6991796",
        "colab": {
          "base_uri": "https://localhost:8080/",
          "height": 1000
        }
      },
      "source": [
        "crear_directorio_si_no_existe(DIRECTORIO_BASE)\n",
        "crear_directorio_si_no_existe(DIRECTORIO_EXPORT)\n",
        "\n",
        "os.chdir(DIRECTORIO_DATA) \n",
        "\n",
        "# Inicializa dataframe noticias\n",
        "noticias = pd.DataFrame()\n",
        "\n",
        "# Recorre los archivos JSON cargando las noticias en el dataframe noticias\n",
        "for diario in DIARIOS:\n",
        "    for seccion in SECCIONES:\n",
        "        for dia in DIAS:\n",
        "            # Genera el nombre del JSON a procesar\n",
        "            nombreJSON = f'{diario}_{seccion}_2020{MES:02d}{dia:02d}.json'\n",
        "            \n",
        "            log(f'Procesando archivo {nombreJSON}:')\n",
        "\n",
        "            # Genera la fecha del JSON actual\n",
        "            fechaJSON = datetime.datetime(2020, MES, dia)\n",
        "            \n",
        "            if not path.exists(nombreJSON):\n",
        "                log('Archivo no encontrado.', 1)\n",
        "                continue\n",
        "            \n",
        "            # Obtiene metadatos del archivo para acceder al encoding\n",
        "            with open(nombreJSON, 'rb') as f: \n",
        "                result = chardet.detect(f.read())\n",
        "            \n",
        "            # Obtiene el dataframe a partir del JSON teniendo en cuenta el encoding\n",
        "            encoding = 'utf-8' if result['encoding'] != 'Windows-1252' else result['encoding']\n",
        "            \n",
        "            # convert_dates en False es porque:\n",
        "            #    1) los archivos de infobae (ej infobae_economia_20200317) tienen un array en la llave date\n",
        "            #    2) igualmente la fecha se pisa en el siguiente paso, asi que tampoco importa\n",
        "            df = pd.read_json(nombreJSON, lines=True, encoding=encoding, convert_dates=False)\n",
        "                \n",
        "            # Actualiza la fecha en el dataframe\n",
        "            df['date'] = fechaJSON\n",
        "            \n",
        "            #concatena con los anteriores\n",
        "            noticias = pd.concat([noticias, df], ignore_index=True, sort=False)\n",
        "            \n",
        "            log('Archivo procesado correctamente.', 1)   "
      ],
      "execution_count": 0,
      "outputs": [
        {
          "output_type": "stream",
          "text": [
            "Procesando archivo clarin_deportes_20200411.json:\n",
            "\tArchivo procesado correctamente.\n",
            "Procesando archivo clarin_deportes_20200412.json:\n",
            "\tArchivo procesado correctamente.\n",
            "Procesando archivo clarin_deportes_20200413.json:\n",
            "\tArchivo procesado correctamente.\n",
            "Procesando archivo clarin_deportes_20200414.json:\n",
            "\tArchivo procesado correctamente.\n",
            "Procesando archivo clarin_deportes_20200415.json:\n",
            "\tArchivo procesado correctamente.\n",
            "Procesando archivo clarin_deportes_20200416.json:\n",
            "\tArchivo procesado correctamente.\n",
            "Procesando archivo clarin_deportes_20200417.json:\n",
            "\tArchivo procesado correctamente.\n",
            "Procesando archivo clarin_deportes_20200418.json:\n",
            "\tArchivo procesado correctamente.\n",
            "Procesando archivo clarin_deportes_20200419.json:\n",
            "\tArchivo procesado correctamente.\n",
            "Procesando archivo clarin_deportes_20200420.json:\n",
            "\tArchivo procesado correctamente.\n",
            "Procesando archivo clarin_deportes_20200421.json:\n",
            "\tArchivo procesado correctamente.\n",
            "Procesando archivo clarin_deportes_20200422.json:\n",
            "\tArchivo procesado correctamente.\n",
            "Procesando archivo clarin_economia_20200411.json:\n",
            "\tArchivo procesado correctamente.\n",
            "Procesando archivo clarin_economia_20200412.json:\n",
            "\tArchivo procesado correctamente.\n",
            "Procesando archivo clarin_economia_20200413.json:\n",
            "\tArchivo procesado correctamente.\n",
            "Procesando archivo clarin_economia_20200414.json:\n",
            "\tArchivo procesado correctamente.\n",
            "Procesando archivo clarin_economia_20200415.json:\n",
            "\tArchivo procesado correctamente.\n",
            "Procesando archivo clarin_economia_20200416.json:\n",
            "\tArchivo procesado correctamente.\n",
            "Procesando archivo clarin_economia_20200417.json:\n",
            "\tArchivo procesado correctamente.\n",
            "Procesando archivo clarin_economia_20200418.json:\n",
            "\tArchivo procesado correctamente.\n",
            "Procesando archivo clarin_economia_20200419.json:\n",
            "\tArchivo procesado correctamente.\n",
            "Procesando archivo clarin_economia_20200420.json:\n",
            "\tArchivo procesado correctamente.\n",
            "Procesando archivo clarin_economia_20200421.json:\n",
            "\tArchivo procesado correctamente.\n",
            "Procesando archivo clarin_economia_20200422.json:\n",
            "\tArchivo procesado correctamente.\n",
            "Procesando archivo clarin_sociedad_20200411.json:\n",
            "\tArchivo procesado correctamente.\n",
            "Procesando archivo clarin_sociedad_20200412.json:\n",
            "\tArchivo procesado correctamente.\n",
            "Procesando archivo clarin_sociedad_20200413.json:\n",
            "\tArchivo procesado correctamente.\n",
            "Procesando archivo clarin_sociedad_20200414.json:\n",
            "\tArchivo procesado correctamente.\n",
            "Procesando archivo clarin_sociedad_20200415.json:\n",
            "\tArchivo procesado correctamente.\n",
            "Procesando archivo clarin_sociedad_20200416.json:\n",
            "\tArchivo procesado correctamente.\n",
            "Procesando archivo clarin_sociedad_20200417.json:\n",
            "\tArchivo procesado correctamente.\n",
            "Procesando archivo clarin_sociedad_20200418.json:\n",
            "\tArchivo procesado correctamente.\n",
            "Procesando archivo clarin_sociedad_20200419.json:\n",
            "\tArchivo procesado correctamente.\n",
            "Procesando archivo clarin_sociedad_20200420.json:\n",
            "\tArchivo procesado correctamente.\n",
            "Procesando archivo clarin_sociedad_20200421.json:\n",
            "\tArchivo procesado correctamente.\n",
            "Procesando archivo clarin_sociedad_20200422.json:\n",
            "\tArchivo procesado correctamente.\n",
            "Procesando archivo clarin_tecnologia_20200411.json:\n",
            "\tArchivo procesado correctamente.\n",
            "Procesando archivo clarin_tecnologia_20200412.json:\n",
            "\tArchivo procesado correctamente.\n",
            "Procesando archivo clarin_tecnologia_20200413.json:\n",
            "\tArchivo procesado correctamente.\n",
            "Procesando archivo clarin_tecnologia_20200414.json:\n",
            "\tArchivo procesado correctamente.\n",
            "Procesando archivo clarin_tecnologia_20200415.json:\n",
            "\tArchivo procesado correctamente.\n",
            "Procesando archivo clarin_tecnologia_20200416.json:\n",
            "\tArchivo procesado correctamente.\n",
            "Procesando archivo clarin_tecnologia_20200417.json:\n",
            "\tArchivo procesado correctamente.\n",
            "Procesando archivo clarin_tecnologia_20200418.json:\n",
            "\tArchivo procesado correctamente.\n",
            "Procesando archivo clarin_tecnologia_20200419.json:\n",
            "\tArchivo procesado correctamente.\n",
            "Procesando archivo clarin_tecnologia_20200420.json:\n",
            "\tArchivo procesado correctamente.\n",
            "Procesando archivo clarin_tecnologia_20200421.json:\n",
            "\tArchivo procesado correctamente.\n",
            "Procesando archivo clarin_tecnologia_20200422.json:\n",
            "\tArchivo procesado correctamente.\n",
            "Procesando archivo infobae_deportes_20200411.json:\n",
            "\tArchivo procesado correctamente.\n",
            "Procesando archivo infobae_deportes_20200412.json:\n",
            "\tArchivo procesado correctamente.\n",
            "Procesando archivo infobae_deportes_20200413.json:\n",
            "\tArchivo procesado correctamente.\n",
            "Procesando archivo infobae_deportes_20200414.json:\n",
            "\tArchivo procesado correctamente.\n",
            "Procesando archivo infobae_deportes_20200415.json:\n",
            "\tArchivo procesado correctamente.\n",
            "Procesando archivo infobae_deportes_20200416.json:\n",
            "\tArchivo procesado correctamente.\n",
            "Procesando archivo infobae_deportes_20200417.json:\n",
            "\tArchivo procesado correctamente.\n",
            "Procesando archivo infobae_deportes_20200418.json:\n",
            "\tArchivo procesado correctamente.\n",
            "Procesando archivo infobae_deportes_20200419.json:\n",
            "\tArchivo procesado correctamente.\n",
            "Procesando archivo infobae_deportes_20200420.json:\n",
            "\tArchivo procesado correctamente.\n",
            "Procesando archivo infobae_deportes_20200421.json:\n",
            "\tArchivo procesado correctamente.\n",
            "Procesando archivo infobae_deportes_20200422.json:\n",
            "\tArchivo procesado correctamente.\n",
            "Procesando archivo infobae_economia_20200411.json:\n",
            "\tArchivo procesado correctamente.\n",
            "Procesando archivo infobae_economia_20200412.json:\n",
            "\tArchivo procesado correctamente.\n",
            "Procesando archivo infobae_economia_20200413.json:\n",
            "\tArchivo procesado correctamente.\n",
            "Procesando archivo infobae_economia_20200414.json:\n",
            "\tArchivo procesado correctamente.\n",
            "Procesando archivo infobae_economia_20200415.json:\n",
            "\tArchivo procesado correctamente.\n",
            "Procesando archivo infobae_economia_20200416.json:\n",
            "\tArchivo procesado correctamente.\n",
            "Procesando archivo infobae_economia_20200417.json:\n",
            "\tArchivo procesado correctamente.\n",
            "Procesando archivo infobae_economia_20200418.json:\n",
            "\tArchivo procesado correctamente.\n",
            "Procesando archivo infobae_economia_20200419.json:\n",
            "\tArchivo procesado correctamente.\n",
            "Procesando archivo infobae_economia_20200420.json:\n",
            "\tArchivo procesado correctamente.\n",
            "Procesando archivo infobae_economia_20200421.json:\n",
            "\tArchivo procesado correctamente.\n",
            "Procesando archivo infobae_economia_20200422.json:\n",
            "\tArchivo procesado correctamente.\n",
            "Procesando archivo infobae_sociedad_20200411.json:\n",
            "\tArchivo procesado correctamente.\n",
            "Procesando archivo infobae_sociedad_20200412.json:\n",
            "\tArchivo procesado correctamente.\n",
            "Procesando archivo infobae_sociedad_20200413.json:\n",
            "\tArchivo procesado correctamente.\n",
            "Procesando archivo infobae_sociedad_20200414.json:\n",
            "\tArchivo procesado correctamente.\n",
            "Procesando archivo infobae_sociedad_20200415.json:\n",
            "\tArchivo procesado correctamente.\n",
            "Procesando archivo infobae_sociedad_20200416.json:\n",
            "\tArchivo procesado correctamente.\n",
            "Procesando archivo infobae_sociedad_20200417.json:\n",
            "\tArchivo procesado correctamente.\n",
            "Procesando archivo infobae_sociedad_20200418.json:\n",
            "\tArchivo procesado correctamente.\n",
            "Procesando archivo infobae_sociedad_20200419.json:\n",
            "\tArchivo procesado correctamente.\n",
            "Procesando archivo infobae_sociedad_20200420.json:\n",
            "\tArchivo procesado correctamente.\n",
            "Procesando archivo infobae_sociedad_20200421.json:\n",
            "\tArchivo procesado correctamente.\n",
            "Procesando archivo infobae_sociedad_20200422.json:\n",
            "\tArchivo procesado correctamente.\n",
            "Procesando archivo infobae_tecnologia_20200411.json:\n",
            "\tArchivo procesado correctamente.\n",
            "Procesando archivo infobae_tecnologia_20200412.json:\n",
            "\tArchivo procesado correctamente.\n",
            "Procesando archivo infobae_tecnologia_20200413.json:\n",
            "\tArchivo procesado correctamente.\n",
            "Procesando archivo infobae_tecnologia_20200414.json:\n",
            "\tArchivo procesado correctamente.\n",
            "Procesando archivo infobae_tecnologia_20200415.json:\n",
            "\tArchivo procesado correctamente.\n",
            "Procesando archivo infobae_tecnologia_20200416.json:\n",
            "\tArchivo procesado correctamente.\n",
            "Procesando archivo infobae_tecnologia_20200417.json:\n",
            "\tArchivo procesado correctamente.\n",
            "Procesando archivo infobae_tecnologia_20200418.json:\n",
            "\tArchivo procesado correctamente.\n",
            "Procesando archivo infobae_tecnologia_20200419.json:\n",
            "\tArchivo procesado correctamente.\n",
            "Procesando archivo infobae_tecnologia_20200420.json:\n",
            "\tArchivo procesado correctamente.\n",
            "Procesando archivo infobae_tecnologia_20200421.json:\n",
            "\tArchivo procesado correctamente.\n",
            "Procesando archivo infobae_tecnologia_20200422.json:\n",
            "\tArchivo procesado correctamente.\n",
            "Procesando archivo lanacion_deportes_20200411.json:\n",
            "\tArchivo procesado correctamente.\n",
            "Procesando archivo lanacion_deportes_20200412.json:\n",
            "\tArchivo procesado correctamente.\n",
            "Procesando archivo lanacion_deportes_20200413.json:\n",
            "\tArchivo procesado correctamente.\n",
            "Procesando archivo lanacion_deportes_20200414.json:\n",
            "\tArchivo procesado correctamente.\n",
            "Procesando archivo lanacion_deportes_20200415.json:\n",
            "\tArchivo procesado correctamente.\n",
            "Procesando archivo lanacion_deportes_20200416.json:\n",
            "\tArchivo procesado correctamente.\n",
            "Procesando archivo lanacion_deportes_20200417.json:\n",
            "\tArchivo procesado correctamente.\n",
            "Procesando archivo lanacion_deportes_20200418.json:\n",
            "\tArchivo procesado correctamente.\n",
            "Procesando archivo lanacion_deportes_20200419.json:\n",
            "\tArchivo procesado correctamente.\n",
            "Procesando archivo lanacion_deportes_20200420.json:\n",
            "\tArchivo procesado correctamente.\n",
            "Procesando archivo lanacion_deportes_20200421.json:\n",
            "\tArchivo procesado correctamente.\n",
            "Procesando archivo lanacion_deportes_20200422.json:\n",
            "\tArchivo procesado correctamente.\n",
            "Procesando archivo lanacion_economia_20200411.json:\n",
            "\tArchivo procesado correctamente.\n",
            "Procesando archivo lanacion_economia_20200412.json:\n",
            "\tArchivo procesado correctamente.\n",
            "Procesando archivo lanacion_economia_20200413.json:\n",
            "\tArchivo procesado correctamente.\n",
            "Procesando archivo lanacion_economia_20200414.json:\n",
            "\tArchivo procesado correctamente.\n",
            "Procesando archivo lanacion_economia_20200415.json:\n",
            "\tArchivo procesado correctamente.\n",
            "Procesando archivo lanacion_economia_20200416.json:\n",
            "\tArchivo procesado correctamente.\n",
            "Procesando archivo lanacion_economia_20200417.json:\n",
            "\tArchivo procesado correctamente.\n",
            "Procesando archivo lanacion_economia_20200418.json:\n",
            "\tArchivo procesado correctamente.\n",
            "Procesando archivo lanacion_economia_20200419.json:\n",
            "\tArchivo procesado correctamente.\n",
            "Procesando archivo lanacion_economia_20200420.json:\n",
            "\tArchivo procesado correctamente.\n",
            "Procesando archivo lanacion_economia_20200421.json:\n",
            "\tArchivo procesado correctamente.\n",
            "Procesando archivo lanacion_economia_20200422.json:\n",
            "\tArchivo procesado correctamente.\n",
            "Procesando archivo lanacion_sociedad_20200411.json:\n",
            "\tArchivo procesado correctamente.\n",
            "Procesando archivo lanacion_sociedad_20200412.json:\n",
            "\tArchivo procesado correctamente.\n",
            "Procesando archivo lanacion_sociedad_20200413.json:\n",
            "\tArchivo procesado correctamente.\n",
            "Procesando archivo lanacion_sociedad_20200414.json:\n",
            "\tArchivo procesado correctamente.\n",
            "Procesando archivo lanacion_sociedad_20200415.json:\n",
            "\tArchivo procesado correctamente.\n",
            "Procesando archivo lanacion_sociedad_20200416.json:\n",
            "\tArchivo procesado correctamente.\n",
            "Procesando archivo lanacion_sociedad_20200417.json:\n",
            "\tArchivo procesado correctamente.\n",
            "Procesando archivo lanacion_sociedad_20200418.json:\n",
            "\tArchivo procesado correctamente.\n",
            "Procesando archivo lanacion_sociedad_20200419.json:\n",
            "\tArchivo no encontrado.\n",
            "Procesando archivo lanacion_sociedad_20200420.json:\n",
            "\tArchivo procesado correctamente.\n",
            "Procesando archivo lanacion_sociedad_20200421.json:\n",
            "\tArchivo procesado correctamente.\n",
            "Procesando archivo lanacion_sociedad_20200422.json:\n",
            "\tArchivo procesado correctamente.\n",
            "Procesando archivo lanacion_tecnologia_20200411.json:\n",
            "\tArchivo procesado correctamente.\n",
            "Procesando archivo lanacion_tecnologia_20200412.json:\n",
            "\tArchivo procesado correctamente.\n",
            "Procesando archivo lanacion_tecnologia_20200413.json:\n",
            "\tArchivo procesado correctamente.\n",
            "Procesando archivo lanacion_tecnologia_20200414.json:\n",
            "\tArchivo procesado correctamente.\n",
            "Procesando archivo lanacion_tecnologia_20200415.json:\n",
            "\tArchivo procesado correctamente.\n",
            "Procesando archivo lanacion_tecnologia_20200416.json:\n",
            "\tArchivo procesado correctamente.\n",
            "Procesando archivo lanacion_tecnologia_20200417.json:\n",
            "\tArchivo procesado correctamente.\n",
            "Procesando archivo lanacion_tecnologia_20200418.json:\n",
            "\tArchivo procesado correctamente.\n",
            "Procesando archivo lanacion_tecnologia_20200419.json:\n",
            "\tArchivo no encontrado.\n",
            "Procesando archivo lanacion_tecnologia_20200420.json:\n",
            "\tArchivo procesado correctamente.\n",
            "Procesando archivo lanacion_tecnologia_20200421.json:\n",
            "\tArchivo procesado correctamente.\n",
            "Procesando archivo lanacion_tecnologia_20200422.json:\n",
            "\tArchivo procesado correctamente.\n"
          ],
          "name": "stdout"
        }
      ]
    },
    {
      "cell_type": "code",
      "metadata": {
        "id": "tF3CvmGJsttz",
        "colab_type": "code",
        "outputId": "12b78c4c-eac7-468a-c8b8-ec2fcdead24d",
        "colab": {
          "base_uri": "https://localhost:8080/",
          "height": 650
        }
      },
      "source": [
        "noticias\n",
        "#noticias.body[1]"
      ],
      "execution_count": 0,
      "outputs": [
        {
          "output_type": "execute_result",
          "data": {
            "text/html": [
              "<div>\n",
              "<style scoped>\n",
              "    .dataframe tbody tr th:only-of-type {\n",
              "        vertical-align: middle;\n",
              "    }\n",
              "\n",
              "    .dataframe tbody tr th {\n",
              "        vertical-align: top;\n",
              "    }\n",
              "\n",
              "    .dataframe thead th {\n",
              "        text-align: right;\n",
              "    }\n",
              "</style>\n",
              "<table border=\"1\" class=\"dataframe\">\n",
              "  <thead>\n",
              "    <tr style=\"text-align: right;\">\n",
              "      <th></th>\n",
              "      <th>news_paper</th>\n",
              "      <th>category</th>\n",
              "      <th>link</th>\n",
              "      <th>date</th>\n",
              "      <th>title</th>\n",
              "      <th>abstract</th>\n",
              "      <th>author</th>\n",
              "      <th>key_words</th>\n",
              "      <th>body</th>\n",
              "    </tr>\n",
              "  </thead>\n",
              "  <tbody>\n",
              "    <tr>\n",
              "      <th>0</th>\n",
              "      <td>clarin</td>\n",
              "      <td>deportes</td>\n",
              "      <td>https://www.clarin.com//deportes/andres-perale...</td>\n",
              "      <td>2020-04-11</td>\n",
              "      <td>El “Pablo Vico” de España: tiene 83 años y pas...</td>\n",
              "      <td>Andrés Perales vive hace casi tres décadas en ...</td>\n",
              "      <td>[]</td>\n",
              "      <td>MálagaLiga De EspañaCoronavirusCuarentena</td>\n",
              "      <td>La cuarentena nos obligó a quedarnos en casa y...</td>\n",
              "    </tr>\n",
              "    <tr>\n",
              "      <th>1</th>\n",
              "      <td>clarin</td>\n",
              "      <td>deportes</td>\n",
              "      <td>https://www.clarin.com//deportes/adelantan-bar...</td>\n",
              "      <td>2020-04-11</td>\n",
              "      <td>Adelantan que en Barcelona se habrían pagado s...</td>\n",
              "      <td>El 'BarçaGate' sigue sumando capítulos. El dia...</td>\n",
              "      <td>[]</td>\n",
              "      <td>FC BarcelonaLionel Messi</td>\n",
              "      <td>Ha sido la temporada de los escándalos para Ba...</td>\n",
              "    </tr>\n",
              "    <tr>\n",
              "      <th>2</th>\n",
              "      <td>clarin</td>\n",
              "      <td>deportes</td>\n",
              "      <td>https://www.clarin.com//deportes/jana-pittman-...</td>\n",
              "      <td>2020-04-11</td>\n",
              "      <td>Jana Pittman, la campeona mundial que lucha en...</td>\n",
              "      <td>La atleta es una de los 47 residentes que fuer...</td>\n",
              "      <td>[]</td>\n",
              "      <td>CoronavirusAtletismo</td>\n",
              "      <td>En Argentina, Paula Pareto es la cara más visi...</td>\n",
              "    </tr>\n",
              "    <tr>\n",
              "      <th>3</th>\n",
              "      <td>clarin</td>\n",
              "      <td>deportes</td>\n",
              "      <td>https://www.clarin.com//deportes/oms-pidio-par...</td>\n",
              "      <td>2020-04-11</td>\n",
              "      <td>Coronavirus: la OMS pidió que paren el fútbol ...</td>\n",
              "      <td>La Organización Mundial de la Salud instó a qu...</td>\n",
              "      <td>[]</td>\n",
              "      <td>BielorrusiaCoronavirus</td>\n",
              "      <td>La Organización Mundial de la Salud (OMS) le p...</td>\n",
              "    </tr>\n",
              "    <tr>\n",
              "      <th>4</th>\n",
              "      <td>clarin</td>\n",
              "      <td>deportes</td>\n",
              "      <td>https://www.clarin.com//deportes/arana-amuchas...</td>\n",
              "      <td>2020-04-11</td>\n",
              "      <td>El Araña Amuchástegui, el crack que rechazó un...</td>\n",
              "      <td>Brilló en el River de Veira, pero antes fue un...</td>\n",
              "      <td>Ramón Gómez</td>\n",
              "      <td>River PlateSan LorenzoSelección Argentina De F...</td>\n",
              "      <td>El gran dilema de siempre en Córdoba es el gén...</td>\n",
              "    </tr>\n",
              "    <tr>\n",
              "      <th>...</th>\n",
              "      <td>...</td>\n",
              "      <td>...</td>\n",
              "      <td>...</td>\n",
              "      <td>...</td>\n",
              "      <td>...</td>\n",
              "      <td>...</td>\n",
              "      <td>...</td>\n",
              "      <td>...</td>\n",
              "      <td>...</td>\n",
              "    </tr>\n",
              "    <tr>\n",
              "      <th>3132</th>\n",
              "      <td>lanacion</td>\n",
              "      <td>tecnologia</td>\n",
              "      <td>http://www.lanacion.com.ar//tecnologia/agenda-...</td>\n",
              "      <td>2020-04-22</td>\n",
              "      <td>Agenda Vida Digital</td>\n",
              "      <td>NaN</td>\n",
              "      <td></td>\n",
              "      <td></td>\n",
              "      <td>ILVEM.\\r\\n\\r\\n Brindará sin cargo la capacitac...</td>\n",
              "    </tr>\n",
              "    <tr>\n",
              "      <th>3133</th>\n",
              "      <td>lanacion</td>\n",
              "      <td>tecnologia</td>\n",
              "      <td>http://www.lanacion.com.ar//tecnologia/el-oton...</td>\n",
              "      <td>2020-04-22</td>\n",
              "      <td>El otoño de los museos</td>\n",
              "      <td>NaN</td>\n",
              "      <td></td>\n",
              "      <td></td>\n",
              "      <td>Siempre es una buena idea volver al Google Art...</td>\n",
              "    </tr>\n",
              "    <tr>\n",
              "      <th>3134</th>\n",
              "      <td>lanacion</td>\n",
              "      <td>tecnologia</td>\n",
              "      <td>http://www.lanacion.com.ar//tecnologia/las-nue...</td>\n",
              "      <td>2020-04-22</td>\n",
              "      <td>Las nuevas tecnologías salen a dar batalla con...</td>\n",
              "      <td>NaN</td>\n",
              "      <td>Cintia Perazo</td>\n",
              "      <td></td>\n",
              "      <td>\"Aunque soy investigador en física teórica, me...</td>\n",
              "    </tr>\n",
              "    <tr>\n",
              "      <th>3135</th>\n",
              "      <td>lanacion</td>\n",
              "      <td>tecnologia</td>\n",
              "      <td>http://www.lanacion.com.ar//tecnologia/lnteaco...</td>\n",
              "      <td>2020-04-22</td>\n",
              "      <td>#LNteacompaña: fotos de Buenos Aires vacía par...</td>\n",
              "      <td>NaN</td>\n",
              "      <td></td>\n",
              "      <td></td>\n",
              "      <td>Desde LA NACION queremos formar parte del día ...</td>\n",
              "    </tr>\n",
              "    <tr>\n",
              "      <th>3136</th>\n",
              "      <td>lanacion</td>\n",
              "      <td>tecnologia</td>\n",
              "      <td>http://www.lanacion.com.ar//tecnologia/reglas-...</td>\n",
              "      <td>2020-04-22</td>\n",
              "      <td>Reglas de etiqueta para Zoom: 10 consejos para...</td>\n",
              "      <td>NaN</td>\n",
              "      <td>Augusto Finocchiaro Preci</td>\n",
              "      <td></td>\n",
              "      <td>Las \\r\\n\\r\\nvideollamadas por WhatsApp, Skype\\...</td>\n",
              "    </tr>\n",
              "  </tbody>\n",
              "</table>\n",
              "<p>3137 rows × 9 columns</p>\n",
              "</div>"
            ],
            "text/plain": [
              "     news_paper  ...                                               body\n",
              "0        clarin  ...  La cuarentena nos obligó a quedarnos en casa y...\n",
              "1        clarin  ...  Ha sido la temporada de los escándalos para Ba...\n",
              "2        clarin  ...  En Argentina, Paula Pareto es la cara más visi...\n",
              "3        clarin  ...  La Organización Mundial de la Salud (OMS) le p...\n",
              "4        clarin  ...  El gran dilema de siempre en Córdoba es el gén...\n",
              "...         ...  ...                                                ...\n",
              "3132   lanacion  ...  ILVEM.\\r\\n\\r\\n Brindará sin cargo la capacitac...\n",
              "3133   lanacion  ...  Siempre es una buena idea volver al Google Art...\n",
              "3134   lanacion  ...  \"Aunque soy investigador en física teórica, me...\n",
              "3135   lanacion  ...  Desde LA NACION queremos formar parte del día ...\n",
              "3136   lanacion  ...  Las \\r\\n\\r\\nvideollamadas por WhatsApp, Skype\\...\n",
              "\n",
              "[3137 rows x 9 columns]"
            ]
          },
          "metadata": {
            "tags": []
          },
          "execution_count": 7
        }
      ]
    },
    {
      "cell_type": "code",
      "metadata": {
        "id": "zwFnA6JNu4XM",
        "colab_type": "code",
        "colab": {}
      },
      "source": [
        "# Exporta el dataframe de noticias en formato CSV\n",
        "export_csv = noticias.to_csv(generar_nombre_export('todas'),index = None, header=True)\n",
        "\n",
        "#noticias.shape\n"
      ],
      "execution_count": 0,
      "outputs": []
    },
    {
      "cell_type": "code",
      "metadata": {
        "id": "8SsY-h37xBJH",
        "colab_type": "code",
        "outputId": "0d959a0b-ca84-49f0-e36f-8ef7d4c9742a",
        "colab": {
          "base_uri": "https://localhost:8080/",
          "height": 35
        }
      },
      "source": [
        "noticias.shape"
      ],
      "execution_count": 0,
      "outputs": [
        {
          "output_type": "execute_result",
          "data": {
            "text/plain": [
              "(3137, 9)"
            ]
          },
          "metadata": {
            "tags": []
          },
          "execution_count": 9
        }
      ]
    },
    {
      "cell_type": "code",
      "metadata": {
        "id": "gq5Wp7oVw7Mo",
        "colab_type": "code",
        "outputId": "8012d203-6018-4cf6-ede3-4bf20fa8f064",
        "colab": {
          "base_uri": "https://localhost:8080/",
          "height": 109
        }
      },
      "source": [
        "pd.value_counts(noticias['category'])"
      ],
      "execution_count": 0,
      "outputs": [
        {
          "output_type": "execute_result",
          "data": {
            "text/plain": [
              "deportes      905\n",
              "tecnologia    866\n",
              "sociedad      796\n",
              "economia      570\n",
              "Name: category, dtype: int64"
            ]
          },
          "metadata": {
            "tags": []
          },
          "execution_count": 10
        }
      ]
    },
    {
      "cell_type": "markdown",
      "metadata": {
        "id": "-kKC5KhAf39K",
        "colab_type": "text"
      },
      "source": [
        "---\n",
        "\n",
        "**Resumen de cantidad de noticias según diario y sección**\n",
        "\n",
        "---"
      ]
    },
    {
      "cell_type": "code",
      "metadata": {
        "id": "t8dCDEv2vJmY",
        "colab_type": "code",
        "outputId": "7dfe0ab9-8af4-4985-d000-044c2b39be49",
        "colab": {
          "base_uri": "https://localhost:8080/",
          "height": 35
        }
      },
      "source": [
        "# Agrupa las noticias por diario y categoría\n",
        "a = noticias.groupby(['news_paper', 'category'])\n",
        "a"
      ],
      "execution_count": 0,
      "outputs": [
        {
          "output_type": "execute_result",
          "data": {
            "text/plain": [
              "<pandas.core.groupby.generic.DataFrameGroupBy object at 0x7f6aea940320>"
            ]
          },
          "metadata": {
            "tags": []
          },
          "execution_count": 11
        }
      ]
    },
    {
      "cell_type": "code",
      "metadata": {
        "id": "SbpnEWKIvLhI",
        "colab_type": "code",
        "outputId": "49e36ad5-f468-4b75-9463-ce51e01639fa",
        "colab": {
          "base_uri": "https://localhost:8080/",
          "height": 35
        }
      },
      "source": [
        "# Genera un array numpay solo con la cantidad de noticias\n",
        "b = np.array(a.aggregate(np.count_nonzero)['link'])\n",
        "b"
      ],
      "execution_count": 0,
      "outputs": [
        {
          "output_type": "execute_result",
          "data": {
            "text/plain": [
              "array([160, 156, 156, 156, 518, 218, 280, 350, 227, 196, 360, 360])"
            ]
          },
          "metadata": {
            "tags": []
          },
          "execution_count": 12
        }
      ]
    },
    {
      "cell_type": "code",
      "metadata": {
        "id": "u7CfRnVHvNvw",
        "colab_type": "code",
        "outputId": "887d6a5c-680c-4b95-9b62-4861f0096c91",
        "colab": {
          "base_uri": "https://localhost:8080/",
          "height": 54
        }
      },
      "source": [
        "# Agrega al array la sumatoria por secciones\n",
        "b = np.append(b,[b[0:4] + b[4:8] + b[8:12]])\n",
        "b"
      ],
      "execution_count": 0,
      "outputs": [
        {
          "output_type": "execute_result",
          "data": {
            "text/plain": [
              "array([160, 156, 156, 156, 518, 218, 280, 350, 227, 196, 360, 360, 905,\n",
              "       570, 796, 866])"
            ]
          },
          "metadata": {
            "tags": []
          },
          "execution_count": 13
        }
      ]
    },
    {
      "cell_type": "code",
      "metadata": {
        "id": "H-JXlLEbN8KJ",
        "colab_type": "code",
        "outputId": "c3614416-14d7-4fae-83ef-ece00b2668d8",
        "colab": {
          "base_uri": "https://localhost:8080/",
          "height": 175
        }
      },
      "source": [
        "# Genera un dataframe con la cantidad de noticias por seccion y diario y los totales\n",
        "resumen = pd.DataFrame({\"Clarin\":np.append(b[0:4],[b[0:4].sum()]), \n",
        "                        \"Infobae\":np.append(b[4:8],[b[4:8].sum()]),  \n",
        "                        \"La Nacion\":np.append(b[8:12],[b[8:12].sum()]),\n",
        "                        \"TOTAL\":np.append(b[12:16],[b[12:16].sum()])},\n",
        "             index=['Deportes', 'Economía','Sociedad','Tecnologia','TOTAL'])\n",
        "# Muestra el dataframe\n",
        "resumen.T"
      ],
      "execution_count": 0,
      "outputs": [
        {
          "output_type": "execute_result",
          "data": {
            "text/html": [
              "<div>\n",
              "<style scoped>\n",
              "    .dataframe tbody tr th:only-of-type {\n",
              "        vertical-align: middle;\n",
              "    }\n",
              "\n",
              "    .dataframe tbody tr th {\n",
              "        vertical-align: top;\n",
              "    }\n",
              "\n",
              "    .dataframe thead th {\n",
              "        text-align: right;\n",
              "    }\n",
              "</style>\n",
              "<table border=\"1\" class=\"dataframe\">\n",
              "  <thead>\n",
              "    <tr style=\"text-align: right;\">\n",
              "      <th></th>\n",
              "      <th>Deportes</th>\n",
              "      <th>Economía</th>\n",
              "      <th>Sociedad</th>\n",
              "      <th>Tecnologia</th>\n",
              "      <th>TOTAL</th>\n",
              "    </tr>\n",
              "  </thead>\n",
              "  <tbody>\n",
              "    <tr>\n",
              "      <th>Clarin</th>\n",
              "      <td>160</td>\n",
              "      <td>156</td>\n",
              "      <td>156</td>\n",
              "      <td>156</td>\n",
              "      <td>628</td>\n",
              "    </tr>\n",
              "    <tr>\n",
              "      <th>Infobae</th>\n",
              "      <td>518</td>\n",
              "      <td>218</td>\n",
              "      <td>280</td>\n",
              "      <td>350</td>\n",
              "      <td>1366</td>\n",
              "    </tr>\n",
              "    <tr>\n",
              "      <th>La Nacion</th>\n",
              "      <td>227</td>\n",
              "      <td>196</td>\n",
              "      <td>360</td>\n",
              "      <td>360</td>\n",
              "      <td>1143</td>\n",
              "    </tr>\n",
              "    <tr>\n",
              "      <th>TOTAL</th>\n",
              "      <td>905</td>\n",
              "      <td>570</td>\n",
              "      <td>796</td>\n",
              "      <td>866</td>\n",
              "      <td>3137</td>\n",
              "    </tr>\n",
              "  </tbody>\n",
              "</table>\n",
              "</div>"
            ],
            "text/plain": [
              "           Deportes  Economía  Sociedad  Tecnologia  TOTAL\n",
              "Clarin          160       156       156         156    628\n",
              "Infobae         518       218       280         350   1366\n",
              "La Nacion       227       196       360         360   1143\n",
              "TOTAL           905       570       796         866   3137"
            ]
          },
          "metadata": {
            "tags": []
          },
          "execution_count": 14
        }
      ]
    },
    {
      "cell_type": "markdown",
      "metadata": {
        "id": "XNs1tPingMid",
        "colab_type": "text"
      },
      "source": [
        "---\n",
        "\n",
        "Se exporta la tabla resumen como archivo CSV\n",
        "\n",
        "---"
      ]
    },
    {
      "cell_type": "code",
      "metadata": {
        "id": "jTcBZ1-NVDjJ",
        "colab_type": "code",
        "colab": {}
      },
      "source": [
        "news_resumen = resumen.to_csv (r'/content/GIBDnews/data/news_resumen.csv', index = True, header=True)"
      ],
      "execution_count": 0,
      "outputs": []
    }
  ]
}