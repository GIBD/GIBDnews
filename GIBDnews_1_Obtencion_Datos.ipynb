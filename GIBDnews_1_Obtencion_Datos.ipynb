{
  "nbformat": 4,
  "nbformat_minor": 0,
  "metadata": {
    "colab": {
      "name": "GIBDnews_1_Obtencion_Datos.ipynb",
      "provenance": [],
      "collapsed_sections": [],
      "toc_visible": true,
      "include_colab_link": true
    },
    "kernelspec": {
      "name": "python3",
      "display_name": "Python 3"
    }
  },
  "cells": [
    {
      "cell_type": "markdown",
      "metadata": {
        "id": "view-in-github",
        "colab_type": "text"
      },
      "source": [
        "<a href=\"https://colab.research.google.com/github/GIBD/GIBDnews/blob/master/GIBDnews_1_Obtencion_Datos.ipynb\" target=\"_parent\"><img src=\"https://colab.research.google.com/assets/colab-badge.svg\" alt=\"Open In Colab\"/></a>"
      ]
    },
    {
      "cell_type": "markdown",
      "metadata": {
        "id": "hQhyMtnHUY27",
        "colab_type": "text"
      },
      "source": [
        "# **GIBDnews**\n",
        "**Aplicación de Técnicas de Minería de Textos a noticias** \n",
        "\n",
        "**Parte 1**\n"
      ]
    },
    {
      "cell_type": "markdown",
      "metadata": {
        "id": "-rHtDJxPdeGm",
        "colab_type": "text"
      },
      "source": [
        "---\n",
        "#**Obtención y Preparación de los Textos**\n",
        "\n",
        "---\n",
        "\n",
        "**Fuentes de información**\n",
        "\n",
        "Para este trabajo se consideró trabajar con tres periódicos digitales nacionales: Clarín, Infobae y La Nación. Se seleccionaron 6 secciones de los diarios: Deportes, Economía, Espectáculos, Política, Sociedad, Tecnología.\n",
        "\n",
        "---"
      ]
    },
    {
      "cell_type": "markdown",
      "metadata": {
        "id": "ILfNzqVkDNnO",
        "colab_type": "text"
      },
      "source": [
        "**Carga de librerías**\n",
        "\n",
        "---"
      ]
    },
    {
      "cell_type": "code",
      "metadata": {
        "id": "RajHAdp-CzvE",
        "colab_type": "code",
        "colab": {}
      },
      "source": [
        "import pandas as pd\n",
        "import os\n",
        "import chardet\n",
        "import numpy as np\n",
        "import datetime\n",
        "from os import path"
      ],
      "execution_count": 0,
      "outputs": []
    },
    {
      "cell_type": "code",
      "metadata": {
        "id": "yBS4zAD7C6Ot",
        "colab_type": "code",
        "outputId": "80ec24f2-4834-4c3f-d75c-f885def0518f",
        "colab": {
          "base_uri": "https://localhost:8080/",
          "height": 127
        }
      },
      "source": [
        "! git clone https://github.com/GIBD/GIBDnews.git"
      ],
      "execution_count": 2,
      "outputs": [
        {
          "output_type": "stream",
          "text": [
            "Cloning into 'GIBDnews'...\n",
            "remote: Enumerating objects: 6, done.\u001b[K\n",
            "remote: Counting objects:  16% (1/6)\u001b[K\rremote: Counting objects:  33% (2/6)\u001b[K\rremote: Counting objects:  50% (3/6)\u001b[K\rremote: Counting objects:  66% (4/6)\u001b[K\rremote: Counting objects:  83% (5/6)\u001b[K\rremote: Counting objects: 100% (6/6)\u001b[K\rremote: Counting objects: 100% (6/6), done.\u001b[K\n",
            "remote: Compressing objects:  16% (1/6)\u001b[K\rremote: Compressing objects:  33% (2/6)\u001b[K\rremote: Compressing objects:  50% (3/6)\u001b[K\rremote: Compressing objects:  66% (4/6)\u001b[K\rremote: Compressing objects:  83% (5/6)\u001b[K\rremote: Compressing objects: 100% (6/6)\u001b[K\rremote: Compressing objects: 100% (6/6), done.\u001b[K\n",
            "Unpacking objects:   1% (1/88)   \rUnpacking objects:   2% (2/88)   \rUnpacking objects:   3% (3/88)   \rUnpacking objects:   4% (4/88)   \rUnpacking objects:   5% (5/88)   \rUnpacking objects:   6% (6/88)   \rUnpacking objects:   7% (7/88)   \rUnpacking objects:   9% (8/88)   \rUnpacking objects:  10% (9/88)   \rUnpacking objects:  11% (10/88)   \rUnpacking objects:  12% (11/88)   \rUnpacking objects:  13% (12/88)   \rUnpacking objects:  14% (13/88)   \rUnpacking objects:  15% (14/88)   \rUnpacking objects:  17% (15/88)   \rUnpacking objects:  18% (16/88)   \rUnpacking objects:  19% (17/88)   \rUnpacking objects:  20% (18/88)   \rUnpacking objects:  21% (19/88)   \rUnpacking objects:  22% (20/88)   \rUnpacking objects:  23% (21/88)   \rUnpacking objects:  25% (22/88)   \rUnpacking objects:  26% (23/88)   \rUnpacking objects:  27% (24/88)   \rUnpacking objects:  28% (25/88)   \rUnpacking objects:  29% (26/88)   \rUnpacking objects:  30% (27/88)   \rUnpacking objects:  31% (28/88)   \rUnpacking objects:  32% (29/88)   \rUnpacking objects:  34% (30/88)   \rUnpacking objects:  35% (31/88)   \rUnpacking objects:  36% (32/88)   \rUnpacking objects:  37% (33/88)   \rUnpacking objects:  38% (34/88)   \rUnpacking objects:  39% (35/88)   \rUnpacking objects:  40% (36/88)   \rUnpacking objects:  42% (37/88)   \rUnpacking objects:  43% (38/88)   \rUnpacking objects:  44% (39/88)   \rUnpacking objects:  45% (40/88)   \rUnpacking objects:  46% (41/88)   \rUnpacking objects:  47% (42/88)   \rUnpacking objects:  48% (43/88)   \rUnpacking objects:  50% (44/88)   \rUnpacking objects:  51% (45/88)   \rUnpacking objects:  52% (46/88)   \rUnpacking objects:  53% (47/88)   \rUnpacking objects:  54% (48/88)   \rUnpacking objects:  55% (49/88)   \rUnpacking objects:  56% (50/88)   \rUnpacking objects:  57% (51/88)   \rUnpacking objects:  59% (52/88)   \rUnpacking objects:  60% (53/88)   \rUnpacking objects:  61% (54/88)   \rUnpacking objects:  62% (55/88)   \rUnpacking objects:  63% (56/88)   \rUnpacking objects:  64% (57/88)   \rUnpacking objects:  65% (58/88)   \rUnpacking objects:  67% (59/88)   \rUnpacking objects:  68% (60/88)   \rUnpacking objects:  69% (61/88)   \rUnpacking objects:  70% (62/88)   \rUnpacking objects:  71% (63/88)   \rUnpacking objects:  72% (64/88)   \rUnpacking objects:  73% (65/88)   \rUnpacking objects:  75% (66/88)   \rUnpacking objects:  76% (67/88)   \rUnpacking objects:  77% (68/88)   \rUnpacking objects:  78% (69/88)   \rUnpacking objects:  79% (70/88)   \rUnpacking objects:  80% (71/88)   \rUnpacking objects:  81% (72/88)   \rUnpacking objects:  82% (73/88)   \rUnpacking objects:  84% (74/88)   \rUnpacking objects:  85% (75/88)   \rUnpacking objects:  86% (76/88)   \rremote: Total 88 (delta 1), reused 0 (delta 0), pack-reused 82\u001b[K\n",
            "Unpacking objects:  87% (77/88)   \rUnpacking objects:  88% (78/88)   \rUnpacking objects:  89% (79/88)   \rUnpacking objects:  90% (80/88)   \rUnpacking objects:  92% (81/88)   \rUnpacking objects:  93% (82/88)   \rUnpacking objects:  94% (83/88)   \rUnpacking objects:  95% (84/88)   \rUnpacking objects:  96% (85/88)   \rUnpacking objects:  97% (86/88)   \rUnpacking objects:  98% (87/88)   \rUnpacking objects: 100% (88/88)   \rUnpacking objects: 100% (88/88), done.\n"
          ],
          "name": "stdout"
        }
      ]
    },
    {
      "cell_type": "markdown",
      "metadata": {
        "id": "cYhJTVU9es8C",
        "colab_type": "text"
      },
      "source": [
        "---\n",
        "\n",
        "**Generación de dataset único**\n",
        "\n",
        "\n",
        "---"
      ]
    },
    {
      "cell_type": "code",
      "metadata": {
        "id": "dCp2VP-uRsGa",
        "colab_type": "code",
        "colab": {}
      },
      "source": [
        "# Constantes\n",
        "\n",
        "# Solamente es necesario cambiar el directorio base\n",
        "\n",
        "\n",
        "DIRECTORIO_BASE = r'/content/GIBDnews'     \n",
        "DIRECTORIO_DATA = path.join(DIRECTORIO_BASE, 'data/raw/2020/04-ABR')\n",
        "DIRECTORIO_EXPORT = path.join(DIRECTORIO_BASE, 'export')\n",
        "\n",
        "TEMPLATE_EXPORT = 'news_abril'\n",
        "\n",
        "MES = 4\n",
        "DIA_INICIO = 11\n",
        "DIA_FIN = 15\n",
        "\n",
        "DIARIOS = ['clarin','infobae','lanacion'] # Metadatos para acceder a los archivos JSON\n",
        "SECCIONES = ['deportes','economia','sociedad','tecnologia']  #, 'politica'\n",
        "DIAS = list(range(DIA_INICIO, DIA_FIN + 1))"
      ],
      "execution_count": 0,
      "outputs": []
    },
    {
      "cell_type": "code",
      "metadata": {
        "id": "32p9K2cKSBAD",
        "colab_type": "code",
        "colab": {}
      },
      "source": [
        "# Utilidades\n",
        "\n",
        "def generar_nombre_export(nombre_export):\n",
        "    formato = \"%Y%m%d-%H%M%S\"\n",
        "    fecha_actual = datetime.datetime.now().strftime(formato)\n",
        "    nombre_archivo = f'{TEMPLATE_EXPORT}_{nombre_export}_{fecha_actual}.csv'\n",
        "    \n",
        "    return path.join(DIRECTORIO_EXPORT, nombre_archivo)\n",
        "\n",
        "def log(mensaje, nivel = 0):\n",
        "    tabs = ('\\t' * nivel) if nivel is not 0 else ''\n",
        "    print(tabs + mensaje)\n",
        "    \n",
        "def crear_directorio_si_no_existe(directorio):\n",
        "    if not path.exists(directorio):\n",
        "        os.makedirs(directorio)"
      ],
      "execution_count": 0,
      "outputs": []
    },
    {
      "cell_type": "code",
      "metadata": {
        "id": "P1zH__GNDeC6",
        "colab_type": "code",
        "outputId": "26d9bd2f-f730-4668-995b-3a90d84a6b60",
        "colab": {
          "base_uri": "https://localhost:8080/",
          "height": 1000
        }
      },
      "source": [
        "crear_directorio_si_no_existe(DIRECTORIO_BASE)\n",
        "crear_directorio_si_no_existe(DIRECTORIO_EXPORT)\n",
        "\n",
        "os.chdir(DIRECTORIO_DATA) \n",
        "\n",
        "# Inicializa dataframe noticias\n",
        "noticias = pd.DataFrame()\n",
        "\n",
        "# Recorre los archivos JSON cargando las noticias en el dataframe noticias\n",
        "for diario in DIARIOS:\n",
        "    for seccion in SECCIONES:\n",
        "        for dia in DIAS:\n",
        "            # Genera el nombre del JSON a procesar\n",
        "            nombreJSON = f'{diario}_{seccion}_2020{MES:02d}{dia:02d}.json'\n",
        "            \n",
        "            log(f'Procesando archivo {nombreJSON}:')\n",
        "\n",
        "            # Genera la fecha del JSON actual\n",
        "            fechaJSON = datetime.datetime(2020, MES, dia)\n",
        "            \n",
        "            if not path.exists(nombreJSON):\n",
        "                log('Archivo no encontrado.', 1)\n",
        "                continue\n",
        "            \n",
        "            # Obtiene metadatos del archivo para acceder al encoding\n",
        "            with open(nombreJSON, 'rb') as f: \n",
        "                result = chardet.detect(f.read())\n",
        "            \n",
        "            # Obtiene el dataframe a partir del JSON teniendo en cuenta el encoding\n",
        "            encoding = 'utf-8' if result['encoding'] != 'Windows-1252' else result['encoding']\n",
        "            \n",
        "            # convert_dates en False es porque:\n",
        "            #    1) los archivos de infobae (ej infobae_economia_20200317) tienen un array en la llave date\n",
        "            #    2) igualmente la fecha se pisa en el siguiente paso, asi que tampoco importa\n",
        "            df = pd.read_json(nombreJSON, lines=True, encoding=encoding, convert_dates=False)\n",
        "                \n",
        "            # Actualiza la fecha en el dataframe\n",
        "            df['date'] = fechaJSON\n",
        "            \n",
        "            #concatena con los anteriores\n",
        "            noticias = pd.concat([noticias, df], ignore_index=True, sort=False)\n",
        "            \n",
        "            log('Archivo procesado correctamente.', 1)   "
      ],
      "execution_count": 5,
      "outputs": [
        {
          "output_type": "stream",
          "text": [
            "Procesando archivo clarin_deportes_20200411.json:\n",
            "\tArchivo procesado correctamente.\n",
            "Procesando archivo clarin_deportes_20200412.json:\n",
            "\tArchivo procesado correctamente.\n",
            "Procesando archivo clarin_deportes_20200413.json:\n",
            "\tArchivo procesado correctamente.\n",
            "Procesando archivo clarin_deportes_20200414.json:\n",
            "\tArchivo no encontrado.\n",
            "Procesando archivo clarin_deportes_20200415.json:\n",
            "\tArchivo no encontrado.\n",
            "Procesando archivo clarin_economia_20200411.json:\n",
            "\tArchivo procesado correctamente.\n",
            "Procesando archivo clarin_economia_20200412.json:\n",
            "\tArchivo procesado correctamente.\n",
            "Procesando archivo clarin_economia_20200413.json:\n",
            "\tArchivo procesado correctamente.\n",
            "Procesando archivo clarin_economia_20200414.json:\n",
            "\tArchivo no encontrado.\n",
            "Procesando archivo clarin_economia_20200415.json:\n",
            "\tArchivo no encontrado.\n",
            "Procesando archivo clarin_sociedad_20200411.json:\n",
            "\tArchivo procesado correctamente.\n",
            "Procesando archivo clarin_sociedad_20200412.json:\n",
            "\tArchivo procesado correctamente.\n",
            "Procesando archivo clarin_sociedad_20200413.json:\n",
            "\tArchivo procesado correctamente.\n",
            "Procesando archivo clarin_sociedad_20200414.json:\n",
            "\tArchivo no encontrado.\n",
            "Procesando archivo clarin_sociedad_20200415.json:\n",
            "\tArchivo no encontrado.\n",
            "Procesando archivo clarin_tecnologia_20200411.json:\n",
            "\tArchivo procesado correctamente.\n",
            "Procesando archivo clarin_tecnologia_20200412.json:\n",
            "\tArchivo procesado correctamente.\n",
            "Procesando archivo clarin_tecnologia_20200413.json:\n",
            "\tArchivo procesado correctamente.\n",
            "Procesando archivo clarin_tecnologia_20200414.json:\n",
            "\tArchivo no encontrado.\n",
            "Procesando archivo clarin_tecnologia_20200415.json:\n",
            "\tArchivo no encontrado.\n",
            "Procesando archivo infobae_deportes_20200411.json:\n",
            "\tArchivo procesado correctamente.\n",
            "Procesando archivo infobae_deportes_20200412.json:\n",
            "\tArchivo procesado correctamente.\n",
            "Procesando archivo infobae_deportes_20200413.json:\n",
            "\tArchivo procesado correctamente.\n",
            "Procesando archivo infobae_deportes_20200414.json:\n",
            "\tArchivo no encontrado.\n",
            "Procesando archivo infobae_deportes_20200415.json:\n",
            "\tArchivo no encontrado.\n",
            "Procesando archivo infobae_economia_20200411.json:\n",
            "\tArchivo procesado correctamente.\n",
            "Procesando archivo infobae_economia_20200412.json:\n",
            "\tArchivo procesado correctamente.\n",
            "Procesando archivo infobae_economia_20200413.json:\n",
            "\tArchivo procesado correctamente.\n",
            "Procesando archivo infobae_economia_20200414.json:\n",
            "\tArchivo no encontrado.\n",
            "Procesando archivo infobae_economia_20200415.json:\n",
            "\tArchivo no encontrado.\n",
            "Procesando archivo infobae_sociedad_20200411.json:\n",
            "\tArchivo procesado correctamente.\n",
            "Procesando archivo infobae_sociedad_20200412.json:\n",
            "\tArchivo procesado correctamente.\n",
            "Procesando archivo infobae_sociedad_20200413.json:\n",
            "\tArchivo procesado correctamente.\n",
            "Procesando archivo infobae_sociedad_20200414.json:\n",
            "\tArchivo no encontrado.\n",
            "Procesando archivo infobae_sociedad_20200415.json:\n",
            "\tArchivo no encontrado.\n",
            "Procesando archivo infobae_tecnologia_20200411.json:\n",
            "\tArchivo procesado correctamente.\n",
            "Procesando archivo infobae_tecnologia_20200412.json:\n",
            "\tArchivo procesado correctamente.\n",
            "Procesando archivo infobae_tecnologia_20200413.json:\n",
            "\tArchivo procesado correctamente.\n",
            "Procesando archivo infobae_tecnologia_20200414.json:\n",
            "\tArchivo no encontrado.\n",
            "Procesando archivo infobae_tecnologia_20200415.json:\n",
            "\tArchivo no encontrado.\n",
            "Procesando archivo lanacion_deportes_20200411.json:\n",
            "\tArchivo procesado correctamente.\n",
            "Procesando archivo lanacion_deportes_20200412.json:\n",
            "\tArchivo procesado correctamente.\n",
            "Procesando archivo lanacion_deportes_20200413.json:\n",
            "\tArchivo procesado correctamente.\n",
            "Procesando archivo lanacion_deportes_20200414.json:\n",
            "\tArchivo no encontrado.\n",
            "Procesando archivo lanacion_deportes_20200415.json:\n",
            "\tArchivo no encontrado.\n",
            "Procesando archivo lanacion_economia_20200411.json:\n",
            "\tArchivo procesado correctamente.\n",
            "Procesando archivo lanacion_economia_20200412.json:\n",
            "\tArchivo procesado correctamente.\n",
            "Procesando archivo lanacion_economia_20200413.json:\n",
            "\tArchivo procesado correctamente.\n",
            "Procesando archivo lanacion_economia_20200414.json:\n",
            "\tArchivo no encontrado.\n",
            "Procesando archivo lanacion_economia_20200415.json:\n",
            "\tArchivo no encontrado.\n",
            "Procesando archivo lanacion_sociedad_20200411.json:\n",
            "\tArchivo procesado correctamente.\n",
            "Procesando archivo lanacion_sociedad_20200412.json:\n",
            "\tArchivo procesado correctamente.\n",
            "Procesando archivo lanacion_sociedad_20200413.json:\n",
            "\tArchivo procesado correctamente.\n",
            "Procesando archivo lanacion_sociedad_20200414.json:\n",
            "\tArchivo no encontrado.\n",
            "Procesando archivo lanacion_sociedad_20200415.json:\n",
            "\tArchivo no encontrado.\n",
            "Procesando archivo lanacion_tecnologia_20200411.json:\n",
            "\tArchivo procesado correctamente.\n",
            "Procesando archivo lanacion_tecnologia_20200412.json:\n",
            "\tArchivo procesado correctamente.\n",
            "Procesando archivo lanacion_tecnologia_20200413.json:\n",
            "\tArchivo procesado correctamente.\n",
            "Procesando archivo lanacion_tecnologia_20200414.json:\n",
            "\tArchivo no encontrado.\n",
            "Procesando archivo lanacion_tecnologia_20200415.json:\n",
            "\tArchivo no encontrado.\n"
          ],
          "name": "stdout"
        }
      ]
    },
    {
      "cell_type": "code",
      "metadata": {
        "id": "tF3CvmGJsttz",
        "colab_type": "code",
        "colab": {
          "base_uri": "https://localhost:8080/",
          "height": 771
        },
        "outputId": "bc046f2f-2142-40d7-ef86-9a5f546e87a3"
      },
      "source": [
        "noticias\n",
        "#noticias.body[1]"
      ],
      "execution_count": 9,
      "outputs": [
        {
          "output_type": "execute_result",
          "data": {
            "text/html": [
              "<div>\n",
              "<style scoped>\n",
              "    .dataframe tbody tr th:only-of-type {\n",
              "        vertical-align: middle;\n",
              "    }\n",
              "\n",
              "    .dataframe tbody tr th {\n",
              "        vertical-align: top;\n",
              "    }\n",
              "\n",
              "    .dataframe thead th {\n",
              "        text-align: right;\n",
              "    }\n",
              "</style>\n",
              "<table border=\"1\" class=\"dataframe\">\n",
              "  <thead>\n",
              "    <tr style=\"text-align: right;\">\n",
              "      <th></th>\n",
              "      <th>news_paper</th>\n",
              "      <th>category</th>\n",
              "      <th>link</th>\n",
              "      <th>date</th>\n",
              "      <th>title</th>\n",
              "      <th>abstract</th>\n",
              "      <th>author</th>\n",
              "      <th>key_words</th>\n",
              "      <th>body</th>\n",
              "    </tr>\n",
              "  </thead>\n",
              "  <tbody>\n",
              "    <tr>\n",
              "      <th>0</th>\n",
              "      <td>clarin</td>\n",
              "      <td>deportes</td>\n",
              "      <td>https://www.clarin.com//deportes/andres-perale...</td>\n",
              "      <td>2020-04-11</td>\n",
              "      <td>El “Pablo Vico” de España: tiene 83 años y pas...</td>\n",
              "      <td>Andrés Perales vive hace casi tres décadas en ...</td>\n",
              "      <td>[]</td>\n",
              "      <td>MálagaLiga De EspañaCoronavirusCuarentena</td>\n",
              "      <td>La cuarentena nos obligó a quedarnos en casa y...</td>\n",
              "    </tr>\n",
              "    <tr>\n",
              "      <th>1</th>\n",
              "      <td>clarin</td>\n",
              "      <td>deportes</td>\n",
              "      <td>https://www.clarin.com//deportes/adelantan-bar...</td>\n",
              "      <td>2020-04-11</td>\n",
              "      <td>Adelantan que en Barcelona se habrían pagado s...</td>\n",
              "      <td>El 'BarçaGate' sigue sumando capítulos. El dia...</td>\n",
              "      <td>[]</td>\n",
              "      <td>FC BarcelonaLionel Messi</td>\n",
              "      <td>Ha sido la temporada de los escándalos para Ba...</td>\n",
              "    </tr>\n",
              "    <tr>\n",
              "      <th>2</th>\n",
              "      <td>clarin</td>\n",
              "      <td>deportes</td>\n",
              "      <td>https://www.clarin.com//deportes/jana-pittman-...</td>\n",
              "      <td>2020-04-11</td>\n",
              "      <td>Jana Pittman, la campeona mundial que lucha en...</td>\n",
              "      <td>La atleta es una de los 47 residentes que fuer...</td>\n",
              "      <td>[]</td>\n",
              "      <td>CoronavirusAtletismo</td>\n",
              "      <td>En Argentina, Paula Pareto es la cara más visi...</td>\n",
              "    </tr>\n",
              "    <tr>\n",
              "      <th>3</th>\n",
              "      <td>clarin</td>\n",
              "      <td>deportes</td>\n",
              "      <td>https://www.clarin.com//deportes/oms-pidio-par...</td>\n",
              "      <td>2020-04-11</td>\n",
              "      <td>Coronavirus: la OMS pidió que paren el fútbol ...</td>\n",
              "      <td>La Organización Mundial de la Salud instó a qu...</td>\n",
              "      <td>[]</td>\n",
              "      <td>BielorrusiaCoronavirus</td>\n",
              "      <td>La Organización Mundial de la Salud (OMS) le p...</td>\n",
              "    </tr>\n",
              "    <tr>\n",
              "      <th>4</th>\n",
              "      <td>clarin</td>\n",
              "      <td>deportes</td>\n",
              "      <td>https://www.clarin.com//deportes/arana-amuchas...</td>\n",
              "      <td>2020-04-11</td>\n",
              "      <td>El Araña Amuchástegui, el crack que rechazó un...</td>\n",
              "      <td>Brilló en el River de Veira, pero antes fue un...</td>\n",
              "      <td>Ramón Gómez</td>\n",
              "      <td>River PlateSan LorenzoSelección Argentina De F...</td>\n",
              "      <td>El gran dilema de siempre en Córdoba es el gén...</td>\n",
              "    </tr>\n",
              "    <tr>\n",
              "      <th>...</th>\n",
              "      <td>...</td>\n",
              "      <td>...</td>\n",
              "      <td>...</td>\n",
              "      <td>...</td>\n",
              "      <td>...</td>\n",
              "      <td>...</td>\n",
              "      <td>...</td>\n",
              "      <td>...</td>\n",
              "      <td>...</td>\n",
              "    </tr>\n",
              "    <tr>\n",
              "      <th>710</th>\n",
              "      <td>lanacion</td>\n",
              "      <td>tecnologia</td>\n",
              "      <td>http://www.lanacion.com.ar//tecnologia/playsta...</td>\n",
              "      <td>2020-04-13</td>\n",
              "      <td>PlayStation 5: así es DualSense, el control de...</td>\n",
              "      <td>NaN</td>\n",
              "      <td></td>\n",
              "      <td></td>\n",
              "      <td>La nueva \\r\\n\\r\\nconsola\\r\\n\\r\\n de Sony ya es...</td>\n",
              "    </tr>\n",
              "    <tr>\n",
              "      <th>711</th>\n",
              "      <td>lanacion</td>\n",
              "      <td>tecnologia</td>\n",
              "      <td>http://www.lanacion.com.ar//tecnologia/faceboo...</td>\n",
              "      <td>2020-04-13</td>\n",
              "      <td>Facebook presenta Torneos, la plataforma para ...</td>\n",
              "      <td>NaN</td>\n",
              "      <td>Europa Press</td>\n",
              "      <td></td>\n",
              "      <td>Las competencias de \\r\\n\\r\\nvideojuegos\\r\\n\\r\\...</td>\n",
              "    </tr>\n",
              "    <tr>\n",
              "      <th>712</th>\n",
              "      <td>lanacion</td>\n",
              "      <td>tecnologia</td>\n",
              "      <td>http://www.lanacion.com.ar//tecnologia/la-hist...</td>\n",
              "      <td>2020-04-13</td>\n",
              "      <td>La historia del programador detrás de Petro, l...</td>\n",
              "      <td>NaN</td>\n",
              "      <td>[Nathaniel Popper, Ana Vanessa Herrero]</td>\n",
              "      <td></td>\n",
              "      <td>Justo después de la medianoche de un martes a ...</td>\n",
              "    </tr>\n",
              "    <tr>\n",
              "      <th>713</th>\n",
              "      <td>lanacion</td>\n",
              "      <td>tecnologia</td>\n",
              "      <td>http://www.lanacion.com.ar//tecnologia/netflix...</td>\n",
              "      <td>2020-04-13</td>\n",
              "      <td>Netflix: cómo configurar las nuevas herramient...</td>\n",
              "      <td>NaN</td>\n",
              "      <td>Débora Slotnisky</td>\n",
              "      <td></td>\n",
              "      <td>Netflix está estrenando hoy nuevas herramienta...</td>\n",
              "    </tr>\n",
              "    <tr>\n",
              "      <th>714</th>\n",
              "      <td>lanacion</td>\n",
              "      <td>tecnologia</td>\n",
              "      <td>http://www.lanacion.com.ar//tecnologia/coronav...</td>\n",
              "      <td>2020-04-13</td>\n",
              "      <td>Coronavirus: respiración extracorpórea, la ext...</td>\n",
              "      <td>NaN</td>\n",
              "      <td></td>\n",
              "      <td></td>\n",
              "      <td>Suena como un tratamiento salido de la ciencia...</td>\n",
              "    </tr>\n",
              "  </tbody>\n",
              "</table>\n",
              "<p>715 rows × 9 columns</p>\n",
              "</div>"
            ],
            "text/plain": [
              "    news_paper  ...                                               body\n",
              "0       clarin  ...  La cuarentena nos obligó a quedarnos en casa y...\n",
              "1       clarin  ...  Ha sido la temporada de los escándalos para Ba...\n",
              "2       clarin  ...  En Argentina, Paula Pareto es la cara más visi...\n",
              "3       clarin  ...  La Organización Mundial de la Salud (OMS) le p...\n",
              "4       clarin  ...  El gran dilema de siempre en Córdoba es el gén...\n",
              "..         ...  ...                                                ...\n",
              "710   lanacion  ...  La nueva \\r\\n\\r\\nconsola\\r\\n\\r\\n de Sony ya es...\n",
              "711   lanacion  ...  Las competencias de \\r\\n\\r\\nvideojuegos\\r\\n\\r\\...\n",
              "712   lanacion  ...  Justo después de la medianoche de un martes a ...\n",
              "713   lanacion  ...  Netflix está estrenando hoy nuevas herramienta...\n",
              "714   lanacion  ...  Suena como un tratamiento salido de la ciencia...\n",
              "\n",
              "[715 rows x 9 columns]"
            ]
          },
          "metadata": {
            "tags": []
          },
          "execution_count": 9
        }
      ]
    },
    {
      "cell_type": "code",
      "metadata": {
        "id": "zwFnA6JNu4XM",
        "colab_type": "code",
        "colab": {}
      },
      "source": [
        "# Exporta el dataframe de noticias en formato CSV\n",
        "export_csv = noticias.to_csv(generar_nombre_export('todas'),index = None, header=True)\n",
        "\n",
        "#noticias.shape\n"
      ],
      "execution_count": 0,
      "outputs": []
    },
    {
      "cell_type": "code",
      "metadata": {
        "id": "8SsY-h37xBJH",
        "colab_type": "code",
        "outputId": "459b2ad4-8cba-4c29-f099-816f824bb3bb",
        "colab": {
          "base_uri": "https://localhost:8080/",
          "height": 35
        }
      },
      "source": [
        "noticias.shape"
      ],
      "execution_count": 12,
      "outputs": [
        {
          "output_type": "execute_result",
          "data": {
            "text/plain": [
              "(715, 9)"
            ]
          },
          "metadata": {
            "tags": []
          },
          "execution_count": 12
        }
      ]
    },
    {
      "cell_type": "code",
      "metadata": {
        "id": "gq5Wp7oVw7Mo",
        "colab_type": "code",
        "outputId": "8298d100-eaf5-4c18-9728-f400cbb0f258",
        "colab": {
          "base_uri": "https://localhost:8080/",
          "height": 109
        }
      },
      "source": [
        "pd.value_counts(noticias['category'])"
      ],
      "execution_count": 13,
      "outputs": [
        {
          "output_type": "execute_result",
          "data": {
            "text/plain": [
              "tecnologia    201\n",
              "deportes      199\n",
              "sociedad      186\n",
              "economia      129\n",
              "Name: category, dtype: int64"
            ]
          },
          "metadata": {
            "tags": []
          },
          "execution_count": 13
        }
      ]
    },
    {
      "cell_type": "markdown",
      "metadata": {
        "id": "-kKC5KhAf39K",
        "colab_type": "text"
      },
      "source": [
        "---\n",
        "\n",
        "**Resumen de cantidad de noticias según diario y sección**\n",
        "\n",
        "---"
      ]
    },
    {
      "cell_type": "code",
      "metadata": {
        "id": "t8dCDEv2vJmY",
        "colab_type": "code",
        "outputId": "f8b9e010-ab2b-4302-9f23-31c287dd347e",
        "colab": {
          "base_uri": "https://localhost:8080/",
          "height": 35
        }
      },
      "source": [
        "# Agrupa las noticias por diario y categoría\n",
        "a = noticias.groupby(['news_paper', 'category'])\n",
        "a"
      ],
      "execution_count": 0,
      "outputs": [
        {
          "output_type": "execute_result",
          "data": {
            "text/plain": [
              "<pandas.core.groupby.generic.DataFrameGroupBy object at 0x7fb96f31dfd0>"
            ]
          },
          "metadata": {
            "tags": []
          },
          "execution_count": 16
        }
      ]
    },
    {
      "cell_type": "code",
      "metadata": {
        "id": "SbpnEWKIvLhI",
        "colab_type": "code",
        "outputId": "b99956a8-a544-4408-b8be-94c45afb3c16",
        "colab": {
          "base_uri": "https://localhost:8080/",
          "height": 35
        }
      },
      "source": [
        "# Genera un array numpay solo con la cantidad de noticias\n",
        "b = np.array(a.aggregate(np.count_nonzero)['link'])\n",
        "b"
      ],
      "execution_count": 0,
      "outputs": [
        {
          "output_type": "execute_result",
          "data": {
            "text/plain": [
              "array([ 40,  36,  36,  36, 111,  45,  60,  75,  48,  48,  90,  90])"
            ]
          },
          "metadata": {
            "tags": []
          },
          "execution_count": 17
        }
      ]
    },
    {
      "cell_type": "code",
      "metadata": {
        "id": "u7CfRnVHvNvw",
        "colab_type": "code",
        "outputId": "2ec64e2a-5e1b-4e25-f977-2b3f59214412",
        "colab": {
          "base_uri": "https://localhost:8080/",
          "height": 54
        }
      },
      "source": [
        "# Agrega al array la sumatoria por secciones\n",
        "b = np.append(b,[b[0:4] + b[4:8] + b[8:12]])\n",
        "b"
      ],
      "execution_count": 0,
      "outputs": [
        {
          "output_type": "execute_result",
          "data": {
            "text/plain": [
              "array([ 40,  36,  36,  36, 111,  45,  60,  75,  48,  48,  90,  90, 199,\n",
              "       129, 186, 201])"
            ]
          },
          "metadata": {
            "tags": []
          },
          "execution_count": 25
        }
      ]
    },
    {
      "cell_type": "code",
      "metadata": {
        "id": "H-JXlLEbN8KJ",
        "colab_type": "code",
        "outputId": "b6a4e62d-9361-490e-c1cd-241c148bcda8",
        "colab": {
          "base_uri": "https://localhost:8080/",
          "height": 175
        }
      },
      "source": [
        "# Genera un dataframe con la cantidad de noticias por seccion y diario y los totales\n",
        "resumen = pd.DataFrame({\"Clarin\":np.append(b[0:4],[b[0:4].sum()]), \n",
        "                        \"Infobae\":np.append(b[4:8],[b[4:8].sum()]),  \n",
        "                        \"La Nacion\":np.append(b[8:12],[b[8:12].sum()]),\n",
        "                        \"TOTAL\":np.append(b[12:16],[b[12:16].sum()])},\n",
        "             index=['Deportes', 'Economía','Sociedad','Tecnologia','TOTAL'])\n",
        "# Muestra el dataframe\n",
        "resumen.T"
      ],
      "execution_count": 0,
      "outputs": [
        {
          "output_type": "execute_result",
          "data": {
            "text/html": [
              "<div>\n",
              "<style scoped>\n",
              "    .dataframe tbody tr th:only-of-type {\n",
              "        vertical-align: middle;\n",
              "    }\n",
              "\n",
              "    .dataframe tbody tr th {\n",
              "        vertical-align: top;\n",
              "    }\n",
              "\n",
              "    .dataframe thead th {\n",
              "        text-align: right;\n",
              "    }\n",
              "</style>\n",
              "<table border=\"1\" class=\"dataframe\">\n",
              "  <thead>\n",
              "    <tr style=\"text-align: right;\">\n",
              "      <th></th>\n",
              "      <th>Deportes</th>\n",
              "      <th>Economía</th>\n",
              "      <th>Sociedad</th>\n",
              "      <th>Tecnologia</th>\n",
              "      <th>TOTAL</th>\n",
              "    </tr>\n",
              "  </thead>\n",
              "  <tbody>\n",
              "    <tr>\n",
              "      <th>Clarin</th>\n",
              "      <td>40</td>\n",
              "      <td>36</td>\n",
              "      <td>36</td>\n",
              "      <td>36</td>\n",
              "      <td>148</td>\n",
              "    </tr>\n",
              "    <tr>\n",
              "      <th>Infobae</th>\n",
              "      <td>111</td>\n",
              "      <td>45</td>\n",
              "      <td>60</td>\n",
              "      <td>75</td>\n",
              "      <td>291</td>\n",
              "    </tr>\n",
              "    <tr>\n",
              "      <th>La Nacion</th>\n",
              "      <td>48</td>\n",
              "      <td>48</td>\n",
              "      <td>90</td>\n",
              "      <td>90</td>\n",
              "      <td>276</td>\n",
              "    </tr>\n",
              "    <tr>\n",
              "      <th>TOTAL</th>\n",
              "      <td>199</td>\n",
              "      <td>129</td>\n",
              "      <td>186</td>\n",
              "      <td>201</td>\n",
              "      <td>715</td>\n",
              "    </tr>\n",
              "  </tbody>\n",
              "</table>\n",
              "</div>"
            ],
            "text/plain": [
              "           Deportes  Economía  Sociedad  Tecnologia  TOTAL\n",
              "Clarin           40        36        36          36    148\n",
              "Infobae         111        45        60          75    291\n",
              "La Nacion        48        48        90          90    276\n",
              "TOTAL           199       129       186         201    715"
            ]
          },
          "metadata": {
            "tags": []
          },
          "execution_count": 28
        }
      ]
    },
    {
      "cell_type": "markdown",
      "metadata": {
        "id": "XNs1tPingMid",
        "colab_type": "text"
      },
      "source": [
        "---\n",
        "\n",
        "Se exporta la tabla resumen como archivo CSV\n",
        "\n",
        "---"
      ]
    },
    {
      "cell_type": "code",
      "metadata": {
        "id": "jTcBZ1-NVDjJ",
        "colab_type": "code",
        "colab": {}
      },
      "source": [
        "news_resumen = resumen.to_csv (r'/content/GIBDnews/data/news_resumen.csv', index = True, header=True)"
      ],
      "execution_count": 0,
      "outputs": []
    }
  ]
}