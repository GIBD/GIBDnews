{
  "nbformat": 4,
  "nbformat_minor": 0,
  "metadata": {
    "colab": {
      "name": "GIBDnews_2_Analisis_Exploratorio_y_Preprocesamiento.ipynb",
      "provenance": [],
      "toc_visible": true,
      "include_colab_link": true
    },
    "kernelspec": {
      "name": "python3",
      "display_name": "Python 3"
    }
  },
  "cells": [
    {
      "cell_type": "markdown",
      "metadata": {
        "id": "view-in-github",
        "colab_type": "text"
      },
      "source": [
        "<a href=\"https://colab.research.google.com/github/GIBD/GIBDnews/blob/master/GIBDnews_2_Analisis_Exploratorio_y_Preprocesamiento.ipynb\" target=\"_parent\"><img src=\"https://colab.research.google.com/assets/colab-badge.svg\" alt=\"Open In Colab\"/></a>"
      ]
    },
    {
      "cell_type": "markdown",
      "metadata": {
        "id": "ZAfqJLHzXfmV",
        "colab_type": "text"
      },
      "source": [
        "# **GIBDnews**\n",
        "**Aplicación de Técnicas de Minería de Textos a noticias** \n",
        "\n",
        "**Parte 2**\n"
      ]
    },
    {
      "cell_type": "markdown",
      "metadata": {
        "id": "fPaeGV6TXf3l",
        "colab_type": "text"
      },
      "source": [
        "---\n",
        "#**Fase de Obtención y Preparación de los Textos**\n",
        "\n",
        "---\n"
      ]
    },
    {
      "cell_type": "markdown",
      "metadata": {
        "id": "3JERmALngdmQ",
        "colab_type": "text"
      },
      "source": [
        "---\n",
        "\n",
        "Conexión de Collaboratory con Google Drive\n",
        "\n",
        "---"
      ]
    },
    {
      "cell_type": "code",
      "metadata": {
        "id": "NYySoxJ5u9Yj",
        "colab_type": "code",
        "outputId": "7c72ae6b-b4e0-4296-bc68-14be5d247e87",
        "colab": {
          "base_uri": "https://localhost:8080/",
          "height": 129
        }
      },
      "source": [
        "from google.colab import drive\n",
        "drive.mount('/content/drive/')"
      ],
      "execution_count": 0,
      "outputs": [
        {
          "output_type": "stream",
          "text": [
            "Go to this URL in a browser: https://accounts.google.com/o/oauth2/auth?client_id=947318989803-6bn6qk8qdgf4n4g3pfee6491hc0brc4i.apps.googleusercontent.com&redirect_uri=urn%3aietf%3awg%3aoauth%3a2.0%3aoob&response_type=code&scope=email%20https%3a%2f%2fwww.googleapis.com%2fauth%2fdocs.test%20https%3a%2f%2fwww.googleapis.com%2fauth%2fdrive%20https%3a%2f%2fwww.googleapis.com%2fauth%2fdrive.photos.readonly%20https%3a%2f%2fwww.googleapis.com%2fauth%2fpeopleapi.readonly\n",
            "\n",
            "Enter your authorization code:\n",
            "··········\n",
            "Mounted at /content/drive/\n"
          ],
          "name": "stdout"
        }
      ]
    },
    {
      "cell_type": "markdown",
      "metadata": {
        "id": "Vem8PXLhgnfy",
        "colab_type": "text"
      },
      "source": [
        "---\n",
        "\n",
        "Seteo de directorio de trabajo\n",
        "\n",
        "---"
      ]
    },
    {
      "cell_type": "code",
      "metadata": {
        "id": "8IQ5Fl_qvwl6",
        "colab_type": "code",
        "colab": {}
      },
      "source": [
        "import os\n",
        "os.chdir(\"/content/drive/My Drive/Colab Notebooks/GIBDnews/data\")"
      ],
      "execution_count": 0,
      "outputs": []
    },
    {
      "cell_type": "markdown",
      "metadata": {
        "id": "MDEWyV1agsNq",
        "colab_type": "text"
      },
      "source": [
        "---\n",
        "\n",
        "Se importa el repositorio de noticias generado en la etapa anterior (newsoctubre2019.csv)\n",
        "\n",
        "---"
      ]
    },
    {
      "cell_type": "code",
      "metadata": {
        "id": "JRE0G9fCv7SV",
        "colab_type": "code",
        "outputId": "5bc0b135-1eb8-4cf9-f727-d0d5c08a2871",
        "colab": {
          "base_uri": "https://localhost:8080/",
          "height": 754
        }
      },
      "source": [
        "import pandas as pd \n",
        "news = pd.read_csv('news_abril_todas_20200423.csv') \n",
        "news"
      ],
      "execution_count": 0,
      "outputs": [
        {
          "output_type": "execute_result",
          "data": {
            "text/html": [
              "<div>\n",
              "<style scoped>\n",
              "    .dataframe tbody tr th:only-of-type {\n",
              "        vertical-align: middle;\n",
              "    }\n",
              "\n",
              "    .dataframe tbody tr th {\n",
              "        vertical-align: top;\n",
              "    }\n",
              "\n",
              "    .dataframe thead th {\n",
              "        text-align: right;\n",
              "    }\n",
              "</style>\n",
              "<table border=\"1\" class=\"dataframe\">\n",
              "  <thead>\n",
              "    <tr style=\"text-align: right;\">\n",
              "      <th></th>\n",
              "      <th>news_paper</th>\n",
              "      <th>category</th>\n",
              "      <th>link</th>\n",
              "      <th>date</th>\n",
              "      <th>title</th>\n",
              "      <th>abstract</th>\n",
              "      <th>author</th>\n",
              "      <th>key_words</th>\n",
              "      <th>body</th>\n",
              "    </tr>\n",
              "  </thead>\n",
              "  <tbody>\n",
              "    <tr>\n",
              "      <th>0</th>\n",
              "      <td>clarin</td>\n",
              "      <td>deportes</td>\n",
              "      <td>https://www.clarin.com//deportes/andres-perale...</td>\n",
              "      <td>2020-04-11</td>\n",
              "      <td>El “Pablo Vico” de España: tiene 83 años y pas...</td>\n",
              "      <td>Andrés Perales vive hace casi tres décadas en ...</td>\n",
              "      <td>[]</td>\n",
              "      <td>MálagaLiga De EspañaCoronavirusCuarentena</td>\n",
              "      <td>La cuarentena nos obligó a quedarnos en casa y...</td>\n",
              "    </tr>\n",
              "    <tr>\n",
              "      <th>1</th>\n",
              "      <td>clarin</td>\n",
              "      <td>deportes</td>\n",
              "      <td>https://www.clarin.com//deportes/adelantan-bar...</td>\n",
              "      <td>2020-04-11</td>\n",
              "      <td>Adelantan que en Barcelona se habrían pagado s...</td>\n",
              "      <td>El 'BarçaGate' sigue sumando capítulos. El dia...</td>\n",
              "      <td>[]</td>\n",
              "      <td>FC BarcelonaLionel Messi</td>\n",
              "      <td>Ha sido la temporada de los escándalos para Ba...</td>\n",
              "    </tr>\n",
              "    <tr>\n",
              "      <th>2</th>\n",
              "      <td>clarin</td>\n",
              "      <td>deportes</td>\n",
              "      <td>https://www.clarin.com//deportes/jana-pittman-...</td>\n",
              "      <td>2020-04-11</td>\n",
              "      <td>Jana Pittman, la campeona mundial que lucha en...</td>\n",
              "      <td>La atleta es una de los 47 residentes que fuer...</td>\n",
              "      <td>[]</td>\n",
              "      <td>CoronavirusAtletismo</td>\n",
              "      <td>En Argentina, Paula Pareto es la cara más visi...</td>\n",
              "    </tr>\n",
              "    <tr>\n",
              "      <th>3</th>\n",
              "      <td>clarin</td>\n",
              "      <td>deportes</td>\n",
              "      <td>https://www.clarin.com//deportes/oms-pidio-par...</td>\n",
              "      <td>2020-04-11</td>\n",
              "      <td>Coronavirus: la OMS pidió que paren el fútbol ...</td>\n",
              "      <td>La Organización Mundial de la Salud instó a qu...</td>\n",
              "      <td>[]</td>\n",
              "      <td>BielorrusiaCoronavirus</td>\n",
              "      <td>La Organización Mundial de la Salud (OMS) le p...</td>\n",
              "    </tr>\n",
              "    <tr>\n",
              "      <th>4</th>\n",
              "      <td>clarin</td>\n",
              "      <td>deportes</td>\n",
              "      <td>https://www.clarin.com//deportes/arana-amuchas...</td>\n",
              "      <td>2020-04-11</td>\n",
              "      <td>El Araña Amuchástegui, el crack que rechazó un...</td>\n",
              "      <td>Brilló en el River de Veira, pero antes fue un...</td>\n",
              "      <td>Ramón Gómez</td>\n",
              "      <td>River PlateSan LorenzoSelección Argentina De F...</td>\n",
              "      <td>El gran dilema de siempre en Córdoba es el gén...</td>\n",
              "    </tr>\n",
              "    <tr>\n",
              "      <th>...</th>\n",
              "      <td>...</td>\n",
              "      <td>...</td>\n",
              "      <td>...</td>\n",
              "      <td>...</td>\n",
              "      <td>...</td>\n",
              "      <td>...</td>\n",
              "      <td>...</td>\n",
              "      <td>...</td>\n",
              "      <td>...</td>\n",
              "    </tr>\n",
              "    <tr>\n",
              "      <th>3132</th>\n",
              "      <td>lanacion</td>\n",
              "      <td>tecnologia</td>\n",
              "      <td>http://www.lanacion.com.ar//tecnologia/agenda-...</td>\n",
              "      <td>2020-04-22</td>\n",
              "      <td>Agenda Vida Digital</td>\n",
              "      <td>NaN</td>\n",
              "      <td>NaN</td>\n",
              "      <td>NaN</td>\n",
              "      <td>ILVEM.\\r\\n\\r\\n Brindará sin cargo la capacitac...</td>\n",
              "    </tr>\n",
              "    <tr>\n",
              "      <th>3133</th>\n",
              "      <td>lanacion</td>\n",
              "      <td>tecnologia</td>\n",
              "      <td>http://www.lanacion.com.ar//tecnologia/el-oton...</td>\n",
              "      <td>2020-04-22</td>\n",
              "      <td>El otoño de los museos</td>\n",
              "      <td>NaN</td>\n",
              "      <td>NaN</td>\n",
              "      <td>NaN</td>\n",
              "      <td>Siempre es una buena idea volver al Google Art...</td>\n",
              "    </tr>\n",
              "    <tr>\n",
              "      <th>3134</th>\n",
              "      <td>lanacion</td>\n",
              "      <td>tecnologia</td>\n",
              "      <td>http://www.lanacion.com.ar//tecnologia/las-nue...</td>\n",
              "      <td>2020-04-22</td>\n",
              "      <td>Las nuevas tecnologías salen a dar batalla con...</td>\n",
              "      <td>NaN</td>\n",
              "      <td>Cintia Perazo</td>\n",
              "      <td>NaN</td>\n",
              "      <td>\"Aunque soy investigador en física teórica, me...</td>\n",
              "    </tr>\n",
              "    <tr>\n",
              "      <th>3135</th>\n",
              "      <td>lanacion</td>\n",
              "      <td>tecnologia</td>\n",
              "      <td>http://www.lanacion.com.ar//tecnologia/lnteaco...</td>\n",
              "      <td>2020-04-22</td>\n",
              "      <td>#LNteacompaña: fotos de Buenos Aires vacía par...</td>\n",
              "      <td>NaN</td>\n",
              "      <td>NaN</td>\n",
              "      <td>NaN</td>\n",
              "      <td>Desde LA NACION queremos formar parte del día ...</td>\n",
              "    </tr>\n",
              "    <tr>\n",
              "      <th>3136</th>\n",
              "      <td>lanacion</td>\n",
              "      <td>tecnologia</td>\n",
              "      <td>http://www.lanacion.com.ar//tecnologia/reglas-...</td>\n",
              "      <td>2020-04-22</td>\n",
              "      <td>Reglas de etiqueta para Zoom: 10 consejos para...</td>\n",
              "      <td>NaN</td>\n",
              "      <td>Augusto Finocchiaro Preci</td>\n",
              "      <td>NaN</td>\n",
              "      <td>Las \\r\\n\\r\\nvideollamadas por WhatsApp, Skype\\...</td>\n",
              "    </tr>\n",
              "  </tbody>\n",
              "</table>\n",
              "<p>3137 rows × 9 columns</p>\n",
              "</div>"
            ],
            "text/plain": [
              "     news_paper  ...                                               body\n",
              "0        clarin  ...  La cuarentena nos obligó a quedarnos en casa y...\n",
              "1        clarin  ...  Ha sido la temporada de los escándalos para Ba...\n",
              "2        clarin  ...  En Argentina, Paula Pareto es la cara más visi...\n",
              "3        clarin  ...  La Organización Mundial de la Salud (OMS) le p...\n",
              "4        clarin  ...  El gran dilema de siempre en Córdoba es el gén...\n",
              "...         ...  ...                                                ...\n",
              "3132   lanacion  ...  ILVEM.\\r\\n\\r\\n Brindará sin cargo la capacitac...\n",
              "3133   lanacion  ...  Siempre es una buena idea volver al Google Art...\n",
              "3134   lanacion  ...  \"Aunque soy investigador en física teórica, me...\n",
              "3135   lanacion  ...  Desde LA NACION queremos formar parte del día ...\n",
              "3136   lanacion  ...  Las \\r\\n\\r\\nvideollamadas por WhatsApp, Skype\\...\n",
              "\n",
              "[3137 rows x 9 columns]"
            ]
          },
          "metadata": {
            "tags": []
          },
          "execution_count": 4
        }
      ]
    },
    {
      "cell_type": "markdown",
      "metadata": {
        "id": "w-P08JjWg7T_",
        "colab_type": "text"
      },
      "source": [
        "---\n",
        "\n",
        "Estadísticas descriptivas del dataset\n",
        "\n",
        "---"
      ]
    },
    {
      "cell_type": "code",
      "metadata": {
        "id": "WmN5EOM7tAdD",
        "colab_type": "code",
        "outputId": "2ddb2951-c355-4451-e7c7-6a9a93be4d2c",
        "colab": {
          "base_uri": "https://localhost:8080/",
          "height": 210
        }
      },
      "source": [
        "news.describe()"
      ],
      "execution_count": 0,
      "outputs": [
        {
          "output_type": "execute_result",
          "data": {
            "text/html": [
              "<div>\n",
              "<style scoped>\n",
              "    .dataframe tbody tr th:only-of-type {\n",
              "        vertical-align: middle;\n",
              "    }\n",
              "\n",
              "    .dataframe tbody tr th {\n",
              "        vertical-align: top;\n",
              "    }\n",
              "\n",
              "    .dataframe thead th {\n",
              "        text-align: right;\n",
              "    }\n",
              "</style>\n",
              "<table border=\"1\" class=\"dataframe\">\n",
              "  <thead>\n",
              "    <tr style=\"text-align: right;\">\n",
              "      <th></th>\n",
              "      <th>news_paper</th>\n",
              "      <th>category</th>\n",
              "      <th>link</th>\n",
              "      <th>date</th>\n",
              "      <th>title</th>\n",
              "      <th>abstract</th>\n",
              "      <th>author</th>\n",
              "      <th>key_words</th>\n",
              "      <th>body</th>\n",
              "    </tr>\n",
              "  </thead>\n",
              "  <tbody>\n",
              "    <tr>\n",
              "      <th>count</th>\n",
              "      <td>3137</td>\n",
              "      <td>3137</td>\n",
              "      <td>3137</td>\n",
              "      <td>3137</td>\n",
              "      <td>3137</td>\n",
              "      <td>2011</td>\n",
              "      <td>2470</td>\n",
              "      <td>630</td>\n",
              "      <td>3131</td>\n",
              "    </tr>\n",
              "    <tr>\n",
              "      <th>unique</th>\n",
              "      <td>3</td>\n",
              "      <td>4</td>\n",
              "      <td>1960</td>\n",
              "      <td>12</td>\n",
              "      <td>1989</td>\n",
              "      <td>1269</td>\n",
              "      <td>273</td>\n",
              "      <td>418</td>\n",
              "      <td>2047</td>\n",
              "    </tr>\n",
              "    <tr>\n",
              "      <th>top</th>\n",
              "      <td>infobae</td>\n",
              "      <td>deportes</td>\n",
              "      <td>https://www.infobae.com//economia/2020/04/07/a...</td>\n",
              "      <td>2020-04-20</td>\n",
              "      <td>Adultos mayores en el cajero automático: cómo ...</td>\n",
              "      <td>Una guía detallada y explicada de manera muy s...</td>\n",
              "      <td>[]</td>\n",
              "      <td>CoronavirusCoronavirus En Argentina</td>\n",
              "      <td>El cierre de la sucursales bancarias por la cu...</td>\n",
              "    </tr>\n",
              "    <tr>\n",
              "      <th>freq</th>\n",
              "      <td>1366</td>\n",
              "      <td>905</td>\n",
              "      <td>14</td>\n",
              "      <td>476</td>\n",
              "      <td>14</td>\n",
              "      <td>42</td>\n",
              "      <td>1431</td>\n",
              "      <td>18</td>\n",
              "      <td>14</td>\n",
              "    </tr>\n",
              "  </tbody>\n",
              "</table>\n",
              "</div>"
            ],
            "text/plain": [
              "       news_paper  ...                                               body\n",
              "count        3137  ...                                               3131\n",
              "unique          3  ...                                               2047\n",
              "top       infobae  ...  El cierre de la sucursales bancarias por la cu...\n",
              "freq         1366  ...                                                 14\n",
              "\n",
              "[4 rows x 9 columns]"
            ]
          },
          "metadata": {
            "tags": []
          },
          "execution_count": 5
        }
      ]
    },
    {
      "cell_type": "markdown",
      "metadata": {
        "id": "xARFcFGbTiuy",
        "colab_type": "text"
      },
      "source": [
        "---\n",
        "\n",
        "**Selección, limpieza y transformación**\n",
        "\n",
        "\n",
        "---"
      ]
    },
    {
      "cell_type": "markdown",
      "metadata": {
        "id": "KxSehWeutF5I",
        "colab_type": "text"
      },
      "source": [
        "\n",
        "\n",
        "---\n",
        "\n",
        "\n",
        "Como se detecta que BODY tiene algunos registros NA...\n",
        "\n",
        "---"
      ]
    },
    {
      "cell_type": "code",
      "metadata": {
        "id": "0tzRTeAKpQc3",
        "colab_type": "code",
        "outputId": "12d30b6f-d643-4071-f03e-4e71452c0128",
        "colab": {
          "base_uri": "https://localhost:8080/",
          "height": 175
        }
      },
      "source": [
        "news[['title','body']].describe()"
      ],
      "execution_count": 0,
      "outputs": [
        {
          "output_type": "execute_result",
          "data": {
            "text/html": [
              "<div>\n",
              "<style scoped>\n",
              "    .dataframe tbody tr th:only-of-type {\n",
              "        vertical-align: middle;\n",
              "    }\n",
              "\n",
              "    .dataframe tbody tr th {\n",
              "        vertical-align: top;\n",
              "    }\n",
              "\n",
              "    .dataframe thead th {\n",
              "        text-align: right;\n",
              "    }\n",
              "</style>\n",
              "<table border=\"1\" class=\"dataframe\">\n",
              "  <thead>\n",
              "    <tr style=\"text-align: right;\">\n",
              "      <th></th>\n",
              "      <th>title</th>\n",
              "      <th>body</th>\n",
              "    </tr>\n",
              "  </thead>\n",
              "  <tbody>\n",
              "    <tr>\n",
              "      <th>count</th>\n",
              "      <td>3137</td>\n",
              "      <td>3131</td>\n",
              "    </tr>\n",
              "    <tr>\n",
              "      <th>unique</th>\n",
              "      <td>1989</td>\n",
              "      <td>2047</td>\n",
              "    </tr>\n",
              "    <tr>\n",
              "      <th>top</th>\n",
              "      <td>Adultos mayores en el cajero automático: cómo ...</td>\n",
              "      <td>El cierre de la sucursales bancarias por la cu...</td>\n",
              "    </tr>\n",
              "    <tr>\n",
              "      <th>freq</th>\n",
              "      <td>14</td>\n",
              "      <td>14</td>\n",
              "    </tr>\n",
              "  </tbody>\n",
              "</table>\n",
              "</div>"
            ],
            "text/plain": [
              "                                                    title                                               body\n",
              "count                                                3137                                               3131\n",
              "unique                                               1989                                               2047\n",
              "top     Adultos mayores en el cajero automático: cómo ...  El cierre de la sucursales bancarias por la cu...\n",
              "freq                                                   14                                                 14"
            ]
          },
          "metadata": {
            "tags": []
          },
          "execution_count": 6
        }
      ]
    },
    {
      "cell_type": "markdown",
      "metadata": {
        "id": "pTnXwtA5zeFV",
        "colab_type": "text"
      },
      "source": [
        "---\n",
        "\n",
        "... se eliminan los registros cuyos title o body son NA\n",
        "\n",
        "---"
      ]
    },
    {
      "cell_type": "code",
      "metadata": {
        "id": "G7eSTjXwqapH",
        "colab_type": "code",
        "outputId": "cc926949-d901-49dc-fe5a-cb97b85debda",
        "colab": {
          "base_uri": "https://localhost:8080/",
          "height": 210
        }
      },
      "source": [
        "news_clean = news.dropna(subset=['title','body'])\n",
        "news_clean.describe()"
      ],
      "execution_count": 0,
      "outputs": [
        {
          "output_type": "execute_result",
          "data": {
            "text/html": [
              "<div>\n",
              "<style scoped>\n",
              "    .dataframe tbody tr th:only-of-type {\n",
              "        vertical-align: middle;\n",
              "    }\n",
              "\n",
              "    .dataframe tbody tr th {\n",
              "        vertical-align: top;\n",
              "    }\n",
              "\n",
              "    .dataframe thead th {\n",
              "        text-align: right;\n",
              "    }\n",
              "</style>\n",
              "<table border=\"1\" class=\"dataframe\">\n",
              "  <thead>\n",
              "    <tr style=\"text-align: right;\">\n",
              "      <th></th>\n",
              "      <th>news_paper</th>\n",
              "      <th>category</th>\n",
              "      <th>link</th>\n",
              "      <th>date</th>\n",
              "      <th>title</th>\n",
              "      <th>abstract</th>\n",
              "      <th>author</th>\n",
              "      <th>key_words</th>\n",
              "      <th>body</th>\n",
              "    </tr>\n",
              "  </thead>\n",
              "  <tbody>\n",
              "    <tr>\n",
              "      <th>count</th>\n",
              "      <td>3131</td>\n",
              "      <td>3131</td>\n",
              "      <td>3131</td>\n",
              "      <td>3131</td>\n",
              "      <td>3131</td>\n",
              "      <td>2008</td>\n",
              "      <td>2467</td>\n",
              "      <td>628</td>\n",
              "      <td>3131</td>\n",
              "    </tr>\n",
              "    <tr>\n",
              "      <th>unique</th>\n",
              "      <td>3</td>\n",
              "      <td>4</td>\n",
              "      <td>1955</td>\n",
              "      <td>12</td>\n",
              "      <td>1986</td>\n",
              "      <td>1267</td>\n",
              "      <td>272</td>\n",
              "      <td>417</td>\n",
              "      <td>2047</td>\n",
              "    </tr>\n",
              "    <tr>\n",
              "      <th>top</th>\n",
              "      <td>infobae</td>\n",
              "      <td>deportes</td>\n",
              "      <td>https://www.infobae.com//economia/2020/04/07/a...</td>\n",
              "      <td>2020-04-20</td>\n",
              "      <td>Adultos mayores en el cajero automático: cómo ...</td>\n",
              "      <td>Una guía detallada y explicada de manera muy s...</td>\n",
              "      <td>[]</td>\n",
              "      <td>CoronavirusCoronavirus En Argentina</td>\n",
              "      <td>El cierre de la sucursales bancarias por la cu...</td>\n",
              "    </tr>\n",
              "    <tr>\n",
              "      <th>freq</th>\n",
              "      <td>1366</td>\n",
              "      <td>905</td>\n",
              "      <td>14</td>\n",
              "      <td>476</td>\n",
              "      <td>14</td>\n",
              "      <td>42</td>\n",
              "      <td>1429</td>\n",
              "      <td>18</td>\n",
              "      <td>14</td>\n",
              "    </tr>\n",
              "  </tbody>\n",
              "</table>\n",
              "</div>"
            ],
            "text/plain": [
              "       news_paper  ...                                               body\n",
              "count        3131  ...                                               3131\n",
              "unique          3  ...                                               2047\n",
              "top       infobae  ...  El cierre de la sucursales bancarias por la cu...\n",
              "freq         1366  ...                                                 14\n",
              "\n",
              "[4 rows x 9 columns]"
            ]
          },
          "metadata": {
            "tags": []
          },
          "execution_count": 7
        }
      ]
    },
    {
      "cell_type": "markdown",
      "metadata": {
        "id": "eW1Nb4M7gPt-",
        "colab_type": "text"
      },
      "source": [
        "---\n",
        "\n",
        "Cantidades de noticias agrupadas por diarios (octubre 2019)\n",
        "\n",
        "---"
      ]
    },
    {
      "cell_type": "code",
      "metadata": {
        "id": "H-JXlLEbN8KJ",
        "colab_type": "code",
        "outputId": "d5b7cf8c-b024-47e2-9c86-77eeec44007f",
        "colab": {
          "base_uri": "https://localhost:8080/",
          "height": 143
        }
      },
      "source": [
        "import numpy as np\n",
        "\n",
        "# Convierte el atributo news.news_paper como category\n",
        "c = news_clean.news_paper\n",
        "diarios = c.astype('category').dtype\n",
        "diarios.categories\n",
        "\n",
        "# Agrupa las noticias por diario y categoría\n",
        "a = news_clean.groupby(['news_paper'])\n",
        "\n",
        "# Genera un array numpay solo con la cantidad de noticias\n",
        "b = np.array(a.aggregate(np.count_nonzero)['link'])\n",
        "\n",
        "# Genera un dataframe con la cantidad de noticias por diario \n",
        "resumen = pd.DataFrame({\"Diario\":diarios.categories, \n",
        "                       \"Cantidad\":b})\n",
        "resumen"
      ],
      "execution_count": 0,
      "outputs": [
        {
          "output_type": "execute_result",
          "data": {
            "text/html": [
              "<div>\n",
              "<style scoped>\n",
              "    .dataframe tbody tr th:only-of-type {\n",
              "        vertical-align: middle;\n",
              "    }\n",
              "\n",
              "    .dataframe tbody tr th {\n",
              "        vertical-align: top;\n",
              "    }\n",
              "\n",
              "    .dataframe thead th {\n",
              "        text-align: right;\n",
              "    }\n",
              "</style>\n",
              "<table border=\"1\" class=\"dataframe\">\n",
              "  <thead>\n",
              "    <tr style=\"text-align: right;\">\n",
              "      <th></th>\n",
              "      <th>Diario</th>\n",
              "      <th>Cantidad</th>\n",
              "    </tr>\n",
              "  </thead>\n",
              "  <tbody>\n",
              "    <tr>\n",
              "      <th>0</th>\n",
              "      <td>clarin</td>\n",
              "      <td>628</td>\n",
              "    </tr>\n",
              "    <tr>\n",
              "      <th>1</th>\n",
              "      <td>infobae</td>\n",
              "      <td>1366</td>\n",
              "    </tr>\n",
              "    <tr>\n",
              "      <th>2</th>\n",
              "      <td>lanacion</td>\n",
              "      <td>1137</td>\n",
              "    </tr>\n",
              "  </tbody>\n",
              "</table>\n",
              "</div>"
            ],
            "text/plain": [
              "     Diario  Cantidad\n",
              "0    clarin       628\n",
              "1   infobae      1366\n",
              "2  lanacion      1137"
            ]
          },
          "metadata": {
            "tags": []
          },
          "execution_count": 8
        }
      ]
    },
    {
      "cell_type": "code",
      "metadata": {
        "id": "77sksnxpIFO5",
        "colab_type": "code",
        "outputId": "b1c42132-1e7d-4733-8532-ed3d2db8518e",
        "colab": {
          "base_uri": "https://localhost:8080/",
          "height": 330
        }
      },
      "source": [
        "resumen.plot.bar(x='Diario',y='Cantidad')"
      ],
      "execution_count": 0,
      "outputs": [
        {
          "output_type": "execute_result",
          "data": {
            "text/plain": [
              "<matplotlib.axes._subplots.AxesSubplot at 0x7f83f5cc2400>"
            ]
          },
          "metadata": {
            "tags": []
          },
          "execution_count": 9
        },
        {
          "output_type": "display_data",
          "data": {
            "image/png": "[encoded data removed]",
            "text/plain": [
              "<Figure size 432x288 with 1 Axes>"
            ]
          },
          "metadata": {
            "tags": [],
            "needs_background": "light"
          }
        }
      ]
    },
    {
      "cell_type": "markdown",
      "metadata": {
        "id": "_lMa0Fw0f5J5",
        "colab_type": "text"
      },
      "source": [
        "\n",
        "---\n",
        "\n",
        "Cantidades de noticias agrupadas por secciones (octubre 2019)\n",
        "\n",
        "---\n"
      ]
    },
    {
      "cell_type": "code",
      "metadata": {
        "id": "znChs9F2VEgj",
        "colab_type": "code",
        "outputId": "63f1a61b-7e57-474f-e68f-2e842e11582f",
        "colab": {
          "base_uri": "https://localhost:8080/",
          "height": 175
        }
      },
      "source": [
        "import numpy as np\n",
        "\n",
        "# Convierte el atributo news.category como category\n",
        "d = news_clean.category\n",
        "secciones = d.astype('category').dtype\n",
        "secciones.categories\n",
        "\n",
        "# Agrupa las noticias por diario y categoría\n",
        "e = news_clean.groupby(['category'])\n",
        "\n",
        "# Genera un array numpay solo con la cantidad de noticias\n",
        "f = np.array(e.aggregate(np.count_nonzero)['link'])\n",
        "\n",
        "# Genera un dataframe con la cantidad de noticias por diario \n",
        "resumenSecciones = pd.DataFrame({\"Sección\":secciones.categories, \n",
        "                                 \"Cantidad\":f})\n",
        "resumenSecciones"
      ],
      "execution_count": 0,
      "outputs": [
        {
          "output_type": "execute_result",
          "data": {
            "text/html": [
              "<div>\n",
              "<style scoped>\n",
              "    .dataframe tbody tr th:only-of-type {\n",
              "        vertical-align: middle;\n",
              "    }\n",
              "\n",
              "    .dataframe tbody tr th {\n",
              "        vertical-align: top;\n",
              "    }\n",
              "\n",
              "    .dataframe thead th {\n",
              "        text-align: right;\n",
              "    }\n",
              "</style>\n",
              "<table border=\"1\" class=\"dataframe\">\n",
              "  <thead>\n",
              "    <tr style=\"text-align: right;\">\n",
              "      <th></th>\n",
              "      <th>Sección</th>\n",
              "      <th>Cantidad</th>\n",
              "    </tr>\n",
              "  </thead>\n",
              "  <tbody>\n",
              "    <tr>\n",
              "      <th>0</th>\n",
              "      <td>deportes</td>\n",
              "      <td>905</td>\n",
              "    </tr>\n",
              "    <tr>\n",
              "      <th>1</th>\n",
              "      <td>economia</td>\n",
              "      <td>570</td>\n",
              "    </tr>\n",
              "    <tr>\n",
              "      <th>2</th>\n",
              "      <td>sociedad</td>\n",
              "      <td>790</td>\n",
              "    </tr>\n",
              "    <tr>\n",
              "      <th>3</th>\n",
              "      <td>tecnologia</td>\n",
              "      <td>866</td>\n",
              "    </tr>\n",
              "  </tbody>\n",
              "</table>\n",
              "</div>"
            ],
            "text/plain": [
              "      Sección  Cantidad\n",
              "0    deportes       905\n",
              "1    economia       570\n",
              "2    sociedad       790\n",
              "3  tecnologia       866"
            ]
          },
          "metadata": {
            "tags": []
          },
          "execution_count": 10
        }
      ]
    },
    {
      "cell_type": "code",
      "metadata": {
        "id": "WnscpWnBV6PB",
        "colab_type": "code",
        "outputId": "56608934-0b22-4478-e096-4a324e263ba6",
        "colab": {
          "base_uri": "https://localhost:8080/",
          "height": 339
        }
      },
      "source": [
        "resumenSecciones.plot.bar(x='Sección',y='Cantidad')"
      ],
      "execution_count": 0,
      "outputs": [
        {
          "output_type": "execute_result",
          "data": {
            "text/plain": [
              "<matplotlib.axes._subplots.AxesSubplot at 0x7f83f574ec50>"
            ]
          },
          "metadata": {
            "tags": []
          },
          "execution_count": 11
        },
        {
          "output_type": "display_data",
          "data": {
            "image/png": "[encoded data removed]",
            "text/plain": [
              "<Figure size 432x288 with 1 Axes>"
            ]
          },
          "metadata": {
            "tags": [],
            "needs_background": "light"
          }
        }
      ]
    },
    {
      "cell_type": "code",
      "metadata": {
        "id": "ZB7kiQhrhLFw",
        "colab_type": "code",
        "outputId": "11716917-7aed-4549-9645-2cdf2475adef",
        "colab": {
          "base_uri": "https://localhost:8080/",
          "height": 753
        }
      },
      "source": [
        "import numpy as np\n",
        "z = news_clean.groupby(['news_paper', 'category'] )['category'].count().unstack('news_paper')\n",
        "z.plot.bar(stacked=True, figsize = (8, 5))\n",
        "z.plot.bar(figsize = (8, 5))"
      ],
      "execution_count": 0,
      "outputs": [
        {
          "output_type": "execute_result",
          "data": {
            "text/plain": [
              "<matplotlib.axes._subplots.AxesSubplot at 0x7f83f56bbe10>"
            ]
          },
          "metadata": {
            "tags": []
          },
          "execution_count": 12
        },
        {
          "output_type": "display_data",
          "data": {
            "image/png": "[encoded data removed]",
            "text/plain": [
              "<Figure size 576x360 with 1 Axes>"
            ]
          },
          "metadata": {
            "tags": [],
            "needs_background": "light"
          }
        },
        {
          "output_type": "display_data",
          "data": {
            "image/png": "[encoded data removed]",
            "text/plain": [
              "<Figure size 576x360 with 1 Axes>"
            ]
          },
          "metadata": {
            "tags": [],
            "needs_background": "light"
          }
        }
      ]
    },
    {
      "cell_type": "code",
      "metadata": {
        "id": "Ag7GLXbRs6Yk",
        "colab_type": "code",
        "outputId": "68f1d4a3-8bb6-42e1-e5c7-397f4428e4ca",
        "colab": {
          "base_uri": "https://localhost:8080/",
          "height": 366
        }
      },
      "source": [
        "z = news_clean.groupby(['news_paper', 'category'] )['category'].count().unstack('news_paper')\n",
        "z.plot.pie( subplots=True,figsize=(16, 8))"
      ],
      "execution_count": 0,
      "outputs": [
        {
          "output_type": "execute_result",
          "data": {
            "text/plain": [
              "array([<matplotlib.axes._subplots.AxesSubplot object at 0x7fa560c94160>,\n",
              "       <matplotlib.axes._subplots.AxesSubplot object at 0x7fa55fa280b8>,\n",
              "       <matplotlib.axes._subplots.AxesSubplot object at 0x7fa55f9de0b8>],\n",
              "      dtype=object)"
            ]
          },
          "metadata": {
            "tags": []
          },
          "execution_count": 35
        },
        {
          "output_type": "display_data",
          "data": {
            "image/png": "[encoded data removed]",
            "text/plain": [
              "<Figure size 1152x576 with 3 Axes>"
            ]
          },
          "metadata": {
            "tags": []
          }
        }
      ]
    },
    {
      "cell_type": "markdown",
      "metadata": {
        "id": "gVvOUnEsmVCg",
        "colab_type": "text"
      },
      "source": [
        "---\n",
        "\n",
        "**Construcción de nuevos atributos**\n",
        "\n",
        "Se genera el atributo *titleandbody* a partir de la concatenación de los atributos del dataset original *title* y *body*, ya que las cadenas que aparecen en dichos atributos son las que interesan en este trabajo.\n",
        "\n",
        "---"
      ]
    },
    {
      "cell_type": "code",
      "metadata": {
        "id": "AVFLgAWuBGQB",
        "colab_type": "code",
        "outputId": "3aa92fbb-d68d-4894-b0c9-311624ff4eb9",
        "colab": {
          "base_uri": "https://localhost:8080/",
          "height": 127
        }
      },
      "source": [
        "news = news_clean[['news_paper','category','date']]\n",
        "news['titleandbody'] = news_clean['title'].str.cat(news_clean['body'], sep =' // ')"
      ],
      "execution_count": 0,
      "outputs": [
        {
          "output_type": "stream",
          "text": [
            "/usr/local/lib/python3.6/dist-packages/ipykernel_launcher.py:2: SettingWithCopyWarning: \n",
            "A value is trying to be set on a copy of a slice from a DataFrame.\n",
            "Try using .loc[row_indexer,col_indexer] = value instead\n",
            "\n",
            "See the caveats in the documentation: https://pandas.pydata.org/pandas-docs/stable/user_guide/indexing.html#returning-a-view-versus-a-copy\n",
            "  \n"
          ],
          "name": "stderr"
        }
      ]
    },
    {
      "cell_type": "markdown",
      "metadata": {
        "id": "CmGpId6qRgq0",
        "colab_type": "text"
      },
      "source": [
        "---\n",
        "\n",
        "**Exportación del dataset depurado**\n",
        "\n",
        "Se exporta el dataset depurado en formato CSV como \"TMnews.csv\"\n",
        "\n",
        "---"
      ]
    },
    {
      "cell_type": "code",
      "metadata": {
        "id": "wSzxIh1gwJw5",
        "colab_type": "code",
        "colab": {}
      },
      "source": [
        "TMnews = news.to_csv (r'/content/drive/My Drive/Colab Notebooks/GIBDnews/data/GIBDnews-abril.csv', index = None, header=True) \n"
      ],
      "execution_count": 0,
      "outputs": []
    }
  ]
}