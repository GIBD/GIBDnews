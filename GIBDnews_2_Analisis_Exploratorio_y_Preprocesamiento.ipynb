{
  "nbformat": 4,
  "nbformat_minor": 0,
  "metadata": {
    "colab": {
      "name": "GIBDnews_2_Analisis_Exploratorio_y_Preprocesamiento.ipynb",
      "provenance": [],
      "toc_visible": true,
      "include_colab_link": true
    },
    "kernelspec": {
      "name": "python3",
      "display_name": "Python 3"
    }
  },
  "cells": [
    {
      "cell_type": "markdown",
      "metadata": {
        "id": "view-in-github",
        "colab_type": "text"
      },
      "source": [
        "<a href=\"https://colab.research.google.com/github/GIBD/GIBDnews/blob/master/GIBDnews_2_Analisis_Exploratorio_y_Preprocesamiento.ipynb\" target=\"_parent\"><img src=\"https://colab.research.google.com/assets/colab-badge.svg\" alt=\"Open In Colab\"/></a>"
      ]
    },
    {
      "cell_type": "markdown",
      "metadata": {
        "id": "ZAfqJLHzXfmV",
        "colab_type": "text"
      },
      "source": [
        "# **GIBDnews**\n",
        "**Aplicación de Técnicas de Minería de Textos a noticias** \n",
        "\n",
        "**Parte 2**\n"
      ]
    },
    {
      "cell_type": "markdown",
      "metadata": {
        "id": "fPaeGV6TXf3l",
        "colab_type": "text"
      },
      "source": [
        "---\n",
        "#**Fase de Obtención y Preparación de los Textos**\n",
        "\n",
        "---\n"
      ]
    },
    {
      "cell_type": "markdown",
      "metadata": {
        "id": "3JERmALngdmQ",
        "colab_type": "text"
      },
      "source": [
        "---\n",
        "\n",
        "Conexión de Collaboratory con Google Drive\n",
        "\n",
        "---"
      ]
    },
    {
      "cell_type": "code",
      "metadata": {
        "id": "NYySoxJ5u9Yj",
        "colab_type": "code",
        "outputId": "3c941d89-b637-4650-f361-b4430ea34490",
        "colab": {
          "base_uri": "https://localhost:8080/",
          "height": 35
        }
      },
      "source": [
        "from google.colab import drive\n",
        "drive.mount('/content/drive/')"
      ],
      "execution_count": 6,
      "outputs": [
        {
          "output_type": "stream",
          "text": [
            "Drive already mounted at /content/drive/; to attempt to forcibly remount, call drive.mount(\"/content/drive/\", force_remount=True).\n"
          ],
          "name": "stdout"
        }
      ]
    },
    {
      "cell_type": "markdown",
      "metadata": {
        "id": "Vem8PXLhgnfy",
        "colab_type": "text"
      },
      "source": [
        "---\n",
        "\n",
        "Seteo de directorio de trabajo\n",
        "\n",
        "---"
      ]
    },
    {
      "cell_type": "code",
      "metadata": {
        "id": "8IQ5Fl_qvwl6",
        "colab_type": "code",
        "colab": {}
      },
      "source": [
        "import os\n",
        "os.chdir(\"/content/drive/My Drive/Colab Notebooks/GIBDnews/data\")"
      ],
      "execution_count": 0,
      "outputs": []
    },
    {
      "cell_type": "markdown",
      "metadata": {
        "id": "MDEWyV1agsNq",
        "colab_type": "text"
      },
      "source": [
        "---\n",
        "\n",
        "Se importa el repositorio de noticias generado en la etapa anterior (newsoctubre2019.csv)\n",
        "\n",
        "---"
      ]
    },
    {
      "cell_type": "code",
      "metadata": {
        "id": "JRE0G9fCv7SV",
        "colab_type": "code",
        "outputId": "fbd5ab4b-fe60-4164-9270-517e514628bc",
        "colab": {
          "base_uri": "https://localhost:8080/",
          "height": 893
        }
      },
      "source": [
        "import pandas as pd \n",
        "news = pd.read_csv('news_abril_todas_20200416.csv') \n",
        "news"
      ],
      "execution_count": 8,
      "outputs": [
        {
          "output_type": "execute_result",
          "data": {
            "text/html": [
              "<div>\n",
              "<style scoped>\n",
              "    .dataframe tbody tr th:only-of-type {\n",
              "        vertical-align: middle;\n",
              "    }\n",
              "\n",
              "    .dataframe tbody tr th {\n",
              "        vertical-align: top;\n",
              "    }\n",
              "\n",
              "    .dataframe thead th {\n",
              "        text-align: right;\n",
              "    }\n",
              "</style>\n",
              "<table border=\"1\" class=\"dataframe\">\n",
              "  <thead>\n",
              "    <tr style=\"text-align: right;\">\n",
              "      <th></th>\n",
              "      <th>news_paper</th>\n",
              "      <th>category</th>\n",
              "      <th>link</th>\n",
              "      <th>date</th>\n",
              "      <th>title</th>\n",
              "      <th>abstract</th>\n",
              "      <th>author</th>\n",
              "      <th>key_words</th>\n",
              "      <th>body</th>\n",
              "    </tr>\n",
              "  </thead>\n",
              "  <tbody>\n",
              "    <tr>\n",
              "      <th>0</th>\n",
              "      <td>clarin</td>\n",
              "      <td>deportes</td>\n",
              "      <td>https://www.clarin.com//deportes/andres-perale...</td>\n",
              "      <td>2020-04-11</td>\n",
              "      <td>El “Pablo Vico” de España: tiene 83 años y pas...</td>\n",
              "      <td>Andrés Perales vive hace casi tres décadas en ...</td>\n",
              "      <td>[]</td>\n",
              "      <td>MálagaLiga De EspañaCoronavirusCuarentena</td>\n",
              "      <td>La cuarentena nos obligó a quedarnos en casa y...</td>\n",
              "    </tr>\n",
              "    <tr>\n",
              "      <th>1</th>\n",
              "      <td>clarin</td>\n",
              "      <td>deportes</td>\n",
              "      <td>https://www.clarin.com//deportes/adelantan-bar...</td>\n",
              "      <td>2020-04-11</td>\n",
              "      <td>Adelantan que en Barcelona se habrían pagado s...</td>\n",
              "      <td>El 'BarçaGate' sigue sumando capítulos. El dia...</td>\n",
              "      <td>[]</td>\n",
              "      <td>FC BarcelonaLionel Messi</td>\n",
              "      <td>Ha sido la temporada de los escándalos para Ba...</td>\n",
              "    </tr>\n",
              "    <tr>\n",
              "      <th>2</th>\n",
              "      <td>clarin</td>\n",
              "      <td>deportes</td>\n",
              "      <td>https://www.clarin.com//deportes/jana-pittman-...</td>\n",
              "      <td>2020-04-11</td>\n",
              "      <td>Jana Pittman, la campeona mundial que lucha en...</td>\n",
              "      <td>La atleta es una de los 47 residentes que fuer...</td>\n",
              "      <td>[]</td>\n",
              "      <td>CoronavirusAtletismo</td>\n",
              "      <td>En Argentina, Paula Pareto es la cara más visi...</td>\n",
              "    </tr>\n",
              "    <tr>\n",
              "      <th>3</th>\n",
              "      <td>clarin</td>\n",
              "      <td>deportes</td>\n",
              "      <td>https://www.clarin.com//deportes/oms-pidio-par...</td>\n",
              "      <td>2020-04-11</td>\n",
              "      <td>Coronavirus: la OMS pidió que paren el fútbol ...</td>\n",
              "      <td>La Organización Mundial de la Salud instó a qu...</td>\n",
              "      <td>[]</td>\n",
              "      <td>BielorrusiaCoronavirus</td>\n",
              "      <td>La Organización Mundial de la Salud (OMS) le p...</td>\n",
              "    </tr>\n",
              "    <tr>\n",
              "      <th>4</th>\n",
              "      <td>clarin</td>\n",
              "      <td>deportes</td>\n",
              "      <td>https://www.clarin.com//deportes/arana-amuchas...</td>\n",
              "      <td>2020-04-11</td>\n",
              "      <td>El Araña Amuchástegui, el crack que rechazó un...</td>\n",
              "      <td>Brilló en el River de Veira, pero antes fue un...</td>\n",
              "      <td>Ramón Gómez</td>\n",
              "      <td>River PlateSan LorenzoSelección Argentina De F...</td>\n",
              "      <td>El gran dilema de siempre en Córdoba es el gén...</td>\n",
              "    </tr>\n",
              "    <tr>\n",
              "      <th>...</th>\n",
              "      <td>...</td>\n",
              "      <td>...</td>\n",
              "      <td>...</td>\n",
              "      <td>...</td>\n",
              "      <td>...</td>\n",
              "      <td>...</td>\n",
              "      <td>...</td>\n",
              "      <td>...</td>\n",
              "      <td>...</td>\n",
              "    </tr>\n",
              "    <tr>\n",
              "      <th>710</th>\n",
              "      <td>lanacion</td>\n",
              "      <td>tecnologia</td>\n",
              "      <td>http://www.lanacion.com.ar//tecnologia/playsta...</td>\n",
              "      <td>2020-04-13</td>\n",
              "      <td>PlayStation 5: así es DualSense, el control de...</td>\n",
              "      <td>NaN</td>\n",
              "      <td>NaN</td>\n",
              "      <td>NaN</td>\n",
              "      <td>La nueva \\r\\n\\r\\nconsola\\r\\n\\r\\n de Sony ya es...</td>\n",
              "    </tr>\n",
              "    <tr>\n",
              "      <th>711</th>\n",
              "      <td>lanacion</td>\n",
              "      <td>tecnologia</td>\n",
              "      <td>http://www.lanacion.com.ar//tecnologia/faceboo...</td>\n",
              "      <td>2020-04-13</td>\n",
              "      <td>Facebook presenta Torneos, la plataforma para ...</td>\n",
              "      <td>NaN</td>\n",
              "      <td>Europa Press</td>\n",
              "      <td>NaN</td>\n",
              "      <td>Las competencias de \\r\\n\\r\\nvideojuegos\\r\\n\\r\\...</td>\n",
              "    </tr>\n",
              "    <tr>\n",
              "      <th>712</th>\n",
              "      <td>lanacion</td>\n",
              "      <td>tecnologia</td>\n",
              "      <td>http://www.lanacion.com.ar//tecnologia/la-hist...</td>\n",
              "      <td>2020-04-13</td>\n",
              "      <td>La historia del programador detrás de Petro, l...</td>\n",
              "      <td>NaN</td>\n",
              "      <td>['Nathaniel Popper', 'Ana Vanessa Herrero']</td>\n",
              "      <td>NaN</td>\n",
              "      <td>Justo después de la medianoche de un martes a ...</td>\n",
              "    </tr>\n",
              "    <tr>\n",
              "      <th>713</th>\n",
              "      <td>lanacion</td>\n",
              "      <td>tecnologia</td>\n",
              "      <td>http://www.lanacion.com.ar//tecnologia/netflix...</td>\n",
              "      <td>2020-04-13</td>\n",
              "      <td>Netflix: cómo configurar las nuevas herramient...</td>\n",
              "      <td>NaN</td>\n",
              "      <td>Débora Slotnisky</td>\n",
              "      <td>NaN</td>\n",
              "      <td>Netflix está estrenando hoy nuevas herramienta...</td>\n",
              "    </tr>\n",
              "    <tr>\n",
              "      <th>714</th>\n",
              "      <td>lanacion</td>\n",
              "      <td>tecnologia</td>\n",
              "      <td>http://www.lanacion.com.ar//tecnologia/coronav...</td>\n",
              "      <td>2020-04-13</td>\n",
              "      <td>Coronavirus: respiración extracorpórea, la ext...</td>\n",
              "      <td>NaN</td>\n",
              "      <td>NaN</td>\n",
              "      <td>NaN</td>\n",
              "      <td>Suena como un tratamiento salido de la ciencia...</td>\n",
              "    </tr>\n",
              "  </tbody>\n",
              "</table>\n",
              "<p>715 rows × 9 columns</p>\n",
              "</div>"
            ],
            "text/plain": [
              "    news_paper  ...                                               body\n",
              "0       clarin  ...  La cuarentena nos obligó a quedarnos en casa y...\n",
              "1       clarin  ...  Ha sido la temporada de los escándalos para Ba...\n",
              "2       clarin  ...  En Argentina, Paula Pareto es la cara más visi...\n",
              "3       clarin  ...  La Organización Mundial de la Salud (OMS) le p...\n",
              "4       clarin  ...  El gran dilema de siempre en Córdoba es el gén...\n",
              "..         ...  ...                                                ...\n",
              "710   lanacion  ...  La nueva \\r\\n\\r\\nconsola\\r\\n\\r\\n de Sony ya es...\n",
              "711   lanacion  ...  Las competencias de \\r\\n\\r\\nvideojuegos\\r\\n\\r\\...\n",
              "712   lanacion  ...  Justo después de la medianoche de un martes a ...\n",
              "713   lanacion  ...  Netflix está estrenando hoy nuevas herramienta...\n",
              "714   lanacion  ...  Suena como un tratamiento salido de la ciencia...\n",
              "\n",
              "[715 rows x 9 columns]"
            ]
          },
          "metadata": {
            "tags": []
          },
          "execution_count": 8
        }
      ]
    },
    {
      "cell_type": "markdown",
      "metadata": {
        "id": "w-P08JjWg7T_",
        "colab_type": "text"
      },
      "source": [
        "---\n",
        "\n",
        "Estadísticas descriptivas del dataset\n",
        "\n",
        "---"
      ]
    },
    {
      "cell_type": "code",
      "metadata": {
        "id": "WmN5EOM7tAdD",
        "colab_type": "code",
        "outputId": "838480ee-e428-42ad-d318-288ecb7f4822",
        "colab": {
          "base_uri": "https://localhost:8080/",
          "height": 210
        }
      },
      "source": [
        "news.describe()"
      ],
      "execution_count": 9,
      "outputs": [
        {
          "output_type": "execute_result",
          "data": {
            "text/html": [
              "<div>\n",
              "<style scoped>\n",
              "    .dataframe tbody tr th:only-of-type {\n",
              "        vertical-align: middle;\n",
              "    }\n",
              "\n",
              "    .dataframe tbody tr th {\n",
              "        vertical-align: top;\n",
              "    }\n",
              "\n",
              "    .dataframe thead th {\n",
              "        text-align: right;\n",
              "    }\n",
              "</style>\n",
              "<table border=\"1\" class=\"dataframe\">\n",
              "  <thead>\n",
              "    <tr style=\"text-align: right;\">\n",
              "      <th></th>\n",
              "      <th>news_paper</th>\n",
              "      <th>category</th>\n",
              "      <th>link</th>\n",
              "      <th>date</th>\n",
              "      <th>title</th>\n",
              "      <th>abstract</th>\n",
              "      <th>author</th>\n",
              "      <th>key_words</th>\n",
              "      <th>body</th>\n",
              "    </tr>\n",
              "  </thead>\n",
              "  <tbody>\n",
              "    <tr>\n",
              "      <th>count</th>\n",
              "      <td>715</td>\n",
              "      <td>715</td>\n",
              "      <td>715</td>\n",
              "      <td>715</td>\n",
              "      <td>715</td>\n",
              "      <td>444</td>\n",
              "      <td>552</td>\n",
              "      <td>149</td>\n",
              "      <td>713</td>\n",
              "    </tr>\n",
              "    <tr>\n",
              "      <th>unique</th>\n",
              "      <td>3</td>\n",
              "      <td>4</td>\n",
              "      <td>504</td>\n",
              "      <td>3</td>\n",
              "      <td>508</td>\n",
              "      <td>320</td>\n",
              "      <td>134</td>\n",
              "      <td>116</td>\n",
              "      <td>515</td>\n",
              "    </tr>\n",
              "    <tr>\n",
              "      <th>top</th>\n",
              "      <td>infobae</td>\n",
              "      <td>tecnologia</td>\n",
              "      <td>http://www.lanacion.com.ar//tecnologia/zoom-an...</td>\n",
              "      <td>2020-04-13</td>\n",
              "      <td>Apple producirá semanalmente un millón de masc...</td>\n",
              "      <td>Una guía detallada y explicada de manera muy s...</td>\n",
              "      <td>[]</td>\n",
              "      <td>Coronavirus En Argentina</td>\n",
              "      <td>Cada otoño, Mazen Kourouche acude a la tienda ...</td>\n",
              "    </tr>\n",
              "    <tr>\n",
              "      <th>freq</th>\n",
              "      <td>291</td>\n",
              "      <td>201</td>\n",
              "      <td>3</td>\n",
              "      <td>242</td>\n",
              "      <td>3</td>\n",
              "      <td>9</td>\n",
              "      <td>307</td>\n",
              "      <td>6</td>\n",
              "      <td>3</td>\n",
              "    </tr>\n",
              "  </tbody>\n",
              "</table>\n",
              "</div>"
            ],
            "text/plain": [
              "       news_paper  ...                                               body\n",
              "count         715  ...                                                713\n",
              "unique          3  ...                                                515\n",
              "top       infobae  ...  Cada otoño, Mazen Kourouche acude a la tienda ...\n",
              "freq          291  ...                                                  3\n",
              "\n",
              "[4 rows x 9 columns]"
            ]
          },
          "metadata": {
            "tags": []
          },
          "execution_count": 9
        }
      ]
    },
    {
      "cell_type": "markdown",
      "metadata": {
        "id": "xARFcFGbTiuy",
        "colab_type": "text"
      },
      "source": [
        "---\n",
        "\n",
        "**Selección, limpieza y transformación**\n",
        "\n",
        "\n",
        "---"
      ]
    },
    {
      "cell_type": "markdown",
      "metadata": {
        "id": "KxSehWeutF5I",
        "colab_type": "text"
      },
      "source": [
        "\n",
        "\n",
        "---\n",
        "\n",
        "\n",
        "Como se detecta que BODY tiene algunos registros NA...\n",
        "\n",
        "---"
      ]
    },
    {
      "cell_type": "code",
      "metadata": {
        "id": "0tzRTeAKpQc3",
        "colab_type": "code",
        "outputId": "8f21c9c9-abf9-49c1-8a44-8966edfa1b7f",
        "colab": {
          "base_uri": "https://localhost:8080/",
          "height": 175
        }
      },
      "source": [
        "news[['title','body']].describe()"
      ],
      "execution_count": 28,
      "outputs": [
        {
          "output_type": "execute_result",
          "data": {
            "text/html": [
              "<div>\n",
              "<style scoped>\n",
              "    .dataframe tbody tr th:only-of-type {\n",
              "        vertical-align: middle;\n",
              "    }\n",
              "\n",
              "    .dataframe tbody tr th {\n",
              "        vertical-align: top;\n",
              "    }\n",
              "\n",
              "    .dataframe thead th {\n",
              "        text-align: right;\n",
              "    }\n",
              "</style>\n",
              "<table border=\"1\" class=\"dataframe\">\n",
              "  <thead>\n",
              "    <tr style=\"text-align: right;\">\n",
              "      <th></th>\n",
              "      <th>title</th>\n",
              "      <th>body</th>\n",
              "    </tr>\n",
              "  </thead>\n",
              "  <tbody>\n",
              "    <tr>\n",
              "      <th>count</th>\n",
              "      <td>715</td>\n",
              "      <td>713</td>\n",
              "    </tr>\n",
              "    <tr>\n",
              "      <th>unique</th>\n",
              "      <td>508</td>\n",
              "      <td>515</td>\n",
              "    </tr>\n",
              "    <tr>\n",
              "      <th>top</th>\n",
              "      <td>Apple producirá semanalmente un millón de masc...</td>\n",
              "      <td>Cada otoño, Mazen Kourouche acude a la tienda ...</td>\n",
              "    </tr>\n",
              "    <tr>\n",
              "      <th>freq</th>\n",
              "      <td>3</td>\n",
              "      <td>3</td>\n",
              "    </tr>\n",
              "  </tbody>\n",
              "</table>\n",
              "</div>"
            ],
            "text/plain": [
              "                                                    title                                               body\n",
              "count                                                 715                                                713\n",
              "unique                                                508                                                515\n",
              "top     Apple producirá semanalmente un millón de masc...  Cada otoño, Mazen Kourouche acude a la tienda ...\n",
              "freq                                                    3                                                  3"
            ]
          },
          "metadata": {
            "tags": []
          },
          "execution_count": 28
        }
      ]
    },
    {
      "cell_type": "markdown",
      "metadata": {
        "id": "pTnXwtA5zeFV",
        "colab_type": "text"
      },
      "source": [
        "---\n",
        "\n",
        "... se eliminan los registros cuyos title o body son NA\n",
        "\n",
        "---"
      ]
    },
    {
      "cell_type": "code",
      "metadata": {
        "id": "G7eSTjXwqapH",
        "colab_type": "code",
        "outputId": "eefa5f2c-2f91-4fc5-b896-0f5f9ff2e607",
        "colab": {
          "base_uri": "https://localhost:8080/",
          "height": 210
        }
      },
      "source": [
        "news_clean = news.dropna(subset=['title','body'])\n",
        "news_clean.describe()"
      ],
      "execution_count": 29,
      "outputs": [
        {
          "output_type": "execute_result",
          "data": {
            "text/html": [
              "<div>\n",
              "<style scoped>\n",
              "    .dataframe tbody tr th:only-of-type {\n",
              "        vertical-align: middle;\n",
              "    }\n",
              "\n",
              "    .dataframe tbody tr th {\n",
              "        vertical-align: top;\n",
              "    }\n",
              "\n",
              "    .dataframe thead th {\n",
              "        text-align: right;\n",
              "    }\n",
              "</style>\n",
              "<table border=\"1\" class=\"dataframe\">\n",
              "  <thead>\n",
              "    <tr style=\"text-align: right;\">\n",
              "      <th></th>\n",
              "      <th>news_paper</th>\n",
              "      <th>category</th>\n",
              "      <th>link</th>\n",
              "      <th>date</th>\n",
              "      <th>title</th>\n",
              "      <th>abstract</th>\n",
              "      <th>author</th>\n",
              "      <th>key_words</th>\n",
              "      <th>body</th>\n",
              "    </tr>\n",
              "  </thead>\n",
              "  <tbody>\n",
              "    <tr>\n",
              "      <th>count</th>\n",
              "      <td>713</td>\n",
              "      <td>713</td>\n",
              "      <td>713</td>\n",
              "      <td>713</td>\n",
              "      <td>713</td>\n",
              "      <td>443</td>\n",
              "      <td>551</td>\n",
              "      <td>148</td>\n",
              "      <td>713</td>\n",
              "    </tr>\n",
              "    <tr>\n",
              "      <th>unique</th>\n",
              "      <td>3</td>\n",
              "      <td>4</td>\n",
              "      <td>502</td>\n",
              "      <td>3</td>\n",
              "      <td>506</td>\n",
              "      <td>319</td>\n",
              "      <td>134</td>\n",
              "      <td>115</td>\n",
              "      <td>515</td>\n",
              "    </tr>\n",
              "    <tr>\n",
              "      <th>top</th>\n",
              "      <td>infobae</td>\n",
              "      <td>tecnologia</td>\n",
              "      <td>http://www.lanacion.com.ar//tecnologia/zoom-an...</td>\n",
              "      <td>2020-04-13</td>\n",
              "      <td>Google prohíbe a sus empleados el uso de las v...</td>\n",
              "      <td>Una guía detallada y explicada de manera muy s...</td>\n",
              "      <td>[]</td>\n",
              "      <td>Coronavirus En Argentina</td>\n",
              "      <td>Cada otoño, Mazen Kourouche acude a la tienda ...</td>\n",
              "    </tr>\n",
              "    <tr>\n",
              "      <th>freq</th>\n",
              "      <td>291</td>\n",
              "      <td>201</td>\n",
              "      <td>3</td>\n",
              "      <td>241</td>\n",
              "      <td>3</td>\n",
              "      <td>9</td>\n",
              "      <td>306</td>\n",
              "      <td>6</td>\n",
              "      <td>3</td>\n",
              "    </tr>\n",
              "  </tbody>\n",
              "</table>\n",
              "</div>"
            ],
            "text/plain": [
              "       news_paper  ...                                               body\n",
              "count         713  ...                                                713\n",
              "unique          3  ...                                                515\n",
              "top       infobae  ...  Cada otoño, Mazen Kourouche acude a la tienda ...\n",
              "freq          291  ...                                                  3\n",
              "\n",
              "[4 rows x 9 columns]"
            ]
          },
          "metadata": {
            "tags": []
          },
          "execution_count": 29
        }
      ]
    },
    {
      "cell_type": "markdown",
      "metadata": {
        "id": "eW1Nb4M7gPt-",
        "colab_type": "text"
      },
      "source": [
        "---\n",
        "\n",
        "Cantidades de noticias agrupadas por diarios (octubre 2019)\n",
        "\n",
        "---"
      ]
    },
    {
      "cell_type": "code",
      "metadata": {
        "id": "H-JXlLEbN8KJ",
        "colab_type": "code",
        "outputId": "410cdd96-37d4-45da-8914-c5016256b7f6",
        "colab": {
          "base_uri": "https://localhost:8080/",
          "height": 143
        }
      },
      "source": [
        "import numpy as np\n",
        "\n",
        "# Convierte el atributo news.news_paper como category\n",
        "c = news_clean.news_paper\n",
        "diarios = c.astype('category').dtype\n",
        "diarios.categories\n",
        "\n",
        "# Agrupa las noticias por diario y categoría\n",
        "a = news_clean.groupby(['news_paper'])\n",
        "\n",
        "# Genera un array numpay solo con la cantidad de noticias\n",
        "b = np.array(a.aggregate(np.count_nonzero)['link'])\n",
        "\n",
        "# Genera un dataframe con la cantidad de noticias por diario \n",
        "resumen = pd.DataFrame({\"Diario\":diarios.categories, \n",
        "                       \"Cantidad\":b})\n",
        "resumen"
      ],
      "execution_count": 30,
      "outputs": [
        {
          "output_type": "execute_result",
          "data": {
            "text/html": [
              "<div>\n",
              "<style scoped>\n",
              "    .dataframe tbody tr th:only-of-type {\n",
              "        vertical-align: middle;\n",
              "    }\n",
              "\n",
              "    .dataframe tbody tr th {\n",
              "        vertical-align: top;\n",
              "    }\n",
              "\n",
              "    .dataframe thead th {\n",
              "        text-align: right;\n",
              "    }\n",
              "</style>\n",
              "<table border=\"1\" class=\"dataframe\">\n",
              "  <thead>\n",
              "    <tr style=\"text-align: right;\">\n",
              "      <th></th>\n",
              "      <th>Diario</th>\n",
              "      <th>Cantidad</th>\n",
              "    </tr>\n",
              "  </thead>\n",
              "  <tbody>\n",
              "    <tr>\n",
              "      <th>0</th>\n",
              "      <td>clarin</td>\n",
              "      <td>148</td>\n",
              "    </tr>\n",
              "    <tr>\n",
              "      <th>1</th>\n",
              "      <td>infobae</td>\n",
              "      <td>291</td>\n",
              "    </tr>\n",
              "    <tr>\n",
              "      <th>2</th>\n",
              "      <td>lanacion</td>\n",
              "      <td>274</td>\n",
              "    </tr>\n",
              "  </tbody>\n",
              "</table>\n",
              "</div>"
            ],
            "text/plain": [
              "     Diario  Cantidad\n",
              "0    clarin       148\n",
              "1   infobae       291\n",
              "2  lanacion       274"
            ]
          },
          "metadata": {
            "tags": []
          },
          "execution_count": 30
        }
      ]
    },
    {
      "cell_type": "code",
      "metadata": {
        "id": "77sksnxpIFO5",
        "colab_type": "code",
        "outputId": "cdd4440f-4828-4537-cd6a-672c5c81ff29",
        "colab": {
          "base_uri": "https://localhost:8080/",
          "height": 330
        }
      },
      "source": [
        "resumen.plot.bar(x='Diario',y='Cantidad')"
      ],
      "execution_count": 31,
      "outputs": [
        {
          "output_type": "execute_result",
          "data": {
            "text/plain": [
              "<matplotlib.axes._subplots.AxesSubplot at 0x7fa561382fd0>"
            ]
          },
          "metadata": {
            "tags": []
          },
          "execution_count": 31
        },
        {
          "output_type": "display_data",
          "data": {
            "image/png": "[encoded data removed]",
            "text/plain": [
              "<Figure size 432x288 with 1 Axes>"
            ]
          },
          "metadata": {
            "tags": [],
            "needs_background": "light"
          }
        }
      ]
    },
    {
      "cell_type": "markdown",
      "metadata": {
        "id": "_lMa0Fw0f5J5",
        "colab_type": "text"
      },
      "source": [
        "\n",
        "---\n",
        "\n",
        "Cantidades de noticias agrupadas por secciones (octubre 2019)\n",
        "\n",
        "---\n"
      ]
    },
    {
      "cell_type": "code",
      "metadata": {
        "id": "znChs9F2VEgj",
        "colab_type": "code",
        "outputId": "4ca08614-c1be-4266-cb64-a509409ca6f8",
        "colab": {
          "base_uri": "https://localhost:8080/",
          "height": 175
        }
      },
      "source": [
        "import numpy as np\n",
        "\n",
        "# Convierte el atributo news.category como category\n",
        "d = news_clean.category\n",
        "secciones = d.astype('category').dtype\n",
        "secciones.categories\n",
        "\n",
        "# Agrupa las noticias por diario y categoría\n",
        "e = news_clean.groupby(['category'])\n",
        "\n",
        "# Genera un array numpay solo con la cantidad de noticias\n",
        "f = np.array(e.aggregate(np.count_nonzero)['link'])\n",
        "\n",
        "# Genera un dataframe con la cantidad de noticias por diario \n",
        "resumenSecciones = pd.DataFrame({\"Sección\":secciones.categories, \n",
        "                                 \"Cantidad\":f})\n",
        "resumenSecciones"
      ],
      "execution_count": 32,
      "outputs": [
        {
          "output_type": "execute_result",
          "data": {
            "text/html": [
              "<div>\n",
              "<style scoped>\n",
              "    .dataframe tbody tr th:only-of-type {\n",
              "        vertical-align: middle;\n",
              "    }\n",
              "\n",
              "    .dataframe tbody tr th {\n",
              "        vertical-align: top;\n",
              "    }\n",
              "\n",
              "    .dataframe thead th {\n",
              "        text-align: right;\n",
              "    }\n",
              "</style>\n",
              "<table border=\"1\" class=\"dataframe\">\n",
              "  <thead>\n",
              "    <tr style=\"text-align: right;\">\n",
              "      <th></th>\n",
              "      <th>Sección</th>\n",
              "      <th>Cantidad</th>\n",
              "    </tr>\n",
              "  </thead>\n",
              "  <tbody>\n",
              "    <tr>\n",
              "      <th>0</th>\n",
              "      <td>deportes</td>\n",
              "      <td>199</td>\n",
              "    </tr>\n",
              "    <tr>\n",
              "      <th>1</th>\n",
              "      <td>economia</td>\n",
              "      <td>129</td>\n",
              "    </tr>\n",
              "    <tr>\n",
              "      <th>2</th>\n",
              "      <td>sociedad</td>\n",
              "      <td>184</td>\n",
              "    </tr>\n",
              "    <tr>\n",
              "      <th>3</th>\n",
              "      <td>tecnologia</td>\n",
              "      <td>201</td>\n",
              "    </tr>\n",
              "  </tbody>\n",
              "</table>\n",
              "</div>"
            ],
            "text/plain": [
              "      Sección  Cantidad\n",
              "0    deportes       199\n",
              "1    economia       129\n",
              "2    sociedad       184\n",
              "3  tecnologia       201"
            ]
          },
          "metadata": {
            "tags": []
          },
          "execution_count": 32
        }
      ]
    },
    {
      "cell_type": "code",
      "metadata": {
        "id": "WnscpWnBV6PB",
        "colab_type": "code",
        "outputId": "dc9213aa-46b1-4273-9e6c-3e988736d4b2",
        "colab": {
          "base_uri": "https://localhost:8080/",
          "height": 339
        }
      },
      "source": [
        "resumenSecciones.plot.bar(x='Sección',y='Cantidad')"
      ],
      "execution_count": 33,
      "outputs": [
        {
          "output_type": "execute_result",
          "data": {
            "text/plain": [
              "<matplotlib.axes._subplots.AxesSubplot at 0x7fa5612a8b38>"
            ]
          },
          "metadata": {
            "tags": []
          },
          "execution_count": 33
        },
        {
          "output_type": "display_data",
          "data": {
            "image/png": "[encoded data removed]",
            "text/plain": [
              "<Figure size 432x288 with 1 Axes>"
            ]
          },
          "metadata": {
            "tags": [],
            "needs_background": "light"
          }
        }
      ]
    },
    {
      "cell_type": "code",
      "metadata": {
        "id": "ZB7kiQhrhLFw",
        "colab_type": "code",
        "outputId": "46f6ed50-b740-4569-c5ae-13b01b2c7892",
        "colab": {
          "base_uri": "https://localhost:8080/",
          "height": 753
        }
      },
      "source": [
        "import numpy as np\n",
        "z = news_clean.groupby(['news_paper', 'category'] )['category'].count().unstack('news_paper')\n",
        "z.plot.bar(stacked=True, figsize = (8, 5))\n",
        "z.plot.bar(figsize = (8, 5))"
      ],
      "execution_count": 34,
      "outputs": [
        {
          "output_type": "execute_result",
          "data": {
            "text/plain": [
              "<matplotlib.axes._subplots.AxesSubplot at 0x7fa560d633c8>"
            ]
          },
          "metadata": {
            "tags": []
          },
          "execution_count": 34
        },
        {
          "output_type": "display_data",
          "data": {
            "image/png": "[encoded data removed]",
            "text/plain": [
              "<Figure size 576x360 with 1 Axes>"
            ]
          },
          "metadata": {
            "tags": [],
            "needs_background": "light"
          }
        },
        {
          "output_type": "display_data",
          "data": {
            "image/png": "[encoded data removed]",
            "text/plain": [
              "<Figure size 576x360 with 1 Axes>"
            ]
          },
          "metadata": {
            "tags": [],
            "needs_background": "light"
          }
        }
      ]
    },
    {
      "cell_type": "code",
      "metadata": {
        "id": "Ag7GLXbRs6Yk",
        "colab_type": "code",
        "outputId": "68f1d4a3-8bb6-42e1-e5c7-397f4428e4ca",
        "colab": {
          "base_uri": "https://localhost:8080/",
          "height": 366
        }
      },
      "source": [
        "z = news_clean.groupby(['news_paper', 'category'] )['category'].count().unstack('news_paper')\n",
        "z.plot.pie( subplots=True,figsize=(16, 8))"
      ],
      "execution_count": 35,
      "outputs": [
        {
          "output_type": "execute_result",
          "data": {
            "text/plain": [
              "array([<matplotlib.axes._subplots.AxesSubplot object at 0x7fa560c94160>,\n",
              "       <matplotlib.axes._subplots.AxesSubplot object at 0x7fa55fa280b8>,\n",
              "       <matplotlib.axes._subplots.AxesSubplot object at 0x7fa55f9de0b8>],\n",
              "      dtype=object)"
            ]
          },
          "metadata": {
            "tags": []
          },
          "execution_count": 35
        },
        {
          "output_type": "display_data",
          "data": {
            "image/png": "[encoded data removed]",
            "text/plain": [
              "<Figure size 1152x576 with 3 Axes>"
            ]
          },
          "metadata": {
            "tags": []
          }
        }
      ]
    },
    {
      "cell_type": "markdown",
      "metadata": {
        "id": "gVvOUnEsmVCg",
        "colab_type": "text"
      },
      "source": [
        "---\n",
        "\n",
        "**Construcción de nuevos atributos**\n",
        "\n",
        "Se genera el atributo *titleandbody* a partir de la concatenación de los atributos del dataset original *title* y *body*, ya que las cadenas que aparecen en dichos atributos son las que interesan en este trabajo.\n",
        "\n",
        "---"
      ]
    },
    {
      "cell_type": "code",
      "metadata": {
        "id": "AVFLgAWuBGQB",
        "colab_type": "code",
        "outputId": "70b5bee2-355c-4b28-9932-9b851d6fac65",
        "colab": {
          "base_uri": "https://localhost:8080/",
          "height": 127
        }
      },
      "source": [
        "news = news_clean[['news_paper','category','date']]\n",
        "news['titleandbody'] = news_clean['title'].str.cat(news_clean['body'], sep =' // ')"
      ],
      "execution_count": 36,
      "outputs": [
        {
          "output_type": "stream",
          "text": [
            "/usr/local/lib/python3.6/dist-packages/ipykernel_launcher.py:2: SettingWithCopyWarning: \n",
            "A value is trying to be set on a copy of a slice from a DataFrame.\n",
            "Try using .loc[row_indexer,col_indexer] = value instead\n",
            "\n",
            "See the caveats in the documentation: https://pandas.pydata.org/pandas-docs/stable/user_guide/indexing.html#returning-a-view-versus-a-copy\n",
            "  \n"
          ],
          "name": "stderr"
        }
      ]
    },
    {
      "cell_type": "markdown",
      "metadata": {
        "id": "CmGpId6qRgq0",
        "colab_type": "text"
      },
      "source": [
        "---\n",
        "\n",
        "**Exportación del dataset depurado**\n",
        "\n",
        "Se exporta el dataset depurado en formato CSV como \"TMnews.csv\"\n",
        "\n",
        "---"
      ]
    },
    {
      "cell_type": "code",
      "metadata": {
        "id": "wSzxIh1gwJw5",
        "colab_type": "code",
        "colab": {}
      },
      "source": [
        "TMnews = news.to_csv (r'/content/drive/My Drive/Colab Notebooks/GIBDnews/data/GIBDnews-abril.csv', index = None, header=True) \n"
      ],
      "execution_count": 0,
      "outputs": []
    }
  ]
}