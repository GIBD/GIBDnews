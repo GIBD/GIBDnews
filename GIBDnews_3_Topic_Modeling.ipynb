{
  "nbformat": 4,
  "nbformat_minor": 0,
  "metadata": {
    "colab": {
      "name": "GIBDnews_3_Topic_Modeling.ipynb",
      "provenance": [],
      "collapsed_sections": [],
      "toc_visible": true,
      "include_colab_link": true
    },
    "kernelspec": {
      "name": "python3",
      "display_name": "Python 3"
    }
  },
  "cells": [
    {
      "cell_type": "markdown",
      "metadata": {
        "id": "view-in-github",
        "colab_type": "text"
      },
      "source": [
        "<a href=\"https://colab.research.google.com/github/GIBD/GIBDnews/blob/master/GIBDnews_3_Topic_Modeling.ipynb\" target=\"_parent\"><img src=\"https://colab.research.google.com/assets/colab-badge.svg\" alt=\"Open In Colab\"/></a>"
      ]
    },
    {
      "cell_type": "markdown",
      "metadata": {
        "id": "IbRavvydZsut",
        "colab_type": "text"
      },
      "source": [
        "# **GIBDnews**\n",
        "**Aplicación de Técnicas de Minería de Textos a noticias** \n",
        "\n",
        "**Parte 3**\n"
      ]
    },
    {
      "cell_type": "markdown",
      "metadata": {
        "id": "_Nx4_4wzeMaN",
        "colab_type": "text"
      },
      "source": [
        "---\n",
        "\n",
        "# **Topic Modeling**\n",
        "---"
      ]
    },
    {
      "cell_type": "markdown",
      "metadata": {
        "id": "MShw6TdaZO8O",
        "colab_type": "text"
      },
      "source": [
        "**Carga de librerías**\n",
        "\n",
        "---"
      ]
    },
    {
      "cell_type": "code",
      "metadata": {
        "id": "mxDIFYxvZK2k",
        "colab_type": "code",
        "colab": {}
      },
      "source": [
        "import pandas as pd\n",
        "import numpy as np\n",
        "import re\n",
        "import nltk\n",
        "from nltk.stem import WordNetLemmatizer\n",
        "from nltk import word_tokenize\n",
        "from nltk.corpus import stopwords\n",
        "import string\n",
        "import matplotlib.pyplot as plt\n",
        "import gensim\n",
        "import numpy as np\n",
        "from gensim.models import CoherenceModel, LdaModel, LsiModel, HdpModel\n",
        "from gensim.models.wrappers import LdaMallet\n",
        "from gensim.models.phrases import Phrases, Phraser\n",
        "from gensim.corpora import Dictionary"
      ],
      "execution_count": 0,
      "outputs": []
    },
    {
      "cell_type": "markdown",
      "metadata": {
        "id": "fZEBs4HpZUS8",
        "colab_type": "text"
      },
      "source": [
        "---\n",
        "\n",
        "**Conexión a Google Drive para carga de datos**\n",
        "\n",
        "---"
      ]
    },
    {
      "cell_type": "code",
      "metadata": {
        "id": "MpxDQB7ILXK4",
        "colab_type": "code",
        "outputId": "e9fec535-9fd1-4896-814d-a496f13705df",
        "colab": {
          "base_uri": "https://localhost:8080/",
          "height": 129
        }
      },
      "source": [
        "from google.colab import drive\n",
        "drive.mount('/content/drive/')"
      ],
      "execution_count": 2,
      "outputs": [
        {
          "output_type": "stream",
          "text": [
            "Go to this URL in a browser: https://accounts.google.com/o/oauth2/auth?client_id=947318989803-6bn6qk8qdgf4n4g3pfee6491hc0brc4i.apps.googleusercontent.com&redirect_uri=urn%3aietf%3awg%3aoauth%3a2.0%3aoob&response_type=code&scope=email%20https%3a%2f%2fwww.googleapis.com%2fauth%2fdocs.test%20https%3a%2f%2fwww.googleapis.com%2fauth%2fdrive%20https%3a%2f%2fwww.googleapis.com%2fauth%2fdrive.photos.readonly%20https%3a%2f%2fwww.googleapis.com%2fauth%2fpeopleapi.readonly\n",
            "\n",
            "Enter your authorization code:\n",
            "··········\n",
            "Mounted at /content/drive/\n"
          ],
          "name": "stdout"
        }
      ]
    },
    {
      "cell_type": "markdown",
      "metadata": {
        "id": "uo7N_pk6LwxP",
        "colab_type": "text"
      },
      "source": [
        "---\n",
        "\n",
        "**Configuración de directorio de trabajo**\n",
        "\n",
        "---"
      ]
    },
    {
      "cell_type": "code",
      "metadata": {
        "id": "noe5K4LPLlgI",
        "colab_type": "code",
        "colab": {}
      },
      "source": [
        "import os\n",
        "os.chdir(\"/content/drive/My Drive/Colab Notebooks/GIBDnews/data\")"
      ],
      "execution_count": 0,
      "outputs": []
    },
    {
      "cell_type": "markdown",
      "metadata": {
        "id": "sJuj0teKMB9Z",
        "colab_type": "text"
      },
      "source": [
        "---\n",
        "\n",
        "**Importación de archivo de noticias (TMnews.csv)**\n",
        "\n",
        "---"
      ]
    },
    {
      "cell_type": "code",
      "metadata": {
        "id": "vVUHlkApMC60",
        "colab_type": "code",
        "outputId": "2428fe5f-428d-49cc-902b-2788a5fa673a",
        "colab": {
          "base_uri": "https://localhost:8080/",
          "height": 424
        }
      },
      "source": [
        "import pandas as pd \n",
        "df_news = pd.read_csv('GIBDnews-abril.csv')\n",
        "df_news"
      ],
      "execution_count": 4,
      "outputs": [
        {
          "output_type": "execute_result",
          "data": {
            "text/html": [
              "<div>\n",
              "<style scoped>\n",
              "    .dataframe tbody tr th:only-of-type {\n",
              "        vertical-align: middle;\n",
              "    }\n",
              "\n",
              "    .dataframe tbody tr th {\n",
              "        vertical-align: top;\n",
              "    }\n",
              "\n",
              "    .dataframe thead th {\n",
              "        text-align: right;\n",
              "    }\n",
              "</style>\n",
              "<table border=\"1\" class=\"dataframe\">\n",
              "  <thead>\n",
              "    <tr style=\"text-align: right;\">\n",
              "      <th></th>\n",
              "      <th>news_paper</th>\n",
              "      <th>category</th>\n",
              "      <th>date</th>\n",
              "      <th>titleandbody</th>\n",
              "    </tr>\n",
              "  </thead>\n",
              "  <tbody>\n",
              "    <tr>\n",
              "      <th>0</th>\n",
              "      <td>clarin</td>\n",
              "      <td>deportes</td>\n",
              "      <td>2020-04-11</td>\n",
              "      <td>El “Pablo Vico” de España: tiene 83 años y pas...</td>\n",
              "    </tr>\n",
              "    <tr>\n",
              "      <th>1</th>\n",
              "      <td>clarin</td>\n",
              "      <td>deportes</td>\n",
              "      <td>2020-04-11</td>\n",
              "      <td>Adelantan que en Barcelona se habrían pagado s...</td>\n",
              "    </tr>\n",
              "    <tr>\n",
              "      <th>2</th>\n",
              "      <td>clarin</td>\n",
              "      <td>deportes</td>\n",
              "      <td>2020-04-11</td>\n",
              "      <td>Jana Pittman, la campeona mundial que lucha en...</td>\n",
              "    </tr>\n",
              "    <tr>\n",
              "      <th>3</th>\n",
              "      <td>clarin</td>\n",
              "      <td>deportes</td>\n",
              "      <td>2020-04-11</td>\n",
              "      <td>Coronavirus: la OMS pidió que paren el fútbol ...</td>\n",
              "    </tr>\n",
              "    <tr>\n",
              "      <th>4</th>\n",
              "      <td>clarin</td>\n",
              "      <td>deportes</td>\n",
              "      <td>2020-04-11</td>\n",
              "      <td>El Araña Amuchástegui, el crack que rechazó un...</td>\n",
              "    </tr>\n",
              "    <tr>\n",
              "      <th>...</th>\n",
              "      <td>...</td>\n",
              "      <td>...</td>\n",
              "      <td>...</td>\n",
              "      <td>...</td>\n",
              "    </tr>\n",
              "    <tr>\n",
              "      <th>3126</th>\n",
              "      <td>lanacion</td>\n",
              "      <td>tecnologia</td>\n",
              "      <td>2020-04-22</td>\n",
              "      <td>Agenda Vida Digital // ILVEM.\\r\\n\\r\\n Brindará...</td>\n",
              "    </tr>\n",
              "    <tr>\n",
              "      <th>3127</th>\n",
              "      <td>lanacion</td>\n",
              "      <td>tecnologia</td>\n",
              "      <td>2020-04-22</td>\n",
              "      <td>El otoño de los museos // Siempre es una buena...</td>\n",
              "    </tr>\n",
              "    <tr>\n",
              "      <th>3128</th>\n",
              "      <td>lanacion</td>\n",
              "      <td>tecnologia</td>\n",
              "      <td>2020-04-22</td>\n",
              "      <td>Las nuevas tecnologías salen a dar batalla con...</td>\n",
              "    </tr>\n",
              "    <tr>\n",
              "      <th>3129</th>\n",
              "      <td>lanacion</td>\n",
              "      <td>tecnologia</td>\n",
              "      <td>2020-04-22</td>\n",
              "      <td>#LNteacompaña: fotos de Buenos Aires vacía par...</td>\n",
              "    </tr>\n",
              "    <tr>\n",
              "      <th>3130</th>\n",
              "      <td>lanacion</td>\n",
              "      <td>tecnologia</td>\n",
              "      <td>2020-04-22</td>\n",
              "      <td>Reglas de etiqueta para Zoom: 10 consejos para...</td>\n",
              "    </tr>\n",
              "  </tbody>\n",
              "</table>\n",
              "<p>3131 rows × 4 columns</p>\n",
              "</div>"
            ],
            "text/plain": [
              "     news_paper  ...                                       titleandbody\n",
              "0        clarin  ...  El “Pablo Vico” de España: tiene 83 años y pas...\n",
              "1        clarin  ...  Adelantan que en Barcelona se habrían pagado s...\n",
              "2        clarin  ...  Jana Pittman, la campeona mundial que lucha en...\n",
              "3        clarin  ...  Coronavirus: la OMS pidió que paren el fútbol ...\n",
              "4        clarin  ...  El Araña Amuchástegui, el crack que rechazó un...\n",
              "...         ...  ...                                                ...\n",
              "3126   lanacion  ...  Agenda Vida Digital // ILVEM.\\r\\n\\r\\n Brindará...\n",
              "3127   lanacion  ...  El otoño de los museos // Siempre es una buena...\n",
              "3128   lanacion  ...  Las nuevas tecnologías salen a dar batalla con...\n",
              "3129   lanacion  ...  #LNteacompaña: fotos de Buenos Aires vacía par...\n",
              "3130   lanacion  ...  Reglas de etiqueta para Zoom: 10 consejos para...\n",
              "\n",
              "[3131 rows x 4 columns]"
            ]
          },
          "metadata": {
            "tags": []
          },
          "execution_count": 4
        }
      ]
    },
    {
      "cell_type": "code",
      "metadata": {
        "id": "bs3cFheUf3yz",
        "colab_type": "code",
        "outputId": "5e519bf2-9bc7-4f6e-d6cb-7b1eddead079",
        "colab": {
          "base_uri": "https://localhost:8080/",
          "height": 219
        }
      },
      "source": [
        "df_news.info()"
      ],
      "execution_count": 5,
      "outputs": [
        {
          "output_type": "stream",
          "text": [
            "<class 'pandas.core.frame.DataFrame'>\n",
            "RangeIndex: 3131 entries, 0 to 3130\n",
            "Data columns (total 4 columns):\n",
            " #   Column        Non-Null Count  Dtype \n",
            "---  ------        --------------  ----- \n",
            " 0   news_paper    3131 non-null   object\n",
            " 1   category      3131 non-null   object\n",
            " 2   date          3131 non-null   object\n",
            " 3   titleandbody  3131 non-null   object\n",
            "dtypes: object(4)\n",
            "memory usage: 98.0+ KB\n"
          ],
          "name": "stdout"
        }
      ]
    },
    {
      "cell_type": "markdown",
      "metadata": {
        "id": "soVLCTEAZjxz",
        "colab_type": "text"
      },
      "source": [
        "---\n",
        "\n",
        "**Preprocesamiento de Datos**\n",
        "\n",
        "Se define la función *cleaner* para limpiar texto en español, eliminar caracteres no alfanuméricos, duplicados y dígitos.\n",
        "\n",
        "---"
      ]
    },
    {
      "cell_type": "code",
      "metadata": {
        "id": "OBWvX2o3ZGv9",
        "colab_type": "code",
        "colab": {}
      },
      "source": [
        "def cleaner(word):\n",
        "  word = re.sub(r'((http|https)\\:\\/\\/)?[a-zA-Z0-9\\.\\/\\?\\:@\\-_=#]+\\.([a-zA-Z]){2,6}([a-zA-Z0-9\\.\\&\\/\\?\\:@\\-_=#])*', '', word, flags=re.MULTILINE)\n",
        "  word = re.sub(r'(?::|;|=)(?:-)?(?:\\)|\\(|D|P)', \"\", word)\n",
        "  word = re.sub(r'\\#\\.', '', word)\n",
        "  word = re.sub(r'\\n', '', word)\n",
        "  word = re.sub(r',', '', word)\n",
        "  word = re.sub(r'\\-', ' ', word)\n",
        "  word = re.sub(r'\\.{3}', ' ', word)\n",
        "  word = re.sub(r'a{2,}', 'a', word)\n",
        "  word = re.sub(r'é{2,}', 'é', word)\n",
        "  word = re.sub(r'i{2,}', 'i', word) \n",
        "  word = re.sub(r'á', 'a', word)\n",
        "  word = re.sub(r'é', 'e', word)\n",
        "  word = re.sub(r'í', 'i', word)\n",
        "  word = re.sub(r'ó', 'o', word)\n",
        "  word = re.sub(r'ú', 'u', word)  \n",
        "  word = re.sub('[^a-zA-Z]', ' ', word)\n",
        "  list_word_clean = []\n",
        "  # Se tokeniza el texto y eliminan stop words\n",
        "  for w1 in word.split(\" \"):\n",
        "    if  w1.lower() not in stopwords:\n",
        "      list_word_clean.append(w1.lower())\n",
        "  # Se identifican bigramas de caracteres\n",
        "  bigram_list = bigram[list_word_clean]\n",
        "  # Se aplica lematización\n",
        "  out_text = lemmatization(\" \".join(bigram_list))\n",
        "  return out_text"
      ],
      "execution_count": 0,
      "outputs": []
    },
    {
      "cell_type": "markdown",
      "metadata": {
        "id": "wW6ruTjcZ56z",
        "colab_type": "text"
      },
      "source": [
        "---\n",
        "\n",
        "Se define la función para seleccionar solo sustantivos, eliminando adverbios, adjetivos, verbos, entre otros, mediante *spacy*\n",
        "\n",
        "---"
      ]
    },
    {
      "cell_type": "code",
      "metadata": {
        "id": "2eGT1yQ2Z6sk",
        "colab_type": "code",
        "colab": {}
      },
      "source": [
        "def lemmatization(texts, allowed_postags=['NOUN']):\n",
        "    texts_out = [ token.text for token in nlp(texts) if token.pos_ in \n",
        "                 allowed_postags and token.text not in stopwords and len(token.text)>2]\n",
        "    return texts_out"
      ],
      "execution_count": 0,
      "outputs": []
    },
    {
      "cell_type": "markdown",
      "metadata": {
        "id": "GvkUuAPfZ88D",
        "colab_type": "text"
      },
      "source": [
        "---\n",
        "\n",
        "Para emplear *gensim* se requiere una lista de texto. Se prueba la función de conversión .tolist() y se verifica que coincida el resultado con la cantidad de noticias originales.\n",
        "\n",
        "---"
      ]
    },
    {
      "cell_type": "code",
      "metadata": {
        "id": "lNA6ssIdZ_wD",
        "colab_type": "code",
        "outputId": "7d353416-b6dc-41dd-a065-56cd2fce8591",
        "colab": {
          "base_uri": "https://localhost:8080/",
          "height": 35
        }
      },
      "source": [
        "len(df_news.titleandbody.tolist())"
      ],
      "execution_count": 8,
      "outputs": [
        {
          "output_type": "execute_result",
          "data": {
            "text/plain": [
              "3131"
            ]
          },
          "metadata": {
            "tags": []
          },
          "execution_count": 8
        }
      ]
    },
    {
      "cell_type": "markdown",
      "metadata": {
        "id": "P5Uc0V-baBw-",
        "colab_type": "text"
      },
      "source": [
        "---\n",
        "\n",
        "Se entrena el modelo \"Phrases\" de gensim con el texto de las noticias y se lo almacena en la variable bigram para que luego sea utilizado en la función cleaner().\n",
        "El modelo \"Phrases\" identifica bigramas: pares de palabras que juntas tienen más significado.\n",
        "\n",
        "---\n"
      ]
    },
    {
      "cell_type": "code",
      "metadata": {
        "id": "R_znHAPAaDhr",
        "colab_type": "code",
        "outputId": "b5b921b3-04e7-40ad-ff40-374cf7096398",
        "colab": {
          "base_uri": "https://localhost:8080/",
          "height": 54
        }
      },
      "source": [
        "%%time\n",
        "bigram = gensim.models.Phrases(df_news.titleandbody.tolist())\n",
        "#print(list(df_news.titleandbody.str.split(\" \")))"
      ],
      "execution_count": 9,
      "outputs": [
        {
          "output_type": "stream",
          "text": [
            "CPU times: user 17.1 s, sys: 0 ns, total: 17.1 s\n",
            "Wall time: 17.1 s\n"
          ],
          "name": "stdout"
        }
      ]
    },
    {
      "cell_type": "markdown",
      "metadata": {
        "id": "8pNv3IryaFk0",
        "colab_type": "text"
      },
      "source": [
        "---\n",
        "\n",
        "Se prueba el modelo entrenado con una noticia.\n",
        "\n",
        "---\n"
      ]
    },
    {
      "cell_type": "code",
      "metadata": {
        "id": "e0Q45LvAaH8s",
        "colab_type": "code",
        "outputId": "48afb247-d78d-430b-be68-ac8e9429826b",
        "colab": {
          "base_uri": "https://localhost:8080/",
          "height": 1000
        }
      },
      "source": [
        "bigram[df_news.titleandbody.tolist()[10].split()]"
      ],
      "execution_count": 10,
      "outputs": [
        {
          "output_type": "stream",
          "text": [
            "/usr/local/lib/python3.6/dist-packages/gensim/models/phrases.py:598: UserWarning: For a faster implementation, use the gensim.models.phrases.Phraser class\n",
            "  warnings.warn(\"For a faster implementation, use the gensim.models.phrases.Phraser class\")\n"
          ],
          "name": "stderr"
        },
        {
          "output_type": "execute_result",
          "data": {
            "text/plain": [
              "['Daniele',\n",
              " 'De',\n",
              " 'Rossi:',\n",
              " 'de',\n",
              " 'los',\n",
              " 'elogios',\n",
              " 'para',\n",
              " 'Gallardo,',\n",
              " 'Heinze',\n",
              " 'y',\n",
              " 'Crespo',\n",
              " 'a',\n",
              " 'la',\n",
              " 'crítica',\n",
              " 'al',\n",
              " 'fútbol',\n",
              " 'argentino',\n",
              " '//',\n",
              " 'Daniele',\n",
              " 'De',\n",
              " 'Rossi',\n",
              " 'colgó',\n",
              " 'los',\n",
              " 'botines,',\n",
              " 'pero',\n",
              " 'no',\n",
              " 'se',\n",
              " 'alejó',\n",
              " 'del',\n",
              " 'mundo',\n",
              " 'fútbol.',\n",
              " 'En',\n",
              " 'medio',\n",
              " 'de',\n",
              " 'la',\n",
              " 'cuarentena',\n",
              " 'en',\n",
              " 'Roma,',\n",
              " 'el',\n",
              " 'Tano',\n",
              " 'habló',\n",
              " 'sobre',\n",
              " 'diferentes',\n",
              " 'temas.',\n",
              " 'Más',\n",
              " 'allá',\n",
              " 'de',\n",
              " 'que',\n",
              " 'recordó',\n",
              " 'su',\n",
              " 'paso',\n",
              " 'por',\n",
              " 'Boca',\n",
              " 'y',\n",
              " 'de',\n",
              " 'que',\n",
              " 'ratificó',\n",
              " 'sus',\n",
              " 'ganas',\n",
              " 'de',\n",
              " 'convertirse',\n",
              " 'en',\n",
              " 'entrenador,',\n",
              " 'el',\n",
              " 'italiano',\n",
              " 'analizó',\n",
              " 'cómo',\n",
              " 'es',\n",
              " 'jugar',\n",
              " 'es',\n",
              " 'nuestro',\n",
              " 'país,',\n",
              " 'criticó',\n",
              " 'al',\n",
              " 'fútbol',\n",
              " 'argentino',\n",
              " 'y',\n",
              " 'sorprendió',\n",
              " 'a',\n",
              " 'la',\n",
              " 'hora',\n",
              " 'de',\n",
              " 'poner',\n",
              " 'como',\n",
              " 'ejemplo',\n",
              " 'a',\n",
              " 'Marcelo',\n",
              " 'Gallardo<U+200B>.<U+200B>',\n",
              " '\"En',\n",
              " 'Argentina',\n",
              " 'la',\n",
              " 'experiencia',\n",
              " 'fue',\n",
              " 'maravillosa',\n",
              " 'y',\n",
              " 'aprendí',\n",
              " 'mucho',\n",
              " 'desde',\n",
              " 'un',\n",
              " 'punto',\n",
              " 'de',\n",
              " 'vista',\n",
              " 'humano.',\n",
              " 'Pero',\n",
              " 'me',\n",
              " 'di',\n",
              " 'cuenta',\n",
              " 'de',\n",
              " 'que',\n",
              " 'todo',\n",
              " 'el',\n",
              " 'talento',\n",
              " 'que',\n",
              " 'hay,',\n",
              " 'sin',\n",
              " 'organización,',\n",
              " 'se',\n",
              " 'desperdicia',\n",
              " 'un',\n",
              " 'poco.',\n",
              " 'Tenés',\n",
              " 'que',\n",
              " 'poner',\n",
              " 'todas',\n",
              " 'las',\n",
              " 'armas',\n",
              " 'a',\n",
              " 'disposición',\n",
              " 'de',\n",
              " 'los',\n",
              " 'jugadores',\n",
              " 'talentosos',\n",
              " 'y',\n",
              " 'organizarlos',\n",
              " 'para',\n",
              " 'que',\n",
              " 'en',\n",
              " 'el',\n",
              " 'medio',\n",
              " 'puedan',\n",
              " 'jugar',\n",
              " 'junto',\n",
              " 'a',\n",
              " 'los',\n",
              " 'rudos.',\n",
              " 'De',\n",
              " 'lo',\n",
              " 'contrario,',\n",
              " 'se',\n",
              " 'convierte',\n",
              " 'en',\n",
              " 'una',\n",
              " 'confusión.',\n",
              " 'De',\n",
              " 'todas',\n",
              " 'maneras,',\n",
              " 'es',\n",
              " 'muy',\n",
              " 'hermoso',\n",
              " 'de',\n",
              " 'ver\",',\n",
              " 'arrancó.',\n",
              " 'En',\n",
              " 'medio',\n",
              " 'de',\n",
              " 'las',\n",
              " 'críticas,',\n",
              " 'De',\n",
              " 'Rossi',\n",
              " 'elogió',\n",
              " 'al',\n",
              " 'entrenador',\n",
              " 'de',\n",
              " 'River,',\n",
              " 'a',\n",
              " 'quien',\n",
              " 'puso',\n",
              " 'como',\n",
              " 'ejemplo',\n",
              " 'de',\n",
              " 'una',\n",
              " 'buena',\n",
              " 'gestión',\n",
              " 'que',\n",
              " 'debería',\n",
              " 'ser',\n",
              " 'copiada',\n",
              " 'por',\n",
              " 'otros',\n",
              " 'clubes',\n",
              " 'en',\n",
              " 'Argentina.',\n",
              " '\"Por',\n",
              " 'desgracia,',\n",
              " 'hay',\n",
              " 'alguien',\n",
              " 'que',\n",
              " 'logró',\n",
              " 'esto:',\n",
              " 'Marcelo',\n",
              " 'Gallardo.',\n",
              " 'Lo',\n",
              " 'ha',\n",
              " 'intentado',\n",
              " 'durante',\n",
              " 'muchos',\n",
              " 'años,',\n",
              " 'tuvo',\n",
              " 'la',\n",
              " 'suerte',\n",
              " 'de',\n",
              " 'entrenar',\n",
              " 'al',\n",
              " 'mismo',\n",
              " 'equipo',\n",
              " 'durante',\n",
              " 'muchos',\n",
              " 'años',\n",
              " 'y',\n",
              " 'ha',\n",
              " 'tenido',\n",
              " 'éxito.',\n",
              " 'Tiene',\n",
              " 'jugadores',\n",
              " 'muy',\n",
              " 'fuertes,',\n",
              " 'cada',\n",
              " 'vez',\n",
              " 'que',\n",
              " 'pierde',\n",
              " 'uno',\n",
              " 'agrega',\n",
              " 'a',\n",
              " 'otro',\n",
              " 'y',\n",
              " 'logró',\n",
              " 'crear',\n",
              " 'lo',\n",
              " 'que',\n",
              " 'vemos',\n",
              " 'hoy.',\n",
              " 'Si',\n",
              " 'Argentina',\n",
              " 'lograra',\n",
              " 'tener',\n",
              " 'ese',\n",
              " 'éxito',\n",
              " 'a',\n",
              " 'nivel',\n",
              " 'nacional,',\n",
              " 'podría',\n",
              " 'cambiar',\n",
              " 'el',\n",
              " 'destino',\n",
              " 'del',\n",
              " 'fútbol',\n",
              " 'mundial.',\n",
              " 'A',\n",
              " 'pesar',\n",
              " 'de',\n",
              " 'tener',\n",
              " 'el',\n",
              " 'talento',\n",
              " 'de',\n",
              " 'Brasil,',\n",
              " 'son',\n",
              " 'únicos\",',\n",
              " 'analizó.',\n",
              " 'Además,',\n",
              " 'también',\n",
              " 'le',\n",
              " 'tiró',\n",
              " 'flores',\n",
              " 'a',\n",
              " 'Gabriel',\n",
              " 'Heinze<U+200B>,',\n",
              " 'su',\n",
              " 'ex',\n",
              " 'compañero',\n",
              " 'en',\n",
              " 'la',\n",
              " 'Roma.',\n",
              " '“Me',\n",
              " 'dijeron',\n",
              " 'que',\n",
              " 'era',\n",
              " 'interesante',\n",
              " 'el',\n",
              " 'trabajo',\n",
              " 'de',\n",
              " 'él',\n",
              " 'y',\n",
              " 'al',\n",
              " 'jugar',\n",
              " 'en',\n",
              " 'Argentina',\n",
              " 'y',\n",
              " 'ver',\n",
              " 'los',\n",
              " 'partidos',\n",
              " 'me',\n",
              " 'di',\n",
              " 'cuenta',\n",
              " 'de',\n",
              " 'que',\n",
              " 'es',\n",
              " 'realmente',\n",
              " 'bueno.',\n",
              " 'Ahora',\n",
              " 'se',\n",
              " 'ha',\n",
              " 'ido',\n",
              " 'de',\n",
              " 'Vélez,',\n",
              " 'pero',\n",
              " 'lo',\n",
              " 'conocen',\n",
              " 'bien',\n",
              " 'en',\n",
              " 'Europa.',\n",
              " 'Hay',\n",
              " 'entrenadores',\n",
              " 'jóvenes',\n",
              " 'que',\n",
              " 'lo',\n",
              " 'están',\n",
              " 'haciendo',\n",
              " 'bien,',\n",
              " 'como',\n",
              " 'Crespo<U+200B>,',\n",
              " 'que',\n",
              " 'nos',\n",
              " 'complicó',\n",
              " 'con',\n",
              " 'Banfield\",',\n",
              " 'remarcó',\n",
              " 'en',\n",
              " 'declaraciones',\n",
              " 'a',\n",
              " 'Sky',\n",
              " 'Sports.',\n",
              " 'De',\n",
              " 'Rossi',\n",
              " 'y',\n",
              " 'Heinze',\n",
              " 'en',\n",
              " 'su',\n",
              " 'paso',\n",
              " 'por',\n",
              " 'la',\n",
              " 'Roma.',\n",
              " 'AP',\n",
              " 'Si',\n",
              " 'bien',\n",
              " 'le',\n",
              " 'tocó',\n",
              " 'jugar',\n",
              " 'poco',\n",
              " 'en',\n",
              " 'Boca',\n",
              " '(estuvo',\n",
              " '168',\n",
              " 'días),',\n",
              " 'Daniele',\n",
              " 'se',\n",
              " 'dio',\n",
              " 'el',\n",
              " 'gusto',\n",
              " 'de',\n",
              " 'gritar',\n",
              " 'un',\n",
              " 'gol',\n",
              " 'con',\n",
              " 'la',\n",
              " 'camiseta',\n",
              " 'azul',\n",
              " 'y',\n",
              " 'oro',\n",
              " 'y',\n",
              " 'podría',\n",
              " 'decirse',\n",
              " 'que',\n",
              " 'se',\n",
              " 'retiró',\n",
              " 'campeón',\n",
              " 'porque',\n",
              " 'fue',\n",
              " 'parte',\n",
              " 'del',\n",
              " 'plantel',\n",
              " 'que',\n",
              " 'luego',\n",
              " 'se',\n",
              " 'consagró',\n",
              " 'con',\n",
              " 'Russo.',\n",
              " 'Por',\n",
              " 'eso,',\n",
              " 'una',\n",
              " 'vez',\n",
              " 'más,',\n",
              " 'reafirmó',\n",
              " 'su',\n",
              " 'amor',\n",
              " 'eterno',\n",
              " 'por',\n",
              " 'el',\n",
              " 'club:',\n",
              " '\"A',\n",
              " 'Boca',\n",
              " 'lo',\n",
              " 'elegí',\n",
              " 'de',\n",
              " 'niño,',\n",
              " 'viendo',\n",
              " 'videos',\n",
              " 'que',\n",
              " 'me',\n",
              " 'entusiasmaban,',\n",
              " 'viendo',\n",
              " 'a',\n",
              " 'Maradona,',\n",
              " 'que',\n",
              " 'era',\n",
              " 'uno',\n",
              " 'de',\n",
              " 'mis',\n",
              " 'ídolos',\n",
              " 'aunque',\n",
              " 'nunca',\n",
              " 'jugó',\n",
              " 'para',\n",
              " 'Roma.',\n",
              " 'Sin',\n",
              " 'dudas,',\n",
              " 'sus',\n",
              " 'fanáticos',\n",
              " 'tienen',\n",
              " 'algo',\n",
              " 'diferente',\n",
              " 'a',\n",
              " 'los',\n",
              " 'demás\".',\n",
              " 'Por',\n",
              " 'último,',\n",
              " 'De',\n",
              " 'Rossi',\n",
              " 'miró',\n",
              " 'hacia',\n",
              " 'adelante',\n",
              " 'y',\n",
              " 'demostró',\n",
              " 'sus',\n",
              " 'ganas',\n",
              " 'de',\n",
              " 'ser',\n",
              " 'técnico',\n",
              " 'y',\n",
              " 'de',\n",
              " 'sentarse',\n",
              " 'en',\n",
              " 'el',\n",
              " 'banco',\n",
              " 'de',\n",
              " 'la',\n",
              " 'Roma:',\n",
              " '\"Comenzaré',\n",
              " 'este',\n",
              " 'camino',\n",
              " 'no',\n",
              " 'solo',\n",
              " 'porque',\n",
              " 'me',\n",
              " 'gustaría',\n",
              " 'ser',\n",
              " 'entrenador',\n",
              " 'sino',\n",
              " 'porque',\n",
              " 'creo',\n",
              " 'que',\n",
              " 'puedo',\n",
              " 'hacerlo.',\n",
              " 'Siempre',\n",
              " 'he',\n",
              " 'sido',\n",
              " 'reconocido',\n",
              " 'como',\n",
              " 'un',\n",
              " 'líder.',\n",
              " 'El',\n",
              " 'entrenador',\n",
              " 'debe',\n",
              " 'tomar',\n",
              " 'decisiones,',\n",
              " 'poner',\n",
              " 'un',\n",
              " 'equipo',\n",
              " 'en',\n",
              " 'la',\n",
              " 'cancha,',\n",
              " 'elegir',\n",
              " 'a',\n",
              " 'los',\n",
              " 'jugadores',\n",
              " 'y',\n",
              " 'sufrir',\n",
              " 'las',\n",
              " 'presiones',\n",
              " 'que',\n",
              " 'siempre',\n",
              " 'llevo',\n",
              " 'en',\n",
              " 'mi',\n",
              " 'espalda.',\n",
              " 'Ahora',\n",
              " 'estaría',\n",
              " 'solo',\n",
              " 'contra',\n",
              " 'todos.',\n",
              " 'Cuando',\n",
              " 'perdés',\n",
              " 'estás',\n",
              " 'solo',\n",
              " 'y',\n",
              " 'cuando',\n",
              " 'ganás',\n",
              " 'los',\n",
              " 'jugadores',\n",
              " 'son',\n",
              " 'buenos:',\n",
              " 'es',\n",
              " 'algo',\n",
              " 'que',\n",
              " 'siempre',\n",
              " 'sentí',\n",
              " 'cuando',\n",
              " 'jugaba\".',\n",
              " 'COMENTARIOS',\n",
              " 'COMENTARIOS',\n",
              " 'CERRADOS',\n",
              " 'POR',\n",
              " 'PROBLEMAS',\n",
              " 'TÉCNICOS.',\n",
              " 'ESTAMOS',\n",
              " 'TRABAJANDO',\n",
              " 'PARA',\n",
              " 'REACTIVARLOS',\n",
              " 'EN',\n",
              " 'BREVE.',\n",
              " 'Comentarios',\n",
              " 'CARGANDO',\n",
              " 'COMENTARIOS',\n",
              " 'Para',\n",
              " 'comentar',\n",
              " 'debés',\n",
              " 'activar',\n",
              " 'tu',\n",
              " 'cuenta',\n",
              " 'haciendo',\n",
              " 'clic',\n",
              " 'en',\n",
              " 'el',\n",
              " 'e-mail',\n",
              " 'que',\n",
              " 'te',\n",
              " 'enviamos',\n",
              " 'a',\n",
              " 'la',\n",
              " 'casilla',\n",
              " '¿No',\n",
              " 'encontraste',\n",
              " 'el',\n",
              " 'e-mail?',\n",
              " 'Hace',\n",
              " 'clic',\n",
              " 'acá',\n",
              " 'y',\n",
              " 'te',\n",
              " 'lo',\n",
              " 'volvemos',\n",
              " 'a',\n",
              " 'enviar.',\n",
              " 'Para',\n",
              " 'comentar',\n",
              " 'nuestras',\n",
              " 'notas',\n",
              " 'por',\n",
              " 'favor',\n",
              " 'completá',\n",
              " 'los',\n",
              " 'siguientes',\n",
              " 'datos.']"
            ]
          },
          "metadata": {
            "tags": []
          },
          "execution_count": 10
        }
      ]
    },
    {
      "cell_type": "markdown",
      "metadata": {
        "id": "o6qFnrqGeyiY",
        "colab_type": "text"
      },
      "source": [
        "---\n",
        "\n",
        "Se importa la librería NLTK y se descargan *stopwords* y el tokenizador *punkt*. Se configura el uso de *stopwords* en español. Se deja comentado para futuras prueba la posibilidad de configurar una *black_list* con palabras que explícitamente se quieren eliminar.\n",
        "\n",
        "---"
      ]
    },
    {
      "cell_type": "code",
      "metadata": {
        "id": "F17Ob6MNaSdP",
        "colab_type": "code",
        "outputId": "e20a7cb9-013f-460e-b8c4-c0076520029f",
        "colab": {
          "base_uri": "https://localhost:8080/",
          "height": 109
        }
      },
      "source": [
        "import nltk\n",
        "nltk.download('stopwords')\n",
        "nltk.download('punkt')"
      ],
      "execution_count": 11,
      "outputs": [
        {
          "output_type": "stream",
          "text": [
            "[nltk_data] Downloading package stopwords to /root/nltk_data...\n",
            "[nltk_data]   Unzipping corpora/stopwords.zip.\n",
            "[nltk_data] Downloading package punkt to /root/nltk_data...\n",
            "[nltk_data]   Unzipping tokenizers/punkt.zip.\n"
          ],
          "name": "stdout"
        },
        {
          "output_type": "execute_result",
          "data": {
            "text/plain": [
              "True"
            ]
          },
          "metadata": {
            "tags": []
          },
          "execution_count": 11
        }
      ]
    },
    {
      "cell_type": "code",
      "metadata": {
        "id": "abhaODiHaS8k",
        "colab_type": "code",
        "colab": {}
      },
      "source": [
        "from nltk import word_tokenize\n",
        "from nltk.corpus import stopwords\n",
        "stopwords = set(stopwords.words('spanish'))\n",
        "\n",
        "black_list = ['coronavirus','persona','personas','casos','millones','virus','datos']\n",
        "\n",
        "additional_stopwords=set(black_list)\n",
        "stopwords = stopwords.union(additional_stopwords)\n"
      ],
      "execution_count": 0,
      "outputs": []
    },
    {
      "cell_type": "code",
      "metadata": {
        "id": "36mox8J2lmBa",
        "colab_type": "code",
        "outputId": "204c0b9a-c655-49d5-b028-00c4e2c00f39",
        "colab": {
          "base_uri": "https://localhost:8080/",
          "height": 1000
        }
      },
      "source": [
        "stopwords"
      ],
      "execution_count": 0,
      "outputs": [
        {
          "output_type": "execute_result",
          "data": {
            "text/plain": [
              "{'a',\n",
              " 'al',\n",
              " 'algo',\n",
              " 'algunas',\n",
              " 'algunos',\n",
              " 'ante',\n",
              " 'antes',\n",
              " 'casos',\n",
              " 'como',\n",
              " 'con',\n",
              " 'contra',\n",
              " 'coronavirus',\n",
              " 'cual',\n",
              " 'cuando',\n",
              " 'de',\n",
              " 'del',\n",
              " 'desde',\n",
              " 'donde',\n",
              " 'durante',\n",
              " 'e',\n",
              " 'el',\n",
              " 'ella',\n",
              " 'ellas',\n",
              " 'ellos',\n",
              " 'en',\n",
              " 'entre',\n",
              " 'era',\n",
              " 'erais',\n",
              " 'eran',\n",
              " 'eras',\n",
              " 'eres',\n",
              " 'es',\n",
              " 'esa',\n",
              " 'esas',\n",
              " 'ese',\n",
              " 'eso',\n",
              " 'esos',\n",
              " 'esta',\n",
              " 'estaba',\n",
              " 'estabais',\n",
              " 'estaban',\n",
              " 'estabas',\n",
              " 'estad',\n",
              " 'estada',\n",
              " 'estadas',\n",
              " 'estado',\n",
              " 'estados',\n",
              " 'estamos',\n",
              " 'estando',\n",
              " 'estar',\n",
              " 'estaremos',\n",
              " 'estará',\n",
              " 'estarán',\n",
              " 'estarás',\n",
              " 'estaré',\n",
              " 'estaréis',\n",
              " 'estaría',\n",
              " 'estaríais',\n",
              " 'estaríamos',\n",
              " 'estarían',\n",
              " 'estarías',\n",
              " 'estas',\n",
              " 'este',\n",
              " 'estemos',\n",
              " 'esto',\n",
              " 'estos',\n",
              " 'estoy',\n",
              " 'estuve',\n",
              " 'estuviera',\n",
              " 'estuvierais',\n",
              " 'estuvieran',\n",
              " 'estuvieras',\n",
              " 'estuvieron',\n",
              " 'estuviese',\n",
              " 'estuvieseis',\n",
              " 'estuviesen',\n",
              " 'estuvieses',\n",
              " 'estuvimos',\n",
              " 'estuviste',\n",
              " 'estuvisteis',\n",
              " 'estuviéramos',\n",
              " 'estuviésemos',\n",
              " 'estuvo',\n",
              " 'está',\n",
              " 'estábamos',\n",
              " 'estáis',\n",
              " 'están',\n",
              " 'estás',\n",
              " 'esté',\n",
              " 'estéis',\n",
              " 'estén',\n",
              " 'estés',\n",
              " 'fue',\n",
              " 'fuera',\n",
              " 'fuerais',\n",
              " 'fueran',\n",
              " 'fueras',\n",
              " 'fueron',\n",
              " 'fuese',\n",
              " 'fueseis',\n",
              " 'fuesen',\n",
              " 'fueses',\n",
              " 'fui',\n",
              " 'fuimos',\n",
              " 'fuiste',\n",
              " 'fuisteis',\n",
              " 'fuéramos',\n",
              " 'fuésemos',\n",
              " 'ha',\n",
              " 'habida',\n",
              " 'habidas',\n",
              " 'habido',\n",
              " 'habidos',\n",
              " 'habiendo',\n",
              " 'habremos',\n",
              " 'habrá',\n",
              " 'habrán',\n",
              " 'habrás',\n",
              " 'habré',\n",
              " 'habréis',\n",
              " 'habría',\n",
              " 'habríais',\n",
              " 'habríamos',\n",
              " 'habrían',\n",
              " 'habrías',\n",
              " 'habéis',\n",
              " 'había',\n",
              " 'habíais',\n",
              " 'habíamos',\n",
              " 'habían',\n",
              " 'habías',\n",
              " 'han',\n",
              " 'has',\n",
              " 'hasta',\n",
              " 'hay',\n",
              " 'haya',\n",
              " 'hayamos',\n",
              " 'hayan',\n",
              " 'hayas',\n",
              " 'hayáis',\n",
              " 'he',\n",
              " 'hemos',\n",
              " 'hube',\n",
              " 'hubiera',\n",
              " 'hubierais',\n",
              " 'hubieran',\n",
              " 'hubieras',\n",
              " 'hubieron',\n",
              " 'hubiese',\n",
              " 'hubieseis',\n",
              " 'hubiesen',\n",
              " 'hubieses',\n",
              " 'hubimos',\n",
              " 'hubiste',\n",
              " 'hubisteis',\n",
              " 'hubiéramos',\n",
              " 'hubiésemos',\n",
              " 'hubo',\n",
              " 'la',\n",
              " 'las',\n",
              " 'le',\n",
              " 'les',\n",
              " 'lo',\n",
              " 'los',\n",
              " 'me',\n",
              " 'mi',\n",
              " 'mis',\n",
              " 'mucho',\n",
              " 'muchos',\n",
              " 'muy',\n",
              " 'más',\n",
              " 'mí',\n",
              " 'mía',\n",
              " 'mías',\n",
              " 'mío',\n",
              " 'míos',\n",
              " 'nada',\n",
              " 'ni',\n",
              " 'no',\n",
              " 'nos',\n",
              " 'nosotras',\n",
              " 'nosotros',\n",
              " 'nuestra',\n",
              " 'nuestras',\n",
              " 'nuestro',\n",
              " 'nuestros',\n",
              " 'o',\n",
              " 'os',\n",
              " 'otra',\n",
              " 'otras',\n",
              " 'otro',\n",
              " 'otros',\n",
              " 'para',\n",
              " 'pero',\n",
              " 'persona',\n",
              " 'personas',\n",
              " 'poco',\n",
              " 'por',\n",
              " 'porque',\n",
              " 'que',\n",
              " 'quien',\n",
              " 'quienes',\n",
              " 'qué',\n",
              " 'se',\n",
              " 'sea',\n",
              " 'seamos',\n",
              " 'sean',\n",
              " 'seas',\n",
              " 'sentid',\n",
              " 'sentida',\n",
              " 'sentidas',\n",
              " 'sentido',\n",
              " 'sentidos',\n",
              " 'seremos',\n",
              " 'será',\n",
              " 'serán',\n",
              " 'serás',\n",
              " 'seré',\n",
              " 'seréis',\n",
              " 'sería',\n",
              " 'seríais',\n",
              " 'seríamos',\n",
              " 'serían',\n",
              " 'serías',\n",
              " 'seáis',\n",
              " 'siente',\n",
              " 'sin',\n",
              " 'sintiendo',\n",
              " 'sobre',\n",
              " 'sois',\n",
              " 'somos',\n",
              " 'son',\n",
              " 'soy',\n",
              " 'su',\n",
              " 'sus',\n",
              " 'suya',\n",
              " 'suyas',\n",
              " 'suyo',\n",
              " 'suyos',\n",
              " 'sí',\n",
              " 'también',\n",
              " 'tanto',\n",
              " 'te',\n",
              " 'tendremos',\n",
              " 'tendrá',\n",
              " 'tendrán',\n",
              " 'tendrás',\n",
              " 'tendré',\n",
              " 'tendréis',\n",
              " 'tendría',\n",
              " 'tendríais',\n",
              " 'tendríamos',\n",
              " 'tendrían',\n",
              " 'tendrías',\n",
              " 'tened',\n",
              " 'tenemos',\n",
              " 'tenga',\n",
              " 'tengamos',\n",
              " 'tengan',\n",
              " 'tengas',\n",
              " 'tengo',\n",
              " 'tengáis',\n",
              " 'tenida',\n",
              " 'tenidas',\n",
              " 'tenido',\n",
              " 'tenidos',\n",
              " 'teniendo',\n",
              " 'tenéis',\n",
              " 'tenía',\n",
              " 'teníais',\n",
              " 'teníamos',\n",
              " 'tenían',\n",
              " 'tenías',\n",
              " 'ti',\n",
              " 'tiene',\n",
              " 'tienen',\n",
              " 'tienes',\n",
              " 'todo',\n",
              " 'todos',\n",
              " 'tu',\n",
              " 'tus',\n",
              " 'tuve',\n",
              " 'tuviera',\n",
              " 'tuvierais',\n",
              " 'tuvieran',\n",
              " 'tuvieras',\n",
              " 'tuvieron',\n",
              " 'tuviese',\n",
              " 'tuvieseis',\n",
              " 'tuviesen',\n",
              " 'tuvieses',\n",
              " 'tuvimos',\n",
              " 'tuviste',\n",
              " 'tuvisteis',\n",
              " 'tuviéramos',\n",
              " 'tuviésemos',\n",
              " 'tuvo',\n",
              " 'tuya',\n",
              " 'tuyas',\n",
              " 'tuyo',\n",
              " 'tuyos',\n",
              " 'tú',\n",
              " 'un',\n",
              " 'una',\n",
              " 'uno',\n",
              " 'unos',\n",
              " 'vosotras',\n",
              " 'vosotros',\n",
              " 'vuestra',\n",
              " 'vuestras',\n",
              " 'vuestro',\n",
              " 'vuestros',\n",
              " 'y',\n",
              " 'ya',\n",
              " 'yo',\n",
              " 'él',\n",
              " 'éramos'}"
            ]
          },
          "metadata": {
            "tags": []
          },
          "execution_count": 57
        }
      ]
    },
    {
      "cell_type": "markdown",
      "metadata": {
        "id": "6ai0lh01aX-z",
        "colab_type": "text"
      },
      "source": [
        "---\n",
        "\n",
        "Se emplea *spacy* para lematizar palabras en lenguaje español.\n",
        "\n",
        "---"
      ]
    },
    {
      "cell_type": "code",
      "metadata": {
        "id": "meVuvK7iaV0T",
        "colab_type": "code",
        "outputId": "b90404eb-ed1b-49e4-c9df-6ebcf90d2b65",
        "colab": {
          "base_uri": "https://localhost:8080/",
          "height": 625
        }
      },
      "source": [
        "!python -m spacy download es_core_news_md"
      ],
      "execution_count": 13,
      "outputs": [
        {
          "output_type": "stream",
          "text": [
            "Collecting es_core_news_md==2.2.5\n",
            "\u001b[?25l  Downloading https://github.com/explosion/spacy-models/releases/download/es_core_news_md-2.2.5/es_core_news_md-2.2.5.tar.gz (78.4MB)\n",
            "\u001b[K     |████████████████████████████████| 78.4MB 1.4MB/s \n",
            "\u001b[?25hRequirement already satisfied: spacy>=2.2.2 in /usr/local/lib/python3.6/dist-packages (from es_core_news_md==2.2.5) (2.2.4)\n",
            "Requirement already satisfied: cymem<2.1.0,>=2.0.2 in /usr/local/lib/python3.6/dist-packages (from spacy>=2.2.2->es_core_news_md==2.2.5) (2.0.3)\n",
            "Requirement already satisfied: preshed<3.1.0,>=3.0.2 in /usr/local/lib/python3.6/dist-packages (from spacy>=2.2.2->es_core_news_md==2.2.5) (3.0.2)\n",
            "Requirement already satisfied: numpy>=1.15.0 in /usr/local/lib/python3.6/dist-packages (from spacy>=2.2.2->es_core_news_md==2.2.5) (1.18.2)\n",
            "Requirement already satisfied: murmurhash<1.1.0,>=0.28.0 in /usr/local/lib/python3.6/dist-packages (from spacy>=2.2.2->es_core_news_md==2.2.5) (1.0.2)\n",
            "Requirement already satisfied: wasabi<1.1.0,>=0.4.0 in /usr/local/lib/python3.6/dist-packages (from spacy>=2.2.2->es_core_news_md==2.2.5) (0.6.0)\n",
            "Requirement already satisfied: srsly<1.1.0,>=1.0.2 in /usr/local/lib/python3.6/dist-packages (from spacy>=2.2.2->es_core_news_md==2.2.5) (1.0.2)\n",
            "Requirement already satisfied: tqdm<5.0.0,>=4.38.0 in /usr/local/lib/python3.6/dist-packages (from spacy>=2.2.2->es_core_news_md==2.2.5) (4.38.0)\n",
            "Requirement already satisfied: setuptools in /usr/local/lib/python3.6/dist-packages (from spacy>=2.2.2->es_core_news_md==2.2.5) (46.1.3)\n",
            "Requirement already satisfied: requests<3.0.0,>=2.13.0 in /usr/local/lib/python3.6/dist-packages (from spacy>=2.2.2->es_core_news_md==2.2.5) (2.21.0)\n",
            "Requirement already satisfied: catalogue<1.1.0,>=0.0.7 in /usr/local/lib/python3.6/dist-packages (from spacy>=2.2.2->es_core_news_md==2.2.5) (1.0.0)\n",
            "Requirement already satisfied: plac<1.2.0,>=0.9.6 in /usr/local/lib/python3.6/dist-packages (from spacy>=2.2.2->es_core_news_md==2.2.5) (1.1.3)\n",
            "Requirement already satisfied: blis<0.5.0,>=0.4.0 in /usr/local/lib/python3.6/dist-packages (from spacy>=2.2.2->es_core_news_md==2.2.5) (0.4.1)\n",
            "Requirement already satisfied: thinc==7.4.0 in /usr/local/lib/python3.6/dist-packages (from spacy>=2.2.2->es_core_news_md==2.2.5) (7.4.0)\n",
            "Requirement already satisfied: chardet<3.1.0,>=3.0.2 in /usr/local/lib/python3.6/dist-packages (from requests<3.0.0,>=2.13.0->spacy>=2.2.2->es_core_news_md==2.2.5) (3.0.4)\n",
            "Requirement already satisfied: urllib3<1.25,>=1.21.1 in /usr/local/lib/python3.6/dist-packages (from requests<3.0.0,>=2.13.0->spacy>=2.2.2->es_core_news_md==2.2.5) (1.24.3)\n",
            "Requirement already satisfied: idna<2.9,>=2.5 in /usr/local/lib/python3.6/dist-packages (from requests<3.0.0,>=2.13.0->spacy>=2.2.2->es_core_news_md==2.2.5) (2.8)\n",
            "Requirement already satisfied: certifi>=2017.4.17 in /usr/local/lib/python3.6/dist-packages (from requests<3.0.0,>=2.13.0->spacy>=2.2.2->es_core_news_md==2.2.5) (2020.4.5.1)\n",
            "Requirement already satisfied: importlib-metadata>=0.20; python_version < \"3.8\" in /usr/local/lib/python3.6/dist-packages (from catalogue<1.1.0,>=0.0.7->spacy>=2.2.2->es_core_news_md==2.2.5) (1.6.0)\n",
            "Requirement already satisfied: zipp>=0.5 in /usr/local/lib/python3.6/dist-packages (from importlib-metadata>=0.20; python_version < \"3.8\"->catalogue<1.1.0,>=0.0.7->spacy>=2.2.2->es_core_news_md==2.2.5) (3.1.0)\n",
            "Building wheels for collected packages: es-core-news-md\n",
            "  Building wheel for es-core-news-md (setup.py) ... \u001b[?25l\u001b[?25hdone\n",
            "  Created wheel for es-core-news-md: filename=es_core_news_md-2.2.5-cp36-none-any.whl size=79649483 sha256=e2f7b9d36cb747498bd33c2bd9a426501a80b7751e65faa754606aa047332a5d\n",
            "  Stored in directory: /tmp/pip-ephem-wheel-cache-8pu1u580/wheels/b7/bb/a3/29ab5cf80c2c0a8fa0f2af8402fdace3f159e8265f0fdcbcdb\n",
            "Successfully built es-core-news-md\n",
            "Installing collected packages: es-core-news-md\n",
            "Successfully installed es-core-news-md-2.2.5\n",
            "\u001b[38;5;2m✔ Download and installation successful\u001b[0m\n",
            "You can now load the model via spacy.load('es_core_news_md')\n"
          ],
          "name": "stdout"
        }
      ]
    },
    {
      "cell_type": "code",
      "metadata": {
        "id": "2aV-vNezab8s",
        "colab_type": "code",
        "colab": {}
      },
      "source": [
        "import spacy\n",
        "nlp = spacy.load('/usr/local/lib/python3.6/dist-packages/es_core_news_md/es_core_news_md-2.2.5')"
      ],
      "execution_count": 0,
      "outputs": []
    },
    {
      "cell_type": "markdown",
      "metadata": {
        "id": "smY-D7mKafxM",
        "colab_type": "text"
      },
      "source": [
        "---\n",
        "\n",
        "Se prueba de la función *cleaner*\n",
        "\n",
        "---"
      ]
    },
    {
      "cell_type": "code",
      "metadata": {
        "id": "FFBELS9UahiD",
        "colab_type": "code",
        "outputId": "eb26f303-383f-4564-ba5f-50998eb72e69",
        "colab": {
          "base_uri": "https://localhost:8080/",
          "height": 55
        }
      },
      "source": [
        "df_news.titleandbody[0]"
      ],
      "execution_count": 0,
      "outputs": [
        {
          "output_type": "execute_result",
          "data": {
            "text/plain": [
              "'El “Pablo Vico” de España: tiene 83 años y pasa la cuarentena en un estadio de fútbol // La cuarentena nos obligó a quedarnos en casa y pasar los días encerrados no es sencillo. Los que viven en departamentos se tienen que conformar con sentarse en el balcón, para hacer ejercicio hay que correr algunos muebles y a esta altura tener al menos un patio es un lujo. Muy distinta es la realidad de Andrés Perales, un jubilado que tiene lugar de sobra y hasta se aburre por contar con tanto espacio libre... Sí, a sus 83 años se encuentra aislado en un lugar para 30.000 personas porque vive en La Rosaleda, el estadio del Málaga. <U+200B>Un caso similar al de Pablo Vico, DT de Brown de Adrogué, que tiene su casa en la cancha del Tricolor del Sur del Gran Buenos Aires y también pasa una peculiar cuarentena obligatoria\\xa0ahí nomás del verde césped. ¿Cómo llegó Perales a tener su casa dentro de una cancha de fútbol? Llegó al club en 1966 y desde ese momento se dedicó a ayudar a la institución y no se fue más. Fue chofer oficial del primer equipo durante 25 años, jardinero, conserje, encargado del césped, vigilante y hasta masajista. Hace casi 30 años se fue a vivir a una casa sin número ubicada en el Paseo de Martiricos, que se encuentra en el anexo del estadio a metros de la puerta 18, que lleva su nombre. Allí crió junto a su esposa Antonia a sus siete hijos: Paco, Koki, Conchi, Kike, Lola, Mónica y Andy. Hoy solo vive con el menor de sus hijos, Andy. Es tanto el amor que le tiene al Málaga que durante los años en los que el club estuvo muy cerca de la quiebra, se quedó a cuidar la cancha. \"Fue una temporada muy dura, no contábamos con ingresos por la incertidumbre de la institución. Mi papá trabajaba por las noches en un taxi que un amigo le dejaba, así entraba algún dinero en casa. Con el taxi podía comprar gasoil para abastecer las máquinas del césped y se encargaba de cortarlo y mantenerlo para las futuras autoridades\", contó Andy. España es uno de los países más afectados por el coronavirus y aparece por detrás de Estados Unidos e Italia. Perales forma parte de la población de riesgo, no puede salir de su casa y contó cómo vive esta situación atípica. \"Impresiona estar en lugar tan grande y vacío, pero ya estamos a acostumbrados un poco a los días de fiesta y vacaciones cuando apenas hay nadie. Lo llevamos bastante bien, imaginamos que al tener tanto espacio es un punto positivo. Somos afortunados de poder pasar la cuarentena en un lugar como este y aprovechamos para limpiarlo\", expresó\\xa0en declaraciones al sitio oficial del club. La puerta 18 de La Rosaleda lleva su nombre. Foto: prensa Málaga Además, reveló qué es lo que más extraña:\\xa0\"Me gusta que pasen los autos por la puerta y esto no es lo mismo sin los hinchas, hacen mucha falta. Además, acá las instalaciones se usan las 24 horas, no solo son los partidos y entrenamientos. Trabaja el personal de mantenimiento, hay oficinas, el almacén de la tienda, utileros, niños de La Academia MCF que vienen todos los días a rehabilitación, los del mantenimiento del césped...\". Andrés Perales, toda una vida en el Málaga. Ya lleva 54 años en Málaga, vio más de 17 presidentes y un día lo felicitó Johan Cruyff por lo bien que cuidó el césped. Por eso, más allá de que sueña con que su equipo logre el ascenso y vuelva a Primera, dejó un mensaje lleno de optimismo. \"Somos malaguistas y somos positivos, siempre remontamos. Mucho ánimo y compromiso, todos podemos hacerlo y vamos a superar esta difícil situación. Sobre todo, esperamos que todos los afectados se encuentren mejor de salud\". COMENTARIOS COMENTARIOS CERRADOS POR PROBLEMAS TÉCNICOS.\\nESTAMOS TRABAJANDO PARA REACTIVARLOS EN BREVE. Comentarios CARGANDO COMENTARIOS Para comentar debés activar tu cuenta haciendo clic en el e-mail que te enviamos a la casilla \\n¿No encontraste el e-mail? Hace clic acá y te lo volvemos a enviar. Para comentar nuestras notas por favor completá los siguientes datos.'"
            ]
          },
          "metadata": {
            "tags": []
          },
          "execution_count": 23
        }
      ]
    },
    {
      "cell_type": "code",
      "metadata": {
        "id": "_tLbHfDyaleT",
        "colab_type": "code",
        "outputId": "23df1808-e3e5-441c-9f84-f09d5655f288",
        "colab": {
          "base_uri": "https://localhost:8080/",
          "height": 1000
        }
      },
      "source": [
        "cleaner(df_news.titleandbody[0])"
      ],
      "execution_count": 0,
      "outputs": [
        {
          "output_type": "stream",
          "text": [
            "/usr/local/lib/python3.6/dist-packages/gensim/models/phrases.py:598: UserWarning: For a faster implementation, use the gensim.models.phrases.Phraser class\n",
            "  warnings.warn(\"For a faster implementation, use the gensim.models.phrases.Phraser class\")\n"
          ],
          "name": "stderr"
        },
        {
          "output_type": "execute_result",
          "data": {
            "text/plain": [
              "['estadio',\n",
              " 'futbol',\n",
              " 'quedarnos',\n",
              " 'casa',\n",
              " 'departamentos',\n",
              " 'ejercicio',\n",
              " 'muebles',\n",
              " 'altura',\n",
              " 'patio',\n",
              " 'realidad',\n",
              " 'perales',\n",
              " 'lugar',\n",
              " 'espacio',\n",
              " 'lugar',\n",
              " 'personas',\n",
              " 'caso',\n",
              " 'tambien',\n",
              " 'cuarentena',\n",
              " 'llego',\n",
              " 'perales',\n",
              " 'casa',\n",
              " 'cancha',\n",
              " 'futbol',\n",
              " 'club',\n",
              " 'momento',\n",
              " 'chofer',\n",
              " 'equipo',\n",
              " 'conserje',\n",
              " 'casa',\n",
              " 'numero',\n",
              " 'paseo',\n",
              " 'estadio',\n",
              " 'metros',\n",
              " 'puerta',\n",
              " 'nombre',\n",
              " 'crio',\n",
              " 'esposa',\n",
              " 'hijos',\n",
              " 'hijos',\n",
              " 'quiebra',\n",
              " 'cancha',\n",
              " 'temporada',\n",
              " 'ingresos',\n",
              " 'incertidumbre',\n",
              " 'noches',\n",
              " 'taxi',\n",
              " 'dinero',\n",
              " 'casa',\n",
              " 'podia',\n",
              " 'gasoil',\n",
              " 'autoridades',\n",
              " 'afectados',\n",
              " 'parte',\n",
              " 'riesgo',\n",
              " 'casa',\n",
              " 'situacion',\n",
              " 'lugar',\n",
              " 'vacio',\n",
              " 'vacaciones',\n",
              " 'espacio',\n",
              " 'punto',\n",
              " 'cuarentena',\n",
              " 'lugar',\n",
              " 'expreso',\n",
              " 'declaraciones',\n",
              " 'sitio',\n",
              " 'club',\n",
              " 'nombre',\n",
              " 'foto',\n",
              " 'prensa',\n",
              " 'autos',\n",
              " 'puerta',\n",
              " 'hinchas',\n",
              " 'falta',\n",
              " 'ademas',\n",
              " 'instalaciones',\n",
              " 'horas',\n",
              " 'partidos',\n",
              " 'entrenamientos',\n",
              " 'mantenimiento',\n",
              " 'oficinas',\n",
              " 'vida',\n",
              " 'presidentes',\n",
              " 'equipo',\n",
              " 'ascenso',\n",
              " 'mensaje',\n",
              " 'optimismo',\n",
              " 'malaguistas',\n",
              " 'compromiso',\n",
              " 'situacion',\n",
              " 'afectados',\n",
              " 'salud',\n",
              " 'comentarios',\n",
              " 'comentarios',\n",
              " 'problemas',\n",
              " 'comentarios',\n",
              " 'comentarios',\n",
              " 'cuenta',\n",
              " 'clic',\n",
              " 'mail',\n",
              " 'clic',\n",
              " 'notas',\n",
              " 'favor',\n",
              " 'datos']"
            ]
          },
          "metadata": {
            "tags": []
          },
          "execution_count": 24
        }
      ]
    },
    {
      "cell_type": "markdown",
      "metadata": {
        "id": "79bgtmVGapGd",
        "colab_type": "text"
      },
      "source": [
        "---\n",
        "\n",
        "Se aplica la función *clean* a la columna *titleandbody* del dataframe *df_news* que contiene el título y el cuerpo de todas las noticias\n",
        "\n",
        "---\n"
      ]
    },
    {
      "cell_type": "code",
      "metadata": {
        "id": "X1EgxjF5aptP",
        "colab_type": "code",
        "colab": {}
      },
      "source": [
        "df_news['titleandbody2'] = df_news['titleandbody']"
      ],
      "execution_count": 0,
      "outputs": []
    },
    {
      "cell_type": "code",
      "metadata": {
        "id": "Bsn_8d9Iariv",
        "colab_type": "code",
        "outputId": "83d5114e-12ff-41a3-eae3-4368de08b4c4",
        "colab": {
          "base_uri": "https://localhost:8080/",
          "height": 90
        }
      },
      "source": [
        "%%time\n",
        "df_news['titleandbody'] = df_news['titleandbody'].apply(cleaner)"
      ],
      "execution_count": 16,
      "outputs": [
        {
          "output_type": "stream",
          "text": [
            "/usr/local/lib/python3.6/dist-packages/gensim/models/phrases.py:598: UserWarning: For a faster implementation, use the gensim.models.phrases.Phraser class\n",
            "  warnings.warn(\"For a faster implementation, use the gensim.models.phrases.Phraser class\")\n"
          ],
          "name": "stderr"
        },
        {
          "output_type": "stream",
          "text": [
            "CPU times: user 3min 8s, sys: 1.96 s, total: 3min 10s\n",
            "Wall time: 3min 11s\n"
          ],
          "name": "stdout"
        }
      ]
    },
    {
      "cell_type": "markdown",
      "metadata": {
        "id": "n60lGktRxEDj",
        "colab_type": "text"
      },
      "source": [
        "---\n",
        "\n",
        "En este paso se exporta el dataframe como CSV con la columna *titleandbody* limpia para futuros usos ya que la ejecución *cleaner* demanda mucho tiempo (aprox. 40 minutos)\n",
        "\n",
        "---"
      ]
    },
    {
      "cell_type": "code",
      "metadata": {
        "id": "vnTvxYV8uy3k",
        "colab_type": "code",
        "colab": {}
      },
      "source": [
        "news_Clean = df_news.to_csv (r'/content/drive/My Drive/Colab Notebooks/GIBDnews/data/news_clean.csv', index = None, header=True)"
      ],
      "execution_count": 0,
      "outputs": []
    },
    {
      "cell_type": "markdown",
      "metadata": {
        "id": "aFuQF0dCGewf",
        "colab_type": "text"
      },
      "source": [
        "---\n",
        "\n",
        "Se importa el archivo *news_clean.csv*\n",
        "\n",
        "---"
      ]
    },
    {
      "cell_type": "code",
      "metadata": {
        "id": "E67bLo4QGdv5",
        "colab_type": "code",
        "outputId": "d87c40d3-3bd7-4159-afb8-99eb2df9c670",
        "colab": {
          "base_uri": "https://localhost:8080/",
          "height": 424
        }
      },
      "source": [
        "df_news = pd.read_csv('news_clean.csv')\n",
        "df_news"
      ],
      "execution_count": 18,
      "outputs": [
        {
          "output_type": "execute_result",
          "data": {
            "text/html": [
              "<div>\n",
              "<style scoped>\n",
              "    .dataframe tbody tr th:only-of-type {\n",
              "        vertical-align: middle;\n",
              "    }\n",
              "\n",
              "    .dataframe tbody tr th {\n",
              "        vertical-align: top;\n",
              "    }\n",
              "\n",
              "    .dataframe thead th {\n",
              "        text-align: right;\n",
              "    }\n",
              "</style>\n",
              "<table border=\"1\" class=\"dataframe\">\n",
              "  <thead>\n",
              "    <tr style=\"text-align: right;\">\n",
              "      <th></th>\n",
              "      <th>news_paper</th>\n",
              "      <th>category</th>\n",
              "      <th>date</th>\n",
              "      <th>titleandbody</th>\n",
              "      <th>titleandbody2</th>\n",
              "    </tr>\n",
              "  </thead>\n",
              "  <tbody>\n",
              "    <tr>\n",
              "      <th>0</th>\n",
              "      <td>clarin</td>\n",
              "      <td>deportes</td>\n",
              "      <td>2020-04-11</td>\n",
              "      <td>['estadio', 'futbol', 'quedarnos', 'casa', 'de...</td>\n",
              "      <td>El “Pablo Vico” de España: tiene 83 años y pas...</td>\n",
              "    </tr>\n",
              "    <tr>\n",
              "      <th>1</th>\n",
              "      <td>clarin</td>\n",
              "      <td>deportes</td>\n",
              "      <td>2020-04-11</td>\n",
              "      <td>['empresa', 'jugadores', 'opositores', 'tempor...</td>\n",
              "      <td>Adelantan que en Barcelona se habrían pagado s...</td>\n",
              "    </tr>\n",
              "    <tr>\n",
              "      <th>2</th>\n",
              "      <td>clarin</td>\n",
              "      <td>deportes</td>\n",
              "      <td>2020-04-11</td>\n",
              "      <td>['cara', 'deportistas', 'rol', 'lucha', 'caso'...</td>\n",
              "      <td>Jana Pittman, la campeona mundial que lucha en...</td>\n",
              "    </tr>\n",
              "    <tr>\n",
              "      <th>3</th>\n",
              "      <td>clarin</td>\n",
              "      <td>deportes</td>\n",
              "      <td>2020-04-11</td>\n",
              "      <td>['futbol', 'futbol', 'resto', 'actividades', '...</td>\n",
              "      <td>Coronavirus: la OMS pidió que paren el fútbol ...</td>\n",
              "    </tr>\n",
              "    <tr>\n",
              "      <th>4</th>\n",
              "      <td>clarin</td>\n",
              "      <td>deportes</td>\n",
              "      <td>2020-04-11</td>\n",
              "      <td>['minuto', 'dilema', 'pagos', 'mundo', 'mote',...</td>\n",
              "      <td>El Araña Amuchástegui, el crack que rechazó un...</td>\n",
              "    </tr>\n",
              "    <tr>\n",
              "      <th>...</th>\n",
              "      <td>...</td>\n",
              "      <td>...</td>\n",
              "      <td>...</td>\n",
              "      <td>...</td>\n",
              "      <td>...</td>\n",
              "    </tr>\n",
              "    <tr>\n",
              "      <th>3126</th>\n",
              "      <td>lanacion</td>\n",
              "      <td>tecnologia</td>\n",
              "      <td>2020-04-22</td>\n",
              "      <td>['herramientas', 'informes', 'marco', 'adultos...</td>\n",
              "      <td>Agenda Vida Digital // ILVEM.\\r\\n\\r\\n Brindará...</td>\n",
              "    </tr>\n",
              "    <tr>\n",
              "      <th>3127</th>\n",
              "      <td>lanacion</td>\n",
              "      <td>tecnologia</td>\n",
              "      <td>2020-04-22</td>\n",
              "      <td>['museos', 'idea', 'sociedad', 'titulo', 'soci...</td>\n",
              "      <td>El otoño de los museos // Siempre es una buena...</td>\n",
              "    </tr>\n",
              "    <tr>\n",
              "      <th>3128</th>\n",
              "      <td>lanacion</td>\n",
              "      <td>tecnologia</td>\n",
              "      <td>2020-04-22</td>\n",
              "      <td>['tecnologias', 'batalla', 'investigador', 'ha...</td>\n",
              "      <td>Las nuevas tecnologías salen a dar batalla con...</td>\n",
              "    </tr>\n",
              "    <tr>\n",
              "      <th>3129</th>\n",
              "      <td>lanacion</td>\n",
              "      <td>tecnologia</td>\n",
              "      <td>2020-04-22</td>\n",
              "      <td>['fotos', 'parte', 'dia', 'dia', 'seguidores',...</td>\n",
              "      <td>#LNteacompaña: fotos de Buenos Aires vacía par...</td>\n",
              "    </tr>\n",
              "    <tr>\n",
              "      <th>3130</th>\n",
              "      <td>lanacion</td>\n",
              "      <td>tecnologia</td>\n",
              "      <td>2020-04-22</td>\n",
              "      <td>['reglas', 'consejos', 'convivencia', 'manera'...</td>\n",
              "      <td>Reglas de etiqueta para Zoom: 10 consejos para...</td>\n",
              "    </tr>\n",
              "  </tbody>\n",
              "</table>\n",
              "<p>3131 rows × 5 columns</p>\n",
              "</div>"
            ],
            "text/plain": [
              "     news_paper  ...                                      titleandbody2\n",
              "0        clarin  ...  El “Pablo Vico” de España: tiene 83 años y pas...\n",
              "1        clarin  ...  Adelantan que en Barcelona se habrían pagado s...\n",
              "2        clarin  ...  Jana Pittman, la campeona mundial que lucha en...\n",
              "3        clarin  ...  Coronavirus: la OMS pidió que paren el fútbol ...\n",
              "4        clarin  ...  El Araña Amuchástegui, el crack que rechazó un...\n",
              "...         ...  ...                                                ...\n",
              "3126   lanacion  ...  Agenda Vida Digital // ILVEM.\\r\\n\\r\\n Brindará...\n",
              "3127   lanacion  ...  El otoño de los museos // Siempre es una buena...\n",
              "3128   lanacion  ...  Las nuevas tecnologías salen a dar batalla con...\n",
              "3129   lanacion  ...  #LNteacompaña: fotos de Buenos Aires vacía par...\n",
              "3130   lanacion  ...  Reglas de etiqueta para Zoom: 10 consejos para...\n",
              "\n",
              "[3131 rows x 5 columns]"
            ]
          },
          "metadata": {
            "tags": []
          },
          "execution_count": 18
        }
      ]
    },
    {
      "cell_type": "markdown",
      "metadata": {
        "id": "h0OPiezhavaD",
        "colab_type": "text"
      },
      "source": [
        "---\n",
        "\n",
        "En este paso se construyen el *corpus* y el *diccionario* para usar *gensim*. Para la construcción se pasa como parámetro una lista de listas de tokens.\n",
        "\n",
        "---"
      ]
    },
    {
      "cell_type": "code",
      "metadata": {
        "id": "WKiSDZ2IawPL",
        "colab_type": "code",
        "colab": {}
      },
      "source": [
        "from ast import literal_eval\n",
        "\n",
        "tokens = df_news['titleandbody'].apply(literal_eval)\n",
        "\n",
        "dictionary = Dictionary(tokens)\n",
        "dictionary.compactify()\n",
        "\n",
        "# Filter extremes\n",
        "dictionary.filter_extremes(no_below=2, no_above=0.97, keep_n=None)\n",
        "dictionary.compactify()\n",
        "\n",
        "corpus = [dictionary.doc2bow(literal_eval(text)) for text in df_news['titleandbody']]\n",
        "\n"
      ],
      "execution_count": 0,
      "outputs": []
    },
    {
      "cell_type": "markdown",
      "metadata": {
        "id": "lJZU6ULHbBJ9",
        "colab_type": "text"
      },
      "source": [
        "---\n",
        "\n",
        "# **Modelado**\n",
        "\n",
        "A continuación se realiza la comparación de tres algoritmos de Topic Modeling: Latent Dirichlet Allocation (LDA), Latent Semantic Analysis (LSA) y Hierarchical Dirichlet Process (HDP).\n",
        "Para evaluar los modelos Topic Modeling generados se emplearán la métrica *topic coherence*, que permite medir qué tan interpretables son los tópicos para los  humanos.\n",
        "\n",
        "---\n"
      ]
    },
    {
      "cell_type": "markdown",
      "metadata": {
        "id": "09XirErPicAX",
        "colab_type": "text"
      },
      "source": [
        "---\n",
        "\n",
        "# Hierarchical Dirichlet process Model\n",
        "\n",
        "---"
      ]
    },
    {
      "cell_type": "code",
      "metadata": {
        "id": "ecGPSFI2bCS7",
        "colab_type": "code",
        "colab": {}
      },
      "source": [
        "hdpmodel = HdpModel(corpus=corpus, id2word=dictionary, random_state= 30)"
      ],
      "execution_count": 0,
      "outputs": []
    },
    {
      "cell_type": "markdown",
      "metadata": {
        "id": "kThV63Y0bEg8",
        "colab_type": "text"
      },
      "source": [
        "---\n",
        "\n",
        "Se define la función *display_topics* \n",
        "\n",
        "---"
      ]
    },
    {
      "cell_type": "code",
      "metadata": {
        "id": "h8hOJBjhbGsU",
        "colab_type": "code",
        "colab": {}
      },
      "source": [
        "def display_topics(model, model_type=\"lda\"):\n",
        "  for topic_idx, topic in enumerate(model.print_topics()):\n",
        "    print (\"Topic %d:\" % (topic_idx))\n",
        "    if model_type== \"hdp\":\n",
        "      print (\" \".join(re.findall( r'\\*(.[^\\*-S]+).?', topic[1])), \"\\n\")\n",
        "    else:\n",
        "      print (\" \".join(re.findall( r'\\\"(.[^\"]+).?', topic[1])), \"\\n\")"
      ],
      "execution_count": 0,
      "outputs": []
    },
    {
      "cell_type": "code",
      "metadata": {
        "id": "XKvwkQSabK5c",
        "colab_type": "code",
        "outputId": "43f25003-a199-4d8f-b3e9-383766f89096",
        "colab": {
          "base_uri": "https://localhost:8080/",
          "height": 1000
        }
      },
      "source": [
        "display_topics(hdpmodel, model_type=\"hdp\")"
      ],
      "execution_count": 22,
      "outputs": [
        {
          "output_type": "stream",
          "text": [
            "Topic 0:\n",
            "tambien  parte  vez  momento  tiempo  caso  forma  abril  cuarentena  medidas \n",
            "\n",
            "Topic 1:\n",
            "tambien  horas  tiempo  sistema  momento  vez  equipo  dia  cuarentena  mundo \n",
            "\n",
            "Topic 2:\n",
            "equipo  tambien  tiempo  vez  parte  precios  momento  futbol  dia  vida \n",
            "\n",
            "Topic 3:\n",
            "modelos  comentarios  parte  semanas  clic  tambien  pantalla  rendimiento  usuario  tiempo \n",
            "\n",
            "Topic 4:\n",
            "cuarentena  comentarios  aislamiento  presidente  casa  momento  gente  riesgo  marzo  tambien \n",
            "\n",
            "Topic 5:\n",
            "tarjeta  equipo  club  futbol  tambien  jugadores  dinero  vez  gente  dia \n",
            "\n",
            "Topic 6:\n",
            "comentarios  tambien  tiempo  dia  actividades  equipo  manera  mundo  futbol  clic \n",
            "\n",
            "Topic 7:\n",
            "comentarios  gente  clic  futbol  miedo  dia  tambien  tema  presidente  cuenta \n",
            "\n",
            "Topic 8:\n",
            "comentarios  sistema  clic  cuenta  problemas  mail  contactos  notas  favor  contacto \n",
            "\n",
            "Topic 9:\n",
            "momento  cosas  vida  meses  tambien  veces  casa  hermano  vez  tenis \n",
            "\n",
            "Topic 10:\n",
            "comentarios  gente  problemas  clic  momento  tiempo  cuenta  marzo  cosas  sociedad \n",
            "\n",
            "Topic 11:\n",
            "comentarios  gente  clic  cosas  momento  manera  medidas  equipo  lunes  banco \n",
            "\n",
            "Topic 12:\n",
            "comentarios  oferta  clic  club  pago  equipo  acuerdo  problemas  bonos  favor \n",
            "\n",
            "Topic 13:\n",
            "comentarios  clic  notas  voz  acuerdo  cuenta  problemas  jugador  favor  redes \n",
            "\n",
            "Topic 14:\n",
            "comentarios  clic  problemas  cuenta  gente  fondo  equipo  tambien  crisis  seguridad \n",
            "\n",
            "Topic 15:\n",
            "comentarios  tambien  clic  pesos  cuenta  hockey  sonido  entrenador  trabajo  mujeres \n",
            "\n",
            "Topic 16:\n",
            "club  equipo  mundo  miedo  jugadores  futbolistas  clic  tiempo  historia  enero \n",
            "\n",
            "Topic 17:\n",
            "comentarios  clic  tos  cuenta  grupo  mail  notas  autoridades  favor  enfermedades \n",
            "\n",
            "Topic 18:\n",
            "comentarios  clic  cuenta  favor  aplicaciones  notas  mail  vez  genero  medidas \n",
            "\n",
            "Topic 19:\n",
            "comentarios  clic  entrenador  gente  partido  notas  gol  mail  noche  madre \n",
            "\n"
          ],
          "name": "stdout"
        }
      ]
    },
    {
      "cell_type": "markdown",
      "metadata": {
        "id": "VMwDNgBNrncg",
        "colab_type": "text"
      },
      "source": [
        "---\n",
        "\n",
        "Se define la función *evaluate_graph* para evaluar la metrica de coherencia de los modelos. \n",
        "\n",
        "---"
      ]
    },
    {
      "cell_type": "code",
      "metadata": {
        "id": "dscTOHiLbRD1",
        "colab_type": "code",
        "colab": {}
      },
      "source": [
        "def evaluate_graph(dictionary, corpus, texts, limit, model):\n",
        "    \"\"\"\n",
        "    Function to display num_topics - LDA graph using c_v coherence\n",
        "    \n",
        "    Parameters:\n",
        "    ----------\n",
        "    dictionary : Gensim dictionary\n",
        "    corpus : Gensim corpus\n",
        "    limit : topic limit\n",
        "    \n",
        "    Returns:\n",
        "    -------\n",
        "    lm_list : List of LDA topic models\n",
        "    c_v : Coherence values corresponding to the LDA model with respective number of topics\n",
        "    \"\"\"\n",
        "    c_v = []\n",
        "    lm_list = []\n",
        "    for num_topics in range(1, limit):\n",
        "        if model == 'lsi':\n",
        "          lm = LsiModel(corpus=corpus, num_topics=num_topics, id2word=dictionary)\n",
        "        else:\n",
        "          lm = LdaModel(corpus=corpus, num_topics=num_topics, id2word=dictionary)\n",
        "        lm_list.append(lm)\n",
        "        cm = CoherenceModel(model=lm, texts=texts, dictionary=dictionary, coherence='c_v')\n",
        "        c_v.append(cm.get_coherence())\n",
        "        \n",
        "    # Show graph\n",
        "    x = range(1, limit)\n",
        "    plt.plot(x, c_v)\n",
        "    plt.xlabel(\"num_topics\")\n",
        "    plt.ylabel(\"Coherence score\")\n",
        "    plt.legend((\"c_v\"), loc='best')\n",
        "    plt.show()\n",
        "    \n",
        "    return lm_list, c_v"
      ],
      "execution_count": 0,
      "outputs": []
    },
    {
      "cell_type": "markdown",
      "metadata": {
        "id": "1rD1qYPEbTjk",
        "colab_type": "text"
      },
      "source": [
        "---\n",
        "\n",
        "# LSI MODEL\n",
        "\n",
        "---"
      ]
    },
    {
      "cell_type": "code",
      "metadata": {
        "id": "BvYbxWTZbU1d",
        "colab_type": "code",
        "colab": {}
      },
      "source": [
        "lsimodel = LsiModel(corpus=corpus, num_topics=10, id2word=dictionary)"
      ],
      "execution_count": 0,
      "outputs": []
    },
    {
      "cell_type": "code",
      "metadata": {
        "id": "t5RGZt-5bXXE",
        "colab_type": "code",
        "outputId": "51efd724-7e6e-4977-e877-d6344af56183",
        "colab": {
          "base_uri": "https://localhost:8080/",
          "height": 568
        }
      },
      "source": [
        "display_topics(lsimodel)  "
      ],
      "execution_count": 25,
      "outputs": [
        {
          "output_type": "stream",
          "text": [
            "Topic 0:\n",
            "tambien tiempo vez momento comentarios parte equipo dia cuarentena abril \n",
            "\n",
            "Topic 1:\n",
            "equipo futbol jugadores abril jugador club actividades empresas cosas medidas \n",
            "\n",
            "Topic 2:\n",
            "comentarios clic problemas mail favor cuenta notas actividades cuarentena presidente \n",
            "\n",
            "Topic 3:\n",
            "abril presidente aplicaciones tambien sistema usuario pantalla futbol actividades cuarentena \n",
            "\n",
            "Topic 4:\n",
            "tarjeta pantalla dinero cajero ranura pago horas casa clave equipo \n",
            "\n",
            "Topic 5:\n",
            "crisis empresas tarjeta oferta cuarentena actividades casa cajero mercado semanas \n",
            "\n",
            "Topic 6:\n",
            "actividades servicios equipo tarjeta casa vez videollamadas oferta futbol jugadores \n",
            "\n",
            "Topic 7:\n",
            "curso semanas horas cursos salud castellano aprendizaje sistema empresas dedicacion \n",
            "\n",
            "Topic 8:\n",
            "casa pacientes presidente sistema trabajo autoridades empresas contactos gente pandemia \n",
            "\n",
            "Topic 9:\n",
            "noticias historias oferta marzo cuentas bonos empresas mes lectores fondos \n",
            "\n"
          ],
          "name": "stdout"
        }
      ]
    },
    {
      "cell_type": "markdown",
      "metadata": {
        "id": "Uibs_fa6bb9_",
        "colab_type": "text"
      },
      "source": [
        "---\n",
        "\n",
        "En estos 10 tópicos aparecen palabras claves relacionadas con presidente, millones, boca, juego, candidato, mujeres. No resulta sencillo identificar temas claves, por lo que será necesario elegir el mejor número de tópicos vigilando el valor de coherencia.\n",
        "\n",
        "---"
      ]
    },
    {
      "cell_type": "code",
      "metadata": {
        "id": "T5VrBEKEbc5e",
        "colab_type": "code",
        "outputId": "0aa97ae5-1337-4753-ec59-b1b3c6cf7245",
        "colab": {
          "base_uri": "https://localhost:8080/",
          "height": 317
        }
      },
      "source": [
        "%%time\n",
        "lmlist_lsi, c_v = evaluate_graph(dictionary=dictionary, corpus=corpus, texts=df_news['titleandbody'].apply(literal_eval), limit=21, model= \"lsi\")\n"
      ],
      "execution_count": 26,
      "outputs": [
        {
          "output_type": "display_data",
          "data": {
            "image/png": "[encoded data removed]",
            "text/plain": [
              "<Figure size 432x288 with 1 Axes>"
            ]
          },
          "metadata": {
            "tags": [],
            "needs_background": "light"
          }
        },
        {
          "output_type": "stream",
          "text": [
            "CPU times: user 1min 22s, sys: 6.07 s, total: 1min 28s\n",
            "Wall time: 1min 18s\n"
          ],
          "name": "stdout"
        }
      ]
    },
    {
      "cell_type": "markdown",
      "metadata": {
        "id": "sc4-3wojbhW2",
        "colab_type": "text"
      },
      "source": [
        "---\n",
        "\n",
        "Según la coherencia el mejor número de tópicos es 5. Seleccionaremos el número de tópicos realizando una inspección visual de la coherencia.\n",
        "\n",
        "---"
      ]
    },
    {
      "cell_type": "code",
      "metadata": {
        "id": "XaQ4gm5ubiWN",
        "colab_type": "code",
        "outputId": "00767732-a07c-43b7-843d-a55b4f43bfa4",
        "colab": {
          "base_uri": "https://localhost:8080/",
          "height": 182
        }
      },
      "source": [
        "display_topics(lmlist_lsi[5])"
      ],
      "execution_count": 28,
      "outputs": [
        {
          "output_type": "stream",
          "text": [
            "Topic 0:\n",
            "tambien tiempo vez momento comentarios parte equipo dia cuarentena abril \n",
            "\n",
            "Topic 1:\n",
            "equipo futbol jugadores abril jugador club actividades empresas cosas medidas \n",
            "\n",
            "Topic 2:\n",
            "comentarios clic problemas mail favor cuenta notas actividades cuarentena presidente \n",
            "\n"
          ],
          "name": "stdout"
        }
      ]
    },
    {
      "cell_type": "markdown",
      "metadata": {
        "id": "XHpydZiRbsgk",
        "colab_type": "text"
      },
      "source": [
        "---\n",
        "\n",
        "#Latent Dirichlet Allocation Model\n",
        "\n",
        "---"
      ]
    },
    {
      "cell_type": "code",
      "metadata": {
        "id": "zmV1EEQabnzN",
        "colab_type": "code",
        "colab": {}
      },
      "source": [
        "ldamodel = LdaModel(corpus=corpus, num_topics=10, id2word=dictionary)"
      ],
      "execution_count": 0,
      "outputs": []
    },
    {
      "cell_type": "code",
      "metadata": {
        "id": "aXFQrABQbwO3",
        "colab_type": "code",
        "outputId": "cb75bb6a-fdda-4bca-a5f3-9d6b87b6f72d",
        "colab": {
          "base_uri": "https://localhost:8080/",
          "height": 568
        }
      },
      "source": [
        "display_topics(ldamodel)"
      ],
      "execution_count": 30,
      "outputs": [
        {
          "output_type": "stream",
          "text": [
            "Topic 0:\n",
            "tambien presidente momento parte equipo tiempo cuarentena pandemia actividades horas \n",
            "\n",
            "Topic 1:\n",
            "forma tambien parte casa tiempo horas trabajo pandemia aislamiento cuarentena \n",
            "\n",
            "Topic 2:\n",
            "equipo tambien tiempo futbol vez parte vida momento dia veces \n",
            "\n",
            "Topic 3:\n",
            "mundo enfermedad casa tambien salud tiempo familia dia sistema equipo \n",
            "\n",
            "Topic 4:\n",
            "comentarios tambien momento cuenta tiempo problemas clic parte uso seguridad \n",
            "\n",
            "Topic 5:\n",
            "ciudad parte tambien vez abril marzo sistema empresas gente forma \n",
            "\n",
            "Topic 6:\n",
            "sistema tambien pandemia jugadores parte momento comentarios marzo tiempo medidas \n",
            "\n",
            "Topic 7:\n",
            "oferta crisis tiempo empresas vez semana bonos gente abril momento \n",
            "\n",
            "Topic 8:\n",
            "abril caso medidas uso tambien contacto forma comentarios contactos partir \n",
            "\n",
            "Topic 9:\n",
            "vez beneficiarios cuarentena tambien ingreso forma mensajes tarjeta abril emergencia \n",
            "\n"
          ],
          "name": "stdout"
        }
      ]
    },
    {
      "cell_type": "markdown",
      "metadata": {
        "id": "zRsm0e69b1CA",
        "colab_type": "text"
      },
      "source": [
        "---\n",
        "\n",
        "Se intenta hallar el número óptimo de tópicos para este modelo basado en la métrica coherencia.\n",
        "\n",
        "---"
      ]
    },
    {
      "cell_type": "code",
      "metadata": {
        "id": "TkJVJIF3b119",
        "colab_type": "code",
        "outputId": "c3a0e047-1469-4b40-a983-172bec717a6b",
        "colab": {
          "base_uri": "https://localhost:8080/",
          "height": 317
        }
      },
      "source": [
        "%%time\n",
        "lmlist, c_v = evaluate_graph(dictionary=dictionary, corpus=corpus, texts=df_news['titleandbody'].apply(literal_eval), limit=21, model= \"lda\")\n"
      ],
      "execution_count": 31,
      "outputs": [
        {
          "output_type": "display_data",
          "data": {
            "image/png": "[encoded data removed]",
            "text/plain": [
              "<Figure size 432x288 with 1 Axes>"
            ]
          },
          "metadata": {
            "tags": [],
            "needs_background": "light"
          }
        },
        {
          "output_type": "stream",
          "text": [
            "CPU times: user 2min 12s, sys: 75.9 ms, total: 2min 12s\n",
            "Wall time: 2min 12s\n"
          ],
          "name": "stdout"
        }
      ]
    },
    {
      "cell_type": "markdown",
      "metadata": {
        "id": "90zSMEIob5rN",
        "colab_type": "text"
      },
      "source": [
        "---\n",
        "\n",
        "Para este modelo el número óptimo de tópicos se ubica en 7. \n",
        "\n",
        "---"
      ]
    },
    {
      "cell_type": "markdown",
      "metadata": {
        "id": "r7qQNBo7lgAE",
        "colab_type": "text"
      },
      "source": [
        "---\n",
        "\n",
        "#Evaluación de la coherencia de los mejores modelos\n",
        "\n",
        "Se elige una instancia de cada modelo teniendo en cuenta la métrica de coherencia. \n",
        "\n",
        "Se compara luego la coherencia entre ellos.\n",
        "\n",
        "---"
      ]
    },
    {
      "cell_type": "code",
      "metadata": {
        "id": "008Xq1IHb6W9",
        "colab_type": "code",
        "colab": {}
      },
      "source": [
        "ldamodel = lmlist[7]\n",
        "lsimodel = lmlist_lsi[5]\n",
        "\n",
        "lsitopics = [[word for word, prob in topic] for topicid, topic in lsimodel.show_topics(formatted=False)]\n",
        "\n",
        "hdptopics = [[word for word, prob in topic] for topicid, topic in hdpmodel.show_topics(formatted=False)]\n",
        "\n",
        "ldatopics = [[word for word, prob in topic] for topicid, topic in ldamodel.show_topics(formatted=False)]"
      ],
      "execution_count": 0,
      "outputs": []
    },
    {
      "cell_type": "code",
      "metadata": {
        "id": "ghrwMu6ub_iJ",
        "colab_type": "code",
        "colab": {}
      },
      "source": [
        "lsi_coherence = CoherenceModel(topics=lsitopics[:10], texts=df_news['titleandbody'].apply(literal_eval), dictionary=dictionary, window_size=10).get_coherence()\n",
        "\n",
        "hdp_coherence = CoherenceModel(topics=hdptopics[:10], texts=df_news['titleandbody'].apply(literal_eval), dictionary=dictionary, window_size=10).get_coherence()\n",
        "\n",
        "lda_coherence = CoherenceModel(topics=ldatopics, texts=df_news['titleandbody'].apply(literal_eval), dictionary=dictionary, window_size=10).get_coherence()"
      ],
      "execution_count": 0,
      "outputs": []
    },
    {
      "cell_type": "code",
      "metadata": {
        "id": "Oqy1lZ33cBrG",
        "colab_type": "code",
        "outputId": "f79ff497-1204-44df-c76c-ca59adb8a03d",
        "colab": {
          "base_uri": "https://localhost:8080/",
          "height": 284
        }
      },
      "source": [
        "import seaborn as sns\n",
        "\n",
        "coherences = [lsi_coherence, hdp_coherence, lda_coherence]\n",
        "n = len(coherences)\n",
        "x = ['lsi_coherence','hdp_coherence', 'lda_coherence']\n",
        "sns.barplot(x, coherences)"
      ],
      "execution_count": 35,
      "outputs": [
        {
          "output_type": "execute_result",
          "data": {
            "text/plain": [
              "<matplotlib.axes._subplots.AxesSubplot at 0x7fd0635b8978>"
            ]
          },
          "metadata": {
            "tags": []
          },
          "execution_count": 35
        },
        {
          "output_type": "display_data",
          "data": {
            "image/png": "[encoded data removed]",
            "text/plain": [
              "<Figure size 432x288 with 1 Axes>"
            ]
          },
          "metadata": {
            "tags": [],
            "needs_background": "light"
          }
        }
      ]
    },
    {
      "cell_type": "markdown",
      "metadata": {
        "id": "Bg9amY2oQfZC",
        "colab_type": "text"
      },
      "source": [
        "Se observa en la gráfica que el modelo LDA con 12 tópicos tiene el mayor nivel de coherencia.\n",
        "\n",
        "---\n"
      ]
    },
    {
      "cell_type": "markdown",
      "metadata": {
        "id": "KtnAXDW_cLLR",
        "colab_type": "text"
      },
      "source": [
        "Se examinan las palabras clave de los tópicos del mejor modelo\n",
        "\n",
        "---"
      ]
    },
    {
      "cell_type": "code",
      "metadata": {
        "id": "lswrQtm6cPxN",
        "colab_type": "code",
        "outputId": "5db4482b-abc8-474f-fd63-544fcb35f59a",
        "colab": {
          "base_uri": "https://localhost:8080/",
          "height": 458
        }
      },
      "source": [
        "display_topics(ldamodel)"
      ],
      "execution_count": 36,
      "outputs": [
        {
          "output_type": "stream",
          "text": [
            "Topic 0:\n",
            "abril parte tambien comentarios marzo precios mercado cuenta aislamiento pago \n",
            "\n",
            "Topic 1:\n",
            "futbol tambien comentarios equipo momento tiempo jugadores horas noticias dia \n",
            "\n",
            "Topic 2:\n",
            "tambien abril emergencia empresas crisis parte marzo caso ingreso trabajadores \n",
            "\n",
            "Topic 3:\n",
            "semana dia casa aislamiento momento horas empresas abril grupo forma \n",
            "\n",
            "Topic 4:\n",
            "vez tiempo equipo casa tambien jugador jugadores momento cosas club \n",
            "\n",
            "Topic 5:\n",
            "pandemia presidente cuarentena medidas autoridades horas aplicaciones parte ciudad aislamiento \n",
            "\n",
            "Topic 6:\n",
            "tambien comentarios sistema forma tiempo mundo momento parte vez pacientes \n",
            "\n",
            "Topic 7:\n",
            "oferta bonos vez tambien parte caso puntos equipo propuesta medidas \n",
            "\n"
          ],
          "name": "stdout"
        }
      ]
    },
    {
      "cell_type": "markdown",
      "metadata": {
        "id": "8dY78QTgQQBJ",
        "colab_type": "text"
      },
      "source": [
        "\n",
        "---\n",
        "\n",
        "#Clasificación de las noticias\n",
        "\n",
        "---\n",
        "\n"
      ]
    },
    {
      "cell_type": "markdown",
      "metadata": {
        "id": "pUuom60dcqCG",
        "colab_type": "text"
      },
      "source": [
        "---\n",
        "\n",
        "Se seleccionó como modelo que mejor se adapta LDA y como número óptimo de tópicos 12.\n",
        "\n",
        "Se asigna un tópico a cada noticia, es decir, se agrupan las noticias según los tópicos.\n",
        "\n",
        "---"
      ]
    },
    {
      "cell_type": "code",
      "metadata": {
        "id": "OH4u8aiscvPm",
        "colab_type": "code",
        "colab": {}
      },
      "source": [
        "def format_topics_sentences(ldamodel=0, corpus=corpus, texts=0):\n",
        "    # Init output\n",
        "    sent_topics_df = pd.DataFrame()-n\n",
        "\n",
        "    # Get main topic in each document\n",
        "    for i, row in enumerate(ldamodel[corpus]):\n",
        "        row = sorted(row, key=lambda x: (x[1]), reverse=True)\n",
        "        # Get the Dominant topic, Perc Contribution and Keywords for each document\n",
        "        for j, (topic_num, prop_topic) in enumerate(row):\n",
        "            if j == 0:  # => dominant topic\n",
        "                wp = ldamodel.show_topic(topic_num)\n",
        "                topic_keywords = \", \".join([word for word, prop in wp])\n",
        "                sent_topics_df = sent_topics_df.append(pd.Series([int(topic_num), round(prop_topic,4), topic_keywords]), ignore_index=True)\n",
        "            else:\n",
        "                break\n",
        "    sent_topics_df.columns = ['Dominant_Topic', 'Perc_Contribution', 'Topic_Keywords']\n",
        "\n",
        "    # Add original text to the end of the output\n",
        "    contents = pd.Series(texts)\n",
        "    sent_topics_df = pd.concat([sent_topics_df, contents], axis=1)\n",
        "    return(sent_topics_df)\n",
        "\n",
        "\n",
        "df_topic_sents_keywords = format_topics_sentences(ldamodel, corpus=corpus, texts=df_news['titleandbody'].apply(literal_eval))"
      ],
      "execution_count": 0,
      "outputs": []
    },
    {
      "cell_type": "code",
      "metadata": {
        "id": "ThcX-Nduc4tW",
        "colab_type": "code",
        "outputId": "a78e5e04-6cc4-4427-97ad-534e13e00fda",
        "colab": {
          "base_uri": "https://localhost:8080/",
          "height": 363
        }
      },
      "source": [
        "# Format\n",
        "df_dominant_topic = df_topic_sents_keywords.reset_index()\n",
        "df_dominant_topic.columns = ['Document_No', 'Dominant_Topic', 'Topic_Perc_Contrib', 'Keywords', 'Text']\n",
        "\n",
        "# Show\n",
        "df_dominant_topic.head(10)"
      ],
      "execution_count": 38,
      "outputs": [
        {
          "output_type": "execute_result",
          "data": {
            "text/html": [
              "<div>\n",
              "<style scoped>\n",
              "    .dataframe tbody tr th:only-of-type {\n",
              "        vertical-align: middle;\n",
              "    }\n",
              "\n",
              "    .dataframe tbody tr th {\n",
              "        vertical-align: top;\n",
              "    }\n",
              "\n",
              "    .dataframe thead th {\n",
              "        text-align: right;\n",
              "    }\n",
              "</style>\n",
              "<table border=\"1\" class=\"dataframe\">\n",
              "  <thead>\n",
              "    <tr style=\"text-align: right;\">\n",
              "      <th></th>\n",
              "      <th>Document_No</th>\n",
              "      <th>Dominant_Topic</th>\n",
              "      <th>Topic_Perc_Contrib</th>\n",
              "      <th>Keywords</th>\n",
              "      <th>Text</th>\n",
              "    </tr>\n",
              "  </thead>\n",
              "  <tbody>\n",
              "    <tr>\n",
              "      <th>0</th>\n",
              "      <td>0</td>\n",
              "      <td>1.0</td>\n",
              "      <td>0.5971</td>\n",
              "      <td>futbol, tambien, comentarios, equipo, momento,...</td>\n",
              "      <td>[estadio, futbol, quedarnos, casa, departament...</td>\n",
              "    </tr>\n",
              "    <tr>\n",
              "      <th>1</th>\n",
              "      <td>1</td>\n",
              "      <td>1.0</td>\n",
              "      <td>0.5503</td>\n",
              "      <td>futbol, tambien, comentarios, equipo, momento,...</td>\n",
              "      <td>[empresa, jugadores, opositores, temporada, eq...</td>\n",
              "    </tr>\n",
              "    <tr>\n",
              "      <th>2</th>\n",
              "      <td>2</td>\n",
              "      <td>6.0</td>\n",
              "      <td>0.5819</td>\n",
              "      <td>tambien, comentarios, sistema, forma, tiempo, ...</td>\n",
              "      <td>[cara, deportistas, rol, lucha, caso, campeona...</td>\n",
              "    </tr>\n",
              "    <tr>\n",
              "      <th>3</th>\n",
              "      <td>3</td>\n",
              "      <td>1.0</td>\n",
              "      <td>0.9717</td>\n",
              "      <td>futbol, tambien, comentarios, equipo, momento,...</td>\n",
              "      <td>[futbol, futbol, resto, actividades, marco, cr...</td>\n",
              "    </tr>\n",
              "    <tr>\n",
              "      <th>4</th>\n",
              "      <td>4</td>\n",
              "      <td>4.0</td>\n",
              "      <td>0.6569</td>\n",
              "      <td>vez, tiempo, equipo, casa, tambien, jugador, j...</td>\n",
              "      <td>[minuto, dilema, pagos, mundo, mote, facilidad...</td>\n",
              "    </tr>\n",
              "    <tr>\n",
              "      <th>5</th>\n",
              "      <td>5</td>\n",
              "      <td>1.0</td>\n",
              "      <td>0.6709</td>\n",
              "      <td>futbol, tambien, comentarios, equipo, momento,...</td>\n",
              "      <td>[boca, boca, semestre, debut, lesiones, regres...</td>\n",
              "    </tr>\n",
              "    <tr>\n",
              "      <th>6</th>\n",
              "      <td>6</td>\n",
              "      <td>1.0</td>\n",
              "      <td>0.6190</td>\n",
              "      <td>futbol, tambien, comentarios, equipo, momento,...</td>\n",
              "      <td>[boca, sumo, competidor, contrato, diciembre, ...</td>\n",
              "    </tr>\n",
              "    <tr>\n",
              "      <th>7</th>\n",
              "      <td>7</td>\n",
              "      <td>1.0</td>\n",
              "      <td>0.9854</td>\n",
              "      <td>futbol, tambien, comentarios, equipo, momento,...</td>\n",
              "      <td>[futuro, argentino, rumores, salida, futuro, f...</td>\n",
              "    </tr>\n",
              "    <tr>\n",
              "      <th>8</th>\n",
              "      <td>8</td>\n",
              "      <td>1.0</td>\n",
              "      <td>0.9937</td>\n",
              "      <td>futbol, tambien, comentarios, equipo, momento,...</td>\n",
              "      <td>[boca, vez, clubes, hockey, dia, clubes, boca,...</td>\n",
              "    </tr>\n",
              "    <tr>\n",
              "      <th>9</th>\n",
              "      <td>9</td>\n",
              "      <td>1.0</td>\n",
              "      <td>0.9765</td>\n",
              "      <td>futbol, tambien, comentarios, equipo, momento,...</td>\n",
              "      <td>[presidente, llevarse, jugadores, conflicto, c...</td>\n",
              "    </tr>\n",
              "  </tbody>\n",
              "</table>\n",
              "</div>"
            ],
            "text/plain": [
              "   Document_No  ...                                               Text\n",
              "0            0  ...  [estadio, futbol, quedarnos, casa, departament...\n",
              "1            1  ...  [empresa, jugadores, opositores, temporada, eq...\n",
              "2            2  ...  [cara, deportistas, rol, lucha, caso, campeona...\n",
              "3            3  ...  [futbol, futbol, resto, actividades, marco, cr...\n",
              "4            4  ...  [minuto, dilema, pagos, mundo, mote, facilidad...\n",
              "5            5  ...  [boca, boca, semestre, debut, lesiones, regres...\n",
              "6            6  ...  [boca, sumo, competidor, contrato, diciembre, ...\n",
              "7            7  ...  [futuro, argentino, rumores, salida, futuro, f...\n",
              "8            8  ...  [boca, vez, clubes, hockey, dia, clubes, boca,...\n",
              "9            9  ...  [presidente, llevarse, jugadores, conflicto, c...\n",
              "\n",
              "[10 rows x 5 columns]"
            ]
          },
          "metadata": {
            "tags": []
          },
          "execution_count": 38
        }
      ]
    },
    {
      "cell_type": "markdown",
      "metadata": {
        "id": "4VQUohlzc7xx",
        "colab_type": "text"
      },
      "source": [
        "---\n",
        "\n",
        "Se mapea cada tópico con una etiqueta que lo describe.\n",
        "\n",
        "Primero se crea el diccionario.\n",
        "\n",
        "---"
      ]
    },
    {
      "cell_type": "code",
      "metadata": {
        "id": "L8MAIYXec8a7",
        "colab_type": "code",
        "colab": {}
      },
      "source": [
        "#label_dicc = {0:'trials', 1:'nature', 2:'violence', 3: 'protest', 4:'life_family', 5:'sea_disasters', 6:'elections', 7:'terrorism', 8:'economic_crisis', 9: 'seism', 10:'peacy_treaty', 11:'airport_security'}\n",
        "#label_dicc = {0:'elecciones', 1:'espectáculos', 2:'chile', 3: 'familia', 4:'deportes y ocio', 5:'tecnología', 6:'economía', 7:'estudio', 8:'jóvenes', 9: 'deportes y videojuegos', 10:'justicia', 11:'ciudad'}\n",
        "\n",
        "label_dicc = {0:'Mercado', 1:'Futbol', 2:'Crisis economica', 3: 'Aislamiento', 4:'Deporte', 5:'Medidas', 6:'Mundo', 7:'Deuda'}\n"
      ],
      "execution_count": 0,
      "outputs": []
    },
    {
      "cell_type": "code",
      "metadata": {
        "id": "B2ZF5Kxac_9l",
        "colab_type": "code",
        "colab": {}
      },
      "source": [
        "df_dominant_topic['Dominant_Topic'] = df_dominant_topic['Dominant_Topic'].astype('int64')"
      ],
      "execution_count": 0,
      "outputs": []
    },
    {
      "cell_type": "markdown",
      "metadata": {
        "id": "L_KWTLtNisNZ",
        "colab_type": "text"
      },
      "source": [
        "---\n",
        "\n",
        "Luego se realiza el mapeo.\n",
        "\n",
        "---"
      ]
    },
    {
      "cell_type": "code",
      "metadata": {
        "id": "aeTWryxldCRF",
        "colab_type": "code",
        "outputId": "15bde764-4ef3-4656-a771-42b90a4b919a",
        "colab": {
          "base_uri": "https://localhost:8080/",
          "height": 990
        }
      },
      "source": [
        "df_dominant_topic['Dominant_Topic'] = df_dominant_topic['Dominant_Topic'].map(label_dicc)\n",
        "df_dominant_topic.head(30)"
      ],
      "execution_count": 41,
      "outputs": [
        {
          "output_type": "execute_result",
          "data": {
            "text/html": [
              "<div>\n",
              "<style scoped>\n",
              "    .dataframe tbody tr th:only-of-type {\n",
              "        vertical-align: middle;\n",
              "    }\n",
              "\n",
              "    .dataframe tbody tr th {\n",
              "        vertical-align: top;\n",
              "    }\n",
              "\n",
              "    .dataframe thead th {\n",
              "        text-align: right;\n",
              "    }\n",
              "</style>\n",
              "<table border=\"1\" class=\"dataframe\">\n",
              "  <thead>\n",
              "    <tr style=\"text-align: right;\">\n",
              "      <th></th>\n",
              "      <th>Document_No</th>\n",
              "      <th>Dominant_Topic</th>\n",
              "      <th>Topic_Perc_Contrib</th>\n",
              "      <th>Keywords</th>\n",
              "      <th>Text</th>\n",
              "    </tr>\n",
              "  </thead>\n",
              "  <tbody>\n",
              "    <tr>\n",
              "      <th>0</th>\n",
              "      <td>0</td>\n",
              "      <td>Futbol</td>\n",
              "      <td>0.5971</td>\n",
              "      <td>futbol, tambien, comentarios, equipo, momento,...</td>\n",
              "      <td>[estadio, futbol, quedarnos, casa, departament...</td>\n",
              "    </tr>\n",
              "    <tr>\n",
              "      <th>1</th>\n",
              "      <td>1</td>\n",
              "      <td>Futbol</td>\n",
              "      <td>0.5503</td>\n",
              "      <td>futbol, tambien, comentarios, equipo, momento,...</td>\n",
              "      <td>[empresa, jugadores, opositores, temporada, eq...</td>\n",
              "    </tr>\n",
              "    <tr>\n",
              "      <th>2</th>\n",
              "      <td>2</td>\n",
              "      <td>Mundo</td>\n",
              "      <td>0.5819</td>\n",
              "      <td>tambien, comentarios, sistema, forma, tiempo, ...</td>\n",
              "      <td>[cara, deportistas, rol, lucha, caso, campeona...</td>\n",
              "    </tr>\n",
              "    <tr>\n",
              "      <th>3</th>\n",
              "      <td>3</td>\n",
              "      <td>Futbol</td>\n",
              "      <td>0.9717</td>\n",
              "      <td>futbol, tambien, comentarios, equipo, momento,...</td>\n",
              "      <td>[futbol, futbol, resto, actividades, marco, cr...</td>\n",
              "    </tr>\n",
              "    <tr>\n",
              "      <th>4</th>\n",
              "      <td>4</td>\n",
              "      <td>Deporte</td>\n",
              "      <td>0.6569</td>\n",
              "      <td>vez, tiempo, equipo, casa, tambien, jugador, j...</td>\n",
              "      <td>[minuto, dilema, pagos, mundo, mote, facilidad...</td>\n",
              "    </tr>\n",
              "    <tr>\n",
              "      <th>5</th>\n",
              "      <td>5</td>\n",
              "      <td>Futbol</td>\n",
              "      <td>0.6709</td>\n",
              "      <td>futbol, tambien, comentarios, equipo, momento,...</td>\n",
              "      <td>[boca, boca, semestre, debut, lesiones, regres...</td>\n",
              "    </tr>\n",
              "    <tr>\n",
              "      <th>6</th>\n",
              "      <td>6</td>\n",
              "      <td>Futbol</td>\n",
              "      <td>0.6190</td>\n",
              "      <td>futbol, tambien, comentarios, equipo, momento,...</td>\n",
              "      <td>[boca, sumo, competidor, contrato, diciembre, ...</td>\n",
              "    </tr>\n",
              "    <tr>\n",
              "      <th>7</th>\n",
              "      <td>7</td>\n",
              "      <td>Futbol</td>\n",
              "      <td>0.9854</td>\n",
              "      <td>futbol, tambien, comentarios, equipo, momento,...</td>\n",
              "      <td>[futuro, argentino, rumores, salida, futuro, f...</td>\n",
              "    </tr>\n",
              "    <tr>\n",
              "      <th>8</th>\n",
              "      <td>8</td>\n",
              "      <td>Futbol</td>\n",
              "      <td>0.9937</td>\n",
              "      <td>futbol, tambien, comentarios, equipo, momento,...</td>\n",
              "      <td>[boca, vez, clubes, hockey, dia, clubes, boca,...</td>\n",
              "    </tr>\n",
              "    <tr>\n",
              "      <th>9</th>\n",
              "      <td>9</td>\n",
              "      <td>Futbol</td>\n",
              "      <td>0.9765</td>\n",
              "      <td>futbol, tambien, comentarios, equipo, momento,...</td>\n",
              "      <td>[presidente, llevarse, jugadores, conflicto, c...</td>\n",
              "    </tr>\n",
              "    <tr>\n",
              "      <th>10</th>\n",
              "      <td>10</td>\n",
              "      <td>Futbol</td>\n",
              "      <td>0.8781</td>\n",
              "      <td>futbol, tambien, comentarios, equipo, momento,...</td>\n",
              "      <td>[futbol, mundo, cuarentena, temas, paso, boca,...</td>\n",
              "    </tr>\n",
              "    <tr>\n",
              "      <th>11</th>\n",
              "      <td>11</td>\n",
              "      <td>Deporte</td>\n",
              "      <td>0.5407</td>\n",
              "      <td>vez, tiempo, equipo, casa, tambien, jugador, j...</td>\n",
              "      <td>[medidas, tiempo, familia, domingo, abril, esp...</td>\n",
              "    </tr>\n",
              "    <tr>\n",
              "      <th>12</th>\n",
              "      <td>12</td>\n",
              "      <td>Futbol</td>\n",
              "      <td>0.8338</td>\n",
              "      <td>futbol, tambien, comentarios, equipo, momento,...</td>\n",
              "      <td>[contratos, futbol, crisis, futuro, definicion...</td>\n",
              "    </tr>\n",
              "    <tr>\n",
              "      <th>13</th>\n",
              "      <td>13</td>\n",
              "      <td>Futbol</td>\n",
              "      <td>0.8777</td>\n",
              "      <td>futbol, tambien, comentarios, equipo, momento,...</td>\n",
              "      <td>[futbol, riesgo, dia, dia, numeros, muertos, p...</td>\n",
              "    </tr>\n",
              "    <tr>\n",
              "      <th>14</th>\n",
              "      <td>14</td>\n",
              "      <td>Futbol</td>\n",
              "      <td>0.6619</td>\n",
              "      <td>futbol, tambien, comentarios, equipo, momento,...</td>\n",
              "      <td>[futbol, torneo, provoco, futbol, partidos, di...</td>\n",
              "    </tr>\n",
              "    <tr>\n",
              "      <th>15</th>\n",
              "      <td>15</td>\n",
              "      <td>Futbol</td>\n",
              "      <td>0.6273</td>\n",
              "      <td>futbol, tambien, comentarios, equipo, momento,...</td>\n",
              "      <td>[suma, pase, historia, pesar, emergencias, mer...</td>\n",
              "    </tr>\n",
              "    <tr>\n",
              "      <th>16</th>\n",
              "      <td>16</td>\n",
              "      <td>Futbol</td>\n",
              "      <td>0.6762</td>\n",
              "      <td>futbol, tambien, comentarios, equipo, momento,...</td>\n",
              "      <td>[rivales, pistas, tambien, amigos, piloto, sel...</td>\n",
              "    </tr>\n",
              "    <tr>\n",
              "      <th>17</th>\n",
              "      <td>17</td>\n",
              "      <td>Futbol</td>\n",
              "      <td>0.9890</td>\n",
              "      <td>futbol, tambien, comentarios, equipo, momento,...</td>\n",
              "      <td>[record, darse, cuenta, abril, eternidad, gole...</td>\n",
              "    </tr>\n",
              "    <tr>\n",
              "      <th>18</th>\n",
              "      <td>18</td>\n",
              "      <td>Deporte</td>\n",
              "      <td>0.3686</td>\n",
              "      <td>vez, tiempo, equipo, casa, tambien, jugador, j...</td>\n",
              "      <td>[panorama, futbolistas, junio, avance, nivel, ...</td>\n",
              "    </tr>\n",
              "    <tr>\n",
              "      <th>19</th>\n",
              "      <td>19</td>\n",
              "      <td>Deporte</td>\n",
              "      <td>0.8549</td>\n",
              "      <td>vez, tiempo, equipo, casa, tambien, jugador, j...</td>\n",
              "      <td>[cambios, pumas, candidato, presidente, rival,...</td>\n",
              "    </tr>\n",
              "    <tr>\n",
              "      <th>20</th>\n",
              "      <td>20</td>\n",
              "      <td>Futbol</td>\n",
              "      <td>0.6473</td>\n",
              "      <td>futbol, tambien, comentarios, equipo, momento,...</td>\n",
              "      <td>[guerra, mano, pandemia, marco, sue, atletas, ...</td>\n",
              "    </tr>\n",
              "    <tr>\n",
              "      <th>21</th>\n",
              "      <td>21</td>\n",
              "      <td>Futbol</td>\n",
              "      <td>0.6711</td>\n",
              "      <td>futbol, tambien, comentarios, equipo, momento,...</td>\n",
              "      <td>[frase, familia, mundo, defensor, hijos, debut...</td>\n",
              "    </tr>\n",
              "    <tr>\n",
              "      <th>22</th>\n",
              "      <td>22</td>\n",
              "      <td>Mundo</td>\n",
              "      <td>0.9663</td>\n",
              "      <td>tambien, comentarios, sistema, forma, tiempo, ...</td>\n",
              "      <td>[nivel, consecuencia, domingo, creyentes, lado...</td>\n",
              "    </tr>\n",
              "    <tr>\n",
              "      <th>23</th>\n",
              "      <td>23</td>\n",
              "      <td>Futbol</td>\n",
              "      <td>0.4747</td>\n",
              "      <td>futbol, tambien, comentarios, equipo, momento,...</td>\n",
              "      <td>[jugador, delantero, cuarentena, pandemia, vez...</td>\n",
              "    </tr>\n",
              "    <tr>\n",
              "      <th>24</th>\n",
              "      <td>24</td>\n",
              "      <td>Mercado</td>\n",
              "      <td>0.9227</td>\n",
              "      <td>abril, parte, tambien, comentarios, marzo, pre...</td>\n",
              "      <td>[dolares, costos, dolares, aplazamiento, parte...</td>\n",
              "    </tr>\n",
              "    <tr>\n",
              "      <th>25</th>\n",
              "      <td>25</td>\n",
              "      <td>Deporte</td>\n",
              "      <td>0.7582</td>\n",
              "      <td>vez, tiempo, equipo, casa, tambien, jugador, j...</td>\n",
              "      <td>[padecimientos, vida, complicaciones, equipos,...</td>\n",
              "    </tr>\n",
              "    <tr>\n",
              "      <th>26</th>\n",
              "      <td>26</td>\n",
              "      <td>Futbol</td>\n",
              "      <td>0.6141</td>\n",
              "      <td>futbol, tambien, comentarios, equipo, momento,...</td>\n",
              "      <td>[torneo, tenis, tenis, parate, hombres, princi...</td>\n",
              "    </tr>\n",
              "    <tr>\n",
              "      <th>27</th>\n",
              "      <td>27</td>\n",
              "      <td>Futbol</td>\n",
              "      <td>0.9825</td>\n",
              "      <td>futbol, tambien, comentarios, equipo, momento,...</td>\n",
              "      <td>[intento, despensa, bollos, frase, club, tempo...</td>\n",
              "    </tr>\n",
              "    <tr>\n",
              "      <th>28</th>\n",
              "      <td>28</td>\n",
              "      <td>Mercado</td>\n",
              "      <td>0.4952</td>\n",
              "      <td>abril, parte, tambien, comentarios, marzo, pre...</td>\n",
              "      <td>[queda, pandemia, proyeccion, reina, incertidu...</td>\n",
              "    </tr>\n",
              "    <tr>\n",
              "      <th>29</th>\n",
              "      <td>29</td>\n",
              "      <td>Futbol</td>\n",
              "      <td>0.9854</td>\n",
              "      <td>futbol, tambien, comentarios, equipo, momento,...</td>\n",
              "      <td>[escandalos, cuarentena, centro, tenista, cuar...</td>\n",
              "    </tr>\n",
              "  </tbody>\n",
              "</table>\n",
              "</div>"
            ],
            "text/plain": [
              "    Document_No  ...                                               Text\n",
              "0             0  ...  [estadio, futbol, quedarnos, casa, departament...\n",
              "1             1  ...  [empresa, jugadores, opositores, temporada, eq...\n",
              "2             2  ...  [cara, deportistas, rol, lucha, caso, campeona...\n",
              "3             3  ...  [futbol, futbol, resto, actividades, marco, cr...\n",
              "4             4  ...  [minuto, dilema, pagos, mundo, mote, facilidad...\n",
              "5             5  ...  [boca, boca, semestre, debut, lesiones, regres...\n",
              "6             6  ...  [boca, sumo, competidor, contrato, diciembre, ...\n",
              "7             7  ...  [futuro, argentino, rumores, salida, futuro, f...\n",
              "8             8  ...  [boca, vez, clubes, hockey, dia, clubes, boca,...\n",
              "9             9  ...  [presidente, llevarse, jugadores, conflicto, c...\n",
              "10           10  ...  [futbol, mundo, cuarentena, temas, paso, boca,...\n",
              "11           11  ...  [medidas, tiempo, familia, domingo, abril, esp...\n",
              "12           12  ...  [contratos, futbol, crisis, futuro, definicion...\n",
              "13           13  ...  [futbol, riesgo, dia, dia, numeros, muertos, p...\n",
              "14           14  ...  [futbol, torneo, provoco, futbol, partidos, di...\n",
              "15           15  ...  [suma, pase, historia, pesar, emergencias, mer...\n",
              "16           16  ...  [rivales, pistas, tambien, amigos, piloto, sel...\n",
              "17           17  ...  [record, darse, cuenta, abril, eternidad, gole...\n",
              "18           18  ...  [panorama, futbolistas, junio, avance, nivel, ...\n",
              "19           19  ...  [cambios, pumas, candidato, presidente, rival,...\n",
              "20           20  ...  [guerra, mano, pandemia, marco, sue, atletas, ...\n",
              "21           21  ...  [frase, familia, mundo, defensor, hijos, debut...\n",
              "22           22  ...  [nivel, consecuencia, domingo, creyentes, lado...\n",
              "23           23  ...  [jugador, delantero, cuarentena, pandemia, vez...\n",
              "24           24  ...  [dolares, costos, dolares, aplazamiento, parte...\n",
              "25           25  ...  [padecimientos, vida, complicaciones, equipos,...\n",
              "26           26  ...  [torneo, tenis, tenis, parate, hombres, princi...\n",
              "27           27  ...  [intento, despensa, bollos, frase, club, tempo...\n",
              "28           28  ...  [queda, pandemia, proyeccion, reina, incertidu...\n",
              "29           29  ...  [escandalos, cuarentena, centro, tenista, cuar...\n",
              "\n",
              "[30 rows x 5 columns]"
            ]
          },
          "metadata": {
            "tags": []
          },
          "execution_count": 41
        }
      ]
    },
    {
      "cell_type": "code",
      "metadata": {
        "id": "m65OP30odIfP",
        "colab_type": "code",
        "colab": {}
      },
      "source": [
        "df_news['Tópicos'] = df_dominant_topic['Dominant_Topic']"
      ],
      "execution_count": 0,
      "outputs": []
    },
    {
      "cell_type": "markdown",
      "metadata": {
        "id": "VboERCq-dK6l",
        "colab_type": "text"
      },
      "source": [
        "---\n",
        "\n",
        "Se visualizan algunas noticias y su tópico asociado.\n",
        "\n",
        "---"
      ]
    },
    {
      "cell_type": "code",
      "metadata": {
        "id": "WeOraBICdMMN",
        "colab_type": "code",
        "outputId": "91135a8c-b2b2-4d3f-ea13-519fd3657476",
        "colab": {
          "base_uri": "https://localhost:8080/",
          "height": 990
        }
      },
      "source": [
        "df_news[['titleandbody2', 'Tópicos']].head(30)\n",
        "#df_news[['titleandbody2', 'Tópicos']][df_news['Tópicos']=='deportes'].head(50)"
      ],
      "execution_count": 43,
      "outputs": [
        {
          "output_type": "execute_result",
          "data": {
            "text/html": [
              "<div>\n",
              "<style scoped>\n",
              "    .dataframe tbody tr th:only-of-type {\n",
              "        vertical-align: middle;\n",
              "    }\n",
              "\n",
              "    .dataframe tbody tr th {\n",
              "        vertical-align: top;\n",
              "    }\n",
              "\n",
              "    .dataframe thead th {\n",
              "        text-align: right;\n",
              "    }\n",
              "</style>\n",
              "<table border=\"1\" class=\"dataframe\">\n",
              "  <thead>\n",
              "    <tr style=\"text-align: right;\">\n",
              "      <th></th>\n",
              "      <th>titleandbody2</th>\n",
              "      <th>Tópicos</th>\n",
              "    </tr>\n",
              "  </thead>\n",
              "  <tbody>\n",
              "    <tr>\n",
              "      <th>0</th>\n",
              "      <td>El “Pablo Vico” de España: tiene 83 años y pas...</td>\n",
              "      <td>Futbol</td>\n",
              "    </tr>\n",
              "    <tr>\n",
              "      <th>1</th>\n",
              "      <td>Adelantan que en Barcelona se habrían pagado s...</td>\n",
              "      <td>Futbol</td>\n",
              "    </tr>\n",
              "    <tr>\n",
              "      <th>2</th>\n",
              "      <td>Jana Pittman, la campeona mundial que lucha en...</td>\n",
              "      <td>Mundo</td>\n",
              "    </tr>\n",
              "    <tr>\n",
              "      <th>3</th>\n",
              "      <td>Coronavirus: la OMS pidió que paren el fútbol ...</td>\n",
              "      <td>Futbol</td>\n",
              "    </tr>\n",
              "    <tr>\n",
              "      <th>4</th>\n",
              "      <td>El Araña Amuchástegui, el crack que rechazó un...</td>\n",
              "      <td>Deporte</td>\n",
              "    </tr>\n",
              "    <tr>\n",
              "      <th>5</th>\n",
              "      <td>Daniele De Rossi: la gran anécdota de su prime...</td>\n",
              "      <td>Futbol</td>\n",
              "    </tr>\n",
              "    <tr>\n",
              "      <th>6</th>\n",
              "      <td>A Boca se le sumó un fuerte competidor: Lugano...</td>\n",
              "      <td>Futbol</td>\n",
              "    </tr>\n",
              "    <tr>\n",
              "      <th>7</th>\n",
              "      <td>Javier Zanetti volvió a ser tajante con el fut...</td>\n",
              "      <td>Futbol</td>\n",
              "    </tr>\n",
              "    <tr>\n",
              "      <th>8</th>\n",
              "      <td>Boca se suma y cada vez son más los clubes de ...</td>\n",
              "      <td>Futbol</td>\n",
              "    </tr>\n",
              "    <tr>\n",
              "      <th>9</th>\n",
              "      <td>El presidente de Santos acusó a Sampaoli de qu...</td>\n",
              "      <td>Futbol</td>\n",
              "    </tr>\n",
              "    <tr>\n",
              "      <th>10</th>\n",
              "      <td>Daniele De Rossi: de los elogios para Gallardo...</td>\n",
              "      <td>Futbol</td>\n",
              "    </tr>\n",
              "    <tr>\n",
              "      <th>11</th>\n",
              "      <td>Ricky Alvarez volvió a Vélez y ahora se entren...</td>\n",
              "      <td>Deporte</td>\n",
              "    </tr>\n",
              "    <tr>\n",
              "      <th>12</th>\n",
              "      <td>De Carlos Tevez a Ignacio Scocco y Lisandro Ló...</td>\n",
              "      <td>Futbol</td>\n",
              "    </tr>\n",
              "    <tr>\n",
              "      <th>13</th>\n",
              "      <td>Marcelo Bielsa, contra el regreso del fútbol: ...</td>\n",
              "      <td>Futbol</td>\n",
              "    </tr>\n",
              "    <tr>\n",
              "      <th>14</th>\n",
              "      <td>Un día para extrañar al fútbol: hace 129 años ...</td>\n",
              "      <td>Futbol</td>\n",
              "    </tr>\n",
              "    <tr>\n",
              "      <th>15</th>\n",
              "      <td>Tottenham tasó a Harry Kane en una suma multim...</td>\n",
              "      <td>Futbol</td>\n",
              "    </tr>\n",
              "    <tr>\n",
              "      <th>16</th>\n",
              "      <td>El día que Juan Manuel Fangio salvó a Stirling...</td>\n",
              "      <td>Futbol</td>\n",
              "    </tr>\n",
              "    <tr>\n",
              "      <th>17</th>\n",
              "      <td>A diez años del récord histórico de Martín Pal...</td>\n",
              "      <td>Futbol</td>\n",
              "    </tr>\n",
              "    <tr>\n",
              "      <th>18</th>\n",
              "      <td>La FIFA oscureció el panorama para los futboli...</td>\n",
              "      <td>Deporte</td>\n",
              "    </tr>\n",
              "    <tr>\n",
              "      <th>19</th>\n",
              "      <td>Agustín Pichot, entre sus ideas para presidir ...</td>\n",
              "      <td>Deporte</td>\n",
              "    </tr>\n",
              "    <tr>\n",
              "      <th>20</th>\n",
              "      <td>Cuando la Guerra Fría y el deporte fueron de l...</td>\n",
              "      <td>Futbol</td>\n",
              "    </tr>\n",
              "    <tr>\n",
              "      <th>21</th>\n",
              "      <td>Tiago se suma a la dinastía de los Pernía en e...</td>\n",
              "      <td>Futbol</td>\n",
              "    </tr>\n",
              "    <tr>\n",
              "      <th>22</th>\n",
              "      <td>Lionel Messi y Cristiano Ronaldo, en cuarenten...</td>\n",
              "      <td>Mundo</td>\n",
              "    </tr>\n",
              "    <tr>\n",
              "      <th>23</th>\n",
              "      <td>Coronavirus en Argentina: Olimpo de Bahía Blan...</td>\n",
              "      <td>Futbol</td>\n",
              "    </tr>\n",
              "    <tr>\n",
              "      <th>24</th>\n",
              "      <td>Los miles de millones de dólares que le costar...</td>\n",
              "      <td>Mercado</td>\n",
              "    </tr>\n",
              "    <tr>\n",
              "      <th>25</th>\n",
              "      <td>Coronavirus en Argentina: los padecimientos de...</td>\n",
              "      <td>Deporte</td>\n",
              "    </tr>\n",
              "    <tr>\n",
              "      <th>26</th>\n",
              "      <td>Coronavirus en España: así será el Madrid Open...</td>\n",
              "      <td>Futbol</td>\n",
              "    </tr>\n",
              "    <tr>\n",
              "      <th>27</th>\n",
              "      <td>Coronavirus en España: el crack del Real Madri...</td>\n",
              "      <td>Futbol</td>\n",
              "    </tr>\n",
              "    <tr>\n",
              "      <th>28</th>\n",
              "      <td>Boca relojea el mercado de pases y estudia con...</td>\n",
              "      <td>Mercado</td>\n",
              "    </tr>\n",
              "    <tr>\n",
              "      <th>29</th>\n",
              "      <td>Los escándalos de Nick Kyrgios no aflojan ni e...</td>\n",
              "      <td>Futbol</td>\n",
              "    </tr>\n",
              "  </tbody>\n",
              "</table>\n",
              "</div>"
            ],
            "text/plain": [
              "                                        titleandbody2  Tópicos\n",
              "0   El “Pablo Vico” de España: tiene 83 años y pas...   Futbol\n",
              "1   Adelantan que en Barcelona se habrían pagado s...   Futbol\n",
              "2   Jana Pittman, la campeona mundial que lucha en...    Mundo\n",
              "3   Coronavirus: la OMS pidió que paren el fútbol ...   Futbol\n",
              "4   El Araña Amuchástegui, el crack que rechazó un...  Deporte\n",
              "5   Daniele De Rossi: la gran anécdota de su prime...   Futbol\n",
              "6   A Boca se le sumó un fuerte competidor: Lugano...   Futbol\n",
              "7   Javier Zanetti volvió a ser tajante con el fut...   Futbol\n",
              "8   Boca se suma y cada vez son más los clubes de ...   Futbol\n",
              "9   El presidente de Santos acusó a Sampaoli de qu...   Futbol\n",
              "10  Daniele De Rossi: de los elogios para Gallardo...   Futbol\n",
              "11  Ricky Alvarez volvió a Vélez y ahora se entren...  Deporte\n",
              "12  De Carlos Tevez a Ignacio Scocco y Lisandro Ló...   Futbol\n",
              "13  Marcelo Bielsa, contra el regreso del fútbol: ...   Futbol\n",
              "14  Un día para extrañar al fútbol: hace 129 años ...   Futbol\n",
              "15  Tottenham tasó a Harry Kane en una suma multim...   Futbol\n",
              "16  El día que Juan Manuel Fangio salvó a Stirling...   Futbol\n",
              "17  A diez años del récord histórico de Martín Pal...   Futbol\n",
              "18  La FIFA oscureció el panorama para los futboli...  Deporte\n",
              "19  Agustín Pichot, entre sus ideas para presidir ...  Deporte\n",
              "20  Cuando la Guerra Fría y el deporte fueron de l...   Futbol\n",
              "21  Tiago se suma a la dinastía de los Pernía en e...   Futbol\n",
              "22  Lionel Messi y Cristiano Ronaldo, en cuarenten...    Mundo\n",
              "23  Coronavirus en Argentina: Olimpo de Bahía Blan...   Futbol\n",
              "24  Los miles de millones de dólares que le costar...  Mercado\n",
              "25  Coronavirus en Argentina: los padecimientos de...  Deporte\n",
              "26  Coronavirus en España: así será el Madrid Open...   Futbol\n",
              "27  Coronavirus en España: el crack del Real Madri...   Futbol\n",
              "28  Boca relojea el mercado de pases y estudia con...  Mercado\n",
              "29  Los escándalos de Nick Kyrgios no aflojan ni e...   Futbol"
            ]
          },
          "metadata": {
            "tags": []
          },
          "execution_count": 43
        }
      ]
    },
    {
      "cell_type": "code",
      "metadata": {
        "id": "nwnCMZBfdTxy",
        "colab_type": "code",
        "outputId": "c8345e5e-ecce-4513-ba52-f28d2c3aafab",
        "colab": {
          "base_uri": "https://localhost:8080/",
          "height": 54
        }
      },
      "source": [
        "# df_news[ df_news['Tópicos'] == 'deportes y ocio'].head().titleandbody2[29]"
      ],
      "execution_count": 0,
      "outputs": [
        {
          "output_type": "execute_result",
          "data": {
            "text/plain": [
              "'Mario Ledesma, íntimo: el visceral DT de Los Pumas que llora, le teme a las alturas, come sin fondo y ama el campo // “No me hagas mirar hacia abajo porque me da vértigo”. Desde el piso 16 del hotel New Otani, frente al amplio ventanal de un cómodo salón, el pedido del protagonista al fotógrafo de Clarín suena casi a ruego. Y así lo justifica: “No me gustan las alturas porque me mareo. Quizá por eso no me gusta viajar en avión. En auto, tren o colectivo no tengo problemas. Si hasta en el tren bala pude escribir con el celular o leer sin problemas. Pero acá arriba...”. Quien habla es Mario Ezequiel Ledesma Arocena, “Bocha” para sus amigos (“No me acuerdo quién me puso ese apodo. Fue en Los Pumas y fue por el tamaño de mi cabeza y porque me empecé a quedar pelado de muy joven. Creo que en el Mundial 99 ya era pelado”, cuenta y recuerda), “Gordo” o “Negro” para su padre, quien así lo llamaba de chico y junto a su mamá\\xa0les inculcó el amor y la pasión por el deporte\\xa0a sus hermanos y a él. La charla estaba prevista desde la semana pasada. “Para hablar de vos, más allá del rugby”, fue la propuesta. “Dale, si ganamos el sábado, antes de Inglaterra la hacemos”, se prendió y prometió. Recibir newsletter En el mediodía del martes, a la hora señalada, el entrenador de Los Pumas empezó a cumplir su palabra en una charla de 35 minutos en la que se emocionó, gesticuló, se entusiasmó y recordó. En cada respuesta, Ledesma dejó su impronta. La que no conocía la gente que no lo conoce. Hasta hoy. Un Ledesma auténtico,\\xa0descendiente de vascos y de gallegos. Visceral y autocrítico. Y siempre frontal. Mario Ledesma, en el entrenamiento de Los Pumas en Tokio.\\nFoto: Germán García Adrasti / Enviado especial -En tu manera de ser, ¿sos vasco y gallego también? ¿Sos testarudo? -Sí, lo tengo todo por ese lado. Viene de mi abuelo. Todos me dicen que me parezco a él. Era difícil el abuelo. -¿Y vos sos difícil? -No. Si me conocés, no. Por ahí mi imagen hace que parezca medio difícil. Pero con mi familia y mis amigos no lo soy. -¿Llorás? -Todo el tiempo. Si me pongo a hablar de la familia, de mis viejos, de mi mujer y de mis hijos, lloro. Me basta ver que alguien logra algo que le costó un montón y lloro. Un tipo sacrificado al que se le dan las cosas me llega rápido. -Hablaste de tu mujer y de tus hijos. ¿Vinieron al Mundial? -En Japón están Juana, que es la más grande, es fanática de Japón y de las kokeshi (muñecas tradicionales japonesas) y tiene 16 años; y Tadeo, que tiene 13 y juega con los\\xa0menores de 14 del SIC. Juana vino con Rodrigo Roncero, que es como un hermano para mí, y Gaby, su mujer, y sus hijas. Y Tadeo está con mi hermano Diego, que vino con sus dos hijos más grandes. En Buenos Aires, con Jimena, mi mujer, se quedaron Luisa, que tiene 9 años y está extrañando mucho a sus hermanos, y Segundo, que tiene un poquito más de 2 y medio y nos saca la poca energía. -¿Viste a los chicos? -Me vinieron a ver al hotel antes del partido con Tonga y después nos fuimos a cenar con ellos, más “Roro” y Diego con sus familias. Me da alegría que estén acá y haberles dado esta posibilidad después de años de esfuerzo. Me gusta que puedan disfrutar y como papá es lo más lindo que hay verlos así. Mario Ledesma, entrenador de Los Pumas, en el mano a mano con Clarín en Tokio.\\nFoto: Germán García Adrasti / Enviado especial -¿Cómo fue tu infancia? -No nos faltó nada. Ni material ni desde lo afectivo. Mi viejo era muy laburante de lunes a viernes y mi mamá también y muy sacrificada. Papá, de muy poquito, hizo mucho, fue medalla de oro en la Facultad y como sus padres\\xa0no tenían mucha plata tuvo que hacerse cargo de la familia. Mi vieja dejó todo por nosotros y hoy se siente muy realizada a través de sus hijos y de sus nietos. -¿Y vos cómo eras? -De chico tenía eso de la justicia y la injusticia, que me trajo problemas en el colegio. Me acuerdo que una vez una profesora de Matemática me perdió una prueba y yo sabía que la había aprobado. Me dijo que tenía que recuperarla porque no la encontraba y que si no la hacía me llevaría la materia a diciembre. Yo le dije que no porque me había ido bien y no era mi culpa que ella la hubiera perdido. Mi vieja me dijo que la diera otra vez, si total yo ya la sabía... -¿Y qué pasó? -No la di\\xa0y me mando a diciembre. -¿Cómo eras como alumno? -Muy bueno. No estudiaba mucho, pero tenía muy buena memoria. -¿Cuántos hermanos son los Ledesma Arocena? -Seis. Cinco varones y la mujer en el medio, con todo lo que ello conlleva. Su primer novio la tuvo difícil... Nosotros éramos muy varoneros y nos gustaban el rugby, los deportes. Y ella nos acompañaba. -¿Y cómo llegaste al rugby? -El viejo jugaba y fue campeón de la Cuarta o Reserva del CASI con el papá de Agustín Pichot. Con él nos conocemos de bebés y las dos familias nos íbamos juntas de vacaciones. -Pero vos no arrancaste en CASI... -No. Nos fumos a Bella Vista y a los 4 años llegué a Regatas. Pero en aquellas vacaciones, Enrique, el papá de Agustín, nos empezó a decir que nos fuéramos a\\xa0CASI y nos fuimos. Hasta que mi vieja dijo basta, porque era ella la que nos llevaba de Bella Vista a Escobar a los entrenamientos de martes y jueves. Entonces se le plantó a mi viejo y nos dijo que si queríamos seguir jugando al rugby, eligiéramos un club de la zona. Y caí en Curupaytí porque mis compañeros del colegio iban a Curupa. Mario Ledesma, entrenador de Los Pumas, en el mano a mano con Clarín en Tokio.\\nFoto: Germán García Adrasti / Enviado especial -¿Sólo fue rugby en tu vida? -Y, sí. Mucho rugby. Me gusta jugar al fútbol. Soy de Boca, pero no me importa mucho. Ahora lo que hago y me encanta es andar a caballo, aunque sé que eso no es deporte. Pero al menos camino y ando a caballo como actividad física. -¿Dónde andás? -En el campo. Es mi cable a tierra. El campo, las vacas, los terneros, los perros, los caballos... Somos una familia a la que le gustan mucho los animales. Mi viejo es veterinario, mi hermano es ingeniero agrónomo, yo estudié producción animal. Y ahora crío caballos... -¿Cómo es eso? -En realidad los cría mi hermano y de vez en cuando me hace poner plata. -¿Te analizás? -Recontra creo en el psicoanálisis, porque a veces te quedás corto de herramientas y te sirve. En un momento tenía una psicóloga, pero como vivía afuera se hacía complicado con el Skype. Me parece muy importante. Por eso también yo hincho tanto con la neurociencia y el liderazgo y estoy pendiente de ese tipo de cosas. Tengo un coach, Raúl Medina, que me ayuda de alguna forma en la manera de comunicarme con los jugadores o en cómo tratar los problemas en el equipo. Cómo encarar los tipos de liderazgo y de autoridad y adaptarlos a los nuevos tiempos. Mario Ledesma, con la ovalada, en el entrenamiento de Los Pumas en Tokio.\\nFoto: Germán García Adrasti / Enviado especial -Sos el entrenador de Los Pumas. ¿A qué más aspirás en el rugby? -No puedo llegar a más. Estoy seguro de que no voy a hacer como Warren Gatland o Eddie Jones, que tienen casi 60 años y siguen dando vueltas y dirigiendo. Voy a seguir en el rugby con algo pero en el club, en un seleccionado provincial o analizando partidos en la tele. Dirigir a Los Pumas era un sueño que se transformó en un objetivo, pero no creo que sea bueno estar acá para siempre. Mi prioridad es la familia, mis hijos y pasados los 50 años no quiero seguir haciendo esto. -Ganaste un buen dinero siendo jugador profesional y después entrenando equipos profesionales. ¿En qué lo invertiste? -Soy muy malo en eso. No te digo que perdi plata, pero tampoco gané. Tengo algún departamento, lo de los caballos, me estoy construyendo mi casa... No me interesa la plata, no es algo que me llame la atención. Michael Cheika siempre dice que hay que tener un plan B, una pata del otro lado. En mi caso, son un par de campos que alquilamos con mi papá en Azul y 25 de Mayo, donde hacemos agricultura y ganadería. No es algo pensado para hacerse millonario, pero sí para el futuro y para poder vivir bien. Creo que si la motivación pasa por la guita, le estamos errando. Esto pasa con Los Pumas. En el seleccionado, la motivación tiene que ser respetar la camiseta, perpetuarla, que los chicos progresen y que lo que aprendimos en los clubes lo llevemos al seleccionado. -¿Qué hubiera sido de tu vida si no hubieras sido exitoso con el rugby? -Me hubiera ido para el lado del campo seguramente. -¿Tenés sueños? -Uno lo estamos cumpliendo con mi mujer: nos estamos haciendo nuestra primera casa propia. Estuvimos dando vueltas durante 20 años y éste era un sueño lindo. Encima nosotros somos familieros y mi mujer me decía el otro día que está pensando en los momentos lindos que vamos a vivir ahí. -¿Cuál es tu lugar en el mundo? -Donde esté mi familia. Va un poco más de la mitad de la charla y los ojos de Ledesma se humedecen... Mario Ledesma, entrenador de Los Pumas, en el mano a mano con Clarín en Tokio.\\nFoto: Germán García Adrasti / Enviado especial -Estás aflojando. -Te había dicho que si hablábamos de mi familia, iba a pasar eso. -En cada charla con la prensa, decís frases de otras personas. ¿Cuáles son las mejores? -Soy malísimo para recordarlas así, rápido. Me salen naturalmente. Me pasa con las anécdotas. Me podés preguntar cuáles son las tres mejores anécdotas de Los Pumas y no me las acuerdo enseguida. Pero quizá si estamos tomando un café, se me vienen a la cabeza y te las cuento. -¿No te acordás de ninguna frase ahora? -Mi viejo es muy bueno en eso y siempre dice: “Lo que no tiene solución, solucionado está”. Esa es casi de cabecera. ¿Viste cuándo alguien te pregunta: “¿Y qué hubiera pasado si...?\" ¡Qué se yo!\\xa0Es lo que hay y no se puede modificar el pasado. -Falta muy poco para un partido decisivo de Los Pumas. ¿Qué frase se te viene en este momento? -Una que decía “Pochola” Silva: “Lo mejor está por venir”. -¿Tenés vicios? Sí, la comida. Y mi vicio es no tener fondo. ¡Es una vergüenza! Me acuerdo que lo que más me gustaba era la tortilla de papas de mi abuela. Era una cosa espectacular. Hasta que se murió, cuando llegaba de un viaje tenía un par de tortillas babé. Porque no me gusta la sequita. Esa es para tapas. -¿Cómo te calificás como hombre? -Auténtico. -¿Virtudes y defectos? -Las virtudes y los defectos van de la mano. Es una virtud ser perseverante, pero es un defecto ser cabeza dura. Es bueno ser exigente, pero a veces te vas de rosca. Yo vivo muy intensamente todo, lo bueno y lo malo. Y hay veces que camino por el filo, pero siempre tratando de pensar en el otro. Acá, por ejemplo, trato de pensar en lo mejor para el equipo. Y a eso volverá Mario Ledesma cuando el celular deje de grabar. Stop. Tokio, Japón. Enviado especial HS'"
            ]
          },
          "metadata": {
            "tags": []
          },
          "execution_count": 70
        }
      ]
    },
    {
      "cell_type": "markdown",
      "metadata": {
        "id": "ckdZgHUjdWOg",
        "colab_type": "text"
      },
      "source": [
        "---\n",
        "\n",
        "Se visualiza la distribución de tópicos\n",
        "\n",
        "---"
      ]
    },
    {
      "cell_type": "code",
      "metadata": {
        "id": "MLEqrblAdXH5",
        "colab_type": "code",
        "outputId": "5a92851d-84bf-44ac-aefe-c3b8948fa44a",
        "colab": {
          "base_uri": "https://localhost:8080/",
          "height": 340
        }
      },
      "source": [
        "ax = df_dominant_topic['Dominant_Topic'].value_counts().plot(kind='bar')\n",
        "plt.show()"
      ],
      "execution_count": 44,
      "outputs": [
        {
          "output_type": "display_data",
          "data": {
            "image/png": "[encoded data removed]",
            "text/plain": [
              "<Figure size 432x288 with 1 Axes>"
            ]
          },
          "metadata": {
            "tags": [],
            "needs_background": "light"
          }
        }
      ]
    },
    {
      "cell_type": "markdown",
      "metadata": {
        "id": "Z9Jnas28daw6",
        "colab_type": "text"
      },
      "source": [
        "Los tópicos están desbalanceados. En un trabajo futuro se avanzará sobre este problema.\n",
        "\n",
        "---"
      ]
    },
    {
      "cell_type": "markdown",
      "metadata": {
        "id": "k8hY6d69mIJL",
        "colab_type": "text"
      },
      "source": [
        "#Visualización Interactiva del modelo\n",
        "\n",
        "---\n",
        "\n",
        "A partir del modelo configurado se realiza una visualización interactiva de los tópicos y las palabras claves que los representan. \n",
        "\n",
        "---"
      ]
    },
    {
      "cell_type": "code",
      "metadata": {
        "id": "vjyQYjd9dcmg",
        "colab_type": "code",
        "outputId": "9d3393e8-375e-4a4e-aa30-e962366ed744",
        "colab": {
          "base_uri": "https://localhost:8080/",
          "height": 660
        }
      },
      "source": [
        "!pip install pyLDAvis"
      ],
      "execution_count": 45,
      "outputs": [
        {
          "output_type": "stream",
          "text": [
            "Collecting pyLDAvis\n",
            "\u001b[?25l  Downloading https://files.pythonhosted.org/packages/a5/3a/af82e070a8a96e13217c8f362f9a73e82d61ac8fff3a2561946a97f96266/pyLDAvis-2.1.2.tar.gz (1.6MB)\n",
            "\u001b[K     |████████████████████████████████| 1.6MB 2.8MB/s \n",
            "\u001b[?25hRequirement already satisfied: wheel>=0.23.0 in /usr/local/lib/python3.6/dist-packages (from pyLDAvis) (0.34.2)\n",
            "Requirement already satisfied: numpy>=1.9.2 in /usr/local/lib/python3.6/dist-packages (from pyLDAvis) (1.18.2)\n",
            "Requirement already satisfied: scipy>=0.18.0 in /usr/local/lib/python3.6/dist-packages (from pyLDAvis) (1.4.1)\n",
            "Requirement already satisfied: pandas>=0.17.0 in /usr/local/lib/python3.6/dist-packages (from pyLDAvis) (1.0.3)\n",
            "Requirement already satisfied: joblib>=0.8.4 in /usr/local/lib/python3.6/dist-packages (from pyLDAvis) (0.14.1)\n",
            "Requirement already satisfied: jinja2>=2.7.2 in /usr/local/lib/python3.6/dist-packages (from pyLDAvis) (2.11.2)\n",
            "Requirement already satisfied: numexpr in /usr/local/lib/python3.6/dist-packages (from pyLDAvis) (2.7.1)\n",
            "Requirement already satisfied: pytest in /usr/local/lib/python3.6/dist-packages (from pyLDAvis) (3.6.4)\n",
            "Requirement already satisfied: future in /usr/local/lib/python3.6/dist-packages (from pyLDAvis) (0.16.0)\n",
            "Collecting funcy\n",
            "\u001b[?25l  Downloading https://files.pythonhosted.org/packages/ce/4b/6ffa76544e46614123de31574ad95758c421aae391a1764921b8a81e1eae/funcy-1.14.tar.gz (548kB)\n",
            "\u001b[K     |████████████████████████████████| 552kB 47.1MB/s \n",
            "\u001b[?25hRequirement already satisfied: pytz>=2017.2 in /usr/local/lib/python3.6/dist-packages (from pandas>=0.17.0->pyLDAvis) (2018.9)\n",
            "Requirement already satisfied: python-dateutil>=2.6.1 in /usr/local/lib/python3.6/dist-packages (from pandas>=0.17.0->pyLDAvis) (2.8.1)\n",
            "Requirement already satisfied: MarkupSafe>=0.23 in /usr/local/lib/python3.6/dist-packages (from jinja2>=2.7.2->pyLDAvis) (1.1.1)\n",
            "Requirement already satisfied: atomicwrites>=1.0 in /usr/local/lib/python3.6/dist-packages (from pytest->pyLDAvis) (1.3.0)\n",
            "Requirement already satisfied: setuptools in /usr/local/lib/python3.6/dist-packages (from pytest->pyLDAvis) (46.1.3)\n",
            "Requirement already satisfied: py>=1.5.0 in /usr/local/lib/python3.6/dist-packages (from pytest->pyLDAvis) (1.8.1)\n",
            "Requirement already satisfied: more-itertools>=4.0.0 in /usr/local/lib/python3.6/dist-packages (from pytest->pyLDAvis) (8.2.0)\n",
            "Requirement already satisfied: pluggy<0.8,>=0.5 in /usr/local/lib/python3.6/dist-packages (from pytest->pyLDAvis) (0.7.1)\n",
            "Requirement already satisfied: attrs>=17.4.0 in /usr/local/lib/python3.6/dist-packages (from pytest->pyLDAvis) (19.3.0)\n",
            "Requirement already satisfied: six>=1.10.0 in /usr/local/lib/python3.6/dist-packages (from pytest->pyLDAvis) (1.12.0)\n",
            "Building wheels for collected packages: pyLDAvis, funcy\n",
            "  Building wheel for pyLDAvis (setup.py) ... \u001b[?25l\u001b[?25hdone\n",
            "  Created wheel for pyLDAvis: filename=pyLDAvis-2.1.2-py2.py3-none-any.whl size=97711 sha256=f07571f9a31a41638f4297654bcfe954fadf0c8777df485911e32108487b5cd1\n",
            "  Stored in directory: /root/.cache/pip/wheels/98/71/24/513a99e58bb6b8465bae4d2d5e9dba8f0bef8179e3051ac414\n",
            "  Building wheel for funcy (setup.py) ... \u001b[?25l\u001b[?25hdone\n",
            "  Created wheel for funcy: filename=funcy-1.14-py2.py3-none-any.whl size=32042 sha256=7ce71e3586c9108636bded626c14f60207fe6b8300cd29863a6e42f0101befb0\n",
            "  Stored in directory: /root/.cache/pip/wheels/20/5a/d8/1d875df03deae6f178dfdf70238cca33f948ef8a6f5209f2eb\n",
            "Successfully built pyLDAvis funcy\n",
            "Installing collected packages: funcy, pyLDAvis\n",
            "Successfully installed funcy-1.14 pyLDAvis-2.1.2\n"
          ],
          "name": "stdout"
        }
      ]
    },
    {
      "cell_type": "code",
      "metadata": {
        "id": "LrWA3Caidgl4",
        "colab_type": "code",
        "colab": {}
      },
      "source": [
        "import pyLDAvis\n",
        "\n",
        "pyLDAvis.enable_notebook()"
      ],
      "execution_count": 0,
      "outputs": []
    },
    {
      "cell_type": "code",
      "metadata": {
        "id": "xkGrVUKHdjQW",
        "colab_type": "code",
        "outputId": "bb465dd7-a3cc-4f01-e25f-e80e170f8671",
        "colab": {
          "base_uri": "https://localhost:8080/",
          "height": 861
        }
      },
      "source": [
        "# %%time\n",
        "import pyLDAvis.gensim\n",
        "pyLDAvis.gensim.prepare(ldamodel, corpus, dictionary)"
      ],
      "execution_count": 47,
      "outputs": [
        {
          "output_type": "execute_result",
          "data": {
            "text/html": [
              "\n",
              "<link rel=\"stylesheet\" type=\"text/css\" href=\"https://cdn.rawgit.com/bmabey/pyLDAvis/files/ldavis.v1.0.0.css\">\n",
              "\n",
              "\n",
              "<div id=\"ldavis_el1231405328971594722497507427\"></div>\n",
              "<script type=\"text/javascript\">\n",
              "\n",
              "var ldavis_el1231405328971594722497507427_data = {\"mdsDat\": {\"x\": [0.07875121824274556, -0.02670854510932324, -0.005300763592883826, -0.08720741917836117, 0.07451264212703919, -0.02836120397919039, -0.003916598849976259, -0.0017693296600498124], \"y\": [-0.008969345182846393, 0.012727616789732452, -0.02745442031359801, -0.040503138003322156, -0.017895962362307748, 0.03771823278465355, 0.06971321304444199, -0.025336196756753776], \"topics\": [1, 2, 3, 4, 5, 6, 7, 8], \"cluster\": [1, 1, 1, 1, 1, 1, 1, 1], \"Freq\": [20.13954734802246, 17.080615997314453, 16.033926010131836, 12.963217735290527, 11.576828002929688, 10.497639656066895, 6.476464748382568, 5.231761932373047]}, \"tinfo\": {\"Term\": [\"oferta\", \"futbol\", \"comentarios\", \"abril\", \"bonos\", \"medidas\", \"empresas\", \"club\", \"jugador\", \"horas\", \"aislamiento\", \"precios\", \"sistema\", \"titulos\", \"emergencia\", \"pacientes\", \"casa\", \"mercado\", \"aplicaciones\", \"noticias\", \"presidente\", \"golf\", \"marzo\", \"uso\", \"jugadores\", \"equipo\", \"ingreso\", \"semana\", \"muertes\", \"valor\", \"incursiones\", \"golf\", \"besos\", \"movernos\", \"subasta\", \"quitarse\", \"microorganismos\", \"sonrisas\", \"pokemon\", \"tricampeonato\", \"empece\", \"revelacion\", \"caprichos\", \"impedimento\", \"traffic\", \"balcones\", \"bocado\", \"carcajadas\", \"primos\", \"excelencia\", \"izquierda\", \"desgracias\", \"viola\", \"intestino\", \"darsela\", \"cabezas\", \"relaja\", \"rublos\", \"recolector\", \"apellidos\", \"pumas\", \"bar\", \"rugby\", \"moverse\", \"clientas\", \"abuela\", \"rivalidad\", \"jugador\", \"bronce\", \"deporte\", \"ojala\", \"entrenador\", \"club\", \"cosas\", \"jugadores\", \"camisetas\", \"padre\", \"casa\", \"veces\", \"carrera\", \"camiseta\", \"equipo\", \"vez\", \"historia\", \"tiempo\", \"tarjeta\", \"defensor\", \"pelota\", \"clubes\", \"partido\", \"partidos\", \"cuerpo\", \"trabajo\", \"cancha\", \"lugar\", \"vida\", \"futbol\", \"gente\", \"juego\", \"dia\", \"momento\", \"tambien\", \"tiempos\", \"forma\", \"cuarentena\", \"familia\", \"meses\", \"manera\", \"parte\", \"caso\", \"mundo\", \"presidente\", \"extendio\", \"procesadores\", \"existia\", \"rueditas\", \"empleador\", \"costes\", \"instalo\", \"hospitalizaciones\", \"emoticonos\", \"tramite\", \"azota\", \"falsamente\", \"considerandos\", \"alcanzados\", \"apunto\", \"varados\", \"postergaciones\", \"pasatiempos\", \"adolescente\", \"tripulaciones\", \"entrenadoras\", \"vicepresidenta\", \"residuos\", \"asalariados\", \"garantizados\", \"atribuciones\", \"positiva\", \"vaticino\", \"nestor\", \"calificaciones\", \"ministra\", \"asignacion\", \"protector\", \"desempleo\", \"informalidad\", \"monotributistas\", \"trabajadores\", \"empleo\", \"beneficiarios\", \"emergencia\", \"ingreso\", \"dependencia\", \"salario\", \"lanzamiento\", \"bono\", \"cobro\", \"salarios\", \"empresas\", \"embarazo\", \"decreto\", \"empleos\", \"crisis\", \"sector\", \"abril\", \"numero\", \"actividad\", \"mes\", \"pago\", \"marzo\", \"tambien\", \"meses\", \"empresa\", \"trabajo\", \"dinero\", \"caso\", \"presidente\", \"pandemia\", \"parte\", \"medidas\", \"salud\", \"momento\", \"sistema\", \"vez\", \"horas\", \"tiempo\", \"cuarentena\", \"actividades\", \"mundo\", \"lvarez\", \"betas\", \"remake\", \"navegadores\", \"cepas\", \"ofrecimiento\", \"investigadora\", \"gotitas\", \"levantarse\", \"teclas\", \"retransmisiones\", \"grupales\", \"encargos\", \"rocas\", \"cartografia\", \"receptor\", \"reporto\", \"compuestos\", \"controlarlos\", \"micrones\", \"preservativos\", \"ventilador\", \"astronautas\", \"clips\", \"estornudo\", \"estorbe\", \"roca\", \"ordenadores\", \"venderse\", \"descargarse\", \"museos\", \"respirador\", \"experimentos\", \"drogas\", \"auriculares\", \"retratos\", \"chip\", \"secuencias\", \"voz\", \"reproduccion\", \"sensores\", \"mensajes\", \"herramienta\", \"difusion\", \"investigaciones\", \"participantes\", \"modelos\", \"comentarios\", \"sistema\", \"pacientes\", \"dispositivo\", \"modelo\", \"sonido\", \"forma\", \"computadora\", \"tambien\", \"informacion\", \"funciones\", \"web\", \"red\", \"software\", \"clic\", \"mundo\", \"espacio\", \"uso\", \"ayuda\", \"tiempo\", \"salud\", \"momento\", \"cuenta\", \"problemas\", \"parte\", \"gente\", \"vez\", \"sitio\", \"ejemplo\", \"caso\", \"semana\", \"casa\", \"equipo\", \"dia\", \"pandemia\", \"ciudad\", \"cuarentena\", \"medidas\", \"cantidad\", \"nivel\", \"crisis\", \"incursion\", \"ciclismo\", \"exposiciones\", \"motivaciones\", \"eticas\", \"sobrecargos\", \"copilotos\", \"valoraciones\", \"pasajero\", \"horoscopos\", \"sophos\", \"suscripciones\", \"concurrencias\", \"estupor\", \"percepcion\", \"implica\", \"biodiversidad\", \"zoonosis\", \"silvestres\", \"filial\", \"avos\", \"pulseras\", \"susceptibilidad\", \"indefinida\", \"logotipos\", \"distanciamento\", \"abridores\", \"terminados\", \"aires\", \"evaluan\", \"presidencia\", \"lectores\", \"repartidores\", \"temperatura\", \"continuan\", \"especies\", \"reglamento\", \"ecosistemas\", \"muertes\", \"proposito\", \"anteojos\", \"editores\", \"alertas\", \"contactos\", \"brote\", \"contagios\", \"municipalidad\", \"fiebre\", \"aplicaciones\", \"autoridades\", \"victimas\", \"domicilio\", \"hoteles\", \"rastreo\", \"propagacion\", \"aulas\", \"mascaras\", \"ciudad\", \"sintomas\", \"presidente\", \"pandemia\", \"medidas\", \"contacto\", \"cuarentena\", \"horas\", \"permiso\", \"medida\", \"aislamiento\", \"anuncio\", \"pruebas\", \"actividades\", \"enfermedad\", \"sistema\", \"parte\", \"caso\", \"uso\", \"abril\", \"momento\", \"crisis\", \"emergencia\", \"mundo\", \"forma\", \"tiempo\", \"acuerdo\", \"actividad\", \"grupo\", \"cantidad\", \"embargo\", \"tinieblas\", \"guion\", \"escalo\", \"esperas\", \"movida\", \"hobbies\", \"suavidad\", \"radios\", \"goleada\", \"terciopelo\", \"championship\", \"corazones\", \"cai\", \"semillas\", \"batista\", \"elegancia\", \"alcoholismo\", \"cabinas\", \"ligamento\", \"inconsciencia\", \"agotamiento\", \"escandalos\", \"love\", \"demonios\", \"clasicos\", \"mantengo\", \"stickers\", \"gusano\", \"simpatizantes\", \"prenden\", \"basquetbol\", \"sucedia\", \"celebridades\", \"textos\", \"altavoces\", \"autores\", \"dibujos\", \"enfrentamiento\", \"guitarra\", \"noticias\", \"futbol\", \"certamenes\", \"especificaciones\", \"hockey\", \"entretenimiento\", \"estudiantes\", \"futbolistas\", \"partidos\", \"tenis\", \"pasatiempo\", \"nombres\", \"comentarios\", \"jugadores\", \"plantel\", \"obras\", \"euros\", \"curso\", \"celulares\", \"gol\", \"equipo\", \"problemas\", \"partido\", \"horas\", \"clic\", \"club\", \"punto\", \"tambien\", \"entrenador\", \"torneo\", \"momento\", \"manera\", \"cuenta\", \"dia\", \"mundo\", \"tiempo\", \"redes\", \"temporada\", \"pandemia\", \"grupo\", \"vida\", \"gente\", \"casa\", \"crisis\", \"parte\", \"vez\", \"lugar\", \"cosas\", \"accesorio\", \"irrupciones\", \"desarrollador\", \"prototipos\", \"entusiasma\", \"vidrio\", \"cisnes\", \"solapa\", \"condimentos\", \"venderlos\", \"bautismo\", \"neto\", \"certidumbre\", \"vientos\", \"matrimonios\", \"grietas\", \"crudo\", \"recepcion\", \"ofrecerles\", \"malhumor\", \"deducciones\", \"bimestre\", \"escuderias\", \"mermeladas\", \"bodas\", \"administradoras\", \"devaluacion\", \"constructor\", \"libretas\", \"providencia\", \"apariciones\", \"ediciones\", \"constructores\", \"terremoto\", \"interrupciones\", \"pluriempleo\", \"zoom\", \"patrullaje\", \"inmunodeficiencia\", \"precios\", \"barriles\", \"valor\", \"petroleo\", \"precio\", \"productor\", \"transacciones\", \"formulario\", \"mercado\", \"servicio\", \"abril\", \"reuniones\", \"compra\", \"pago\", \"cuotas\", \"riesgos\", \"parte\", \"comentarios\", \"producto\", \"empleados\", \"servicios\", \"uso\", \"marzo\", \"seguridad\", \"ingreso\", \"lunes\", \"cuenta\", \"clic\", \"aislamiento\", \"tambien\", \"actividades\", \"acuerdo\", \"mes\", \"cambio\", \"medidas\", \"director\", \"cuarentena\", \"equipo\", \"vez\", \"semana\", \"forma\", \"momento\", \"caso\", \"trabajo\", \"dia\", \"etiquetas\", \"cuarto\", \"mini\", \"conveniencia\", \"poderio\", \"proximos\", \"informarla\", \"reutilizables\", \"sobreprecio\", \"repele\", \"expresion\", \"musculo\", \"pirata\", \"dandole\", \"sujeto\", \"boliches\", \"anfitriones\", \"hipotecas\", \"factibilidad\", \"soberanos\", \"sugerirse\", \"humanas\", \"principiantes\", \"mejorarla\", \"llevarlos\", \"codo\", \"capitalizacion\", \"sustento\", \"ferroviarias\", \"debilidades\", \"sociedades\", \"jengibre\", \"ahorristas\", \"colocaciones\", \"novelas\", \"oferta\", \"negociacion\", \"bonos\", \"particulas\", \"usos\", \"celulas\", \"plazos\", \"cupones\", \"propuesta\", \"subtes\", \"tasa\", \"accesos\", \"puntos\", \"intereses\", \"tasas\", \"gracia\", \"plazo\", \"inversores\", \"foros\", \"cursos\", \"videos\", \"titulos\", \"informes\", \"fondos\", \"pacientes\", \"detalles\", \"mercado\", \"fin\", \"vez\", \"caso\", \"gobierno\", \"parte\", \"redes\", \"medidas\", \"manera\", \"tambien\", \"equipo\", \"forma\", \"cuarentena\", \"aislamiento\", \"tiempo\", \"pandemia\", \"uso\", \"dia\", \"horas\", \"momento\", \"marzo\", \"reintegros\", \"invitaciones\", \"tempranos\", \"hermosos\", \"senadores\", \"importacion\", \"paralizacion\", \"raza\", \"ticket\", \"monoplazas\", \"semilla\", \"contribuyente\", \"tendria\", \"escolaridad\", \"exhibiciones\", \"momentaneamente\", \"minoria\", \"cumplirse\", \"automotriz\", \"model\", \"cervezas\", \"empresarias\", \"ganancia\", \"facultad\", \"reguladores\", \"cocinera\", \"hacer\", \"configurarse\", \"apta\", \"suposiciones\", \"poblacion\", \"programaciones\", \"vas\", \"piloto\", \"heces\", \"impidio\", \"diversion\", \"copia\", \"perfil\", \"conejos\", \"perfiles\", \"correa\", \"miedo\", \"recuento\", \"transmisiones\", \"sueldo\", \"fondos\", \"juegos\", \"toneladas\", \"titulos\", \"semana\", \"gas\", \"grupo\", \"empresas\", \"dia\", \"aislamiento\", \"casa\", \"horas\", \"marzo\", \"crecimiento\", \"presidente\", \"sector\", \"ademas\", \"mundo\", \"servicios\", \"medidas\", \"forma\", \"manera\", \"abril\", \"momento\", \"sistema\", \"redes\", \"gente\", \"familia\", \"cuarentena\", \"mes\", \"pandemia\", \"tambien\", \"parte\", \"tiempo\", \"actividades\", \"veces\"], \"Freq\": [528.0, 945.0, 1303.0, 1550.0, 315.0, 1221.0, 957.0, 740.0, 710.0, 1237.0, 1121.0, 430.0, 1218.0, 442.0, 756.0, 593.0, 1236.0, 623.0, 601.0, 422.0, 1244.0, 189.0, 1165.0, 858.0, 968.0, 1622.0, 573.0, 1084.0, 325.0, 385.0, 68.37499237060547, 183.41049194335938, 19.861892700195312, 14.32009506225586, 11.0621337890625, 17.769521713256836, 8.672027587890625, 14.592888832092285, 13.130003929138184, 8.400033950805664, 7.123847007751465, 7.110166072845459, 8.266515731811523, 17.70215606689453, 7.047592639923096, 19.633914947509766, 12.235467910766602, 11.191850662231445, 9.06094741821289, 8.5432710647583, 6.291104316711426, 10.146084785461426, 5.743500232696533, 36.39750671386719, 5.6947197914123535, 10.212116241455078, 5.689361572265625, 5.672675609588623, 5.636523723602295, 6.031692028045654, 39.7190055847168, 18.600168228149414, 98.35628509521484, 14.29569149017334, 8.180134773254395, 25.247865676879883, 18.039743423461914, 453.86614990234375, 21.689260482788086, 231.43153381347656, 24.86107635498047, 267.0677490234375, 370.2357177734375, 381.1302795410156, 439.0313720703125, 38.04869079589844, 189.36056518554688, 503.7272644042969, 349.02972412109375, 231.12071228027344, 74.75353240966797, 616.8765258789062, 664.1336059570312, 212.4203643798828, 663.4397583007812, 143.78855895996094, 62.461631774902344, 98.35208129882812, 142.26571655273438, 204.63494873046875, 257.35943603515625, 127.36571502685547, 369.239990234375, 128.96144104003906, 307.1610412597656, 295.1324462890625, 300.3531188964844, 307.7508850097656, 193.53533935546875, 341.8303527832031, 383.6497497558594, 463.27655029296875, 171.24850463867188, 290.1543273925781, 285.453857421875, 204.4380645751953, 228.38397216796875, 242.79595947265625, 276.85491943359375, 236.9484405517578, 229.97787475585938, 221.3722686767578, 18.97552490234375, 18.44778060913086, 14.522261619567871, 9.495525360107422, 39.78114700317383, 9.366057395935059, 14.683067321777344, 12.538167953491211, 8.043272972106934, 9.624034881591797, 9.161486625671387, 6.0151872634887695, 5.5961527824401855, 31.098281860351562, 7.741157531738281, 15.09640121459961, 5.790262699127197, 17.979888916015625, 20.813175201416016, 5.764289855957031, 7.347220420837402, 7.195077419281006, 8.765448570251465, 5.718488693237305, 6.836490631103516, 4.126325607299805, 3.769676685333252, 3.769676685333252, 3.769465923309326, 5.612645149230957, 23.01439666748047, 59.13907241821289, 7.3082146644592285, 72.88311004638672, 41.73908233642578, 111.3591537475586, 288.4532775878906, 110.68153381347656, 157.981689453125, 381.1260070800781, 293.6200256347656, 68.158203125, 78.06747436523438, 182.56517028808594, 75.08444213867188, 133.40309143066406, 115.24980926513672, 374.68878173828125, 44.02484893798828, 125.03801727294922, 46.04496383666992, 337.13037109375, 169.11380004882812, 410.843505859375, 169.54295349121094, 271.6573486328125, 239.13450622558594, 227.82371520996094, 318.24957275390625, 538.4430541992188, 264.59429931640625, 176.84591674804688, 288.08502197265625, 186.6634521484375, 296.59326171875, 276.4911193847656, 287.05218505859375, 335.8080139160156, 258.9894104003906, 204.46786499023438, 278.4298095703125, 236.5265655517578, 268.80303955078125, 228.0393829345703, 253.5609893798828, 205.04905700683594, 188.31878662109375, 177.50384521484375, 20.33900260925293, 17.831336975097656, 12.898422241210938, 12.091307640075684, 44.09829330444336, 10.09756851196289, 15.924363136291504, 12.282238006591797, 10.465371131896973, 10.439512252807617, 25.86460304260254, 15.697994232177734, 12.144261360168457, 8.103620529174805, 8.103620529174805, 19.953001022338867, 12.198637008666992, 58.97174835205078, 8.749135971069336, 8.356395721435547, 6.554344177246094, 22.647043228149414, 29.018665313720703, 34.61160659790039, 11.513068199157715, 8.67284870147705, 8.177700996398926, 6.421308517456055, 9.765621185302734, 12.701384544372559, 22.203182220458984, 45.6446647644043, 24.49262809753418, 60.46829605102539, 52.010406494140625, 20.190568923950195, 40.682960510253906, 23.990245819091797, 111.8579330444336, 19.883853912353516, 30.487512588500977, 207.6363983154297, 87.83859252929688, 23.200454711914062, 38.295719146728516, 88.64362335205078, 114.0904541015625, 440.9137878417969, 409.9200744628906, 232.92579650878906, 71.49583435058594, 126.08748626708984, 55.34177780151367, 379.06201171875, 89.88729095458984, 571.9611206054688, 133.69309997558594, 93.6032485961914, 112.3755874633789, 131.39402770996094, 66.6483154296875, 195.2402801513672, 297.8822326660156, 124.5517807006836, 213.052001953125, 127.56732940673828, 334.64483642578125, 188.56704711914062, 290.4075927734375, 220.539794921875, 187.6724395751953, 276.4693298339844, 209.6633758544922, 267.0744934082031, 130.48983764648438, 168.1356201171875, 217.36618041992188, 194.55450439453125, 185.74349975585938, 199.78256225585938, 186.15411376953125, 186.4388427734375, 163.99586486816406, 185.6024932861328, 170.94837951660156, 153.02830505371094, 153.1137237548828, 158.3905487060547, 39.274818420410156, 16.351736068725586, 16.321977615356445, 15.88408374786377, 10.01319408416748, 10.01319408416748, 13.48983097076416, 10.80392837524414, 55.58290100097656, 10.747858047485352, 10.709177017211914, 43.45902633666992, 4.080870151519775, 4.427191257476807, 4.419127464294434, 5.630200386047363, 7.034284591674805, 4.3239054679870605, 4.322605133056641, 7.755427837371826, 4.259181022644043, 16.324844360351562, 4.248558521270752, 4.249887466430664, 4.257627010345459, 8.552772521972656, 8.552772521972656, 6.816187381744385, 6.004800319671631, 24.581205368041992, 17.576528549194336, 72.16120147705078, 37.67155456542969, 106.40315246582031, 38.172943115234375, 49.347774505615234, 28.873106002807617, 9.219544410705566, 203.7561492919922, 25.018129348754883, 23.85881233215332, 15.278562545776367, 24.931354522705078, 185.58572387695312, 143.13070678710938, 183.2842254638672, 18.270950317382812, 105.52103424072266, 274.46600341796875, 285.134521484375, 116.72401428222656, 85.9135513305664, 55.182861328125, 81.82017517089844, 136.0082244873047, 33.0429573059082, 62.70046615600586, 262.0500793457031, 108.8514633178711, 317.5688171386719, 330.3145751953125, 300.2758483886719, 197.1126708984375, 312.0323791503906, 276.8801574707031, 114.71076965332031, 170.764404296875, 243.7890167236328, 160.57589721679688, 100.2265625, 198.8689727783203, 135.5371551513672, 219.11593627929688, 265.1344299316406, 230.51657104492188, 177.26487731933594, 228.7293701171875, 217.0122528076172, 171.2659454345703, 150.2347869873047, 177.5137481689453, 175.6318359375, 185.81309509277344, 144.86215209960938, 149.1757049560547, 149.5780487060547, 146.1817626953125, 146.27101135253906, 12.193981170654297, 7.782321929931641, 9.867287635803223, 7.675145626068115, 10.191452980041504, 9.70993709564209, 7.951116561889648, 5.470281600952148, 6.33534049987793, 7.849483489990234, 7.301427364349365, 13.444905281066895, 7.16616153717041, 7.602007865905762, 5.673396587371826, 7.5914459228515625, 10.25439167022705, 5.091938018798828, 5.000607967376709, 4.9028520584106445, 5.428674221038818, 10.514138221740723, 3.5339996814727783, 4.875290870666504, 26.893390655517578, 3.0590333938598633, 8.574482917785645, 3.0222654342651367, 5.212490558624268, 4.714773654937744, 27.029325485229492, 8.552922248840332, 12.413006782531738, 21.663768768310547, 8.554088592529297, 52.01273727416992, 22.921077728271484, 22.57703399658203, 22.412275314331055, 202.81361389160156, 395.21392822265625, 16.608213424682617, 33.42531204223633, 18.072002410888672, 32.24116516113281, 38.83848190307617, 87.09739685058594, 184.93663024902344, 127.08594512939453, 15.562976837158203, 43.7193489074707, 284.5559387207031, 226.3235321044922, 85.19615173339844, 51.90713119506836, 79.65045166015625, 85.13826751708984, 34.3135986328125, 79.13794708251953, 284.013427734375, 172.40956115722656, 119.0682144165039, 221.13519287109375, 146.7261199951172, 156.8316650390625, 111.41492462158203, 331.8313293457031, 118.42378234863281, 100.28105926513672, 248.8067626953125, 186.45870971679688, 174.07183837890625, 194.2258758544922, 192.36224365234375, 228.0756378173828, 129.3199462890625, 100.72055053710938, 175.94029235839844, 145.20077514648438, 139.8394012451172, 147.66400146484375, 147.7069091796875, 141.18064880371094, 162.82470703125, 151.36685180664062, 127.3566665649414, 118.98927307128906, 21.144086837768555, 10.956103324890137, 8.444136619567871, 32.89559555053711, 11.889963150024414, 6.8478007316589355, 11.327353477478027, 9.152416229248047, 7.893075466156006, 8.299607276916504, 10.85334587097168, 16.294696807861328, 6.218247890472412, 26.596099853515625, 4.447845935821533, 4.813962459564209, 24.688941955566406, 6.346032619476318, 4.380767822265625, 4.766320705413818, 65.39051055908203, 4.329547882080078, 4.36216926574707, 4.751402378082275, 5.936601161956787, 3.9310853481292725, 4.26385498046875, 4.279999732971191, 4.279624938964844, 8.788328170776367, 13.24547290802002, 14.284891128540039, 7.341837406158447, 7.513266086578369, 13.7012357711792, 9.510364532470703, 116.89291381835938, 8.402958869934082, 7.011811256408691, 186.0675506591797, 20.158227920532227, 164.4674072265625, 61.5286750793457, 132.93460083007812, 19.649866104125977, 16.949111938476562, 33.365692138671875, 185.8504180908203, 150.0296173095703, 355.0249938964844, 100.74298095703125, 46.644439697265625, 164.84136962890625, 53.762786865234375, 61.72018814086914, 273.6707763671875, 221.98504638671875, 73.69812774658203, 105.74824523925781, 135.3983612060547, 159.42347717285156, 191.05677795410156, 132.4217529296875, 121.77420043945312, 115.19632720947266, 172.91297912597656, 128.4264373779297, 169.86843872070312, 260.3214416503906, 146.86680603027344, 125.36857604980469, 126.75476837158203, 110.320068359375, 154.02691650390625, 99.13026428222656, 154.0779571533203, 156.72323608398438, 156.11346435546875, 129.89112854003906, 133.21063232421875, 133.4990692138672, 127.98228454589844, 123.94992065429688, 122.09337615966797, 16.71307373046875, 9.036947250366211, 8.431903839111328, 18.948144912719727, 5.408984184265137, 20.082393646240234, 3.976238965988159, 4.921145915985107, 4.958405494689941, 4.928189754486084, 3.8363113403320312, 3.521165609359741, 4.41792631149292, 7.549699783325195, 4.025369167327881, 3.367591142654419, 6.104495525360107, 8.184860229492188, 2.3876490592956543, 19.104021072387695, 4.164967060089111, 4.627971172332764, 7.631683349609375, 7.722010612487793, 3.4247868061065674, 13.367183685302734, 3.3895864486694336, 16.65105628967285, 1.971390724182129, 3.291715383529663, 22.232093811035156, 15.679570198059082, 16.35894203186035, 9.232059478759766, 10.67858600616455, 222.03846740722656, 62.05549621582031, 137.32980346679688, 20.413564682006836, 23.551441192626953, 20.096412658691406, 34.75464630126953, 19.040205001831055, 95.18769836425781, 18.036598205566406, 79.53746795654297, 21.360782623291016, 102.55733489990234, 70.17982482910156, 30.340229034423828, 46.736629486083984, 79.90727233886719, 39.657588958740234, 16.643577575683594, 44.19626235961914, 71.20196533203125, 74.38282775878906, 40.92531967163086, 60.628414154052734, 84.63558959960938, 57.87063217163086, 83.2460708618164, 70.74111938476562, 123.6548843383789, 108.13838958740234, 58.691017150878906, 116.80371856689453, 76.13443756103516, 93.2958755493164, 86.66468811035156, 120.25614929199219, 95.25796508789062, 85.46281433105469, 86.75035095214844, 79.6226806640625, 89.02820587158203, 80.16934204101562, 70.22132110595703, 76.9535903930664, 74.75922393798828, 73.00251770019531, 69.58332824707031, 8.611955642700195, 6.975226402282715, 5.761600971221924, 4.870304584503174, 5.835575580596924, 3.0400540828704834, 7.677629470825195, 6.009702682495117, 3.5464625358581543, 2.901693820953369, 7.151021957397461, 7.508327007293701, 2.8317198753356934, 2.8312525749206543, 2.793898105621338, 4.797756195068359, 3.7232778072357178, 1.7325645685195923, 2.4497663974761963, 2.4497663974761963, 3.8635129928588867, 1.6991310119628906, 7.100643157958984, 12.838815689086914, 2.636678457260132, 5.0542192459106445, 3.2865540981292725, 3.2865540981292725, 3.2865540981292725, 3.6838388442993164, 4.666168689727783, 13.613910675048828, 7.391880035400391, 54.77900695800781, 14.507087707519531, 4.361063480377197, 7.889089584350586, 11.45810604095459, 35.579368591308594, 9.061990737915039, 22.522602081298828, 9.03769588470459, 55.528404235839844, 11.793725967407227, 27.933475494384766, 25.244266510009766, 54.242645263671875, 23.42183494567871, 20.122724533081055, 65.66256713867188, 110.91761016845703, 20.440942764282227, 91.54710388183594, 92.0843276977539, 108.9474105834961, 94.41881561279297, 99.36185455322266, 93.13957977294922, 89.07402038574219, 40.82539367675781, 88.7575912475586, 52.30419158935547, 57.33054733276367, 89.19462585449219, 62.72258758544922, 84.92317199707031, 89.4432373046875, 77.22109985351562, 91.78376007080078, 93.72874450683594, 78.3759994506836, 61.23454666137695, 71.73588562011719, 57.608154296875, 76.0775375366211, 58.996158599853516, 71.5622787475586, 88.32476043701172, 73.78492736816406, 72.44925689697266, 58.048728942871094, 57.78252410888672], \"Total\": [528.0, 945.0, 1303.0, 1550.0, 315.0, 1221.0, 957.0, 740.0, 710.0, 1237.0, 1121.0, 430.0, 1218.0, 442.0, 756.0, 593.0, 1236.0, 623.0, 601.0, 422.0, 1244.0, 189.0, 1165.0, 858.0, 968.0, 1622.0, 573.0, 1084.0, 325.0, 385.0, 70.59339904785156, 189.58680725097656, 21.127212524414062, 15.373744010925293, 12.067523002624512, 19.5109920501709, 9.523628234863281, 16.198455810546875, 14.582467079162598, 9.457414627075195, 8.079429626464844, 8.07447624206543, 9.40807056427002, 20.164934158325195, 8.054281234741211, 22.532316207885742, 14.076763153076172, 12.947117805480957, 10.50957202911377, 10.036003112792969, 7.410650730133057, 11.962437629699707, 6.810725688934326, 43.2640380859375, 6.770120620727539, 12.166143417358398, 6.796891212463379, 6.791840553283691, 6.773506164550781, 7.297285079956055, 48.359954833984375, 22.69442367553711, 125.47602844238281, 17.546791076660156, 9.897187232971191, 32.4426155090332, 22.9107723236084, 710.0658569335938, 27.934585571289062, 370.6006164550781, 32.6633186340332, 489.15362548828125, 740.9209594726562, 802.7884521484375, 968.2835693359375, 55.75774383544922, 372.6642761230469, 1236.9217529296875, 802.701904296875, 489.3188781738281, 126.0954360961914, 1622.4990234375, 1790.6793212890625, 454.93841552734375, 1932.0416259765625, 287.3153076171875, 102.38370513916016, 180.95156860351562, 293.0560302734375, 470.8584289550781, 648.3920288085938, 274.09918212890625, 1155.86669921875, 284.5389404296875, 965.8053588867188, 920.18212890625, 945.84716796875, 1054.3157958984375, 524.3120727539062, 1317.326904296875, 1718.5364990234375, 2516.322509765625, 458.3728332519531, 1356.967041015625, 1418.216796875, 666.6136474609375, 923.1348876953125, 1083.0797119140625, 1781.350830078125, 1378.5968017578125, 1297.9593505859375, 1244.1077880859375, 20.23031997680664, 19.792831420898438, 16.12139320373535, 10.604686737060547, 44.51517868041992, 10.591920852661133, 16.610858917236328, 14.312575340270996, 9.196895599365234, 11.053498268127441, 10.527631759643555, 6.920737266540527, 6.492857933044434, 36.5687255859375, 9.195219993591309, 17.958127975463867, 6.907723903656006, 21.630638122558594, 25.1298770904541, 6.959820747375488, 8.874326705932617, 8.69223690032959, 10.736400604248047, 7.0092692375183105, 8.380008697509766, 5.105197906494141, 4.66630220413208, 4.66630220413208, 4.666312217712402, 6.999608039855957, 28.88481903076172, 75.99879455566406, 9.169453620910645, 102.82230377197266, 57.309959411621094, 166.0934295654297, 491.1685791015625, 173.96022033691406, 266.0782165527344, 756.728515625, 573.4699096679688, 111.1121597290039, 130.0138702392578, 348.1513366699219, 131.87200927734375, 264.2607116699219, 222.9336395263672, 957.4993896484375, 71.68571472167969, 275.96759033203125, 78.89533996582031, 1102.004638671875, 455.999755859375, 1550.1455078125, 466.4515075683594, 904.41162109375, 763.0880737304688, 724.4498291015625, 1165.3988037109375, 2516.322509765625, 923.1348876953125, 525.045166015625, 1155.86669921875, 611.7173461914062, 1378.5968017578125, 1244.1077880859375, 1352.63916015625, 1781.350830078125, 1221.6746826171875, 788.9472045898438, 1718.5364990234375, 1218.865234375, 1790.6793212890625, 1237.421630859375, 1932.0416259765625, 1418.216796875, 902.7546997070312, 1297.9593505859375, 21.445398330688477, 18.85845375061035, 13.786702156066895, 12.978508949279785, 47.494686126708984, 10.98430347442627, 17.324548721313477, 13.427787780761719, 11.473209381103516, 11.461414337158203, 28.43674659729004, 17.29823875427246, 13.455856323242188, 8.99008560180664, 8.99008560180664, 22.23175811767578, 13.661140441894531, 66.24903106689453, 9.927525520324707, 9.492294311523438, 7.46669864654541, 25.926084518432617, 33.34090805053711, 39.82498550415039, 13.262096405029297, 9.99495792388916, 9.496692657470703, 7.4630818367004395, 11.388988494873047, 14.83254337310791, 26.295835494995117, 56.1240119934082, 29.491769790649414, 75.94852447509766, 65.86592864990234, 24.357444763183594, 51.73664855957031, 29.85677719116211, 168.6556854248047, 24.582448959350586, 40.61234664916992, 381.97894287109375, 141.09791564941406, 29.85947036743164, 55.99788284301758, 163.26800537109375, 226.4617919921875, 1303.521728515625, 1218.865234375, 593.2089233398438, 132.73338317871094, 284.6886291503906, 94.39581298828125, 1356.967041015625, 186.75173950195312, 2516.322509765625, 340.9796447753906, 205.20846557617188, 272.38970947265625, 350.0233459472656, 129.15966796875, 661.1590576171875, 1297.9593505859375, 343.675537109375, 858.5587768554688, 372.7164611816406, 1932.0416259765625, 788.9472045898438, 1718.5364990234375, 1053.2789306640625, 799.089599609375, 1781.350830078125, 1054.3157958984375, 1790.6793212890625, 421.6734924316406, 759.537841796875, 1378.5968017578125, 1084.4468994140625, 1236.9217529296875, 1622.4990234375, 1317.326904296875, 1352.63916015625, 875.8056640625, 1418.216796875, 1221.6746826171875, 794.9678955078125, 842.4655151367188, 1102.004638671875, 41.221492767333984, 17.28253936767578, 17.281627655029297, 17.290494918823242, 10.900266647338867, 10.900266647338867, 15.395343780517578, 12.385007858276367, 63.828861236572266, 12.389200210571289, 12.3961820602417, 52.04967498779297, 4.968016147613525, 5.429537296295166, 5.431422233581543, 6.95658540725708, 8.751476287841797, 5.417011260986328, 5.418762683868408, 9.796719551086426, 5.400172710418701, 20.74041175842285, 5.403503894805908, 5.408367156982422, 5.4224700927734375, 10.912637710571289, 10.912637710571289, 8.77761459350586, 7.743521690368652, 31.735633850097656, 22.778764724731445, 97.1978759765625, 50.6403694152832, 150.48719787597656, 52.295433044433594, 70.21821594238281, 40.3757209777832, 12.060462951660156, 325.0137023925781, 35.76502227783203, 34.00739288330078, 20.928672790527344, 35.930938720703125, 339.81744384765625, 254.6667022705078, 340.2141418457031, 25.796207427978516, 190.16258239746094, 601.06396484375, 667.3025512695312, 230.69573974609375, 161.63987731933594, 95.90980529785156, 159.3806610107422, 308.0083923339844, 51.688209533691406, 122.4808578491211, 875.8056640625, 269.2041015625, 1244.1077880859375, 1352.63916015625, 1221.6746826171875, 674.1438598632812, 1418.216796875, 1237.421630859375, 326.2460632324219, 608.1372680664062, 1121.63818359375, 577.2329711914062, 266.4031066894531, 902.7546997070312, 475.24017333984375, 1218.865234375, 1781.350830078125, 1378.5968017578125, 858.5587768554688, 1550.1455078125, 1718.5364990234375, 1102.004638671875, 756.728515625, 1297.9593505859375, 1356.967041015625, 1932.0416259765625, 723.9942016601562, 904.41162109375, 928.39306640625, 794.9678955078125, 860.4039916992188, 13.45771312713623, 8.702566146850586, 11.043131828308105, 8.665631294250488, 11.5382080078125, 11.037798881530762, 9.20260238647461, 6.33202600479126, 7.405054569244385, 9.187589645385742, 8.62336254119873, 15.911127090454102, 8.602795600891113, 9.139650344848633, 6.828161239624023, 9.161879539489746, 12.526321411132812, 6.248672962188721, 6.216988563537598, 6.1021013259887695, 6.855907440185547, 13.393672943115234, 4.517470836639404, 6.275017261505127, 34.67326354980469, 3.9475810527801514, 11.12923526763916, 3.9411849975585938, 6.84824275970459, 6.197024822235107, 36.00365447998047, 11.292133331298828, 16.750154495239258, 29.966827392578125, 11.47531509399414, 83.79109191894531, 34.2261962890625, 34.06591796875, 34.05318069458008, 422.4784240722656, 945.84716796875, 24.50650405883789, 56.00815963745117, 27.946081161499023, 61.442298889160156, 79.05279541015625, 229.57606506347656, 648.3920288085938, 402.38885498046875, 23.96882438659668, 97.37425994873047, 1303.521728515625, 968.2835693359375, 252.9805450439453, 128.31295776367188, 237.45376586914062, 263.1351318359375, 72.11599731445312, 245.69210815429688, 1622.4990234375, 799.089599609375, 470.8584289550781, 1237.421630859375, 661.1590576171875, 740.9209594726562, 436.974609375, 2516.322509765625, 489.15362548828125, 386.8167724609375, 1718.5364990234375, 1083.0797119140625, 1053.2789306640625, 1317.326904296875, 1297.9593505859375, 1932.0416259765625, 705.45849609375, 446.1856689453125, 1352.63916015625, 928.39306640625, 920.18212890625, 1054.3157958984375, 1236.9217529296875, 1102.004638671875, 1781.350830078125, 1790.6793212890625, 965.8053588867188, 802.7884521484375, 22.29461097717285, 12.446934700012207, 9.598065376281738, 37.71923065185547, 14.085503578186035, 8.11347484588623, 13.58626937866211, 10.983838081359863, 9.473360061645508, 9.985583305358887, 13.139130592346191, 19.756437301635742, 7.557612895965576, 32.639373779296875, 5.525191307067871, 6.087414264678955, 31.250324249267578, 8.032732963562012, 5.5623393058776855, 6.053949356079102, 83.23091125488281, 5.5301833152771, 5.57339334487915, 6.120164394378662, 7.6570143699646, 5.075358867645264, 5.5297651290893555, 5.551529884338379, 5.572675704956055, 11.446075439453125, 17.558042526245117, 19.26991081237793, 9.697750091552734, 9.978140830993652, 18.799943923950195, 13.09273910522461, 222.3925323486328, 11.607754707336426, 9.4775390625, 430.35601806640625, 32.55175018310547, 385.938720703125, 122.61955261230469, 333.21710205078125, 32.52478790283203, 27.56844139099121, 66.73336029052734, 623.1488037109375, 481.2731628417969, 1550.1455078125, 309.5406799316406, 113.53018951416016, 724.4498291015625, 147.96405029296875, 188.00160217285156, 1781.350830078125, 1303.521728515625, 247.70428466796875, 435.88763427734375, 662.3784790039062, 858.5587768554688, 1165.3988037109375, 655.3734741210938, 573.4699096679688, 535.7523193359375, 1053.2789306640625, 661.1590576171875, 1121.63818359375, 2516.322509765625, 902.7546997070312, 723.9942016601562, 763.0880737304688, 600.9800415039062, 1221.6746826171875, 495.1571960449219, 1418.216796875, 1622.4990234375, 1790.6793212890625, 1084.4468994140625, 1356.967041015625, 1718.5364990234375, 1378.5968017578125, 1155.86669921875, 1317.326904296875, 17.86004066467285, 10.013493537902832, 9.581513404846191, 21.569690704345703, 6.324481964111328, 25.40703582763672, 5.107827663421631, 6.423903942108154, 6.4951043128967285, 6.493453025817871, 5.148975849151611, 4.738647937774658, 6.02547550201416, 10.361799240112305, 5.540358543395996, 4.65427827835083, 8.516871452331543, 11.565410614013672, 3.436636447906494, 27.677946090698242, 6.093328952789307, 6.8071441650390625, 11.362930297851562, 11.725358009338379, 5.214084148406982, 20.461458206176758, 5.217765808105469, 25.6501522064209, 3.050044298171997, 5.112297058105469, 34.78647994995117, 25.062623977661133, 26.309139251708984, 14.757495880126953, 17.905614852905273, 528.9550170898438, 127.38233184814453, 315.58770751953125, 37.530338287353516, 44.39857482910156, 37.12785339355469, 74.234375, 37.65624237060547, 324.66082763671875, 36.09446716308594, 268.93023681640625, 48.728702545166016, 448.79583740234375, 264.018310546875, 81.26321411132812, 156.5943603515625, 346.6067199707031, 127.372802734375, 34.61531448364258, 159.62911987304688, 392.269287109375, 442.3882751464844, 152.50955200195312, 312.0786437988281, 593.2089233398438, 301.0316467285156, 623.1488037109375, 516.05712890625, 1790.6793212890625, 1378.5968017578125, 383.14154052734375, 1781.350830078125, 705.45849609375, 1221.6746826171875, 1083.0797119140625, 2516.322509765625, 1622.4990234375, 1356.967041015625, 1418.216796875, 1121.63818359375, 1932.0416259765625, 1352.63916015625, 858.5587768554688, 1317.326904296875, 1237.421630859375, 1718.5364990234375, 1165.3988037109375, 9.718090057373047, 8.432689666748047, 6.999411582946777, 6.269168853759766, 7.9380598068237305, 4.175210475921631, 10.686396598815918, 8.370863914489746, 4.949958801269531, 4.252608776092529, 10.565225601196289, 11.127962112426758, 4.299351692199707, 4.35873556137085, 4.311882972717285, 7.443657875061035, 5.834488868713379, 2.751750946044922, 3.964855670928955, 3.964855670928955, 6.264334678649902, 2.785045862197876, 11.690135955810547, 21.231243133544922, 4.366835594177246, 8.478727340698242, 5.533907413482666, 5.533907413482666, 5.533907413482666, 6.20853328704834, 7.912438869476318, 23.988792419433594, 12.879531860351562, 117.29360961914062, 28.427568435668945, 7.728056907653809, 15.760353088378906, 24.72022247314453, 100.61837005615234, 19.529052734375, 63.20684814453125, 19.558391571044922, 234.30136108398438, 29.92756462097168, 101.50927734375, 94.50601196289062, 312.0786437988281, 89.06261444091797, 71.35269927978516, 442.3882751464844, 1084.4468994140625, 75.73123168945312, 928.39306640625, 957.4993896484375, 1317.326904296875, 1121.63818359375, 1236.9217529296875, 1237.421630859375, 1165.3988037109375, 279.927490234375, 1244.1077880859375, 455.999755859375, 554.2151489257812, 1297.9593505859375, 662.3784790039062, 1221.6746826171875, 1356.967041015625, 1083.0797119140625, 1550.1455078125, 1718.5364990234375, 1218.865234375, 705.45849609375, 1054.3157958984375, 666.6136474609375, 1418.216796875, 763.0880737304688, 1352.63916015625, 2516.322509765625, 1781.350830078125, 1932.0416259765625, 902.7546997070312, 802.701904296875], \"Category\": [\"Default\", \"Default\", \"Default\", \"Default\", \"Default\", \"Default\", \"Default\", \"Default\", \"Default\", \"Default\", \"Default\", \"Default\", \"Default\", \"Default\", \"Default\", \"Default\", \"Default\", \"Default\", \"Default\", \"Default\", \"Default\", \"Default\", \"Default\", \"Default\", \"Default\", \"Default\", \"Default\", \"Default\", \"Default\", \"Default\", \"Topic1\", \"Topic1\", \"Topic1\", \"Topic1\", \"Topic1\", \"Topic1\", \"Topic1\", \"Topic1\", \"Topic1\", \"Topic1\", \"Topic1\", \"Topic1\", \"Topic1\", \"Topic1\", \"Topic1\", \"Topic1\", \"Topic1\", \"Topic1\", \"Topic1\", \"Topic1\", \"Topic1\", \"Topic1\", \"Topic1\", \"Topic1\", \"Topic1\", \"Topic1\", \"Topic1\", \"Topic1\", \"Topic1\", \"Topic1\", \"Topic1\", \"Topic1\", \"Topic1\", \"Topic1\", \"Topic1\", \"Topic1\", \"Topic1\", \"Topic1\", \"Topic1\", \"Topic1\", \"Topic1\", \"Topic1\", \"Topic1\", \"Topic1\", \"Topic1\", \"Topic1\", \"Topic1\", \"Topic1\", \"Topic1\", \"Topic1\", \"Topic1\", \"Topic1\", \"Topic1\", \"Topic1\", \"Topic1\", \"Topic1\", \"Topic1\", \"Topic1\", \"Topic1\", \"Topic1\", \"Topic1\", \"Topic1\", \"Topic1\", \"Topic1\", \"Topic1\", \"Topic1\", \"Topic1\", \"Topic1\", \"Topic1\", \"Topic1\", \"Topic1\", \"Topic1\", \"Topic1\", \"Topic1\", \"Topic1\", \"Topic1\", \"Topic1\", \"Topic1\", \"Topic1\", \"Topic1\", \"Topic1\", \"Topic1\", \"Topic2\", \"Topic2\", \"Topic2\", \"Topic2\", \"Topic2\", \"Topic2\", \"Topic2\", \"Topic2\", \"Topic2\", \"Topic2\", \"Topic2\", \"Topic2\", \"Topic2\", \"Topic2\", \"Topic2\", \"Topic2\", \"Topic2\", \"Topic2\", \"Topic2\", \"Topic2\", \"Topic2\", \"Topic2\", \"Topic2\", \"Topic2\", \"Topic2\", \"Topic2\", \"Topic2\", \"Topic2\", \"Topic2\", \"Topic2\", \"Topic2\", \"Topic2\", \"Topic2\", \"Topic2\", \"Topic2\", \"Topic2\", \"Topic2\", \"Topic2\", \"Topic2\", \"Topic2\", \"Topic2\", \"Topic2\", \"Topic2\", \"Topic2\", \"Topic2\", \"Topic2\", \"Topic2\", \"Topic2\", \"Topic2\", \"Topic2\", \"Topic2\", \"Topic2\", \"Topic2\", \"Topic2\", \"Topic2\", \"Topic2\", \"Topic2\", \"Topic2\", \"Topic2\", \"Topic2\", \"Topic2\", \"Topic2\", \"Topic2\", \"Topic2\", \"Topic2\", \"Topic2\", \"Topic2\", \"Topic2\", \"Topic2\", \"Topic2\", \"Topic2\", \"Topic2\", \"Topic2\", \"Topic2\", \"Topic2\", \"Topic2\", \"Topic2\", \"Topic2\", \"Topic3\", \"Topic3\", \"Topic3\", \"Topic3\", \"Topic3\", \"Topic3\", \"Topic3\", \"Topic3\", \"Topic3\", \"Topic3\", \"Topic3\", \"Topic3\", \"Topic3\", \"Topic3\", \"Topic3\", \"Topic3\", \"Topic3\", \"Topic3\", \"Topic3\", \"Topic3\", \"Topic3\", \"Topic3\", \"Topic3\", \"Topic3\", \"Topic3\", \"Topic3\", \"Topic3\", \"Topic3\", \"Topic3\", \"Topic3\", \"Topic3\", \"Topic3\", \"Topic3\", \"Topic3\", \"Topic3\", \"Topic3\", \"Topic3\", \"Topic3\", \"Topic3\", \"Topic3\", \"Topic3\", \"Topic3\", \"Topic3\", \"Topic3\", \"Topic3\", \"Topic3\", \"Topic3\", \"Topic3\", \"Topic3\", \"Topic3\", \"Topic3\", \"Topic3\", \"Topic3\", \"Topic3\", \"Topic3\", \"Topic3\", \"Topic3\", \"Topic3\", \"Topic3\", \"Topic3\", \"Topic3\", \"Topic3\", \"Topic3\", \"Topic3\", \"Topic3\", \"Topic3\", \"Topic3\", \"Topic3\", \"Topic3\", \"Topic3\", \"Topic3\", \"Topic3\", \"Topic3\", \"Topic3\", \"Topic3\", \"Topic3\", \"Topic3\", \"Topic3\", \"Topic3\", \"Topic3\", \"Topic3\", \"Topic3\", \"Topic3\", \"Topic3\", \"Topic3\", \"Topic3\", \"Topic3\", \"Topic3\", \"Topic4\", \"Topic4\", \"Topic4\", \"Topic4\", \"Topic4\", \"Topic4\", \"Topic4\", \"Topic4\", \"Topic4\", \"Topic4\", \"Topic4\", \"Topic4\", \"Topic4\", \"Topic4\", \"Topic4\", \"Topic4\", \"Topic4\", \"Topic4\", \"Topic4\", \"Topic4\", \"Topic4\", \"Topic4\", \"Topic4\", \"Topic4\", \"Topic4\", \"Topic4\", \"Topic4\", \"Topic4\", \"Topic4\", \"Topic4\", \"Topic4\", \"Topic4\", \"Topic4\", \"Topic4\", \"Topic4\", \"Topic4\", \"Topic4\", \"Topic4\", \"Topic4\", \"Topic4\", \"Topic4\", \"Topic4\", \"Topic4\", \"Topic4\", \"Topic4\", \"Topic4\", \"Topic4\", \"Topic4\", \"Topic4\", \"Topic4\", \"Topic4\", \"Topic4\", \"Topic4\", \"Topic4\", \"Topic4\", \"Topic4\", \"Topic4\", \"Topic4\", \"Topic4\", \"Topic4\", \"Topic4\", \"Topic4\", \"Topic4\", \"Topic4\", \"Topic4\", \"Topic4\", \"Topic4\", \"Topic4\", \"Topic4\", \"Topic4\", \"Topic4\", \"Topic4\", \"Topic4\", \"Topic4\", \"Topic4\", \"Topic4\", \"Topic4\", \"Topic4\", \"Topic4\", \"Topic4\", \"Topic4\", \"Topic4\", \"Topic4\", \"Topic4\", \"Topic4\", \"Topic4\", \"Topic4\", \"Topic4\", \"Topic5\", \"Topic5\", \"Topic5\", \"Topic5\", \"Topic5\", \"Topic5\", \"Topic5\", \"Topic5\", \"Topic5\", \"Topic5\", \"Topic5\", \"Topic5\", \"Topic5\", \"Topic5\", \"Topic5\", \"Topic5\", \"Topic5\", \"Topic5\", \"Topic5\", \"Topic5\", \"Topic5\", \"Topic5\", \"Topic5\", \"Topic5\", \"Topic5\", \"Topic5\", \"Topic5\", \"Topic5\", \"Topic5\", \"Topic5\", \"Topic5\", \"Topic5\", \"Topic5\", \"Topic5\", \"Topic5\", \"Topic5\", \"Topic5\", \"Topic5\", \"Topic5\", \"Topic5\", \"Topic5\", \"Topic5\", \"Topic5\", \"Topic5\", \"Topic5\", \"Topic5\", \"Topic5\", \"Topic5\", \"Topic5\", \"Topic5\", \"Topic5\", \"Topic5\", \"Topic5\", \"Topic5\", \"Topic5\", \"Topic5\", \"Topic5\", \"Topic5\", \"Topic5\", \"Topic5\", \"Topic5\", \"Topic5\", \"Topic5\", \"Topic5\", \"Topic5\", \"Topic5\", \"Topic5\", \"Topic5\", \"Topic5\", \"Topic5\", \"Topic5\", \"Topic5\", \"Topic5\", \"Topic5\", \"Topic5\", \"Topic5\", \"Topic5\", \"Topic5\", \"Topic5\", \"Topic5\", \"Topic5\", \"Topic5\", \"Topic5\", \"Topic5\", \"Topic5\", \"Topic5\", \"Topic5\", \"Topic6\", \"Topic6\", \"Topic6\", \"Topic6\", \"Topic6\", \"Topic6\", \"Topic6\", \"Topic6\", \"Topic6\", \"Topic6\", \"Topic6\", \"Topic6\", \"Topic6\", \"Topic6\", \"Topic6\", \"Topic6\", \"Topic6\", \"Topic6\", \"Topic6\", \"Topic6\", \"Topic6\", \"Topic6\", \"Topic6\", \"Topic6\", \"Topic6\", \"Topic6\", \"Topic6\", \"Topic6\", \"Topic6\", \"Topic6\", \"Topic6\", \"Topic6\", \"Topic6\", \"Topic6\", \"Topic6\", \"Topic6\", \"Topic6\", \"Topic6\", \"Topic6\", \"Topic6\", \"Topic6\", \"Topic6\", \"Topic6\", \"Topic6\", \"Topic6\", \"Topic6\", \"Topic6\", \"Topic6\", \"Topic6\", \"Topic6\", \"Topic6\", \"Topic6\", \"Topic6\", \"Topic6\", \"Topic6\", \"Topic6\", \"Topic6\", \"Topic6\", \"Topic6\", \"Topic6\", \"Topic6\", \"Topic6\", \"Topic6\", \"Topic6\", \"Topic6\", \"Topic6\", \"Topic6\", \"Topic6\", \"Topic6\", \"Topic6\", \"Topic6\", \"Topic6\", \"Topic6\", \"Topic6\", \"Topic6\", \"Topic6\", \"Topic6\", \"Topic6\", \"Topic6\", \"Topic6\", \"Topic6\", \"Topic6\", \"Topic6\", \"Topic6\", \"Topic7\", \"Topic7\", \"Topic7\", \"Topic7\", \"Topic7\", \"Topic7\", \"Topic7\", \"Topic7\", \"Topic7\", \"Topic7\", \"Topic7\", \"Topic7\", \"Topic7\", \"Topic7\", \"Topic7\", \"Topic7\", \"Topic7\", \"Topic7\", \"Topic7\", \"Topic7\", \"Topic7\", \"Topic7\", \"Topic7\", \"Topic7\", \"Topic7\", \"Topic7\", \"Topic7\", \"Topic7\", \"Topic7\", \"Topic7\", \"Topic7\", \"Topic7\", \"Topic7\", \"Topic7\", \"Topic7\", \"Topic7\", \"Topic7\", \"Topic7\", \"Topic7\", \"Topic7\", \"Topic7\", \"Topic7\", \"Topic7\", \"Topic7\", \"Topic7\", \"Topic7\", \"Topic7\", \"Topic7\", \"Topic7\", \"Topic7\", \"Topic7\", \"Topic7\", \"Topic7\", \"Topic7\", \"Topic7\", \"Topic7\", \"Topic7\", \"Topic7\", \"Topic7\", \"Topic7\", \"Topic7\", \"Topic7\", \"Topic7\", \"Topic7\", \"Topic7\", \"Topic7\", \"Topic7\", \"Topic7\", \"Topic7\", \"Topic7\", \"Topic7\", \"Topic7\", \"Topic7\", \"Topic7\", \"Topic7\", \"Topic7\", \"Topic7\", \"Topic7\", \"Topic7\", \"Topic7\", \"Topic7\", \"Topic7\", \"Topic8\", \"Topic8\", \"Topic8\", \"Topic8\", \"Topic8\", \"Topic8\", \"Topic8\", \"Topic8\", \"Topic8\", \"Topic8\", \"Topic8\", \"Topic8\", \"Topic8\", \"Topic8\", \"Topic8\", \"Topic8\", \"Topic8\", \"Topic8\", \"Topic8\", \"Topic8\", \"Topic8\", \"Topic8\", \"Topic8\", \"Topic8\", \"Topic8\", \"Topic8\", \"Topic8\", \"Topic8\", \"Topic8\", \"Topic8\", \"Topic8\", \"Topic8\", \"Topic8\", \"Topic8\", \"Topic8\", \"Topic8\", \"Topic8\", \"Topic8\", \"Topic8\", \"Topic8\", \"Topic8\", \"Topic8\", \"Topic8\", \"Topic8\", \"Topic8\", \"Topic8\", \"Topic8\", \"Topic8\", \"Topic8\", \"Topic8\", \"Topic8\", \"Topic8\", \"Topic8\", \"Topic8\", \"Topic8\", \"Topic8\", \"Topic8\", \"Topic8\", \"Topic8\", \"Topic8\", \"Topic8\", \"Topic8\", \"Topic8\", \"Topic8\", \"Topic8\", \"Topic8\", \"Topic8\", \"Topic8\", \"Topic8\", \"Topic8\", \"Topic8\", \"Topic8\", \"Topic8\", \"Topic8\", \"Topic8\", \"Topic8\", \"Topic8\", \"Topic8\", \"Topic8\", \"Topic8\", \"Topic8\", \"Topic8\"], \"logprob\": [30.0, 29.0, 28.0, 27.0, 26.0, 25.0, 24.0, 23.0, 22.0, 21.0, 20.0, 19.0, 18.0, 17.0, 16.0, 15.0, 14.0, 13.0, 12.0, 11.0, 10.0, 9.0, 8.0, 7.0, 6.0, 5.0, 4.0, 3.0, 2.0, 1.0, -6.809800148010254, -5.8231000900268555, -8.045999526977539, -8.373100280761719, -8.63129997253418, -8.157299995422363, -8.874699592590332, -8.354299545288086, -8.45989990234375, -8.906599998474121, -9.07129955291748, -9.0733003616333, -8.922599792480469, -8.161100387573242, -9.082099914550781, -8.057499885559082, -8.530400276184082, -8.619600296020508, -8.83080005645752, -8.889599800109863, -9.195599555969238, -8.717700004577637, -9.286700248718262, -7.440299987792969, -9.29520034790039, -8.711199760437012, -9.296199798583984, -9.299099922180176, -9.305500030517578, -9.237799644470215, -7.353000164031982, -8.111599922180176, -6.446199893951416, -8.374799728393555, -8.933099746704102, -7.806000232696533, -8.142200469970703, -4.916999816894531, -7.958000183105469, -5.5904998779296875, -7.821499824523926, -5.447299957275391, -5.12060022354126, -5.091599941253662, -4.950200080871582, -7.395899772644043, -5.791100025177002, -4.81279993057251, -5.179599761962891, -5.591800212860107, -6.720600128173828, -4.610099792480469, -4.536300182342529, -5.676199913024902, -4.537300109863281, -6.066400051116943, -6.900199890136719, -6.446199893951416, -6.077099800109863, -5.713600158691406, -5.484300136566162, -6.187699794769287, -5.123300075531006, -6.175300121307373, -5.307400226593018, -5.347400188446045, -5.329800128936768, -5.305500030517578, -5.7692999839782715, -5.200500011444092, -5.085100173950195, -4.896500110626221, -5.89169979095459, -5.3643999099731445, -5.38070011138916, -5.7144999504089355, -5.603799819946289, -5.542600154876709, -5.411300182342529, -5.56689977645874, -5.596799850463867, -5.634900093078613, -7.9268999099731445, -7.955100059509277, -8.1943998336792, -8.619199752807617, -7.186699867248535, -8.633000373840332, -8.18340015411377, -8.341300010681152, -8.785200119018555, -8.605799674987793, -8.654999732971191, -9.075799942016602, -9.14799976348877, -7.4328999519348145, -8.82349967956543, -8.155599594116211, -9.113900184631348, -7.980800151824951, -7.834499835968018, -9.118399620056152, -8.875699996948242, -8.896599769592285, -8.699199676513672, -9.126299858093262, -8.947799682617188, -9.452699661254883, -9.543100357055664, -9.543100357055664, -9.543100357055664, -9.145000457763672, -7.73390007019043, -6.790200233459473, -8.880999565124512, -6.581200122833252, -7.138599872589111, -6.157299995422363, -5.20550012588501, -6.163400173187256, -5.807600021362305, -4.9268999099731445, -5.18779993057251, -6.648200035095215, -6.512499809265137, -5.662899971008301, -6.551400184631348, -5.9766998291015625, -6.122900009155273, -4.943900108337402, -7.085299968719482, -6.041399955749512, -7.04040002822876, -5.049600124359131, -5.739500045776367, -4.851799964904785, -5.7368998527526855, -5.265500068664551, -5.39300012588501, -5.441500186920166, -5.1072001457214355, -4.581399917602539, -5.291800022125244, -5.694799900054932, -5.2067999839782715, -5.640699863433838, -5.177700042724609, -5.247900009155273, -5.210400104522705, -5.053500175476074, -5.313300132751465, -5.549600124359131, -5.240900039672852, -5.4039998054504395, -5.276100158691406, -5.440499782562256, -5.334400177001953, -5.546800136566162, -5.631899833679199, -5.691100120544434, -7.794300079345703, -7.92579984664917, -8.249699592590332, -8.314299583435059, -7.020400047302246, -8.494500160217285, -8.038999557495117, -8.298700332641602, -8.458700180053711, -8.461199760437012, -7.553899765014648, -8.053299903869629, -8.3100004196167, -8.714500427246094, -8.714500427246094, -7.813399791717529, -8.305500030517578, -6.729700088500977, -8.637900352478027, -8.683799743652344, -8.9266996383667, -7.686800003051758, -7.438899993896484, -7.262599945068359, -8.363300323486328, -8.646599769592285, -8.705400466918945, -8.947199821472168, -8.527899742126465, -8.26509952545166, -7.706600189208984, -6.985899925231934, -7.608399868011475, -6.704699993133545, -6.855400085449219, -7.801599979400635, -7.10099983215332, -7.629199981689453, -6.089600086212158, -7.81689977645874, -7.389500141143799, -5.4710001945495605, -6.331299781799316, -7.662600040435791, -7.161499977111816, -6.322199821472168, -6.069799900054932, -4.7179999351501465, -4.790800094604492, -5.356100082397461, -6.537199974060059, -5.969799995422363, -6.793300151824951, -4.869100093841553, -6.308300018310547, -4.457699775695801, -5.911300182342529, -6.2677001953125, -6.085000038146973, -5.928599834442139, -6.607399940490723, -5.532599925994873, -5.110099792480469, -5.982100009918213, -5.445300102233887, -5.958199977874756, -4.99370002746582, -5.567399978637695, -5.135499954223633, -5.410699844360352, -5.5721001625061035, -5.184700012207031, -5.461299896240234, -5.219299793243408, -5.935500144958496, -5.682000160217285, -5.42519998550415, -5.536099910736084, -5.582399845123291, -5.5096001625061035, -5.5802001953125, -5.578700065612793, -5.706999778747559, -5.583199977874756, -5.66540002822876, -5.776199817657471, -5.775599956512451, -5.741700172424316, -6.923600196838379, -7.799900054931641, -7.801700115203857, -7.82889986038208, -8.290300369262695, -8.290300369262695, -7.992300033569336, -8.214300155639648, -6.576300144195557, -8.219499588012695, -8.223099708557129, -6.822400093078613, -9.187899589538574, -9.106499671936035, -9.10830020904541, -8.866100311279297, -8.643400192260742, -9.13010025024414, -9.130399703979492, -8.54580020904541, -9.145099639892578, -7.801499843597412, -9.147600173950195, -9.147299766540527, -9.145500183105469, -8.447999954223633, -8.447999954223633, -8.67490005493164, -8.8016996383667, -7.392199993133545, -7.727700233459473, -6.315299987792969, -6.9653000831604, -5.927000045776367, -6.952099800109863, -6.695300102233887, -7.231299877166748, -8.372900009155273, -5.277299880981445, -7.374599933624268, -7.422100067138672, -7.867800235748291, -7.3780999183654785, -5.370699882507324, -5.630499839782715, -5.383200168609619, -7.688899993896484, -5.935299873352051, -4.979400157928467, -4.941299915313721, -5.834400177001953, -6.140900135040283, -6.583600044250488, -6.189700126647949, -5.68149995803833, -7.096399784088135, -6.4558000564575195, -5.025700092315674, -5.904200077056885, -4.833499908447266, -4.7941999435424805, -4.889500141143799, -5.310400009155273, -4.851099967956543, -4.970600128173828, -5.851799964904785, -5.45389986038208, -5.097899913787842, -5.515399932861328, -5.986800193786621, -5.301599979400635, -5.684999942779541, -5.204599857330322, -5.013999938964844, -5.153900146484375, -5.416600227355957, -5.1616997718811035, -5.214300155639648, -5.451000213623047, -5.581999778747559, -5.415200233459473, -5.42579984664917, -5.369500160217285, -5.6184000968933105, -5.589099884033203, -5.586400032043457, -5.609399795532227, -5.608799934387207, -7.980199813842773, -8.429300308227539, -8.191900253295898, -8.443099975585938, -8.159600257873535, -8.208000183105469, -8.40779972076416, -8.781800270080566, -8.635000228881836, -8.420700073242188, -8.493000030517578, -7.882500171661377, -8.511699676513672, -8.452699661254883, -8.74530029296875, -8.454099655151367, -8.153400421142578, -8.853400230407715, -8.871500015258789, -8.891300201416016, -8.789400100708008, -8.128399848937988, -9.218700408935547, -8.896900177001953, -7.189199924468994, -9.36299991607666, -8.332300186157227, -9.375100135803223, -8.829999923706055, -8.930399894714355, -7.184199810028076, -8.334799766540527, -7.962399959564209, -7.4054999351501465, -8.334699630737305, -6.529600143432617, -7.348999977111816, -7.364200115203857, -7.371500015258789, -5.168799877166748, -4.501699924468994, -7.671199798583984, -6.971799850463867, -7.586699962615967, -7.007900238037109, -6.821700096130371, -6.014100074768066, -5.261099815368652, -5.636199951171875, -7.736199855804443, -6.7032999992370605, -4.8302001953125, -5.059100151062012, -6.036200046539307, -6.531599998474121, -6.103499889373779, -6.036799907684326, -6.9456000328063965, -6.109899997711182, -4.832099914550781, -5.331200122833252, -5.701399803161621, -5.082300186157227, -5.492499828338623, -5.425899982452393, -5.7677998542785645, -4.676499843597412, -5.7067999839782715, -5.8730998039245605, -4.964399814605713, -5.252900123596191, -5.321599960327148, -5.212100028991699, -5.221700191497803, -5.051400184631348, -5.618800163269043, -5.868800163269043, -5.310999870300293, -5.502999782562256, -5.540599822998047, -5.486199855804443, -5.485899925231934, -5.531099796295166, -5.388400077819824, -5.461400032043457, -5.634099960327148, -5.702099800109863, -7.331900119781494, -7.9893999099731445, -8.249799728393555, -6.889900207519531, -7.907599925994873, -8.45930004119873, -7.955999851226807, -8.16919994354248, -8.317299842834473, -8.267000198364258, -7.998799800872803, -7.592400074005127, -8.555800437927246, -7.102499961853027, -8.890800476074219, -8.811699867248535, -7.1768999099731445, -8.535400390625, -8.906000137329102, -8.821700096130371, -6.202899932861328, -8.917799949645996, -8.910300254821777, -8.824799537658691, -8.602100372314453, -9.014300346374512, -8.933099746704102, -8.929300308227539, -8.929400444030762, -8.209799766540527, -7.799600124359131, -7.723999977111816, -8.389699935913086, -8.366600036621094, -7.7657999992370605, -8.130900382995605, -5.622000217437744, -8.25469970703125, -8.435700416564941, -5.157100200653076, -7.3796000480651855, -5.2804999351501465, -6.263700008392334, -5.4934000968933105, -7.405200004577637, -7.552999973297119, -6.875699996948242, -5.158299922943115, -5.372399806976318, -4.511099815368652, -5.770699977874756, -6.5406999588012695, -5.278299808502197, -6.39870023727417, -6.2606000900268555, -4.771299839019775, -4.980599880218506, -6.0833001136779785, -5.7221999168396, -5.474999904632568, -5.311699867248535, -5.13070011138916, -5.497300148010254, -5.581099987030029, -5.636600017547607, -5.230500221252441, -5.527900218963623, -5.248199939727783, -4.821300029754639, -5.393700122833252, -5.552000045776367, -5.540999889373779, -5.679900169372559, -5.346099853515625, -5.786799907684326, -5.345799922943115, -5.328800201416016, -5.332699775695801, -5.516600131988525, -5.491300106048584, -5.489200115203857, -5.531400203704834, -5.563399791717529, -5.578499794006348, -7.084099769592285, -7.698999881744385, -7.7683000564575195, -6.958600044250488, -8.212200164794922, -6.900400161743164, -8.51990032196045, -8.306699752807617, -8.299200057983398, -8.305299758911133, -8.555800437927246, -8.641500473022461, -8.414600372314453, -7.878799915313721, -8.507699966430664, -8.686100006103516, -8.091300010681152, -7.797999858856201, -9.029999732971191, -6.950399875640869, -8.473600387573242, -8.368200302124023, -7.868000030517578, -7.856200218200684, -8.66919994354248, -7.307499885559082, -8.67959976196289, -7.087800025939941, -9.221500396728516, -8.708900451660156, -6.798699855804443, -7.147900104522705, -7.105500221252441, -7.677599906921387, -7.5320000648498535, -4.497399806976318, -5.772200107574463, -4.97790002822876, -6.884099960327148, -6.741099834442139, -6.899700164794922, -6.3520002365112305, -6.953700065612793, -5.344399929046631, -7.007900238037109, -5.52400016784668, -6.838699817657471, -5.269899845123291, -5.649199962615967, -6.487800121307373, -6.055699825286865, -5.519400119781494, -6.21999979019165, -7.0883002281188965, -6.111599922180176, -5.634799957275391, -5.591100215911865, -6.188499927520752, -5.795499801635742, -5.461900234222412, -5.842100143432617, -5.478499889373779, -5.641200065612793, -5.082799911499023, -5.216899871826172, -5.828000068664551, -5.139800071716309, -5.567800045013428, -5.364500045776367, -5.438199996948242, -5.1107001304626465, -5.343699932098389, -5.452199935913086, -5.43720006942749, -5.5229997634887695, -5.411300182342529, -5.51609992980957, -5.648600101470947, -5.55709981918335, -5.585999965667725, -5.609799861907959, -5.657800197601318, -7.533699989318848, -7.744500160217285, -7.9355998039245605, -8.103699684143066, -7.922900199890137, -8.574999809265137, -7.648499965667725, -7.893499851226807, -8.420900344848633, -8.621600151062012, -7.719600200653076, -7.67080020904541, -8.645999908447266, -8.646100044250488, -8.65939998626709, -8.11870002746582, -8.372200012207031, -9.137200355529785, -8.790900230407715, -8.790900230407715, -8.33530044555664, -9.156700134277344, -7.7266998291015625, -7.134399890899658, -8.717300415039062, -8.06659984588623, -8.496999740600586, -8.496999740600586, -8.496999740600586, -8.38290023803711, -8.146499633789062, -7.075799942016602, -7.686500072479248, -5.683499813079834, -7.012199878692627, -8.214099884033203, -7.621399879455566, -7.248199939727783, -6.115099906921387, -7.482800006866455, -6.572299957275391, -7.485400199890137, -5.670000076293945, -7.219299793243408, -6.35699987411499, -6.458199977874756, -5.693399906158447, -6.533199787139893, -6.684999942779541, -5.502299785614014, -4.978099822998047, -6.669300079345703, -5.170000076293945, -5.164100170135498, -4.995999813079834, -5.139100074768066, -5.088099956512451, -5.152699947357178, -5.197400093078613, -5.977499961853027, -5.200900077819824, -5.729800224304199, -5.638000011444092, -5.196000099182129, -5.548099994659424, -5.245100021362305, -5.19320011138916, -5.340199947357178, -5.167399883270264, -5.146399974822998, -5.325300216674805, -5.5721001625061035, -5.413899898529053, -5.633200168609619, -5.355100154876709, -5.609399795532227, -5.416299819946289, -5.2058000564575195, -5.385700225830078, -5.4039998054504395, -5.6255998611450195, -5.630199909210205], \"loglift\": [30.0, 29.0, 28.0, 27.0, 26.0, 25.0, 24.0, 23.0, 22.0, 21.0, 20.0, 19.0, 18.0, 17.0, 16.0, 15.0, 14.0, 13.0, 12.0, 11.0, 10.0, 9.0, 8.0, 7.0, 6.0, 5.0, 4.0, 3.0, 2.0, 1.0, 1.5706000328063965, 1.5693999528884888, 1.5406999588012695, 1.531499981880188, 1.5154999494552612, 1.5089999437332153, 1.5088000297546387, 1.4981000423431396, 1.4975999593734741, 1.4838999509811401, 1.4766000509262085, 1.4752999544143677, 1.473099946975708, 1.4722000360488892, 1.468999981880188, 1.4648000001907349, 1.4622999429702759, 1.4567999839782715, 1.454200029373169, 1.4414000511169434, 1.4386999607086182, 1.4378000497817993, 1.4321000576019287, 1.4297000169754028, 1.4294999837875366, 1.42739999294281, 1.4246000051498413, 1.4223999977111816, 1.4186999797821045, 1.4119999408721924, 1.4055999517440796, 1.403499960899353, 1.3589999675750732, 1.3976000547409058, 1.4119000434875488, 1.3517999649047852, 1.3634999990463257, 1.1548999547958374, 1.3494000434875488, 1.131600022315979, 1.3294999599456787, 0.9973000288009644, 0.9086999893188477, 0.8575000166893005, 0.8115000128746033, 1.2202999591827393, 0.9254999756813049, 0.7041000127792358, 0.7696999907493591, 0.852400004863739, 1.0795999765396118, 0.6353999972343445, 0.6105999946594238, 0.8409000039100647, 0.5335999727249146, 0.9101999998092651, 1.108299970626831, 0.9927999973297119, 0.879800021648407, 0.7692000269889832, 0.6784999966621399, 0.8360999822616577, 0.46129998564720154, 0.8111000061035156, 0.4569000005722046, 0.4652999937534332, 0.4553999900817871, 0.3711000084877014, 0.60589998960495, 0.2533999979496002, 0.10300000011920929, -0.08969999849796295, 0.617900013923645, 0.05990000069141388, -0.0006000000284984708, 0.4205000102519989, 0.20569999516010284, 0.1071000024676323, -0.2590999901294708, -0.15850000083446503, -0.12809999287128448, -0.12380000203847885, 1.7031999826431274, 1.6969000101089478, 1.6627999544143677, 1.6568000316619873, 1.6548000574111938, 1.6441999673843384, 1.6439000368118286, 1.6348999738693237, 1.6332000494003296, 1.6287000179290771, 1.6282000541687012, 1.6269999742507935, 1.6186000108718872, 1.6052000522613525, 1.5951000452041626, 1.5936000347137451, 1.5908000469207764, 1.5823999643325806, 1.5787999629974365, 1.5787999629974365, 1.5784000158309937, 1.5781999826431274, 1.5643999576568604, 1.5636999607086182, 1.5636999607086182, 1.5543999671936035, 1.5537999868392944, 1.5537999868392944, 1.5537999868392944, 1.5463999509811401, 1.5399999618530273, 1.5163999795913696, 1.5403000116348267, 1.4230999946594238, 1.4501999616622925, 1.367400050163269, 1.2350000143051147, 1.3150999546051025, 1.24590003490448, 1.0814000368118286, 1.0978000164031982, 1.278499960899353, 1.257200002670288, 1.1217000484466553, 1.2039999961853027, 1.0836999416351318, 1.1074999570846558, 0.8289999961853027, 1.2797000408172607, 0.975600004196167, 1.228700041770935, 0.5827999711036682, 0.7753000259399414, 0.439300000667572, 0.7552000284194946, 0.5644999742507935, 0.6068999767303467, 0.6104000210762024, 0.4691999852657318, 0.22540000081062317, 0.5175999999046326, 0.6790000200271606, 0.37790000438690186, 0.580299973487854, 0.23080000281333923, 0.2632000148296356, 0.21709999442100525, 0.09860000014305115, 0.2160000056028366, 0.41690000891685486, -0.052799999713897705, 0.12759999930858612, -0.1290999948978424, 0.07599999755620956, -0.26350000500679016, -0.16670000553131104, 0.19990000128746033, -0.2222999930381775, 1.777500033378601, 1.7745000123977661, 1.7639000415802002, 1.7596999406814575, 1.7562999725341797, 1.7462999820709229, 1.7461999654769897, 1.7412999868392944, 1.7384999990463257, 1.7371000051498413, 1.735700011253357, 1.7333999872207642, 1.7279000282287598, 1.726699948310852, 1.726699948310852, 1.7223000526428223, 1.7172000408172607, 1.7141000032424927, 1.7041000127792358, 1.7029999494552612, 1.7000999450683594, 1.695199966430664, 1.69159996509552, 1.6901999711990356, 1.6890000104904175, 1.688599944114685, 1.680899977684021, 1.6800999641418457, 1.6766999959945679, 1.6754000186920166, 1.6612999439239502, 1.6238000392913818, 1.644700050354004, 1.6024999618530273, 1.5943000316619873, 1.642799973487854, 1.5901000499725342, 1.6117000579833984, 1.419800043106079, 1.618299961090088, 1.5436999797821045, 1.220900058746338, 1.3565000295639038, 1.5780999660491943, 1.4505000114440918, 1.2196999788284302, 1.1448999643325806, 0.7465000152587891, 0.7408000230789185, 0.8956000208854675, 1.2117999792099, 1.0160000324249268, 1.2964999675750732, 0.5551999807357788, 1.0992000102996826, 0.3490000069141388, 0.8942000269889832, 1.0455000400543213, 0.9451000094413757, 0.8507000207901001, 1.1687999963760376, 0.6107000112533569, 0.358599990606308, 0.815500020980835, 0.4366999864578247, 0.7583000063896179, 0.07720000296831131, 0.3991999924182892, 0.05249999836087227, 0.2669000029563904, 0.3817000091075897, -0.032600000500679016, 0.21529999375343323, -0.07240000367164612, 0.6575000286102295, 0.32249999046325684, -0.01679999940097332, 0.11240000277757645, -0.06560000032186508, -0.2639999985694885, -0.12630000710487366, -0.15119999647140503, 0.15520000457763672, -0.20309999585151672, -0.13619999587535858, 0.18279999494552612, 0.12530000507831573, -0.10939999669790268, 1.9946999549865723, 1.9876999855041504, 1.9859000444412231, 1.9581999778747559, 1.9581999778747559, 1.9581999778747559, 1.9108999967575073, 1.906499981880188, 1.9047000408172607, 1.9009000062942505, 1.8968000411987305, 1.8626999855041504, 1.8463000059127808, 1.8389999866485596, 1.8367999792099, 1.8315000534057617, 1.8245999813079834, 1.8177000284194946, 1.8170000314712524, 1.809399962425232, 1.8056999444961548, 1.8036999702453613, 1.8026000261306763, 1.8020000457763672, 1.801200032234192, 1.799399971961975, 1.799399971961975, 1.7901999950408936, 1.7888000011444092, 1.787600040435791, 1.7838000059127808, 1.7452000379562378, 1.7472000122070312, 1.6964000463485718, 1.7282999753952026, 1.6902999877929688, 1.7077000141143799, 1.774399995803833, 1.5760999917984009, 1.6857000589370728, 1.688599944114685, 1.7283999919891357, 1.6776000261306763, 1.4381999969482422, 1.4668999910354614, 1.4244999885559082, 1.698099970817566, 1.4541000127792358, 1.2591999769210815, 1.1928000450134277, 1.361799955368042, 1.4110000133514404, 1.4903000593185425, 1.3762999773025513, 1.225600004196167, 1.5956000089645386, 1.3734999895095825, 0.8363999724388123, 1.1375999450683594, 0.6776000261306763, 0.6333000063896179, 0.6398000121116638, 0.8133999705314636, 0.5289999842643738, 0.5458999872207642, 0.9977999925613403, 0.7728999853134155, 0.5167999863624573, 0.7635999917984009, 1.065500020980835, 0.5302000045776367, 0.7885000109672546, 0.3269999921321869, 0.13819999992847443, 0.25459998846054077, 0.46540001034736633, 0.12950000166893005, -0.026200000196695328, 0.18140000104904175, 0.4262000024318695, 0.053599998354911804, -0.0015999999595806003, -0.2985000014305115, 0.4341000020503998, 0.24089999496936798, 0.21739999949932098, 0.3495999872684479, 0.2711000144481659, 2.0576000213623047, 2.0443999767303467, 2.043600082397461, 2.0348000526428223, 2.032099962234497, 2.0280001163482666, 2.009999990463257, 2.0099000930786133, 2.0000998973846436, 1.9988000392913818, 1.989799976348877, 1.9876999855041504, 1.9733999967575073, 1.972000002861023, 1.970900058746338, 1.9680999517440796, 1.9559999704360962, 1.9515000581741333, 1.9384000301361084, 1.9372999668121338, 1.922700047492981, 1.9141000509262085, 1.910599946975708, 1.9038000106811523, 1.9020999670028687, 1.9012000560760498, 1.895400047302246, 1.8906999826431274, 1.8832000494003296, 1.8827999830245972, 1.8695000410079956, 1.8782999515533447, 1.8565000295639038, 1.8316999673843384, 1.8624000549316406, 1.6792999505996704, 1.7552000284194946, 1.7447999715805054, 1.7379000186920166, 1.4222999811172485, 1.2834999561309814, 1.7670999765396118, 1.6399999856948853, 1.7202999591827393, 1.511299967765808, 1.4455000162124634, 1.187000036239624, 0.9017000198364258, 1.003600001335144, 1.7243000268936157, 1.3553999662399292, 0.6342999935150146, 0.7026000022888184, 1.0678000450134277, 1.251099944114685, 1.0637999773025513, 1.0277999639511108, 1.4134000539779663, 1.023300051689148, 0.41350001096725464, 0.6226000189781189, 0.7813000082969666, 0.4341999888420105, 0.6506999731063843, 0.6033999919891357, 0.7896000146865845, 0.13019999861717224, 0.7378000020980835, 0.8062000274658203, 0.22360000014305115, 0.3968000113964081, 0.35600000619888306, 0.241799995303154, 0.24699999392032623, 0.019500000402331352, 0.4596000015735626, 0.6678000092506409, 0.11649999767541885, 0.30079999566078186, 0.2721000015735626, 0.19050000607967377, 0.03099999949336052, 0.10130000114440918, -0.2363000065088272, -0.31450000405311584, 0.13019999861717224, 0.24709999561309814, 2.2009999752044678, 2.1263999938964844, 2.1259000301361084, 2.1171998977661133, 2.0845999717712402, 2.084399938583374, 2.072200059890747, 2.0715999603271484, 2.071500062942505, 2.0690999031066895, 2.0629000663757324, 2.0613999366760254, 2.059000015258789, 2.049299955368042, 2.037100076675415, 2.0192999839782715, 2.0183000564575195, 2.0183000564575195, 2.015199899673462, 2.014899969100952, 2.0127999782562256, 2.0092999935150146, 2.009000062942505, 2.0009000301361084, 1.999500036239624, 1.9984999895095825, 1.99399995803833, 1.993899941444397, 1.9900000095367432, 1.989799976348877, 1.9722000360488892, 1.954699993133545, 1.9757000207901, 1.9702999591827393, 1.9377000331878662, 1.9342999458312988, 1.61080002784729, 1.930899977684021, 1.9527000188827515, 1.4155000448226929, 1.7747999429702759, 1.4011000394821167, 1.5643999576568604, 1.3351000547409058, 1.750100016593933, 1.7676000595092773, 1.5607999563217163, 1.0441999435424805, 1.0884000062942505, 0.7800999879837036, 1.131500005722046, 1.3645000457763672, 0.7735999822616577, 1.2416000366210938, 1.1402000188827515, 0.3808000087738037, 0.4837999939918518, 1.0418000221252441, 0.8377000093460083, 0.6664000153541565, 0.5702999830245972, 0.4458000063896179, 0.6547999978065491, 0.7045000195503235, 0.7170000076293945, 0.4471000134944916, 0.6154000163078308, 0.36649999022483826, -0.014600000344216824, 0.43810001015663147, 0.5005000233650208, 0.45890000462532043, 0.5587999820709229, 0.18320000171661377, 0.6456000208854675, 0.034299999475479126, -0.08320000022649765, -0.18569999933242798, 0.13189999759197235, -0.06710000336170197, -0.3010999858379364, -0.12290000170469284, 0.021299999207258224, -0.12460000067949295, 2.670599937438965, 2.634399890899658, 2.6092000007629395, 2.6073999404907227, 2.5806000232696533, 2.501800060272217, 2.486599922180176, 2.4704999923706055, 2.4670000076293945, 2.461199998855591, 2.442699909210205, 2.440000057220459, 2.4267001152038574, 2.4203999042510986, 2.41759991645813, 2.4133999347686768, 2.4040000438690186, 2.3912999629974365, 2.37280011177063, 2.366300106048584, 2.3564999103546143, 2.351099967956543, 2.338900089263916, 2.3192999362945557, 2.316699981689453, 2.311300039291382, 2.3055999279022217, 2.3048999309539795, 2.300600051879883, 2.296799898147583, 2.289299964904785, 2.2679998874664307, 2.261899948120117, 2.267899990081787, 2.220099925994873, 1.868899941444397, 2.0178000926971436, 1.9048999547958374, 2.128000020980835, 2.1029999256134033, 2.123199939727783, 1.9780999422073364, 2.055000066757202, 1.51010000705719, 2.043299913406372, 1.5188000202178955, 1.9122999906539917, 1.2608000040054321, 1.4119999408721924, 1.7517999410629272, 1.527899980545044, 1.269700050354004, 1.570199966430664, 2.004699945449829, 1.4528000354766846, 1.0305999517440796, 0.9539999961853027, 1.4214999675750732, 1.0985000133514404, 0.7897999882698059, 1.0880000591278076, 0.7239999771118164, 0.7498000264167786, 0.0640999972820282, 0.1915999948978424, 0.8608999848365784, 0.012400000356137753, 0.5105999708175659, 0.1648000031709671, 0.21150000393390656, -0.30390000343322754, -0.09809999912977219, -0.027899999171495438, -0.057100001722574234, 0.0917000025510788, -0.34040001034736633, -0.08869999647140503, 0.23340000212192535, -0.10320000350475311, -0.06949999928474426, -0.42170000076293945, -0.08129999786615372, 2.8296000957489014, 2.760699987411499, 2.7558000087738037, 2.6979000568389893, 2.642699956893921, 2.6331000328063965, 2.619800090789795, 2.61899995803833, 2.617000102996826, 2.56820011138916, 2.5601000785827637, 2.556999921798706, 2.5327999591827393, 2.5190000534057617, 2.5164999961853027, 2.511199951171875, 2.501199960708618, 2.487799882888794, 2.468899965286255, 2.468899965286255, 2.467099905014038, 2.4563000202178955, 2.451900005340576, 2.4474000930786133, 2.4458999633789062, 2.4330999851226807, 2.4293999671936035, 2.4293999671936035, 2.4293999671936035, 2.428499937057495, 2.422300100326538, 2.3838999271392822, 2.39520001411438, 2.188999891281128, 2.2776999473571777, 2.3782999515533447, 2.2583999633789062, 2.18149995803833, 1.9108999967575073, 2.1826000213623047, 1.9184999465942383, 2.1784000396728516, 1.510699987411499, 2.019200086593628, 1.660099983215332, 1.6303999423980713, 1.200600028038025, 1.614799976348877, 1.6845999956130981, 1.042799949645996, 0.6704000234603882, 1.6407999992370605, 0.6338000297546387, 0.6087999939918518, 0.4578999876976013, 0.475600004196167, 0.42879998683929443, 0.3637000024318695, 0.3790999948978424, 1.0252000093460083, 0.3102000057697296, 0.7850000262260437, 0.6816999912261963, 0.2727000117301941, 0.5932999849319458, 0.2842000126838684, 0.23100000619888306, 0.3095000088214874, 0.12380000203847885, 0.041600000113248825, 0.20630000531673431, 0.5062999725341797, 0.262800008058548, 0.5019000172615051, 0.02500000037252903, 0.390500009059906, 0.01119999960064888, -0.39910000562667847, -0.23360000550746918, -0.3330000042915344, 0.20630000531673431, 0.3190999925136566]}, \"token.table\": {\"Topic\": [3, 4, 1, 2, 3, 4, 5, 6, 7, 8, 1, 2, 3, 5, 6, 8, 6, 1, 2, 3, 4, 5, 6, 7, 8, 1, 2, 3, 4, 5, 6, 7, 8, 1, 2, 3, 4, 5, 6, 7, 8, 1, 2, 3, 4, 5, 6, 7, 8, 1, 2, 3, 4, 5, 6, 7, 8, 6, 2, 3, 7, 5, 1, 2, 3, 4, 5, 6, 7, 8, 4, 1, 2, 3, 4, 5, 6, 7, 8, 2, 6, 2, 4, 5, 1, 3, 4, 7, 2, 5, 3, 7, 1, 2, 4, 5, 8, 1, 2, 3, 4, 5, 6, 7, 8, 1, 3, 6, 1, 1, 2, 3, 4, 5, 6, 7, 8, 2, 3, 8, 2, 2, 1, 2, 3, 4, 6, 7, 1, 3, 5, 2, 1, 2, 3, 4, 5, 6, 8, 1, 2, 3, 8, 6, 8, 1, 2, 3, 4, 5, 6, 7, 8, 1, 2, 3, 4, 5, 6, 7, 8, 4, 1, 2, 3, 4, 5, 6, 7, 8, 2, 1, 3, 4, 1, 2, 3, 5, 2, 3, 4, 6, 1, 2, 3, 5, 6, 7, 5, 6, 8, 1, 2, 3, 4, 5, 6, 7, 8, 1, 3, 6, 4, 6, 1, 8, 1, 6, 7, 1, 2, 3, 4, 5, 6, 7, 8, 1, 2, 3, 4, 5, 6, 7, 8, 1, 2, 3, 6, 1, 2, 3, 4, 5, 6, 7, 8, 1, 7, 5, 3, 5, 2, 1, 2, 3, 4, 5, 6, 7, 8, 1, 2, 3, 4, 5, 6, 7, 8, 1, 2, 3, 4, 5, 6, 7, 1, 2, 3, 4, 5, 6, 7, 8, 1, 2, 3, 4, 5, 6, 7, 8, 6, 7, 1, 1, 7, 1, 2, 3, 4, 5, 6, 7, 8, 3, 1, 2, 3, 4, 5, 6, 7, 8, 1, 2, 3, 4, 5, 6, 7, 8, 1, 2, 3, 5, 1, 2, 3, 4, 5, 6, 7, 8, 1, 2, 3, 4, 5, 6, 7, 3, 4, 6, 7, 3, 4, 5, 6, 3, 8, 3, 5, 1, 2, 3, 4, 5, 6, 4, 4, 6, 1, 2, 3, 4, 5, 6, 7, 8, 3, 4, 5, 6, 7, 1, 2, 3, 4, 5, 6, 7, 8, 1, 1, 2, 3, 7, 1, 2, 3, 4, 5, 6, 7, 8, 1, 2, 3, 4, 5, 6, 7, 8, 1, 2, 3, 4, 5, 6, 7, 8, 1, 5, 8, 1, 2, 3, 4, 5, 6, 7, 1, 2, 4, 5, 6, 7, 1, 2, 3, 4, 5, 6, 7, 8, 1, 2, 3, 4, 5, 6, 7, 8, 2, 3, 6, 7, 1, 2, 3, 4, 5, 6, 7, 8, 4, 6, 7, 1, 2, 6, 8, 2, 3, 8, 2, 6, 1, 2, 6, 1, 2, 3, 4, 5, 6, 7, 8, 1, 2, 3, 4, 5, 6, 7, 8, 1, 2, 3, 4, 5, 6, 7, 8, 1, 2, 3, 4, 5, 6, 7, 2, 5, 6, 8, 3, 1, 4, 7, 1, 2, 3, 4, 5, 6, 7, 8, 3, 4, 5, 1, 5, 1, 2, 8, 1, 2, 3, 4, 5, 6, 7, 8, 2, 1, 2, 3, 4, 5, 6, 7, 8, 1, 2, 3, 4, 5, 6, 7, 8, 2, 3, 6, 7, 1, 2, 3, 4, 5, 6, 7, 8, 7, 1, 2, 3, 4, 5, 6, 7, 8, 1, 2, 3, 4, 5, 6, 7, 8, 8, 1, 2, 3, 4, 5, 6, 7, 8, 1, 2, 3, 4, 5, 6, 7, 8, 1, 2, 3, 4, 5, 6, 7, 8, 1, 2, 3, 4, 5, 6, 7, 8, 2, 3, 7, 1, 1, 7, 8, 1, 2, 3, 4, 5, 6, 7, 8, 2, 4, 6, 7, 8, 1, 2, 3, 4, 5, 6, 7, 8, 5, 1, 2, 3, 4, 5, 6, 7, 8, 1, 2, 3, 4, 5, 6, 7, 8, 6, 3, 6, 1, 2, 3, 4, 5, 6, 7, 8, 1, 5, 6, 1, 2, 3, 4, 5, 6, 7, 8, 6, 1, 2, 3, 4, 5, 6, 7, 8, 1, 2, 5, 6, 8, 2, 3, 5, 7, 8, 1, 2, 3, 4, 5, 6, 7, 8, 1, 2, 3, 4, 5, 6, 7, 8, 1, 2, 3, 4, 5, 6, 7, 8, 3, 4, 2, 3, 4, 5, 8, 1, 2, 3, 4, 5, 6, 7, 8, 1, 2, 3, 4, 5, 6, 7, 2, 4, 6, 7, 1, 2, 6, 4, 5, 1, 2, 3, 4, 5, 6, 7, 8, 5, 1, 2, 3, 4, 5, 6, 7, 1, 2, 3, 4, 5, 6, 7, 8, 1, 2, 3, 4, 5, 6, 7, 8, 2, 1, 1, 2, 3, 5, 6, 1, 2, 3, 4, 5, 6, 7, 8, 1, 2, 3, 4, 5, 6, 7, 8, 1, 2, 3, 5, 6, 7, 8, 1, 2, 3, 4, 5, 6, 7, 8, 8, 1, 2, 3, 4, 5, 6, 7, 8, 3, 1, 2, 3, 4, 5, 6, 7, 8, 3, 4, 5, 8, 1, 2, 3, 4, 5, 6, 7, 8, 2, 1, 2, 3, 5, 8, 3, 6, 1, 2, 3, 4, 5, 6, 7, 8, 5, 3, 5, 7, 1, 8, 6, 1, 2, 3, 4, 5, 6, 7, 8, 1, 2, 3, 4, 5, 6, 7, 1, 2, 3, 4, 5, 6, 7, 5, 3, 5, 3, 7, 1, 2, 3, 4, 5, 6, 7, 8, 4, 4, 7, 1, 2, 3, 4, 5, 6, 7, 8, 1, 2, 3, 4, 5, 6, 7, 1, 5, 8, 2, 6, 3, 6, 7, 4, 7, 2, 7, 2, 3, 4, 5, 6, 7, 8, 2, 1, 2, 3, 4, 5, 6, 7, 8, 7, 1, 2, 3, 4, 5, 6, 7, 8, 4, 1, 2, 3, 4, 5, 6, 7, 8, 1, 2, 3, 4, 5, 6, 7, 8, 1, 2, 3, 4, 5, 6, 7, 8, 1, 2, 3, 4, 5, 6, 7, 8, 1, 3, 4, 7, 1, 2, 3, 4, 5, 6, 7, 8, 1, 2, 3, 4, 5, 6, 7, 8, 1, 2, 3, 4, 5, 6, 7, 8, 3, 4, 5, 6, 7, 8, 2, 6, 1, 2, 3, 4, 5, 6, 7, 8, 1, 2, 3, 4, 5, 6, 7, 8, 1, 2, 3, 4, 5, 6, 7, 8, 1, 2, 3, 4, 5, 6, 7, 8, 5, 1, 2, 3, 4, 5, 3, 1, 2, 3, 4, 5, 6, 7, 8, 6, 3, 1, 2, 3, 4, 5, 6, 7, 8, 5, 1, 2, 5, 6, 7, 8, 5, 2, 3, 8, 2, 3, 8, 8, 1, 2, 3, 4, 5, 6, 7, 8, 2, 3, 7, 1, 2, 3, 4, 5, 6, 7, 8, 5, 1, 2, 3, 5, 6, 8, 1, 2, 3, 4, 5, 6, 7, 8, 4, 2, 3, 1, 2, 3, 4, 5, 6, 7, 8, 3, 7, 1, 3, 3, 5, 8, 4, 6, 8, 5, 1, 4, 1, 4, 1, 2, 3, 4, 5, 6, 7, 8, 1, 2, 3, 4, 5, 6, 8, 7, 1, 2, 3, 4, 5, 6, 7, 8, 1, 2, 3, 4, 5, 6, 7, 8, 2, 6, 2, 4, 1, 2, 3, 4, 5, 6, 7, 8, 1, 3, 4, 5, 6, 1, 3, 4, 7, 1, 2, 3, 4, 5, 6, 7, 8, 1, 2, 3, 4, 5, 6, 7, 3, 8, 3, 6, 1, 1, 6, 7, 1, 2, 3, 4, 5, 6, 7, 8, 1, 2, 3, 4, 5, 6, 7, 8, 1, 2, 3, 4, 5, 6, 7, 8, 1, 2, 3, 4, 5, 6, 7, 8, 1, 2, 3, 4, 5, 6, 7, 8, 1, 3, 4, 5, 6, 3, 6, 5, 6, 7, 4, 5, 1, 2, 3, 4, 5, 6, 7, 8, 1, 2, 3, 4, 5, 6, 7, 8, 3, 6, 1, 2, 3, 4, 5, 6, 7, 8, 5, 1, 2, 3, 4, 5, 6, 7, 8, 1, 2, 3, 4, 5, 6, 7, 8, 6, 1, 2, 3, 4, 5, 6, 7, 8, 1, 2, 3, 4, 5, 6, 7, 8, 1, 2, 3, 7, 8, 1, 2, 3, 4, 5, 6, 7, 8, 1, 2, 3, 4, 5, 6, 7, 8, 1, 6, 1, 2, 3, 4, 5, 6, 7, 8, 1, 2, 3, 4, 5, 6, 7, 8, 3, 1, 1, 2, 3, 4, 5, 6, 7, 8, 7, 1, 2, 4, 5, 7, 8, 7, 8, 6, 8, 1, 2, 3, 4, 5, 6, 7, 8, 1, 2, 3, 4, 5, 6, 7, 8, 3, 8, 1, 2, 3, 4, 5, 6, 7, 8, 8, 1, 2, 3, 4, 5, 6, 7, 8, 4, 1, 1, 2, 3, 5, 1, 2, 3, 4, 5, 6, 7, 8, 1, 2, 3, 4, 5, 6, 7, 8, 2, 3, 4, 6, 8, 7, 1, 2, 3, 3, 1, 2, 3, 4, 5, 6, 7, 8, 2, 1, 2, 5, 6, 1, 2, 3, 4, 5, 6, 7, 8, 1, 2, 3, 4, 5, 6, 7, 1, 2, 3, 4, 5, 6, 7, 8, 3, 5, 7, 8, 1, 2, 3, 4, 5, 6, 7, 8, 1, 2, 3, 4, 5, 6, 7, 8, 1, 2, 3, 4, 5, 6, 7, 8, 6, 3, 1, 2, 3, 5, 6, 8, 3, 1, 2, 3, 4, 5, 6, 7, 8, 1, 2, 3, 4, 5, 6, 7, 8, 1, 2, 3, 4, 5, 6, 7, 8, 1, 2, 3, 4, 5, 6, 7, 8, 1, 2, 5, 8, 1, 2, 3, 4, 5, 6, 7, 8, 1, 2, 3, 4, 5, 6, 7, 8, 1, 3, 4, 6, 7, 1, 2, 3, 4, 5, 6, 7, 8, 1, 2, 3, 4, 5, 6, 7, 8, 2, 4, 6, 7, 2, 3, 5, 7, 1, 2, 5, 4, 6, 1, 2, 3, 4, 5, 6, 7, 8, 4, 1, 2, 3, 4, 5, 6, 7, 8, 1, 2, 3, 4, 5, 6, 7, 8, 1, 2, 3, 4, 5, 6, 7, 8, 1, 2, 3, 4, 5, 6, 7, 8, 1, 2, 3, 4, 5, 6, 8, 1, 7, 1, 2, 3, 4, 5, 6, 7, 8, 1, 2, 3, 4, 5, 6, 7, 8, 1, 2, 3, 4, 5, 6, 7, 8, 2, 6, 7, 8, 2, 4, 8, 7, 1, 4, 2, 2, 1, 2, 3, 4, 5, 6, 7, 8, 1, 2, 3, 4, 5, 6, 7, 8, 3, 5, 3, 2, 4, 6, 8, 1, 2, 3, 4, 5, 6, 7, 8, 1, 1, 2, 5, 7, 1, 2, 3, 4, 5, 6, 7, 8, 2, 1, 2, 3, 4, 5, 6, 7, 8, 1, 2, 3, 5, 6, 7, 3, 5, 7, 8, 1, 2, 3, 4, 5, 6, 7, 8, 1, 2, 3, 4, 5, 6, 7, 1, 2, 3, 4, 5, 6, 7, 8, 2, 2, 3, 6, 3, 6, 1, 2, 7, 1, 2, 3, 4, 5, 6, 7, 8, 2, 3, 4, 1, 2, 3, 5, 6, 8, 1, 2, 3, 4, 5, 6, 7, 8, 1, 2, 3, 4, 5, 6, 7, 8, 1, 2, 5, 1, 2, 3, 4, 5, 6, 7, 8, 6, 3, 6, 7, 1, 1, 2, 3, 5, 6, 8, 1, 2, 3, 4, 5, 6, 7, 8, 1, 2, 3, 4, 5, 6, 7, 8, 1, 2, 3, 4, 5, 6, 7, 8, 4, 8, 8, 1, 3, 1, 2, 3, 4, 5, 6, 7, 3, 8, 1, 2, 3, 5, 6, 1, 2, 4, 1, 2, 3, 5, 6, 8, 3, 5, 1, 3, 4, 5, 6, 1, 2, 3, 4, 5, 6, 7, 8, 7, 1, 1, 2, 3, 4, 5, 6, 7, 8, 1, 2, 5, 6, 7, 3, 3, 1, 2, 1, 2, 3, 4, 5, 6, 8, 1, 2, 3, 4, 5, 6, 7, 8, 1, 2, 3, 4, 5, 6, 7, 8, 1, 2, 3, 4, 5, 6, 7, 8, 1, 2, 3, 4, 5, 6, 7, 8, 3, 7, 1, 2, 3, 4, 5, 6, 7, 8, 1, 2, 3, 4, 5, 6, 7, 8, 2, 7, 8, 5, 4, 8, 1, 2, 3, 4, 5, 6, 1, 2, 3, 4, 5, 6, 7, 8, 1, 2, 3, 4, 5, 6, 7, 8, 4, 1, 5, 6, 1, 2, 3, 4, 5, 6, 7, 8, 1, 2, 3, 4, 5, 6, 7, 8, 1, 2, 3, 4, 5, 6, 7, 8, 1, 2, 4, 5, 6, 7, 4, 5, 7, 1, 2, 3, 4, 5, 6, 7, 1, 2, 3, 4, 5, 6, 7, 8, 3, 6, 1, 2, 3, 4, 5, 6, 7, 8, 1, 7, 4, 5, 6, 5, 6, 1, 1, 2, 4, 6, 7, 3, 5, 1, 2, 3, 4, 5, 6, 7, 8, 2, 6, 7, 7, 1, 5, 8, 4, 1, 2, 4, 5, 6, 1, 4, 7, 1, 2, 3, 4, 5, 6, 7, 8, 1, 2, 3, 4, 5, 6, 7, 8, 1, 2, 3, 4, 5, 6, 7, 8, 1, 2, 3, 4, 5, 6, 7, 8, 3, 1, 2, 3, 4, 5, 6, 7, 8, 1, 2, 3, 4, 5, 6, 7, 8, 8, 8, 1, 2, 3, 4, 5, 6, 7, 8, 5, 6, 4, 7, 2, 6, 1, 2, 3, 4, 5, 8, 1, 2, 3, 4, 5, 6, 7, 8, 1, 2, 3, 4, 5, 6, 7, 8, 5, 1, 2, 3, 4, 5, 6, 7, 8, 1, 2, 3, 4, 5, 6, 8, 1, 2, 3, 4, 5, 6, 7, 8, 1, 2, 3, 4, 5, 6, 7, 8, 1, 2, 3, 4, 5, 6, 7, 8, 1, 2, 6, 1, 2, 3, 5, 6, 7, 8, 1, 2, 3, 4, 5, 6, 7, 8, 1, 2, 1, 2, 3, 4, 5, 6, 7, 8, 1, 2, 3, 4, 5, 7, 8, 1, 2, 3, 4, 5, 6, 7, 8, 4, 2, 3, 4, 1, 5, 8, 2, 1, 2, 3, 4, 5, 6, 7, 8, 6, 2, 3, 1, 3, 6, 1, 2, 3, 4, 5, 6, 7, 8, 2, 7, 1, 2, 3, 4, 5, 6, 7, 8, 1, 2, 3, 4, 5, 6, 7, 8, 1, 2, 3, 4, 5, 6, 7, 8, 6, 1, 2, 3, 6, 1, 1, 2, 3, 4, 5, 6, 7, 8, 1, 2, 3, 4, 5, 6, 7, 8, 1, 2, 3, 4, 5, 6, 7, 8, 4], \"Freq\": [0.18327374756336212, 0.8247318863868713, 0.10837692022323608, 0.26513639092445374, 0.08192779123783112, 0.1477280706167221, 0.07031597942113876, 0.22901076078414917, 0.03870604559779167, 0.059349268674850464, 0.7705913782119751, 0.061647310853004456, 0.030823655426502228, 0.030823655426502228, 0.030823655426502228, 0.030823655426502228, 0.9419316649436951, 0.24626143276691437, 0.02052178606390953, 0.14365249872207642, 0.02052178606390953, 0.02052178606390953, 0.12313071638345718, 0.43095749616622925, 0.02052178606390953, 0.14926831424236298, 0.3007480204105377, 0.10614635795354843, 0.16474799811840057, 0.08403253555297852, 0.10614635795354843, 0.04754472151398659, 0.04091057553887367, 0.14511139690876007, 0.2082514762878418, 0.09526397287845612, 0.22043640911579132, 0.058709193021059036, 0.16283492743968964, 0.044308826327323914, 0.06424779444932938, 0.1408850997686386, 0.16160351037979126, 0.14779123663902283, 0.20027785003185272, 0.027624530717730522, 0.17265331745147705, 0.08563604205846786, 0.06215519458055496, 0.2905009090900421, 0.1641961634159088, 0.16600051522254944, 0.0811959058046341, 0.06495672464370728, 0.06856542825698853, 0.0595436617732048, 0.10284814238548279, 0.7881215810775757, 0.8356586694717407, 0.07958654314279556, 0.07958654314279556, 0.7292980551719666, 0.038009606301784515, 0.11402881890535355, 0.038009606301784515, 0.038009606301784515, 0.038009606301784515, 0.11402881890535355, 0.6081537008285522, 0.038009606301784515, 0.7748412489891052, 0.12481743097305298, 0.14888936281204224, 0.13016675412654877, 0.2175389528274536, 0.07221580296754837, 0.15156403183937073, 0.07132425159215927, 0.08380599319934845, 0.8477188944816589, 0.10938308387994766, 0.07983189821243286, 0.07983189821243286, 0.7983189821243286, 0.08349350839853287, 0.16698701679706573, 0.6957792043685913, 0.027831168845295906, 0.17428715527057648, 0.7842921614646912, 0.23482801020145416, 0.7044840455055237, 0.14702685177326202, 0.029405370354652405, 0.7057288885116577, 0.05881074070930481, 0.05881074070930481, 0.11780338734388351, 0.246001198887825, 0.09354975074529648, 0.2789168357849121, 0.06409890204668045, 0.10567656904459, 0.06756370514631271, 0.027718445286154747, 0.1708618700504303, 0.05695395544171333, 0.7404014468193054, 0.8222236037254333, 0.05823007598519325, 0.05823007598519325, 0.2362477332353592, 0.4558582901954651, 0.0831858217716217, 0.07153980433940887, 0.014973447658121586, 0.01830088160932064, 0.18070414662361145, 0.18070414662361145, 0.542112410068512, 0.8700172305107117, 0.8560093641281128, 0.039474308490753174, 0.7763280868530273, 0.02631620690226555, 0.013158103451132774, 0.1052648276090622, 0.02631620690226555, 0.05998636782169342, 0.8698023557662964, 0.02999318391084671, 0.7835151553153992, 0.019346771761775017, 0.2321612685918808, 0.019346771761775017, 0.6384434700012207, 0.0580403171479702, 0.019346771761775017, 0.019346771761775017, 0.07591178268194199, 0.1062764972448349, 0.7894825339317322, 0.015182356350123882, 0.2522159814834595, 0.504431962966919, 0.011934442445635796, 0.02386888489127159, 0.10740998387336731, 0.02386888489127159, 0.6205910444259644, 0.035803329199552536, 0.1551477611064911, 0.02386888489127159, 0.10340137034654617, 0.17832989990711212, 0.10040423274040222, 0.42709264159202576, 0.0539485439658165, 0.07642710208892822, 0.0419599786400795, 0.019481418654322624, 0.7407170534133911, 0.19854234158992767, 0.20659135282039642, 0.34342458844184875, 0.08317314088344574, 0.06707511842250824, 0.042928073555231094, 0.016098028048872948, 0.040245071053504944, 0.854893147945404, 0.8876140117645264, 0.04438070207834244, 0.04438070207834244, 0.8372100591659546, 0.044063687324523926, 0.044063687324523926, 0.08812737464904785, 0.27648282051086426, 0.030720314010977745, 0.030720314010977745, 0.6144062876701355, 0.027774957939982414, 0.027774957939982414, 0.0833248719573021, 0.7499238848686218, 0.05554991587996483, 0.05554991587996483, 0.878713846206665, 0.8371939063072205, 0.07610853761434555, 0.04885781556367874, 0.5938103795051575, 0.01879146695137024, 0.05261610820889473, 0.007516586687415838, 0.18039807677268982, 0.09019903838634491, 0.007516586687415838, 0.9466463923454285, 0.9544790983200073, 0.7233033180236816, 0.7998650670051575, 0.11426643282175064, 0.852468729019165, 0.07103905826807022, 0.13059920072555542, 0.7835952639579773, 0.6445682644844055, 0.05308177322149277, 0.568733274936676, 0.02274933084845543, 0.03791555017232895, 0.030332442373037338, 0.2426595389842987, 0.03791555017232895, 0.0075831105932593346, 0.10456681251525879, 0.17744670808315277, 0.03802429512143135, 0.03168691322207451, 0.050699058920145035, 0.12357895821332932, 0.43411070108413696, 0.04119298607110977, 0.7875542044639587, 0.03579791635274887, 0.14319166541099548, 0.03579791635274887, 0.05104711279273033, 0.08638742566108704, 0.12958113849163055, 0.5615182518959045, 0.047120410948991776, 0.05104711279273033, 0.03926701098680496, 0.035340309143066406, 0.8219531774520874, 0.08219531923532486, 0.8001698851585388, 0.11624128371477127, 0.8136889934539795, 0.8571908473968506, 0.1996738463640213, 0.13145194947719574, 0.08818928152322769, 0.14642749726772308, 0.14975538849830627, 0.18303436040878296, 0.049918461591005325, 0.05158241093158722, 0.59478759765625, 0.0396525040268898, 0.10309651494026184, 0.02379150316119194, 0.15067952871322632, 0.02379150316119194, 0.05551350861787796, 0.01586100272834301, 0.6815196871757507, 0.07173891365528107, 0.03586945682764053, 0.0538041852414608, 0.07173891365528107, 0.017934728413820267, 0.07173891365528107, 0.4533649981021881, 0.08786143362522125, 0.06326023489236832, 0.01757228747010231, 0.2670987546443939, 0.03514457494020462, 0.05271686241030693, 0.01757228747010231, 0.16478653252124786, 0.1459178477525711, 0.19246059656143188, 0.18365521728992462, 0.08553804457187653, 0.1320808082818985, 0.0540902353823185, 0.04276902228593826, 0.19165290892124176, 0.5749587416648865, 0.8503337502479553, 0.8496099710464478, 0.07723727077245712, 0.47208479046821594, 0.11240114271640778, 0.08992091566324234, 0.036785826086997986, 0.1614489108324051, 0.036785826086997986, 0.04496045783162117, 0.04700411483645439, 0.8898691534996033, 0.4074631333351135, 0.12288570404052734, 0.15037329494953156, 0.04203984513878822, 0.11965186893939972, 0.04850751534104347, 0.028296049684286118, 0.08003740012645721, 0.17191393673419952, 0.2154364436864853, 0.15740643441677094, 0.16756168007850647, 0.07616440206766129, 0.0928480327129364, 0.07834053039550781, 0.040621012449264526, 0.059700943529605865, 0.059700943529605865, 0.059700943529605865, 0.716411292552948, 0.06933274120092392, 0.11093238741159439, 0.13866548240184784, 0.08319929242134094, 0.4714626669883728, 0.055466193705797195, 0.055466193705797195, 0.013866548426449299, 0.13466978073120117, 0.026933956891298294, 0.18853770196437836, 0.026933956891298294, 0.026933956891298294, 0.05386791378259659, 0.5386791229248047, 0.9264194369316101, 0.021054986864328384, 0.021054986864328384, 0.021054986864328384, 0.08161098510026932, 0.2040274739265442, 0.6936933994293213, 0.7939014434814453, 0.15963387489318848, 0.6385354995727539, 0.11596404761075974, 0.8117483258247375, 0.03865731507539749, 0.09664329141378403, 0.7924749851226807, 0.019328657537698746, 0.019328657537698746, 0.019328657537698746, 0.9257898926734924, 0.07360371947288513, 0.8096409440040588, 0.12331502884626389, 0.14386753737926483, 0.18725615739822388, 0.2991531193256378, 0.020552504807710648, 0.13244947791099548, 0.057090289890766144, 0.03539597988128662, 0.02884066477417946, 0.08652199804782867, 0.7786979675292969, 0.02884066477417946, 0.02884066477417946, 0.10284968465566635, 0.09074971824884415, 0.2949365973472595, 0.037812381982803345, 0.2223368138074875, 0.1935994029045105, 0.04386236518621445, 0.015124953351914883, 0.8083104491233826, 0.02510986477136612, 0.02510986477136612, 0.8788452744483948, 0.05021972954273224, 0.499378502368927, 0.025643760338425636, 0.11337241530418396, 0.012147044762969017, 0.21189844608306885, 0.0337417908012867, 0.07963062822818756, 0.025643760338425636, 0.48454898595809937, 0.04777243360877037, 0.08530791848897934, 0.017061583697795868, 0.2729853391647339, 0.03753548488020897, 0.03753548488020897, 0.0204739011824131, 0.14001324772834778, 0.5032908320426941, 0.01892070844769478, 0.04540970176458359, 0.03405727446079254, 0.1967753767967224, 0.03784141689538956, 0.01892070844769478, 0.11794222891330719, 0.11794222891330719, 0.5897111296653748, 0.09774474799633026, 0.04887237399816513, 0.04887237399816513, 0.04887237399816513, 0.04887237399816513, 0.04887237399816513, 0.6353408098220825, 0.06776217371225357, 0.06776217371225357, 0.06776217371225357, 0.06776217371225357, 0.06776217371225357, 0.6098595857620239, 0.07901670783758163, 0.1166071891784668, 0.3383142650127411, 0.0291517972946167, 0.21863847970962524, 0.17030785977840424, 0.03989193215966225, 0.009205830283463001, 0.09689053148031235, 0.17616459727287292, 0.07927406579256058, 0.04404114931821823, 0.07046584039926529, 0.41398680210113525, 0.061657607555389404, 0.05284937843680382, 0.015094560571014881, 0.8905790448188782, 0.030189121142029762, 0.04528368264436722, 0.053547024726867676, 0.10173934698104858, 0.4819232225418091, 0.010709404945373535, 0.11780345439910889, 0.04283761978149414, 0.06961113214492798, 0.12851285934448242, 0.8051503896713257, 0.8444733619689941, 0.10555917024612427, 0.10241152346134186, 0.05120576173067093, 0.3584403097629547, 0.46085184812545776, 0.18070414662361145, 0.18070414662361145, 0.542112410068512, 0.9240922927856445, 0.7205221056938171, 0.10311669856309891, 0.10311669856309891, 0.721816897392273, 0.18542036414146423, 0.16465328633785248, 0.17207010090351105, 0.2922224998474121, 0.06378460675477982, 0.06823469698429108, 0.03708407282829285, 0.014833629131317139, 0.047084104269742966, 0.07945442944765091, 0.13242404162883759, 0.5473527312278748, 0.03531307727098465, 0.052969615906476974, 0.08828269690275192, 0.017656538635492325, 0.06172582879662514, 0.12051233649253845, 0.09111908078193665, 0.5378965139389038, 0.026453927159309387, 0.08817975223064423, 0.04115055128931999, 0.03233257681131363, 0.019122129306197166, 0.07648851722478867, 0.05736638605594635, 0.7266408801078796, 0.03824425861239433, 0.03824425861239433, 0.03824425861239433, 0.08986371010541916, 0.08986371010541916, 0.08986371010541916, 0.7189096808433533, 0.906570315361023, 0.046361349523067474, 0.046361349523067474, 0.8808656930923462, 0.08090542256832123, 0.12135813385248184, 0.08090542256832123, 0.08090542256832123, 0.040452711284160614, 0.08090542256832123, 0.08090542256832123, 0.44497981667518616, 0.06495470553636551, 0.8444111347198486, 0.06495470553636551, 0.06284909695386887, 0.8170382976531982, 0.10225789994001389, 0.40903159976005554, 0.4601605534553528, 0.4745957553386688, 0.11958318203687668, 0.09716133773326874, 0.036124087870121, 0.1482333242893219, 0.06477422267198563, 0.0186848733574152, 0.04110671952366829, 0.8497042059898376, 0.07859177887439728, 0.16432826220989227, 0.1786176860332489, 0.09288119524717331, 0.1357494443655014, 0.12503238022327423, 0.07859177887439728, 0.14646649360656738, 0.12794864177703857, 0.30580633878707886, 0.14337508380413055, 0.15517176687717438, 0.12794864177703857, 0.05081648379564285, 0.04537186026573181, 0.04355698451399803, 0.12799866497516632, 0.03199966624379158, 0.7999917268753052, 0.03199966624379158, 0.2009565830230713, 0.1445477157831192, 0.13115061819553375, 0.21999457478523254, 0.0796775221824646, 0.10858706384897232, 0.06134464219212532, 0.053588420152664185, 0.8987872004508972, 0.1632995754480362, 0.15570424497127533, 0.209820955991745, 0.05126846954226494, 0.1651984006166458, 0.164248988032341, 0.04462255910038948, 0.0465213917195797, 0.46333593130111694, 0.0802629142999649, 0.22619549930095673, 0.054724715650081635, 0.07296628504991531, 0.03648314252495766, 0.029186515137553215, 0.03283483162522316, 0.7268099784851074, 0.1486847698688507, 0.2973695397377014, 0.0473087877035141, 0.040550392121076584, 0.06082558631896973, 0.36495351791381836, 0.027033593505620956, 0.020275196060538292, 0.0796680673956871, 0.13278010487556458, 0.0796680673956871, 0.026556022465229034, 0.05311204493045807, 0.10622408986091614, 0.5045644044876099, 0.026556022465229034, 0.1748151183128357, 0.16721446812152863, 0.057004932314157486, 0.09500821679830551, 0.32302793860435486, 0.026602301746606827, 0.10260887444019318, 0.04940427467226982, 0.025058085098862648, 0.14408399164676666, 0.10649686306715012, 0.06890973448753357, 0.3069615364074707, 0.018793564289808273, 0.2756389379501343, 0.050116170197725296, 0.09650833904743195, 0.09650833904743195, 0.7720667123794556, 0.8862471580505371, 0.1956067830324173, 0.5868203639984131, 0.1956067830324173, 0.0579778216779232, 0.45295172929763794, 0.05435420945286751, 0.15581539273262024, 0.032612524926662445, 0.15219178795814514, 0.03985975310206413, 0.0579778216779232, 0.048059068620204926, 0.024029534310102463, 0.7809598445892334, 0.08410336822271347, 0.048059068620204926, 0.6055651307106018, 0.09767179191112518, 0.04883589595556259, 0.029301537200808525, 0.07813743501901627, 0.05860307440161705, 0.06837025284767151, 0.009767179377377033, 0.7968105673789978, 0.06299940496683121, 0.611994206905365, 0.06299940496683121, 0.017999829724431038, 0.008999914862215519, 0.18899822235107422, 0.04499957710504532, 0.008999914862215519, 0.6233125329017639, 0.059363096952438354, 0.04047483950853348, 0.026983225718140602, 0.1699943244457245, 0.029681548476219177, 0.0161899346858263, 0.029681548476219177, 0.8335012793540955, 0.8764511942863464, 0.06741932034492493, 0.05835309997200966, 0.7099627256393433, 0.06807861477136612, 0.02917654998600483, 0.01945103332400322, 0.07780413329601288, 0.01945103332400322, 0.00972551666200161, 0.8359500169754028, 0.08359500020742416, 0.08359500020742416, 0.22921177744865417, 0.18934886157512665, 0.13619831204414368, 0.07308201491832733, 0.05979437753558159, 0.09965729713439941, 0.1926707774400711, 0.016609549522399902, 0.7233580350875854, 0.2596166431903839, 0.13056743144989014, 0.14119501411914825, 0.08729799836874008, 0.1472679227590561, 0.09261178970336914, 0.05845170095562935, 0.0827433168888092, 0.08765216171741486, 0.08765216171741486, 0.6719998717308044, 0.02921738661825657, 0.11686954647302628, 0.06698042154312134, 0.7702748775482178, 0.03349021077156067, 0.03349021077156067, 0.03349021077156067, 0.23540283739566803, 0.3056967556476593, 0.11279719322919846, 0.04413803294301033, 0.09481503069400787, 0.14712677896022797, 0.0277906134724617, 0.03432958200573921, 0.13934968411922455, 0.13329100608825684, 0.20599518716335297, 0.06058682128787041, 0.12319320440292358, 0.19993650913238525, 0.09895846992731094, 0.038371652364730835, 0.05273729935288429, 0.06027119606733322, 0.5349068641662598, 0.12807630002498627, 0.10547459870576859, 0.06027119606733322, 0.03013559803366661, 0.03013559803366661, 0.18327374756336212, 0.8247318863868713, 0.12690071761608124, 0.19035106897354126, 0.06345035880804062, 0.12690071761608124, 0.507602870464325, 0.061865922063589096, 0.0866122916340828, 0.1051720678806305, 0.532046914100647, 0.049492739140987396, 0.0680525153875351, 0.0433061458170414, 0.061865922063589096, 0.013166813179850578, 0.07900087535381317, 0.7900087833404541, 0.026333626359701157, 0.026333626359701157, 0.026333626359701157, 0.026333626359701157, 0.08291555941104889, 0.7462400197982788, 0.08291555941104889, 0.08291555941104889, 0.15568313002586365, 0.051894377917051315, 0.7265212535858154, 0.7167201042175293, 0.19112534821033478, 0.19880510866641998, 0.17905625700950623, 0.22118712961673737, 0.11585992574691772, 0.0868949443101883, 0.05924655497074127, 0.06714609265327454, 0.07241245359182358, 0.8731832504272461, 0.0697489008307457, 0.6137903332710266, 0.013949780724942684, 0.013949780724942684, 0.02789956144988537, 0.2371462732553482, 0.013949780724942684, 0.1894458830356598, 0.12784692645072937, 0.16620099544525146, 0.16968773305416107, 0.08600611239671707, 0.1348203867673874, 0.061598971486091614, 0.06508570164442062, 0.051537636667490005, 0.5034830570220947, 0.06739537417888641, 0.19822168350219727, 0.02246512472629547, 0.11232562363147736, 0.018500691279768944, 0.025108080357313156, 0.8698587417602539, 0.8663977980613708, 0.04492849484086037, 0.8985698819160461, 0.022464247420430183, 0.022464247420430183, 0.022464247420430183, 0.14223849773406982, 0.27988865971565247, 0.11700262874364853, 0.07800175249576569, 0.03211836889386177, 0.24318194389343262, 0.03211836889386177, 0.07800175249576569, 0.16670477390289307, 0.638076901435852, 0.04598752409219742, 0.011496881023049355, 0.040239084511995316, 0.06323284655809402, 0.011496881023049355, 0.02874220348894596, 0.3422255218029022, 0.5830509066581726, 0.012675019912421703, 0.012675019912421703, 0.012675019912421703, 0.025350039824843407, 0.025350039824843407, 0.09522990137338638, 0.3371138572692871, 0.09332530200481415, 0.09142071008682251, 0.1599862426519394, 0.1123712882399559, 0.06475633382797241, 0.045710355043411255, 0.7181210517883301, 0.0981723889708519, 0.3916451632976532, 0.11592696607112885, 0.10443870723247528, 0.0334203876554966, 0.11592696607112885, 0.04490864649415016, 0.0960836112499237, 0.8918049931526184, 0.0673343762755394, 0.13677294552326202, 0.25881651043891907, 0.2861710786819458, 0.031562987715005875, 0.06102177873253822, 0.06523017585277557, 0.09468896687030792, 0.029354851692914963, 0.058709703385829926, 0.675161600112915, 0.2348388135433197, 0.5458407998085022, 0.06950781494379044, 0.06541912257671356, 0.018399126827716827, 0.2412330061197281, 0.026576517149806023, 0.024532170966267586, 0.008177390322089195, 0.7887922525405884, 0.048826299607753754, 0.08137716352939606, 0.14647889137268066, 0.5208138227462769, 0.19530519843101501, 0.07099497318267822, 0.8519397377967834, 0.3802775740623474, 0.10662563890218735, 0.12326663732528687, 0.031432993710041046, 0.17503862082958221, 0.09676431119441986, 0.05855165421962738, 0.027734993025660515, 0.9055402278900146, 0.07466211915016174, 0.8212832808494568, 0.07466211915016174, 0.22942432761192322, 0.688273012638092, 0.7176955938339233, 0.18331243097782135, 0.09020135551691055, 0.36371514201164246, 0.09893052279949188, 0.05819442495703697, 0.06983330845832825, 0.07274302840232849, 0.066923588514328, 0.05696527659893036, 0.09968923032283783, 0.02848263829946518, 0.6978245973587036, 0.01424131914973259, 0.04272395744919777, 0.05696527659893036, 0.017854541540145874, 0.05356362462043762, 0.017854541540145874, 0.23210904002189636, 0.5891998410224915, 0.03570908308029175, 0.05356362462043762, 0.9231871962547302, 0.900454044342041, 0.10005044937133789, 0.9048343300819397, 0.07540286332368851, 0.15179729461669922, 0.025299547240138054, 0.06324887275695801, 0.05059909448027611, 0.4933411777019501, 0.025299547240138054, 0.15179729461669922, 0.037949323654174805, 0.7367110252380371, 0.9174087643623352, 0.9518455266952515, 0.11791769415140152, 0.04632480815052986, 0.11370634287595749, 0.15581980347633362, 0.33690768480300903, 0.07580423355102539, 0.13476307690143585, 0.012634037993848324, 0.03151031956076622, 0.06302063912153244, 0.03151031956076622, 0.7877579927444458, 0.03151031956076622, 0.06302063912153244, 0.03151031956076622, 0.8967713713645935, 0.09964126348495483, 0.6957517266273499, 0.9304406642913818, 0.06202937662601471, 0.8137863874435425, 0.03390776365995407, 0.13563105463981628, 0.9258387088775635, 0.7768535017967224, 0.9391843676567078, 0.581964373588562, 0.09420079737901688, 0.04710039868950844, 0.04710039868950844, 0.09420079737901688, 0.04710039868950844, 0.04710039868950844, 0.6123051643371582, 0.8669596314430237, 0.30602434277534485, 0.15901264548301697, 0.13801097869873047, 0.02400190941989422, 0.10650847107172012, 0.1515120565891266, 0.03000238537788391, 0.08700691908597946, 0.6557281613349915, 0.12620779871940613, 0.0473279245197773, 0.14724242687225342, 0.5574177503585815, 0.02629329077899456, 0.05784523859620094, 0.010517315939068794, 0.02629329077899456, 0.8165999054908752, 0.14920829236507416, 0.1899014562368393, 0.10270180553197861, 0.16664820909500122, 0.08138633519411087, 0.12983058393001556, 0.13758166134357452, 0.044568710029125214, 0.10253825783729553, 0.19225923717021942, 0.05767776817083359, 0.07049505412578583, 0.07369937002658844, 0.13458146154880524, 0.19546355307102203, 0.17303331196308136, 0.2137119024991989, 0.10317125916481018, 0.2792993485927582, 0.12970101833343506, 0.04716400429606438, 0.09801270067691803, 0.06263969093561172, 0.06558744609355927, 0.014985009096562862, 0.13486507534980774, 0.1648350954055786, 0.029970018193125725, 0.014985009096562862, 0.49450528621673584, 0.014985009096562862, 0.1198800727725029, 0.08666684478521347, 0.028888948261737823, 0.3755563199520111, 0.4911121129989624, 0.05360402539372444, 0.1120811477303505, 0.4580707848072052, 0.04873093217611313, 0.12670043110847473, 0.12670043110847473, 0.043857838958501816, 0.03411165252327919, 0.3171759843826294, 0.06343519687652588, 0.09938180446624756, 0.02008781209588051, 0.41761502623558044, 0.03171759843826294, 0.02960309199988842, 0.021145064383745193, 0.3179773986339569, 0.047914404422044754, 0.08711709827184677, 0.03484683856368065, 0.3789593577384949, 0.03049098327755928, 0.07840538769960403, 0.021779274567961693, 0.08554220199584961, 0.08554220199584961, 0.08554220199584961, 0.08554220199584961, 0.08554220199584961, 0.5987954139709473, 0.835321307182312, 0.11933162063360214, 0.10563673079013824, 0.3433193862438202, 0.03961377590894699, 0.01320459134876728, 0.01320459134876728, 0.2112734615802765, 0.01320459134876728, 0.2640918493270874, 0.29213258624076843, 0.12519967555999756, 0.19918130338191986, 0.06259983777999878, 0.14037540555000305, 0.06829073280096054, 0.04647563770413399, 0.06829073280096054, 0.03654002025723457, 0.2636101543903351, 0.13050007820129395, 0.1461600810289383, 0.05220003053545952, 0.13833008706569672, 0.15399008989334106, 0.08091004937887192, 0.3988732099533081, 0.10989364236593246, 0.06105202063918114, 0.012210404500365257, 0.3215406537055969, 0.03663121163845062, 0.044771481305360794, 0.016280539333820343, 0.8102573752403259, 0.9652570486068726, 0.005274628754705191, 0.005274628754705191, 0.010549257509410381, 0.010549257509410381, 0.8936691880226135, 0.15326222777366638, 0.30652445554733276, 0.07663111388683319, 0.051087409257888794, 0.031929630786180496, 0.06385926157236099, 0.30013853311538696, 0.019157778471708298, 0.8213667869567871, 0.9249496459960938, 0.15833809971809387, 0.17341792583465576, 0.11202152073383331, 0.1615694910287857, 0.1561838537454605, 0.07970761507749557, 0.06031927838921547, 0.09909595549106598, 0.9192690849304199, 0.17619499564170837, 0.08809749782085419, 0.6460483074188232, 0.02936583198606968, 0.02936583198606968, 0.02936583198606968, 0.7611923813819885, 0.18070414662361145, 0.18070414662361145, 0.542112410068512, 0.4221254587173462, 0.035177119076251984, 0.5276567935943604, 0.7975538969039917, 0.049610938876867294, 0.08504731953144073, 0.6236803531646729, 0.0779600441455841, 0.04252365976572037, 0.07087276875972748, 0.04252365976572037, 0.00708727678284049, 0.17292943596839905, 0.08646471798419952, 0.6917177438735962, 0.4659971296787262, 0.11210308223962784, 0.14507457613945007, 0.04396199434995651, 0.12309358268976212, 0.0395657941699028, 0.03077339567244053, 0.037367694079875946, 0.905977725982666, 0.03578319400548935, 0.03578319400548935, 0.0715663880109787, 0.6440974473953247, 0.10734957456588745, 0.0715663880109787, 0.12041166424751282, 0.18425409495830536, 0.1042490229010582, 0.22385255992412567, 0.17859716713428497, 0.05252857878804207, 0.06060989946126938, 0.07515627145767212, 0.8878700733184814, 0.9082921743392944, 0.06986862421035767, 0.15639694035053253, 0.13554401695728302, 0.04170585051178932, 0.5734554529190063, 0.02085292525589466, 0.04170585051178932, 0.01042646262794733, 0.02085292525589466, 0.14690448343753815, 0.7345224022865295, 0.8926386833190918, 0.04959103837609291, 0.1293986290693283, 0.1293986290693283, 0.5175945162773132, 0.8624920845031738, 0.1437486857175827, 0.7185266613960266, 0.8193898797035217, 0.024259189143776894, 0.9461084008216858, 0.9632628560066223, 0.7395947575569153, 0.11437632888555527, 0.14370359480381012, 0.39298534393310547, 0.15250177681446075, 0.029327264055609703, 0.04399089515209198, 0.09971269965171814, 0.023461811244487762, 0.034897949546575546, 0.7328569293022156, 0.06979589909315109, 0.08724486827850342, 0.017448974773287773, 0.05234692245721817, 0.017448974773287773, 0.7831117510795593, 0.026227865368127823, 0.4458737075328827, 0.032784830778837204, 0.10491146147251129, 0.06556966155767441, 0.032784830778837204, 0.2688356339931488, 0.019670899957418442, 0.059288203716278076, 0.5126685500144958, 0.03313164412975311, 0.08021344989538193, 0.040106724947690964, 0.21274001896381378, 0.03661918267607689, 0.027900330722332, 0.10551261901855469, 0.7385883331298828, 0.9030237197875977, 0.060201581567525864, 0.17801795899868011, 0.20831888914108276, 0.0795399397611618, 0.02651331201195717, 0.02651331201195717, 0.19695603847503662, 0.2651331126689911, 0.018938081339001656, 0.0531916469335556, 0.1063832938671112, 0.0531916469335556, 0.0531916469335556, 0.7446830868721008, 0.8320998549461365, 0.023113885894417763, 0.023113885894417763, 0.09245554357767105, 0.05495678633451462, 0.2355290949344635, 0.039254847913980484, 0.07065872848033905, 0.039254847913980484, 0.20412521064281464, 0.31403878331184387, 0.0471058189868927, 0.01785781793296337, 0.07143127173185349, 0.678597092628479, 0.07143127173185349, 0.01785781793296337, 0.05357345566153526, 0.07143127173185349, 0.9235450029373169, 0.8301028609275818, 0.08034106343984604, 0.8837517499923706, 0.8096454739570618, 0.15960021317005157, 0.19950026273727417, 0.6384008526802063, 0.370008647441864, 0.06675413995981216, 0.16593171656131744, 0.032423436641693115, 0.16593171656131744, 0.05912509188055992, 0.09917757660150528, 0.04005248099565506, 0.13473667204380035, 0.20210500061511993, 0.19087694585323334, 0.06736833602190018, 0.11228055506944656, 0.022456111386418343, 0.011228055693209171, 0.2582452893257141, 0.6393772959709167, 0.060557764023542404, 0.045066241174936295, 0.018308160826563835, 0.14787361025810242, 0.029574722051620483, 0.050699520856142044, 0.008449920453131199, 0.4533795714378357, 0.04750674590468407, 0.12496339529752731, 0.04647398740053177, 0.23340269923210144, 0.037179190665483475, 0.035113681107759476, 0.022720616310834885, 0.037340082228183746, 0.5256334543228149, 0.18382810056209564, 0.040212396532297134, 0.13212645053863525, 0.014361570589244366, 0.020106198266148567, 0.04595702514052391, 0.010288290679454803, 0.010288290679454803, 0.7407569289207458, 0.22634239494800568, 0.010288290679454803, 0.8715956807136536, 0.71778804063797, 0.8042479157447815, 0.19178824126720428, 0.5753647089004517, 0.7376711964607239, 0.8854511976242065, 0.3178694248199463, 0.12217782437801361, 0.11596539616584778, 0.10664674639701843, 0.13149647414684296, 0.11803620308637619, 0.031062159687280655, 0.05591188743710518, 0.08399403840303421, 0.15492233633995056, 0.08399403840303421, 0.23518329858779907, 0.13999006152153015, 0.214651420712471, 0.03733068332076073, 0.050396423786878586, 0.9326009750366211, 0.8259071111679077, 0.22436021268367767, 0.12187468260526657, 0.10802529007196426, 0.12187468260526657, 0.17173251509666443, 0.10063894838094711, 0.08032649755477905, 0.07109356671571732, 0.7599590420722961, 0.16560854017734528, 0.27286797761917114, 0.09095598757266998, 0.07722678035497665, 0.09353021532297134, 0.16389238834381104, 0.06006527692079544, 0.07636870443820953, 0.0489872470498085, 0.1306326538324356, 0.1469617336988449, 0.514366090297699, 0.01632908172905445, 0.0653163269162178, 0.0489872470498085, 0.0326581634581089, 0.723956823348999, 0.09208447486162186, 0.15457037091255188, 0.1529259979724884, 0.2811865210533142, 0.04110914096236229, 0.17101402580738068, 0.09208447486162186, 0.016443656757473946, 0.07776211202144623, 0.21200406551361084, 0.1399717926979065, 0.2455645501613617, 0.05238710343837738, 0.1260564774274826, 0.07612501084804535, 0.06957662105560303, 0.0852852389216423, 0.0852852389216423, 0.0852852389216423, 0.6822819113731384, 0.0852852389216423, 0.1413690447807312, 0.0471230149269104, 0.5445326566696167, 0.04450507089495659, 0.11257164925336838, 0.018325617536902428, 0.036651235073804855, 0.054976850748062134, 0.13961352407932281, 0.13158975541591644, 0.08023765683174133, 0.09307568520307541, 0.07221388816833496, 0.29848408699035645, 0.13319450616836548, 0.05135210230946541, 0.16339430212974548, 0.8169715404510498, 0.12318368256092072, 0.31320106983184814, 0.11532089859247208, 0.07731741666793823, 0.08911160379648209, 0.16642901301383972, 0.038003478199243546, 0.07731741666793823, 0.24698449671268463, 0.2870652973651886, 0.15057387948036194, 0.06824571639299393, 0.07582857459783554, 0.07907836884260178, 0.06607918441295624, 0.027081632986664772, 0.8427888751029968, 0.9450179934501648, 0.1664523035287857, 0.16218428313732147, 0.132308229804039, 0.08962815999984741, 0.1536482721567154, 0.02987605333328247, 0.02987605333328247, 0.23900842666625977, 0.8349411487579346, 0.0346202626824379, 0.7962660193443298, 0.0346202626824379, 0.0346202626824379, 0.0692405253648758, 0.0346202626824379, 0.17139461636543274, 0.685578465461731, 0.2522159814834595, 0.504431962966919, 0.11942872405052185, 0.0843026265501976, 0.44258880615234375, 0.09484045952558517, 0.11591611802577972, 0.03512609377503395, 0.0843026265501976, 0.0210756566375494, 0.035326048731803894, 0.23403505980968475, 0.5033961534500122, 0.030910290777683258, 0.07948360592126846, 0.03974180296063423, 0.05298906937241554, 0.017663024365901947, 0.13434255123138428, 0.6717127561569214, 0.22344593703746796, 0.16176554560661316, 0.16874822974205017, 0.12627023458480835, 0.14489072561264038, 0.07739143073558807, 0.04247800260782242, 0.05469770357012749, 0.7054493427276611, 0.024082830175757408, 0.6682985424995422, 0.030103538185358047, 0.07826919853687286, 0.012041415087878704, 0.15051768720149994, 0.018062124028801918, 0.018062124028801918, 0.9253638982772827, 0.9106435179710388, 0.797866702079773, 0.056990478187799454, 0.056990478187799454, 0.866685688495636, 0.049228694289922714, 0.0676894560456276, 0.10461097210645676, 0.6276658177375793, 0.03692151978611946, 0.04615189880132675, 0.01846075989305973, 0.049228694289922714, 0.17720124125480652, 0.13713835179805756, 0.22959116101264954, 0.13713835179805756, 0.1479245126247406, 0.05316036939620972, 0.0493081696331501, 0.06856917589902878, 0.03876538947224617, 0.11629616469144821, 0.6977769732475281, 0.03876538947224617, 0.03876538947224617, 0.8441226482391357, 0.038028836250305176, 0.038028836250305176, 0.8366343975067139, 0.9246054291725159, 0.08635420352220535, 0.09420458972454071, 0.039251912385225296, 0.06280305981636047, 0.047102294862270355, 0.14130687713623047, 0.4867236912250519, 0.03140152990818024, 0.8572079539299011, 0.05061641335487366, 0.05061641335487366, 0.05061641335487366, 0.8098626136779785, 0.17804883420467377, 0.17092688381671906, 0.18160980939865112, 0.11869922280311584, 0.11039027571678162, 0.12344718724489212, 0.05934961140155792, 0.058162618428468704, 0.19512343406677246, 0.06161792576313019, 0.020539307966828346, 0.13350550830364227, 0.4518648087978363, 0.07188758254051208, 0.06161792576313019, 0.07811050117015839, 0.0307708028703928, 0.253267377614975, 0.09231240302324295, 0.48049789667129517, 0.02366984821856022, 0.028403816744685173, 0.016568893566727638, 0.22339361906051636, 0.05584840476512909, 0.6143324375152588, 0.05584840476512909, 0.11147996783256531, 0.3644537329673767, 0.19508995115756989, 0.1500691920518875, 0.034301530569791794, 0.06431536376476288, 0.034301530569791794, 0.04716460406780243, 0.07793445140123367, 0.1402820199728012, 0.0701410099864006, 0.17145580053329468, 0.4052591621875763, 0.0701410099864006, 0.046760670840740204, 0.007793445140123367, 0.109650157392025, 0.14367951452732086, 0.09263547509908676, 0.045372478663921356, 0.04159143939614296, 0.10775963217020035, 0.4196954369544983, 0.03970091789960861, 0.7191218733787537, 0.9103900194168091, 0.7653845548629761, 0.06123076379299164, 0.03061538189649582, 0.06123076379299164, 0.03061538189649582, 0.03061538189649582, 0.8039574027061462, 0.02022896148264408, 0.15677444636821747, 0.39277899265289307, 0.15340295433998108, 0.016857467591762543, 0.0893445760011673, 0.1432884782552719, 0.028657693415880203, 0.5071588754653931, 0.12075211852788925, 0.056350987404584885, 0.04561746492981911, 0.11538535356521606, 0.0992850735783577, 0.021467043086886406, 0.02951718308031559, 0.15736079216003418, 0.31472158432006836, 0.051073238253593445, 0.10352683812379837, 0.045551810413599014, 0.22775904834270477, 0.07039824873209, 0.03036787174642086, 0.11902657151222229, 0.2121777981519699, 0.13750895857810974, 0.24396750330924988, 0.13011600077152252, 0.045097023248672485, 0.059143636375665665, 0.05322927236557007, 0.09357691556215286, 0.09357691556215286, 0.09357691556215286, 0.7486153244972229, 0.15549996495246887, 0.1886208951473236, 0.15493859350681305, 0.148763507604599, 0.09150359034538269, 0.1538158506155014, 0.06568048894405365, 0.041541509330272675, 0.06737388670444489, 0.012249797582626343, 0.5451160073280334, 0.03674939274787903, 0.0428742915391922, 0.22662125527858734, 0.03674939274787903, 0.03674939274787903, 0.026645110920071602, 0.3463864326477051, 0.053290221840143204, 0.026645110920071602, 0.532902181148529, 0.43537503480911255, 0.12317927181720734, 0.038228049874305725, 0.031856708228588104, 0.2527298927307129, 0.021237805485725403, 0.07857988029718399, 0.019114024937152863, 0.39636513590812683, 0.0832829475402832, 0.08174066990613937, 0.0570642426609993, 0.2853212058544159, 0.05089513584971428, 0.030845535919070244, 0.013880491256713867, 0.031333789229393005, 0.8773460388183594, 0.015666894614696503, 0.04700068011879921, 0.041720859706401825, 0.12516258656978607, 0.6675337553024292, 0.12516258656978607, 0.04623072221875191, 0.8321529626846313, 0.09246144443750381, 0.1722986102104187, 0.6891944408416748, 0.541581392288208, 0.09394779056310654, 0.03315804526209831, 0.02210536226630211, 0.2431589812040329, 0.016579022631049156, 0.02210536226630211, 0.02210536226630211, 0.7364553809165955, 0.10932397097349167, 0.05963125824928284, 0.2981562912464142, 0.009938542731106281, 0.10932397097349167, 0.02981562912464142, 0.039754170924425125, 0.357787549495697, 0.015821071341633797, 0.3006003499031067, 0.2373160570859909, 0.015821071341633797, 0.03164214268326759, 0.03164214268326759, 0.015821071341633797, 0.3638846278190613, 0.0643685907125473, 0.16551923751831055, 0.07356410473585129, 0.3524946868419647, 0.07356410473585129, 0.16245406866073608, 0.07049893587827682, 0.036782052367925644, 0.032621223479509354, 0.30174633860588074, 0.02446591854095459, 0.06524244695901871, 0.02446591854095459, 0.5056290030479431, 0.032621223479509354, 0.032621223479509354, 0.05115368217229843, 0.13640981912612915, 0.03410245478153229, 0.238717183470726, 0.03410245478153229, 0.03410245478153229, 0.46890875697135925, 0.16596201062202454, 0.6638480424880981, 0.3913344442844391, 0.03557585924863815, 0.10672757774591446, 0.03557585924863815, 0.3359942138195038, 0.043481603264808655, 0.03557585924863815, 0.015811491757631302, 0.1644515097141266, 0.22215379774570465, 0.06635762751102448, 0.057702284306287766, 0.03462137281894684, 0.15291105210781097, 0.23080913722515106, 0.06924274563789368, 0.1077667847275734, 0.0808250904083252, 0.0538833923637867, 0.02694169618189335, 0.0673542395234108, 0.202062726020813, 0.4714796841144562, 0.013470848090946674, 0.07637821137905121, 0.7637821435928345, 0.07637821137905121, 0.07637821137905121, 0.12638328969478607, 0.12638328969478607, 0.6319164037704468, 0.7905786037445068, 0.8914815187454224, 0.06857550144195557, 0.8572098016738892, 0.8685929179191589, 0.06002092733979225, 0.1830638349056244, 0.16505755484104156, 0.04501569643616676, 0.0960334837436676, 0.3991391658782959, 0.021007325500249863, 0.030010463669896126, 0.030207548290491104, 0.16962699592113495, 0.06273875385522842, 0.20448185503482819, 0.013941945508122444, 0.4322003126144409, 0.06738606840372086, 0.018589260056614876, 0.1613677591085434, 0.8068388104438782, 0.9374960064888, 0.13170160353183746, 0.7902096509933472, 0.043900538235902786, 0.043900538235902786, 0.17763733863830566, 0.22184573113918304, 0.06832205504179001, 0.2556048631668091, 0.0940432995557785, 0.0610879547894001, 0.050638698041439056, 0.07153721153736115, 0.8563621640205383, 0.08800546824932098, 0.08800546824932098, 0.08800546824932098, 0.7040437459945679, 0.08885110914707184, 0.17519937455654144, 0.2352677285671234, 0.07883971929550171, 0.21524494886398315, 0.1339023858308792, 0.05005696415901184, 0.022525634616613388, 0.9094201922416687, 0.10092679411172867, 0.17359408736228943, 0.11707508563995361, 0.07266729325056076, 0.0928526520729065, 0.2987433075904846, 0.10092679411172867, 0.04440779238939285, 0.03074578009545803, 0.12298312038183212, 0.06149156019091606, 0.12298312038183212, 0.6149156093597412, 0.06149156019091606, 0.3334890604019165, 0.04168613255023956, 0.04168613255023956, 0.5836058855056763, 0.058439966291189194, 0.12661992013454437, 0.14934657514095306, 0.44154641032218933, 0.045453306287527084, 0.08116661757230759, 0.058439966291189194, 0.0357133112847805, 0.0559205561876297, 0.0559205561876297, 0.0559205561876297, 0.699006974697113, 0.02796027809381485, 0.02796027809381485, 0.1118411123752594, 0.1601671576499939, 0.16632743179798126, 0.10472467541694641, 0.10164453834295273, 0.0708431601524353, 0.08316371589899063, 0.29261305928230286, 0.02156096324324608, 0.7634042501449585, 0.07953502982854843, 0.026511674746870995, 0.8748852610588074, 0.08736619353294373, 0.7862957119941711, 0.07871834933757782, 0.07871834933757782, 0.7871835231781006, 0.03002968057990074, 0.14264097809791565, 0.27402082085609436, 0.3753710091114044, 0.0563056506216526, 0.03002968057990074, 0.06005936115980148, 0.03002968057990074, 0.048215050250291824, 0.14464515447616577, 0.7714408040046692, 0.8271306157112122, 0.020678265020251274, 0.04135653004050255, 0.06203479692339897, 0.04135653004050255, 0.020678265020251274, 0.1510385274887085, 0.16705776751041412, 0.12815390527248383, 0.07094233483076096, 0.2540193498134613, 0.13273082673549652, 0.048057712614536285, 0.04576924815773964, 0.19162388145923615, 0.10249649733304977, 0.07575827836990356, 0.18048295378684998, 0.09358375519514084, 0.08689919859170914, 0.22950302064418793, 0.04233551025390625, 0.9225568771362305, 0.05125315859913826, 0.7896366715431213, 0.06901715695858002, 0.14430859684944153, 0.0815657302737236, 0.5144915580749512, 0.018822859972715378, 0.02509714849293232, 0.15058287978172302, 0.7167719006538391, 0.7469437718391418, 0.8996139764785767, 0.044980697333812714, 0.044980697333812714, 0.8858041763305664, 0.03341401368379593, 0.03341401368379593, 0.3341401219367981, 0.03341401368379593, 0.16707006096839905, 0.40096813440322876, 0.09427942335605621, 0.168560191988945, 0.3742607533931732, 0.04856818914413452, 0.1485615223646164, 0.06856685131788254, 0.06285294890403748, 0.03428342565894127, 0.1601795107126236, 0.11907149851322174, 0.16868461668491364, 0.12190653383731842, 0.18285979330539703, 0.05244816094636917, 0.10773135721683502, 0.08646858483552933, 0.074302077293396, 0.074302077293396, 0.024767359718680382, 0.7182534337043762, 0.024767359718680382, 0.049534719437360764, 0.024767359718680382, 0.024767359718680382, 0.22899878025054932, 0.686996340751648, 0.9261078834533691, 0.8827565312385559, 0.9429376125335693, 0.07898836582899094, 0.019747091457247734, 0.03949418291449547, 0.7503894567489624, 0.07898836582899094, 0.019747091457247734, 0.7700063586235046, 0.8784039616584778, 0.07320033013820648, 0.04067942872643471, 0.04067942872643471, 0.8135886192321777, 0.08135885745286942, 0.04067942872643471, 0.0931410863995552, 0.8382697701454163, 0.0931410863995552, 0.01781768538057804, 0.01781768538057804, 0.819613516330719, 0.01781768538057804, 0.03563537076115608, 0.10690611600875854, 0.9143099188804626, 0.03516576811671257, 0.041055209934711456, 0.8211041688919067, 0.041055209934711456, 0.041055209934711456, 0.041055209934711456, 0.18737439811229706, 0.04199771210551262, 0.2002967745065689, 0.04522830247879028, 0.10984016954898834, 0.32628992199897766, 0.058150675147771835, 0.029075337573885918, 0.7783429026603699, 0.866929292678833, 0.15957310795783997, 0.15957310795783997, 0.12765848636627197, 0.10638207197189331, 0.042552828788757324, 0.32978442311286926, 0.04787193238735199, 0.03191462159156799, 0.7856566309928894, 0.04364759102463722, 0.04364759102463722, 0.08729518204927444, 0.04364759102463722, 0.8423985242843628, 0.8898691534996033, 0.8834129571914673, 0.8486813902854919, 0.7810256481170654, 0.03984824940562248, 0.0239089485257864, 0.007969649508595467, 0.07969649881124496, 0.03984824940562248, 0.031878598034381866, 0.07691486924886703, 0.5999360084533691, 0.04614892229437828, 0.030765948817133904, 0.06922338157892227, 0.12306379526853561, 0.02307446114718914, 0.030765948817133904, 0.1076553538441658, 0.5158485770225525, 0.06728459894657135, 0.04485639929771423, 0.04037075862288475, 0.1345691978931427, 0.022428199648857117, 0.06728459894657135, 0.1394263058900833, 0.25857242941856384, 0.23955975472927094, 0.1546364575624466, 0.06464310735464096, 0.06844564527273178, 0.03802535682916641, 0.035490334033966064, 0.09649127721786499, 0.370614230632782, 0.0679824948310852, 0.11842111498117447, 0.02192983590066433, 0.19298255443572998, 0.015350885689258575, 0.11403515189886093, 0.8038375973701477, 0.1674661636352539, 0.16784322261810303, 0.07324068248271942, 0.20904111862182617, 0.17242076992988586, 0.09155084937810898, 0.2014118731021881, 0.0350944921374321, 0.04577542468905449, 0.1613725870847702, 0.16045045852661133, 0.1798151731491089, 0.13002020120620728, 0.10327845811843872, 0.11987677961587906, 0.04426219314336777, 0.10235632210969925, 0.09465013444423676, 0.09465013444423676, 0.6625509262084961, 0.875307023525238, 0.1259753704071045, 0.755852222442627, 0.09849221259355545, 0.024623053148388863, 0.7386916279792786, 0.07386916130781174, 0.024623053148388863, 0.049246106296777725, 0.07687941938638687, 0.1350584328174591, 0.1350584328174591, 0.14544755220413208, 0.09765763580799103, 0.3116733133792877, 0.04986773058772087, 0.047789908945560455, 0.1041700541973114, 0.15851964056491852, 0.12379629164934158, 0.1962624192237854, 0.08756323158740997, 0.20381097495555878, 0.03170393034815788, 0.09511178731918335, 0.7381758689880371, 0.14602285623550415, 0.7301142811775208, 0.14602285623550415, 0.11143960803747177, 0.09286633878946304, 0.23030853271484375, 0.4048972427845001, 0.029717229306697845, 0.055719804018735886, 0.048290498554706573, 0.029717229306697845, 0.06645525246858597, 0.19444315135478973, 0.33637845516204834, 0.17967532575130463, 0.04266263172030449, 0.07301873713731766, 0.04266263172030449, 0.06399394571781158, 0.17549122869968414, 0.09960313141345978, 0.3082953989505768, 0.18260574340820312, 0.056916072964668274, 0.10671763867139816, 0.04980156570672989, 0.021343527361750603, 0.036129847168922424, 0.07225969433784485, 0.07225969433784485, 0.036129847168922424, 0.07225969433784485, 0.6864671111106873, 0.9174087643623352, 0.1539621204137802, 0.7698105573654175, 0.028746800497174263, 0.08624040335416794, 0.08624040335416794, 0.08624040335416794, 0.028746800497174263, 0.028746800497174263, 0.6324295997619629, 0.030969420447945595, 0.07742355018854141, 0.51873779296875, 0.2400130033493042, 0.030969420447945595, 0.05419648438692093, 0.030969420447945595, 0.015484710223972797, 0.09104285389184952, 0.8193857073783875, 0.1906864196062088, 0.010593689978122711, 0.5826529860496521, 0.021187379956245422, 0.07415582984685898, 0.042374759912490845, 0.06356213986873627, 0.021187379956245422, 0.9260141849517822, 0.06173427775502205, 0.8873699903488159, 0.8086808919906616, 0.089853435754776, 0.8693193197250366, 0.10866491496562958, 0.9115375280380249, 0.13852538168430328, 0.1662304699420929, 0.027705077081918716, 0.13852538168430328, 0.4986913800239563, 0.08855722844600677, 0.7970150113105774, 0.13755738735198975, 0.1904640793800354, 0.06348802149295807, 0.031744010746479034, 0.12697604298591614, 0.15872006118297577, 0.021162675693631172, 0.2645334303379059, 0.16411390900611877, 0.16411390900611877, 0.6564556360244751, 0.7219749093055725, 0.1610686331987381, 0.1610686331987381, 0.6442745327949524, 0.7402604222297668, 0.01921241544187069, 0.01921241544187069, 0.8261339068412781, 0.07684966176748276, 0.01921241544187069, 0.31188899278640747, 0.038986124098300934, 0.6627640724182129, 0.18399867415428162, 0.21380406618118286, 0.22731585800647736, 0.05643155798316002, 0.13193857669830322, 0.10332538932561874, 0.04768864065408707, 0.03497166931629181, 0.5011915564537048, 0.2819202244281769, 0.052207451313734055, 0.024363476783037186, 0.052207451313734055, 0.03828546404838562, 0.03828546404838562, 0.013921987265348434, 0.04833967238664627, 0.26029056310653687, 0.08552403748035431, 0.033465929329395294, 0.05205811187624931, 0.19707714021205902, 0.2974749207496643, 0.026029055938124657, 0.04922276362776756, 0.17227967083454132, 0.0738341435790062, 0.09844552725553513, 0.04922276362776756, 0.15997397899627686, 0.3691707253456116, 0.0369170717895031, 0.8724926710128784, 0.05980575084686279, 0.026580333709716797, 0.09967625141143799, 0.7043788433074951, 0.046515583992004395, 0.026580333709716797, 0.026580333709716797, 0.006645083427429199, 0.34738901257514954, 0.049306828528642654, 0.10309609770774841, 0.08068390190601349, 0.2263631671667099, 0.11878462880849838, 0.03810073062777519, 0.03810073062777519, 0.8572149276733398, 0.6977795958518982, 0.1391688585281372, 0.062128957360982895, 0.11431728303432465, 0.30318930745124817, 0.31561511754989624, 0.027336740866303444, 0.014910949394106865, 0.024851582944393158, 0.8707398176193237, 0.10884247720241547, 0.7974832057952881, 0.11392617225646973, 0.10021907091140747, 0.8017525672912598, 0.033370234072208405, 0.033370234072208405, 0.06674046814441681, 0.13348093628883362, 0.7341451048851013, 0.8080875277519226, 0.3431603014469147, 0.13146714866161346, 0.17339171469211578, 0.09627121686935425, 0.11800988018512726, 0.05434665456414223, 0.04606525972485542, 0.03726627677679062, 0.3730587661266327, 0.11344476789236069, 0.16362226009368896, 0.045814234763383865, 0.16580389440059662, 0.07417542487382889, 0.03490608185529709, 0.028361191973090172, 0.891681969165802, 0.17857615649700165, 0.07007419317960739, 0.07459510862827301, 0.03616732358932495, 0.20118074119091034, 0.12206471711397171, 0.1672738790512085, 0.14919021725654602, 0.014014886692166328, 0.28029772639274597, 0.16817864775657654, 0.11211909353733063, 0.042044661939144135, 0.09810420870780945, 0.28029772639274597, 0.38778048753738403, 0.04911886155605316, 0.05945967510342598, 0.023266829550266266, 0.25852033495903015, 0.14477138221263885, 0.06204487755894661, 0.012926016934216022, 0.07329458743333817, 0.5863566994667053, 0.06515074521303177, 0.16084091365337372, 0.012215765193104744, 0.05904286354780197, 0.032575372606515884, 0.012215765193104744, 0.3192409574985504, 0.2491636723279953, 0.09689698368310928, 0.0839197114109993, 0.07440304011106491, 0.10727880895137787, 0.02422424592077732, 0.044987887144088745, 0.8691030144691467, 0.9046909809112549, 0.09046909958124161, 0.10882008075714111, 0.18136680126190186, 0.03627336025238037, 0.03627336025238037, 0.6166471242904663, 0.03627336025238037, 0.03627336025238037, 0.03940526396036148, 0.00985131599009037, 0.37435001134872437, 0.00985131599009037, 0.13791842758655548, 0.10836447775363922, 0.03940526396036148, 0.27583685517311096, 0.8458971381187439, 0.8620911836624146, 0.04309547692537308, 0.12695693969726562, 0.24809017777442932, 0.20615944266319275, 0.054742902517318726, 0.18519407510757446, 0.08153198659420013, 0.05357816070318222, 0.1801859587430954, 0.11261622607707977, 0.0900929793715477, 0.022523244842886925, 0.022523244842886925, 0.5405579209327698, 0.022523244842886925, 0.06218603998422623, 0.16064725816249847, 0.10364339500665665, 0.04663952812552452, 0.054412782192230225, 0.4249379336833954, 0.11659882217645645, 0.028501933440566063, 0.888170599937439, 0.8352763652801514, 0.05568509176373482, 0.05568509176373482, 0.23292772471904755, 0.07764257490634918, 0.5434980392456055, 0.8572098016738892, 0.43478158116340637, 0.12457925081253052, 0.11336711794137955, 0.0423569455742836, 0.13454559445381165, 0.058552246540784836, 0.0211784727871418, 0.07225596159696579, 0.8011549711227417, 0.08780410885810852, 0.8780410885810852, 0.0771423876285553, 0.8871374130249023, 0.03857119381427765, 0.37080898880958557, 0.1502223163843155, 0.14910542964935303, 0.06087075546383858, 0.08432553708553314, 0.08711777627468109, 0.06924746185541153, 0.028480811044573784, 0.8053162693977356, 0.11504518240690231, 0.08669427782297134, 0.09969841688871384, 0.09536370635032654, 0.5071614980697632, 0.021673569455742836, 0.05201656371355057, 0.026008281856775284, 0.10836784541606903, 0.32058870792388916, 0.16627143323421478, 0.10867413878440857, 0.09671998023986816, 0.15214379131793976, 0.08259234577417374, 0.022821569815278053, 0.04890336096286774, 0.21923714876174927, 0.13256199657917023, 0.22943422198295593, 0.022943422198295593, 0.0968722254037857, 0.04333757609128952, 0.18099811673164368, 0.07392880320549011, 0.8627622723579407, 0.030637843534350395, 0.09191352874040604, 0.030637843534350395, 0.8272217512130737, 0.8809633851051331, 0.059292398393154144, 0.03557543829083443, 0.6640748381614685, 0.07115087658166885, 0.10079707950353622, 0.029646199196577072, 0.017787719145417213, 0.029646199196577072, 0.055068161338567734, 0.0954514741897583, 0.41117557883262634, 0.05139694735407829, 0.11747874319553375, 0.13583479821681976, 0.10646510869264603, 0.022027263417840004, 0.07644141465425491, 0.004496553912758827, 0.26979324221611023, 0.04946209117770195, 0.01798621565103531, 0.5260968208312988, 0.04496553912758827, 0.004496553912758827, 0.7384145855903625], \"Term\": [\"abridores\", \"abridores\", \"abril\", \"abril\", \"abril\", \"abril\", \"abril\", \"abril\", \"abril\", \"abril\", \"abuela\", \"abuela\", \"abuela\", \"abuela\", \"abuela\", \"abuela\", \"accesorio\", \"accesos\", \"accesos\", \"accesos\", \"accesos\", \"accesos\", \"accesos\", \"accesos\", \"accesos\", \"actividad\", \"actividad\", \"actividad\", \"actividad\", \"actividad\", \"actividad\", \"actividad\", \"actividad\", \"actividades\", \"actividades\", \"actividades\", \"actividades\", \"actividades\", \"actividades\", \"actividades\", \"actividades\", \"acuerdo\", \"acuerdo\", \"acuerdo\", \"acuerdo\", \"acuerdo\", \"acuerdo\", \"acuerdo\", \"acuerdo\", \"ademas\", \"ademas\", \"ademas\", \"ademas\", \"ademas\", \"ademas\", \"ademas\", \"ademas\", \"administradoras\", \"adolescente\", \"adolescente\", \"adolescente\", \"agotamiento\", \"ahorristas\", \"ahorristas\", \"ahorristas\", \"ahorristas\", \"ahorristas\", \"ahorristas\", \"ahorristas\", \"ahorristas\", \"aires\", \"aislamiento\", \"aislamiento\", \"aislamiento\", \"aislamiento\", \"aislamiento\", \"aislamiento\", \"aislamiento\", \"aislamiento\", \"alcanzados\", \"alcanzados\", \"alcoholismo\", \"alcoholismo\", \"alcoholismo\", \"alertas\", \"alertas\", \"alertas\", \"alertas\", \"altavoces\", \"altavoces\", \"anfitriones\", \"anfitriones\", \"anteojos\", \"anteojos\", \"anteojos\", \"anteojos\", \"anteojos\", \"anuncio\", \"anuncio\", \"anuncio\", \"anuncio\", \"anuncio\", \"anuncio\", \"anuncio\", \"anuncio\", \"apariciones\", \"apariciones\", \"apariciones\", \"apellidos\", \"aplicaciones\", \"aplicaciones\", \"aplicaciones\", \"aplicaciones\", \"aplicaciones\", \"aplicaciones\", \"aplicaciones\", \"aplicaciones\", \"apta\", \"apta\", \"apta\", \"apunto\", \"asalariados\", \"asignacion\", \"asignacion\", \"asignacion\", \"asignacion\", \"asignacion\", \"asignacion\", \"astronautas\", \"astronautas\", \"astronautas\", \"atribuciones\", \"aulas\", \"aulas\", \"aulas\", \"aulas\", \"aulas\", \"aulas\", \"aulas\", \"auriculares\", \"auriculares\", \"auriculares\", \"auriculares\", \"automotriz\", \"automotriz\", \"autores\", \"autores\", \"autores\", \"autores\", \"autores\", \"autores\", \"autores\", \"autores\", \"autoridades\", \"autoridades\", \"autoridades\", \"autoridades\", \"autoridades\", \"autoridades\", \"autoridades\", \"autoridades\", \"avos\", \"ayuda\", \"ayuda\", \"ayuda\", \"ayuda\", \"ayuda\", \"ayuda\", \"ayuda\", \"ayuda\", \"azota\", \"balcones\", \"balcones\", \"balcones\", \"bar\", \"bar\", \"bar\", \"bar\", \"barriles\", \"barriles\", \"barriles\", \"barriles\", \"basquetbol\", \"basquetbol\", \"basquetbol\", \"basquetbol\", \"basquetbol\", \"basquetbol\", \"batista\", \"bautismo\", \"bautismo\", \"beneficiarios\", \"beneficiarios\", \"beneficiarios\", \"beneficiarios\", \"beneficiarios\", \"beneficiarios\", \"beneficiarios\", \"beneficiarios\", \"besos\", \"betas\", \"bimestre\", \"biodiversidad\", \"biodiversidad\", \"bocado\", \"bocado\", \"bodas\", \"bodas\", \"boliches\", \"bono\", \"bono\", \"bono\", \"bono\", \"bono\", \"bono\", \"bono\", \"bono\", \"bonos\", \"bonos\", \"bonos\", \"bonos\", \"bonos\", \"bonos\", \"bonos\", \"bonos\", \"bronce\", \"bronce\", \"bronce\", \"bronce\", \"brote\", \"brote\", \"brote\", \"brote\", \"brote\", \"brote\", \"brote\", \"brote\", \"cabezas\", \"cabezas\", \"cabinas\", \"cai\", \"cai\", \"calificaciones\", \"cambio\", \"cambio\", \"cambio\", \"cambio\", \"cambio\", \"cambio\", \"cambio\", \"cambio\", \"camiseta\", \"camiseta\", \"camiseta\", \"camiseta\", \"camiseta\", \"camiseta\", \"camiseta\", \"camiseta\", \"camisetas\", \"camisetas\", \"camisetas\", \"camisetas\", \"camisetas\", \"camisetas\", \"camisetas\", \"cancha\", \"cancha\", \"cancha\", \"cancha\", \"cancha\", \"cancha\", \"cancha\", \"cancha\", \"cantidad\", \"cantidad\", \"cantidad\", \"cantidad\", \"cantidad\", \"cantidad\", \"cantidad\", \"cantidad\", \"capitalizacion\", \"capitalizacion\", \"caprichos\", \"carcajadas\", \"carcajadas\", \"carrera\", \"carrera\", \"carrera\", \"carrera\", \"carrera\", \"carrera\", \"carrera\", \"carrera\", \"cartografia\", \"casa\", \"casa\", \"casa\", \"casa\", \"casa\", \"casa\", \"casa\", \"casa\", \"caso\", \"caso\", \"caso\", \"caso\", \"caso\", \"caso\", \"caso\", \"caso\", \"celebridades\", \"celebridades\", \"celebridades\", \"celebridades\", \"celulares\", \"celulares\", \"celulares\", \"celulares\", \"celulares\", \"celulares\", \"celulares\", \"celulares\", \"celulas\", \"celulas\", \"celulas\", \"celulas\", \"celulas\", \"celulas\", \"celulas\", \"cepas\", \"cepas\", \"cepas\", \"cepas\", \"certamenes\", \"certamenes\", \"certamenes\", \"certidumbre\", \"cervezas\", \"cervezas\", \"championship\", \"championship\", \"chip\", \"chip\", \"chip\", \"chip\", \"chip\", \"chip\", \"ciclismo\", \"cisnes\", \"cisnes\", \"ciudad\", \"ciudad\", \"ciudad\", \"ciudad\", \"ciudad\", \"ciudad\", \"ciudad\", \"ciudad\", \"clasicos\", \"clasicos\", \"clasicos\", \"clasicos\", \"clasicos\", \"clic\", \"clic\", \"clic\", \"clic\", \"clic\", \"clic\", \"clic\", \"clic\", \"clientas\", \"clips\", \"clips\", \"clips\", \"clips\", \"club\", \"club\", \"club\", \"club\", \"club\", \"club\", \"club\", \"club\", \"clubes\", \"clubes\", \"clubes\", \"clubes\", \"clubes\", \"clubes\", \"clubes\", \"clubes\", \"cobro\", \"cobro\", \"cobro\", \"cobro\", \"cobro\", \"cobro\", \"cobro\", \"cobro\", \"cocinera\", \"cocinera\", \"cocinera\", \"codo\", \"codo\", \"codo\", \"codo\", \"codo\", \"codo\", \"codo\", \"colocaciones\", \"colocaciones\", \"colocaciones\", \"colocaciones\", \"colocaciones\", \"colocaciones\", \"comentarios\", \"comentarios\", \"comentarios\", \"comentarios\", \"comentarios\", \"comentarios\", \"comentarios\", \"comentarios\", \"compra\", \"compra\", \"compra\", \"compra\", \"compra\", \"compra\", \"compra\", \"compra\", \"compuestos\", \"compuestos\", \"compuestos\", \"compuestos\", \"computadora\", \"computadora\", \"computadora\", \"computadora\", \"computadora\", \"computadora\", \"computadora\", \"computadora\", \"concurrencias\", \"condimentos\", \"condimentos\", \"conejos\", \"conejos\", \"conejos\", \"conejos\", \"configurarse\", \"configurarse\", \"configurarse\", \"considerandos\", \"constructor\", \"constructores\", \"constructores\", \"constructores\", \"contacto\", \"contacto\", \"contacto\", \"contacto\", \"contacto\", \"contacto\", \"contacto\", \"contacto\", \"contactos\", \"contactos\", \"contactos\", \"contactos\", \"contactos\", \"contactos\", \"contactos\", \"contactos\", \"contagios\", \"contagios\", \"contagios\", \"contagios\", \"contagios\", \"contagios\", \"contagios\", \"contagios\", \"continuan\", \"continuan\", \"continuan\", \"continuan\", \"continuan\", \"continuan\", \"continuan\", \"contribuyente\", \"contribuyente\", \"contribuyente\", \"contribuyente\", \"controlarlos\", \"conveniencia\", \"conveniencia\", \"conveniencia\", \"copia\", \"copia\", \"copia\", \"copia\", \"copia\", \"copia\", \"copia\", \"copia\", \"copilotos\", \"copilotos\", \"copilotos\", \"corazones\", \"corazones\", \"correa\", \"correa\", \"correa\", \"cosas\", \"cosas\", \"cosas\", \"cosas\", \"cosas\", \"cosas\", \"cosas\", \"cosas\", \"costes\", \"crecimiento\", \"crecimiento\", \"crecimiento\", \"crecimiento\", \"crecimiento\", \"crecimiento\", \"crecimiento\", \"crecimiento\", \"crisis\", \"crisis\", \"crisis\", \"crisis\", \"crisis\", \"crisis\", \"crisis\", \"crisis\", \"crudo\", \"crudo\", \"crudo\", \"crudo\", \"cuarentena\", \"cuarentena\", \"cuarentena\", \"cuarentena\", \"cuarentena\", \"cuarentena\", \"cuarentena\", \"cuarentena\", \"cuarto\", \"cuenta\", \"cuenta\", \"cuenta\", \"cuenta\", \"cuenta\", \"cuenta\", \"cuenta\", \"cuenta\", \"cuerpo\", \"cuerpo\", \"cuerpo\", \"cuerpo\", \"cuerpo\", \"cuerpo\", \"cuerpo\", \"cuerpo\", \"cumplirse\", \"cuotas\", \"cuotas\", \"cuotas\", \"cuotas\", \"cuotas\", \"cuotas\", \"cuotas\", \"cuotas\", \"cupones\", \"cupones\", \"cupones\", \"cupones\", \"cupones\", \"cupones\", \"cupones\", \"cupones\", \"curso\", \"curso\", \"curso\", \"curso\", \"curso\", \"curso\", \"curso\", \"curso\", \"cursos\", \"cursos\", \"cursos\", \"cursos\", \"cursos\", \"cursos\", \"cursos\", \"cursos\", \"dandole\", \"dandole\", \"dandole\", \"darsela\", \"debilidades\", \"debilidades\", \"debilidades\", \"decreto\", \"decreto\", \"decreto\", \"decreto\", \"decreto\", \"decreto\", \"decreto\", \"decreto\", \"deducciones\", \"deducciones\", \"deducciones\", \"deducciones\", \"deducciones\", \"defensor\", \"defensor\", \"defensor\", \"defensor\", \"defensor\", \"defensor\", \"defensor\", \"defensor\", \"demonios\", \"dependencia\", \"dependencia\", \"dependencia\", \"dependencia\", \"dependencia\", \"dependencia\", \"dependencia\", \"dependencia\", \"deporte\", \"deporte\", \"deporte\", \"deporte\", \"deporte\", \"deporte\", \"deporte\", \"deporte\", \"desarrollador\", \"descargarse\", \"descargarse\", \"desempleo\", \"desempleo\", \"desempleo\", \"desempleo\", \"desempleo\", \"desempleo\", \"desempleo\", \"desempleo\", \"desgracias\", \"desgracias\", \"desgracias\", \"detalles\", \"detalles\", \"detalles\", \"detalles\", \"detalles\", \"detalles\", \"detalles\", \"detalles\", \"devaluacion\", \"dia\", \"dia\", \"dia\", \"dia\", \"dia\", \"dia\", \"dia\", \"dia\", \"dibujos\", \"dibujos\", \"dibujos\", \"dibujos\", \"dibujos\", \"difusion\", \"difusion\", \"difusion\", \"difusion\", \"difusion\", \"dinero\", \"dinero\", \"dinero\", \"dinero\", \"dinero\", \"dinero\", \"dinero\", \"dinero\", \"director\", \"director\", \"director\", \"director\", \"director\", \"director\", \"director\", \"director\", \"dispositivo\", \"dispositivo\", \"dispositivo\", \"dispositivo\", \"dispositivo\", \"dispositivo\", \"dispositivo\", \"dispositivo\", \"distanciamento\", \"distanciamento\", \"diversion\", \"diversion\", \"diversion\", \"diversion\", \"diversion\", \"domicilio\", \"domicilio\", \"domicilio\", \"domicilio\", \"domicilio\", \"domicilio\", \"domicilio\", \"domicilio\", \"drogas\", \"drogas\", \"drogas\", \"drogas\", \"drogas\", \"drogas\", \"drogas\", \"ecosistemas\", \"ecosistemas\", \"ecosistemas\", \"ecosistemas\", \"ediciones\", \"ediciones\", \"ediciones\", \"editores\", \"editores\", \"ejemplo\", \"ejemplo\", \"ejemplo\", \"ejemplo\", \"ejemplo\", \"ejemplo\", \"ejemplo\", \"ejemplo\", \"elegancia\", \"embarazo\", \"embarazo\", \"embarazo\", \"embarazo\", \"embarazo\", \"embarazo\", \"embarazo\", \"embargo\", \"embargo\", \"embargo\", \"embargo\", \"embargo\", \"embargo\", \"embargo\", \"embargo\", \"emergencia\", \"emergencia\", \"emergencia\", \"emergencia\", \"emergencia\", \"emergencia\", \"emergencia\", \"emergencia\", \"emoticonos\", \"empece\", \"empleador\", \"empleador\", \"empleador\", \"empleador\", \"empleador\", \"empleados\", \"empleados\", \"empleados\", \"empleados\", \"empleados\", \"empleados\", \"empleados\", \"empleados\", \"empleo\", \"empleo\", \"empleo\", \"empleo\", \"empleo\", \"empleo\", \"empleo\", \"empleo\", \"empleos\", \"empleos\", \"empleos\", \"empleos\", \"empleos\", \"empleos\", \"empleos\", \"empresa\", \"empresa\", \"empresa\", \"empresa\", \"empresa\", \"empresa\", \"empresa\", \"empresa\", \"empresarias\", \"empresas\", \"empresas\", \"empresas\", \"empresas\", \"empresas\", \"empresas\", \"empresas\", \"empresas\", \"encargos\", \"enfermedad\", \"enfermedad\", \"enfermedad\", \"enfermedad\", \"enfermedad\", \"enfermedad\", \"enfermedad\", \"enfermedad\", \"enfrentamiento\", \"enfrentamiento\", \"enfrentamiento\", \"enfrentamiento\", \"entrenador\", \"entrenador\", \"entrenador\", \"entrenador\", \"entrenador\", \"entrenador\", \"entrenador\", \"entrenador\", \"entrenadoras\", \"entretenimiento\", \"entretenimiento\", \"entretenimiento\", \"entretenimiento\", \"entretenimiento\", \"entusiasma\", \"entusiasma\", \"equipo\", \"equipo\", \"equipo\", \"equipo\", \"equipo\", \"equipo\", \"equipo\", \"equipo\", \"escalo\", \"escandalos\", \"escandalos\", \"escandalos\", \"escolaridad\", \"escolaridad\", \"escuderias\", \"espacio\", \"espacio\", \"espacio\", \"espacio\", \"espacio\", \"espacio\", \"espacio\", \"espacio\", \"especies\", \"especies\", \"especies\", \"especies\", \"especies\", \"especies\", \"especies\", \"especificaciones\", \"especificaciones\", \"especificaciones\", \"especificaciones\", \"especificaciones\", \"especificaciones\", \"especificaciones\", \"esperas\", \"estorbe\", \"estorbe\", \"estornudo\", \"estornudo\", \"estudiantes\", \"estudiantes\", \"estudiantes\", \"estudiantes\", \"estudiantes\", \"estudiantes\", \"estudiantes\", \"estudiantes\", \"estupor\", \"eticas\", \"etiquetas\", \"euros\", \"euros\", \"euros\", \"euros\", \"euros\", \"euros\", \"euros\", \"euros\", \"evaluan\", \"evaluan\", \"evaluan\", \"evaluan\", \"evaluan\", \"evaluan\", \"evaluan\", \"excelencia\", \"excelencia\", \"exhibiciones\", \"existia\", \"existia\", \"experimentos\", \"experimentos\", \"experimentos\", \"exposiciones\", \"expresion\", \"extendio\", \"factibilidad\", \"facultad\", \"facultad\", \"facultad\", \"facultad\", \"facultad\", \"facultad\", \"facultad\", \"falsamente\", \"familia\", \"familia\", \"familia\", \"familia\", \"familia\", \"familia\", \"familia\", \"familia\", \"ferroviarias\", \"fiebre\", \"fiebre\", \"fiebre\", \"fiebre\", \"fiebre\", \"fiebre\", \"fiebre\", \"fiebre\", \"filial\", \"fin\", \"fin\", \"fin\", \"fin\", \"fin\", \"fin\", \"fin\", \"fin\", \"fondos\", \"fondos\", \"fondos\", \"fondos\", \"fondos\", \"fondos\", \"fondos\", \"fondos\", \"forma\", \"forma\", \"forma\", \"forma\", \"forma\", \"forma\", \"forma\", \"forma\", \"formulario\", \"formulario\", \"formulario\", \"formulario\", \"formulario\", \"formulario\", \"formulario\", \"formulario\", \"foros\", \"foros\", \"foros\", \"foros\", \"funciones\", \"funciones\", \"funciones\", \"funciones\", \"funciones\", \"funciones\", \"funciones\", \"funciones\", \"futbol\", \"futbol\", \"futbol\", \"futbol\", \"futbol\", \"futbol\", \"futbol\", \"futbol\", \"futbolistas\", \"futbolistas\", \"futbolistas\", \"futbolistas\", \"futbolistas\", \"futbolistas\", \"futbolistas\", \"futbolistas\", \"ganancia\", \"ganancia\", \"ganancia\", \"ganancia\", \"ganancia\", \"ganancia\", \"garantizados\", \"garantizados\", \"gas\", \"gas\", \"gas\", \"gas\", \"gas\", \"gas\", \"gas\", \"gas\", \"gente\", \"gente\", \"gente\", \"gente\", \"gente\", \"gente\", \"gente\", \"gente\", \"gobierno\", \"gobierno\", \"gobierno\", \"gobierno\", \"gobierno\", \"gobierno\", \"gobierno\", \"gobierno\", \"gol\", \"gol\", \"gol\", \"gol\", \"gol\", \"gol\", \"gol\", \"gol\", \"goleada\", \"golf\", \"golf\", \"golf\", \"golf\", \"golf\", \"gotitas\", \"gracia\", \"gracia\", \"gracia\", \"gracia\", \"gracia\", \"gracia\", \"gracia\", \"gracia\", \"grietas\", \"grupales\", \"grupo\", \"grupo\", \"grupo\", \"grupo\", \"grupo\", \"grupo\", \"grupo\", \"grupo\", \"guion\", \"guitarra\", \"guitarra\", \"guitarra\", \"guitarra\", \"guitarra\", \"guitarra\", \"gusano\", \"hacer\", \"hacer\", \"hacer\", \"heces\", \"heces\", \"heces\", \"hermosos\", \"herramienta\", \"herramienta\", \"herramienta\", \"herramienta\", \"herramienta\", \"herramienta\", \"herramienta\", \"herramienta\", \"hipotecas\", \"hipotecas\", \"hipotecas\", \"historia\", \"historia\", \"historia\", \"historia\", \"historia\", \"historia\", \"historia\", \"historia\", \"hobbies\", \"hockey\", \"hockey\", \"hockey\", \"hockey\", \"hockey\", \"hockey\", \"horas\", \"horas\", \"horas\", \"horas\", \"horas\", \"horas\", \"horas\", \"horas\", \"horoscopos\", \"hospitalizaciones\", \"hospitalizaciones\", \"hoteles\", \"hoteles\", \"hoteles\", \"hoteles\", \"hoteles\", \"hoteles\", \"hoteles\", \"hoteles\", \"humanas\", \"humanas\", \"impedimento\", \"impedimento\", \"impidio\", \"impidio\", \"impidio\", \"implica\", \"implica\", \"importacion\", \"inconsciencia\", \"incursion\", \"incursion\", \"incursiones\", \"indefinida\", \"informacion\", \"informacion\", \"informacion\", \"informacion\", \"informacion\", \"informacion\", \"informacion\", \"informacion\", \"informalidad\", \"informalidad\", \"informalidad\", \"informalidad\", \"informalidad\", \"informalidad\", \"informalidad\", \"informarla\", \"informes\", \"informes\", \"informes\", \"informes\", \"informes\", \"informes\", \"informes\", \"informes\", \"ingreso\", \"ingreso\", \"ingreso\", \"ingreso\", \"ingreso\", \"ingreso\", \"ingreso\", \"ingreso\", \"inmunodeficiencia\", \"inmunodeficiencia\", \"instalo\", \"instalo\", \"intereses\", \"intereses\", \"intereses\", \"intereses\", \"intereses\", \"intereses\", \"intereses\", \"intereses\", \"interrupciones\", \"interrupciones\", \"interrupciones\", \"interrupciones\", \"interrupciones\", \"intestino\", \"intestino\", \"intestino\", \"intestino\", \"inversores\", \"inversores\", \"inversores\", \"inversores\", \"inversores\", \"inversores\", \"inversores\", \"inversores\", \"investigaciones\", \"investigaciones\", \"investigaciones\", \"investigaciones\", \"investigaciones\", \"investigaciones\", \"investigaciones\", \"investigadora\", \"invitaciones\", \"irrupciones\", \"irrupciones\", \"izquierda\", \"jengibre\", \"jengibre\", \"jengibre\", \"juego\", \"juego\", \"juego\", \"juego\", \"juego\", \"juego\", \"juego\", \"juego\", \"juegos\", \"juegos\", \"juegos\", \"juegos\", \"juegos\", \"juegos\", \"juegos\", \"juegos\", \"jugador\", \"jugador\", \"jugador\", \"jugador\", \"jugador\", \"jugador\", \"jugador\", \"jugador\", \"jugadores\", \"jugadores\", \"jugadores\", \"jugadores\", \"jugadores\", \"jugadores\", \"jugadores\", \"jugadores\", \"lanzamiento\", \"lanzamiento\", \"lanzamiento\", \"lanzamiento\", \"lanzamiento\", \"lanzamiento\", \"lanzamiento\", \"lanzamiento\", \"lectores\", \"lectores\", \"lectores\", \"lectores\", \"lectores\", \"levantarse\", \"libretas\", \"ligamento\", \"llevarlos\", \"llevarlos\", \"logotipos\", \"love\", \"lugar\", \"lugar\", \"lugar\", \"lugar\", \"lugar\", \"lugar\", \"lugar\", \"lugar\", \"lunes\", \"lunes\", \"lunes\", \"lunes\", \"lunes\", \"lunes\", \"lunes\", \"lunes\", \"lvarez\", \"malhumor\", \"manera\", \"manera\", \"manera\", \"manera\", \"manera\", \"manera\", \"manera\", \"manera\", \"mantengo\", \"marzo\", \"marzo\", \"marzo\", \"marzo\", \"marzo\", \"marzo\", \"marzo\", \"marzo\", \"mascaras\", \"mascaras\", \"mascaras\", \"mascaras\", \"mascaras\", \"mascaras\", \"mascaras\", \"mascaras\", \"matrimonios\", \"medida\", \"medida\", \"medida\", \"medida\", \"medida\", \"medida\", \"medida\", \"medida\", \"medidas\", \"medidas\", \"medidas\", \"medidas\", \"medidas\", \"medidas\", \"medidas\", \"medidas\", \"mejorarla\", \"mejorarla\", \"mejorarla\", \"mejorarla\", \"mejorarla\", \"mensajes\", \"mensajes\", \"mensajes\", \"mensajes\", \"mensajes\", \"mensajes\", \"mensajes\", \"mensajes\", \"mercado\", \"mercado\", \"mercado\", \"mercado\", \"mercado\", \"mercado\", \"mercado\", \"mercado\", \"mermeladas\", \"mermeladas\", \"mes\", \"mes\", \"mes\", \"mes\", \"mes\", \"mes\", \"mes\", \"mes\", \"meses\", \"meses\", \"meses\", \"meses\", \"meses\", \"meses\", \"meses\", \"meses\", \"micrones\", \"microorganismos\", \"miedo\", \"miedo\", \"miedo\", \"miedo\", \"miedo\", \"miedo\", \"miedo\", \"miedo\", \"mini\", \"ministra\", \"ministra\", \"ministra\", \"ministra\", \"ministra\", \"ministra\", \"minoria\", \"minoria\", \"model\", \"model\", \"modelo\", \"modelo\", \"modelo\", \"modelo\", \"modelo\", \"modelo\", \"modelo\", \"modelo\", \"modelos\", \"modelos\", \"modelos\", \"modelos\", \"modelos\", \"modelos\", \"modelos\", \"modelos\", \"momentaneamente\", \"momentaneamente\", \"momento\", \"momento\", \"momento\", \"momento\", \"momento\", \"momento\", \"momento\", \"momento\", \"monoplazas\", \"monotributistas\", \"monotributistas\", \"monotributistas\", \"monotributistas\", \"monotributistas\", \"monotributistas\", \"monotributistas\", \"monotributistas\", \"motivaciones\", \"movernos\", \"moverse\", \"moverse\", \"moverse\", \"movida\", \"muertes\", \"muertes\", \"muertes\", \"muertes\", \"muertes\", \"muertes\", \"muertes\", \"muertes\", \"mundo\", \"mundo\", \"mundo\", \"mundo\", \"mundo\", \"mundo\", \"mundo\", \"mundo\", \"municipalidad\", \"municipalidad\", \"municipalidad\", \"municipalidad\", \"municipalidad\", \"musculo\", \"museos\", \"museos\", \"museos\", \"navegadores\", \"negociacion\", \"negociacion\", \"negociacion\", \"negociacion\", \"negociacion\", \"negociacion\", \"negociacion\", \"negociacion\", \"nestor\", \"neto\", \"neto\", \"neto\", \"neto\", \"nivel\", \"nivel\", \"nivel\", \"nivel\", \"nivel\", \"nivel\", \"nivel\", \"nivel\", \"nombres\", \"nombres\", \"nombres\", \"nombres\", \"nombres\", \"nombres\", \"nombres\", \"noticias\", \"noticias\", \"noticias\", \"noticias\", \"noticias\", \"noticias\", \"noticias\", \"noticias\", \"novelas\", \"novelas\", \"novelas\", \"novelas\", \"numero\", \"numero\", \"numero\", \"numero\", \"numero\", \"numero\", \"numero\", \"numero\", \"obras\", \"obras\", \"obras\", \"obras\", \"obras\", \"obras\", \"obras\", \"obras\", \"oferta\", \"oferta\", \"oferta\", \"oferta\", \"oferta\", \"oferta\", \"oferta\", \"oferta\", \"ofrecerles\", \"ofrecimiento\", \"ojala\", \"ojala\", \"ojala\", \"ojala\", \"ojala\", \"ojala\", \"ordenadores\", \"pacientes\", \"pacientes\", \"pacientes\", \"pacientes\", \"pacientes\", \"pacientes\", \"pacientes\", \"pacientes\", \"padre\", \"padre\", \"padre\", \"padre\", \"padre\", \"padre\", \"padre\", \"padre\", \"pago\", \"pago\", \"pago\", \"pago\", \"pago\", \"pago\", \"pago\", \"pago\", \"pandemia\", \"pandemia\", \"pandemia\", \"pandemia\", \"pandemia\", \"pandemia\", \"pandemia\", \"pandemia\", \"paralizacion\", \"paralizacion\", \"paralizacion\", \"paralizacion\", \"parte\", \"parte\", \"parte\", \"parte\", \"parte\", \"parte\", \"parte\", \"parte\", \"participantes\", \"participantes\", \"participantes\", \"participantes\", \"participantes\", \"participantes\", \"participantes\", \"participantes\", \"particulas\", \"particulas\", \"particulas\", \"particulas\", \"particulas\", \"partido\", \"partido\", \"partido\", \"partido\", \"partido\", \"partido\", \"partido\", \"partido\", \"partidos\", \"partidos\", \"partidos\", \"partidos\", \"partidos\", \"partidos\", \"partidos\", \"partidos\", \"pasajero\", \"pasajero\", \"pasajero\", \"pasajero\", \"pasatiempo\", \"pasatiempo\", \"pasatiempo\", \"pasatiempo\", \"pasatiempos\", \"pasatiempos\", \"pasatiempos\", \"patrullaje\", \"patrullaje\", \"pelota\", \"pelota\", \"pelota\", \"pelota\", \"pelota\", \"pelota\", \"pelota\", \"pelota\", \"percepcion\", \"perfil\", \"perfil\", \"perfil\", \"perfil\", \"perfil\", \"perfil\", \"perfil\", \"perfil\", \"perfiles\", \"perfiles\", \"perfiles\", \"perfiles\", \"perfiles\", \"perfiles\", \"perfiles\", \"perfiles\", \"permiso\", \"permiso\", \"permiso\", \"permiso\", \"permiso\", \"permiso\", \"permiso\", \"permiso\", \"petroleo\", \"petroleo\", \"petroleo\", \"petroleo\", \"petroleo\", \"petroleo\", \"petroleo\", \"petroleo\", \"piloto\", \"piloto\", \"piloto\", \"piloto\", \"piloto\", \"piloto\", \"piloto\", \"pirata\", \"pirata\", \"plantel\", \"plantel\", \"plantel\", \"plantel\", \"plantel\", \"plantel\", \"plantel\", \"plantel\", \"plazo\", \"plazo\", \"plazo\", \"plazo\", \"plazo\", \"plazo\", \"plazo\", \"plazo\", \"plazos\", \"plazos\", \"plazos\", \"plazos\", \"plazos\", \"plazos\", \"plazos\", \"plazos\", \"pluriempleo\", \"pluriempleo\", \"pluriempleo\", \"pluriempleo\", \"poblacion\", \"poblacion\", \"poblacion\", \"poderio\", \"pokemon\", \"pokemon\", \"positiva\", \"postergaciones\", \"precio\", \"precio\", \"precio\", \"precio\", \"precio\", \"precio\", \"precio\", \"precio\", \"precios\", \"precios\", \"precios\", \"precios\", \"precios\", \"precios\", \"precios\", \"precios\", \"prenden\", \"prenden\", \"preservativos\", \"presidencia\", \"presidencia\", \"presidencia\", \"presidencia\", \"presidente\", \"presidente\", \"presidente\", \"presidente\", \"presidente\", \"presidente\", \"presidente\", \"presidente\", \"primos\", \"principiantes\", \"principiantes\", \"principiantes\", \"principiantes\", \"problemas\", \"problemas\", \"problemas\", \"problemas\", \"problemas\", \"problemas\", \"problemas\", \"problemas\", \"procesadores\", \"producto\", \"producto\", \"producto\", \"producto\", \"producto\", \"producto\", \"producto\", \"producto\", \"productor\", \"productor\", \"productor\", \"productor\", \"productor\", \"productor\", \"programaciones\", \"programaciones\", \"programaciones\", \"programaciones\", \"propagacion\", \"propagacion\", \"propagacion\", \"propagacion\", \"propagacion\", \"propagacion\", \"propagacion\", \"propagacion\", \"proposito\", \"proposito\", \"proposito\", \"proposito\", \"proposito\", \"proposito\", \"proposito\", \"propuesta\", \"propuesta\", \"propuesta\", \"propuesta\", \"propuesta\", \"propuesta\", \"propuesta\", \"propuesta\", \"protector\", \"prototipos\", \"prototipos\", \"prototipos\", \"providencia\", \"providencia\", \"proximos\", \"proximos\", \"proximos\", \"pruebas\", \"pruebas\", \"pruebas\", \"pruebas\", \"pruebas\", \"pruebas\", \"pruebas\", \"pruebas\", \"pulseras\", \"pulseras\", \"pulseras\", \"pumas\", \"pumas\", \"pumas\", \"pumas\", \"pumas\", \"pumas\", \"punto\", \"punto\", \"punto\", \"punto\", \"punto\", \"punto\", \"punto\", \"punto\", \"puntos\", \"puntos\", \"puntos\", \"puntos\", \"puntos\", \"puntos\", \"puntos\", \"puntos\", \"quitarse\", \"quitarse\", \"radios\", \"rastreo\", \"rastreo\", \"rastreo\", \"rastreo\", \"rastreo\", \"rastreo\", \"rastreo\", \"raza\", \"recepcion\", \"receptor\", \"receptor\", \"receptor\", \"recolector\", \"recuento\", \"recuento\", \"recuento\", \"recuento\", \"recuento\", \"recuento\", \"red\", \"red\", \"red\", \"red\", \"red\", \"red\", \"red\", \"red\", \"redes\", \"redes\", \"redes\", \"redes\", \"redes\", \"redes\", \"redes\", \"redes\", \"reglamento\", \"reglamento\", \"reglamento\", \"reglamento\", \"reglamento\", \"reglamento\", \"reglamento\", \"reglamento\", \"reguladores\", \"reguladores\", \"reintegros\", \"relaja\", \"remake\", \"repartidores\", \"repartidores\", \"repartidores\", \"repartidores\", \"repartidores\", \"repartidores\", \"repele\", \"reporto\", \"reporto\", \"reproduccion\", \"reproduccion\", \"reproduccion\", \"reproduccion\", \"reproduccion\", \"residuos\", \"residuos\", \"residuos\", \"respirador\", \"respirador\", \"respirador\", \"respirador\", \"respirador\", \"respirador\", \"retransmisiones\", \"retransmisiones\", \"retratos\", \"retratos\", \"retratos\", \"retratos\", \"retratos\", \"reuniones\", \"reuniones\", \"reuniones\", \"reuniones\", \"reuniones\", \"reuniones\", \"reuniones\", \"reuniones\", \"reutilizables\", \"revelacion\", \"riesgos\", \"riesgos\", \"riesgos\", \"riesgos\", \"riesgos\", \"riesgos\", \"riesgos\", \"riesgos\", \"rivalidad\", \"rivalidad\", \"rivalidad\", \"rivalidad\", \"rivalidad\", \"roca\", \"rocas\", \"rublos\", \"rueditas\", \"rugby\", \"rugby\", \"rugby\", \"rugby\", \"rugby\", \"rugby\", \"rugby\", \"salario\", \"salario\", \"salario\", \"salario\", \"salario\", \"salario\", \"salario\", \"salario\", \"salarios\", \"salarios\", \"salarios\", \"salarios\", \"salarios\", \"salarios\", \"salarios\", \"salarios\", \"salud\", \"salud\", \"salud\", \"salud\", \"salud\", \"salud\", \"salud\", \"salud\", \"sector\", \"sector\", \"sector\", \"sector\", \"sector\", \"sector\", \"sector\", \"sector\", \"secuencias\", \"secuencias\", \"seguridad\", \"seguridad\", \"seguridad\", \"seguridad\", \"seguridad\", \"seguridad\", \"seguridad\", \"seguridad\", \"semana\", \"semana\", \"semana\", \"semana\", \"semana\", \"semana\", \"semana\", \"semana\", \"semilla\", \"semilla\", \"semilla\", \"semillas\", \"senadores\", \"senadores\", \"sensores\", \"sensores\", \"sensores\", \"sensores\", \"sensores\", \"sensores\", \"servicio\", \"servicio\", \"servicio\", \"servicio\", \"servicio\", \"servicio\", \"servicio\", \"servicio\", \"servicios\", \"servicios\", \"servicios\", \"servicios\", \"servicios\", \"servicios\", \"servicios\", \"servicios\", \"silvestres\", \"simpatizantes\", \"simpatizantes\", \"simpatizantes\", \"sintomas\", \"sintomas\", \"sintomas\", \"sintomas\", \"sintomas\", \"sintomas\", \"sintomas\", \"sintomas\", \"sistema\", \"sistema\", \"sistema\", \"sistema\", \"sistema\", \"sistema\", \"sistema\", \"sistema\", \"sitio\", \"sitio\", \"sitio\", \"sitio\", \"sitio\", \"sitio\", \"sitio\", \"sitio\", \"soberanos\", \"soberanos\", \"soberanos\", \"soberanos\", \"soberanos\", \"soberanos\", \"sobrecargos\", \"sobreprecio\", \"sobreprecio\", \"sociedades\", \"sociedades\", \"sociedades\", \"sociedades\", \"sociedades\", \"sociedades\", \"sociedades\", \"software\", \"software\", \"software\", \"software\", \"software\", \"software\", \"software\", \"software\", \"solapa\", \"solapa\", \"sonido\", \"sonido\", \"sonido\", \"sonido\", \"sonido\", \"sonido\", \"sonido\", \"sonido\", \"sonrisas\", \"sonrisas\", \"sophos\", \"stickers\", \"stickers\", \"suavidad\", \"suavidad\", \"subasta\", \"subtes\", \"subtes\", \"subtes\", \"subtes\", \"subtes\", \"sucedia\", \"sucedia\", \"sueldo\", \"sueldo\", \"sueldo\", \"sueldo\", \"sueldo\", \"sueldo\", \"sueldo\", \"sueldo\", \"sugerirse\", \"sugerirse\", \"sugerirse\", \"sujeto\", \"suposiciones\", \"suposiciones\", \"suposiciones\", \"susceptibilidad\", \"suscripciones\", \"suscripciones\", \"suscripciones\", \"suscripciones\", \"suscripciones\", \"sustento\", \"sustento\", \"sustento\", \"tambien\", \"tambien\", \"tambien\", \"tambien\", \"tambien\", \"tambien\", \"tambien\", \"tambien\", \"tarjeta\", \"tarjeta\", \"tarjeta\", \"tarjeta\", \"tarjeta\", \"tarjeta\", \"tarjeta\", \"tarjeta\", \"tasa\", \"tasa\", \"tasa\", \"tasa\", \"tasa\", \"tasa\", \"tasa\", \"tasa\", \"tasas\", \"tasas\", \"tasas\", \"tasas\", \"tasas\", \"tasas\", \"tasas\", \"tasas\", \"teclas\", \"temperatura\", \"temperatura\", \"temperatura\", \"temperatura\", \"temperatura\", \"temperatura\", \"temperatura\", \"temperatura\", \"temporada\", \"temporada\", \"temporada\", \"temporada\", \"temporada\", \"temporada\", \"temporada\", \"temporada\", \"tempranos\", \"tendria\", \"tenis\", \"tenis\", \"tenis\", \"tenis\", \"tenis\", \"tenis\", \"tenis\", \"tenis\", \"terciopelo\", \"terciopelo\", \"terminados\", \"terminados\", \"terremoto\", \"terremoto\", \"textos\", \"textos\", \"textos\", \"textos\", \"textos\", \"ticket\", \"tiempo\", \"tiempo\", \"tiempo\", \"tiempo\", \"tiempo\", \"tiempo\", \"tiempo\", \"tiempo\", \"tiempos\", \"tiempos\", \"tiempos\", \"tiempos\", \"tiempos\", \"tiempos\", \"tiempos\", \"tiempos\", \"tinieblas\", \"titulos\", \"titulos\", \"titulos\", \"titulos\", \"titulos\", \"titulos\", \"titulos\", \"titulos\", \"toneladas\", \"toneladas\", \"toneladas\", \"toneladas\", \"toneladas\", \"toneladas\", \"toneladas\", \"torneo\", \"torneo\", \"torneo\", \"torneo\", \"torneo\", \"torneo\", \"torneo\", \"torneo\", \"trabajadores\", \"trabajadores\", \"trabajadores\", \"trabajadores\", \"trabajadores\", \"trabajadores\", \"trabajadores\", \"trabajadores\", \"trabajo\", \"trabajo\", \"trabajo\", \"trabajo\", \"trabajo\", \"trabajo\", \"trabajo\", \"trabajo\", \"traffic\", \"tramite\", \"tramite\", \"transacciones\", \"transacciones\", \"transacciones\", \"transacciones\", \"transacciones\", \"transacciones\", \"transacciones\", \"transmisiones\", \"transmisiones\", \"transmisiones\", \"transmisiones\", \"transmisiones\", \"transmisiones\", \"transmisiones\", \"transmisiones\", \"tricampeonato\", \"tripulaciones\", \"uso\", \"uso\", \"uso\", \"uso\", \"uso\", \"uso\", \"uso\", \"uso\", \"usos\", \"usos\", \"usos\", \"usos\", \"usos\", \"usos\", \"usos\", \"valor\", \"valor\", \"valor\", \"valor\", \"valor\", \"valor\", \"valor\", \"valor\", \"valoraciones\", \"varados\", \"varados\", \"varados\", \"vas\", \"vas\", \"vas\", \"vaticino\", \"veces\", \"veces\", \"veces\", \"veces\", \"veces\", \"veces\", \"veces\", \"veces\", \"venderlos\", \"venderse\", \"venderse\", \"ventilador\", \"ventilador\", \"ventilador\", \"vez\", \"vez\", \"vez\", \"vez\", \"vez\", \"vez\", \"vez\", \"vez\", \"vicepresidenta\", \"vicepresidenta\", \"victimas\", \"victimas\", \"victimas\", \"victimas\", \"victimas\", \"victimas\", \"victimas\", \"victimas\", \"vida\", \"vida\", \"vida\", \"vida\", \"vida\", \"vida\", \"vida\", \"vida\", \"videos\", \"videos\", \"videos\", \"videos\", \"videos\", \"videos\", \"videos\", \"videos\", \"vidrio\", \"vientos\", \"vientos\", \"vientos\", \"vientos\", \"viola\", \"voz\", \"voz\", \"voz\", \"voz\", \"voz\", \"voz\", \"voz\", \"voz\", \"web\", \"web\", \"web\", \"web\", \"web\", \"web\", \"web\", \"web\", \"zoom\", \"zoom\", \"zoom\", \"zoom\", \"zoom\", \"zoom\", \"zoom\", \"zoom\", \"zoonosis\"]}, \"R\": 30, \"lambda.step\": 0.01, \"plot.opts\": {\"xlab\": \"PC1\", \"ylab\": \"PC2\"}, \"topic.order\": [5, 3, 7, 6, 2, 1, 8, 4]};\n",
              "\n",
              "function LDAvis_load_lib(url, callback){\n",
              "  var s = document.createElement('script');\n",
              "  s.src = url;\n",
              "  s.async = true;\n",
              "  s.onreadystatechange = s.onload = callback;\n",
              "  s.onerror = function(){console.warn(\"failed to load library \" + url);};\n",
              "  document.getElementsByTagName(\"head\")[0].appendChild(s);\n",
              "}\n",
              "\n",
              "if(typeof(LDAvis) !== \"undefined\"){\n",
              "   // already loaded: just create the visualization\n",
              "   !function(LDAvis){\n",
              "       new LDAvis(\"#\" + \"ldavis_el1231405328971594722497507427\", ldavis_el1231405328971594722497507427_data);\n",
              "   }(LDAvis);\n",
              "}else if(typeof define === \"function\" && define.amd){\n",
              "   // require.js is available: use it to load d3/LDAvis\n",
              "   require.config({paths: {d3: \"https://cdnjs.cloudflare.com/ajax/libs/d3/3.5.5/d3.min\"}});\n",
              "   require([\"d3\"], function(d3){\n",
              "      window.d3 = d3;\n",
              "      LDAvis_load_lib(\"https://cdn.rawgit.com/bmabey/pyLDAvis/files/ldavis.v1.0.0.js\", function(){\n",
              "        new LDAvis(\"#\" + \"ldavis_el1231405328971594722497507427\", ldavis_el1231405328971594722497507427_data);\n",
              "      });\n",
              "    });\n",
              "}else{\n",
              "    // require.js not available: dynamically load d3 & LDAvis\n",
              "    LDAvis_load_lib(\"https://cdnjs.cloudflare.com/ajax/libs/d3/3.5.5/d3.min.js\", function(){\n",
              "         LDAvis_load_lib(\"https://cdn.rawgit.com/bmabey/pyLDAvis/files/ldavis.v1.0.0.js\", function(){\n",
              "                 new LDAvis(\"#\" + \"ldavis_el1231405328971594722497507427\", ldavis_el1231405328971594722497507427_data);\n",
              "            })\n",
              "         });\n",
              "}\n",
              "</script>"
            ],
            "text/plain": [
              "PreparedData(topic_coordinates=              x         y  topics  cluster       Freq\n",
              "topic                                                \n",
              "4      0.078751 -0.008969       1        1  20.139547\n",
              "2     -0.026709  0.012728       2        1  17.080616\n",
              "6     -0.005301 -0.027454       3        1  16.033926\n",
              "5     -0.087207 -0.040503       4        1  12.963218\n",
              "1      0.074513 -0.017896       5        1  11.576828\n",
              "0     -0.028361  0.037718       6        1  10.497640\n",
              "7     -0.003917  0.069713       7        1   6.476465\n",
              "3     -0.001769 -0.025336       8        1   5.231762, topic_info=             Term         Freq        Total Category  logprob  loglift\n",
              "447        oferta   528.000000   528.000000  Default  30.0000  30.0000\n",
              "30         futbol   945.000000   945.000000  Default  29.0000  29.0000\n",
              "12    comentarios  1303.000000  1303.000000  Default  28.0000  28.0000\n",
              "386         abril  1550.000000  1550.000000  Default  27.0000  27.0000\n",
              "1264        bonos   315.000000   315.000000  Default  26.0000  26.0000\n",
              "...           ...          ...          ...      ...      ...      ...\n",
              "68        tambien    88.324760  2516.322510   Topic8  -5.2058  -0.3991\n",
              "51          parte    73.784927  1781.350830   Topic8  -5.3857  -0.2336\n",
              "235        tiempo    72.449257  1932.041626   Topic8  -5.4040  -0.3330\n",
              "164   actividades    58.048729   902.754700   Topic8  -5.6256   0.2063\n",
              "278         veces    57.782524   802.701904   Topic8  -5.6302   0.3191\n",
              "\n",
              "[701 rows x 6 columns], token_table=      Topic      Freq       Term\n",
              "term                            \n",
              "7678      3  0.183274  abridores\n",
              "7678      4  0.824732  abridores\n",
              "386       1  0.108377      abril\n",
              "386       2  0.265136      abril\n",
              "386       3  0.081928      abril\n",
              "...     ...       ...        ...\n",
              "4050      5  0.017986       zoom\n",
              "4050      6  0.526097       zoom\n",
              "4050      7  0.044966       zoom\n",
              "4050      8  0.004497       zoom\n",
              "6248      4  0.738415   zoonosis\n",
              "\n",
              "[2397 rows x 3 columns], R=30, lambda_step=0.01, plot_opts={'xlab': 'PC1', 'ylab': 'PC2'}, topic_order=[5, 3, 7, 6, 2, 1, 8, 4])"
            ]
          },
          "metadata": {
            "tags": []
          },
          "execution_count": 47
        }
      ]
    }
  ]
}