{
  "nbformat": 4,
  "nbformat_minor": 0,
  "metadata": {
    "colab": {
      "name": "Copia de TMnews_1_Obtencion_Datos.ipynb",
      "provenance": [],
      "collapsed_sections": [],
      "toc_visible": true,
      "include_colab_link": true
    },
    "kernelspec": {
      "name": "python3",
      "display_name": "Python 3"
    }
  },
  "cells": [
    {
      "cell_type": "markdown",
      "metadata": {
        "id": "view-in-github",
        "colab_type": "text"
      },
      "source": [
        "<a href=\"https://colab.research.google.com/github/GIBD/GIBDnews/blob/master/01_Obtencion_Datos.ipynb\" target=\"_parent\"><img src=\"https://colab.research.google.com/assets/colab-badge.svg\" alt=\"Open In Colab\"/></a>"
      ]
    },
    {
      "cell_type": "markdown",
      "metadata": {
        "id": "hQhyMtnHUY27",
        "colab_type": "text"
      },
      "source": [
        "# **GIBDnews**\n",
        "**Aplicación de Técnicas de Minería de Textos a noticias** \n"
      ]
    },
    {
      "cell_type": "markdown",
      "metadata": {
        "id": "-rHtDJxPdeGm",
        "colab_type": "text"
      },
      "source": [
        "---\n",
        "#**Obtención y Preparación de los Textos**\n",
        "\n",
        "---\n",
        "\n",
        "**Fuentes de información**\n",
        "\n",
        "Para este trabajo se consideró trabajar con tres periódicos digitales nacionales: Clarín, Infobae y La Nación. Se seleccionaron 6 secciones de los diarios: Deportes, Economía, Espectáculos, Política, Sociedad, Tecnología.\n",
        "\n",
        "---"
      ]
    },
    {
      "cell_type": "markdown",
      "metadata": {
        "id": "ILfNzqVkDNnO",
        "colab_type": "text"
      },
      "source": [
        "**Carga de librerías**\n",
        "\n",
        "---"
      ]
    },
    {
      "cell_type": "code",
      "metadata": {
        "id": "RajHAdp-CzvE",
        "colab_type": "code",
        "colab": {}
      },
      "source": [
        "import pandas as pd\n",
        "import os\n",
        "import chardet\n",
        "import numpy as np\n",
        "import datetime\n",
        "from os import path"
      ],
      "execution_count": 0,
      "outputs": []
    },
    {
      "cell_type": "code",
      "metadata": {
        "id": "yBS4zAD7C6Ot",
        "colab_type": "code",
        "outputId": "cc282423-9ff8-45dd-97ca-e315c9323654",
        "colab": {
          "base_uri": "https://localhost:8080/",
          "height": 119
        }
      },
      "source": [
        "! git clone https://github.com/GIBD/GIBDnews.git"
      ],
      "execution_count": 2,
      "outputs": [
        {
          "output_type": "stream",
          "text": [
            "Cloning into 'GIBDnews'...\n",
            "remote: Enumerating objects: 3, done.\u001b[K\n",
            "remote: Counting objects:  33% (1/3)\u001b[K\rremote: Counting objects:  66% (2/3)\u001b[K\rremote: Counting objects: 100% (3/3)\u001b[K\rremote: Counting objects: 100% (3/3), done.\u001b[K\n",
            "remote: Compressing objects: 100% (3/3), done.\u001b[K\n",
            "remote: Total 85 (delta 0), reused 0 (delta 0), pack-reused 82\u001b[K\n",
            "Unpacking objects: 100% (85/85), done.\n"
          ],
          "name": "stdout"
        }
      ]
    },
    {
      "cell_type": "markdown",
      "metadata": {
        "id": "cYhJTVU9es8C",
        "colab_type": "text"
      },
      "source": [
        "---\n",
        "\n",
        "**Generación de dataset único**\n",
        "\n",
        "\n",
        "---"
      ]
    },
    {
      "cell_type": "code",
      "metadata": {
        "id": "dCp2VP-uRsGa",
        "colab_type": "code",
        "colab": {}
      },
      "source": [
        "# Constantes\n",
        "\n",
        "# Solamente es necesario cambiar el directorio base\n",
        "\n",
        "\n",
        "DIRECTORIO_BASE = r'/content/GIBDnews'     \n",
        "DIRECTORIO_DATA = path.join(DIRECTORIO_BASE, 'data/raw/2020/04-ABR')\n",
        "DIRECTORIO_EXPORT = path.join(DIRECTORIO_BASE, 'export')\n",
        "\n",
        "TEMPLATE_EXPORT = 'news_abril'\n",
        "\n",
        "MES = 4\n",
        "DIA_INICIO = 11\n",
        "DIA_FIN = 15\n",
        "\n",
        "DIARIOS = ['clarin','infobae','lanacion'] # Metadatos para acceder a los archivos JSON\n",
        "SECCIONES = ['deportes','economia','sociedad','tecnologia']  #, 'politica'\n",
        "DIAS = list(range(DIA_INICIO, DIA_FIN + 1))"
      ],
      "execution_count": 0,
      "outputs": []
    },
    {
      "cell_type": "code",
      "metadata": {
        "id": "32p9K2cKSBAD",
        "colab_type": "code",
        "colab": {}
      },
      "source": [
        "# Utilidades\n",
        "\n",
        "def generar_nombre_export(nombre_export):\n",
        "    formato = \"%Y%m%d-%H%M%S\"\n",
        "    fecha_actual = datetime.datetime.now().strftime(formato)\n",
        "    nombre_archivo = f'{TEMPLATE_EXPORT}_{nombre_export}_{fecha_actual}.csv'\n",
        "    \n",
        "    return path.join(DIRECTORIO_EXPORT, nombre_archivo)\n",
        "\n",
        "def log(mensaje, nivel = 0):\n",
        "    tabs = ('\\t' * nivel) if nivel is not 0 else ''\n",
        "    print(tabs + mensaje)\n",
        "    \n",
        "def crear_directorio_si_no_existe(directorio):\n",
        "    if not path.exists(directorio):\n",
        "        os.makedirs(directorio)"
      ],
      "execution_count": 0,
      "outputs": []
    },
    {
      "cell_type": "code",
      "metadata": {
        "id": "P1zH__GNDeC6",
        "colab_type": "code",
        "outputId": "8396842f-aced-4d0e-bb9b-fe9b9098856a",
        "colab": {
          "base_uri": "https://localhost:8080/",
          "height": 1000
        }
      },
      "source": [
        "crear_directorio_si_no_existe(DIRECTORIO_BASE)\n",
        "crear_directorio_si_no_existe(DIRECTORIO_EXPORT)\n",
        "\n",
        "os.chdir(DIRECTORIO_DATA) \n",
        "\n",
        "# Inicializa dataframe noticias\n",
        "noticias = pd.DataFrame()\n",
        "\n",
        "# Recorre los archivos JSON cargando las noticias en el dataframe noticias\n",
        "for diario in DIARIOS:\n",
        "    for seccion in SECCIONES:\n",
        "        for dia in DIAS:\n",
        "            # Genera el nombre del JSON a procesar\n",
        "            nombreJSON = f'{diario}_{seccion}_2020{MES:02d}{dia:02d}.json'\n",
        "            \n",
        "            log(f'Procesando archivo {nombreJSON}:')\n",
        "\n",
        "            # Genera la fecha del JSON actual\n",
        "            fechaJSON = datetime.datetime(2020, MES, dia)\n",
        "            \n",
        "            if not path.exists(nombreJSON):\n",
        "                log('Archivo no encontrado.', 1)\n",
        "                continue\n",
        "            \n",
        "            # Obtiene metadatos del archivo para acceder al encoding\n",
        "            with open(nombreJSON, 'rb') as f: \n",
        "                result = chardet.detect(f.read())\n",
        "            \n",
        "            # Obtiene el dataframe a partir del JSON teniendo en cuenta el encoding\n",
        "            encoding = 'utf-8' if result['encoding'] != 'Windows-1252' else result['encoding']\n",
        "            \n",
        "            # convert_dates en False es porque:\n",
        "            #    1) los archivos de infobae (ej infobae_economia_20200317) tienen un array en la llave date\n",
        "            #    2) igualmente la fecha se pisa en el siguiente paso, asi que tampoco importa\n",
        "            df = pd.read_json(nombreJSON, lines=True, encoding=encoding, convert_dates=False)\n",
        "                \n",
        "            # Actualiza la fecha en el dataframe\n",
        "            df['date'] = fechaJSON\n",
        "            \n",
        "            #concatena con los anteriores\n",
        "            noticias = pd.concat([noticias, df], ignore_index=True, sort=False)\n",
        "            \n",
        "            log('Archivo procesado correctamente.', 1)   "
      ],
      "execution_count": 41,
      "outputs": [
        {
          "output_type": "stream",
          "text": [
            "Procesando archivo clarin_deportes_20200411.json:\n",
            "\tArchivo procesado correctamente.\n",
            "Procesando archivo clarin_deportes_20200412.json:\n",
            "\tArchivo procesado correctamente.\n",
            "Procesando archivo clarin_deportes_20200413.json:\n",
            "\tArchivo procesado correctamente.\n",
            "Procesando archivo clarin_deportes_20200414.json:\n",
            "\tArchivo no encontrado.\n",
            "Procesando archivo clarin_deportes_20200415.json:\n",
            "\tArchivo no encontrado.\n",
            "Procesando archivo clarin_economia_20200411.json:\n",
            "\tArchivo procesado correctamente.\n",
            "Procesando archivo clarin_economia_20200412.json:\n",
            "\tArchivo procesado correctamente.\n",
            "Procesando archivo clarin_economia_20200413.json:\n",
            "\tArchivo procesado correctamente.\n",
            "Procesando archivo clarin_economia_20200414.json:\n",
            "\tArchivo no encontrado.\n",
            "Procesando archivo clarin_economia_20200415.json:\n",
            "\tArchivo no encontrado.\n",
            "Procesando archivo clarin_sociedad_20200411.json:\n",
            "\tArchivo procesado correctamente.\n",
            "Procesando archivo clarin_sociedad_20200412.json:\n",
            "\tArchivo procesado correctamente.\n",
            "Procesando archivo clarin_sociedad_20200413.json:\n",
            "\tArchivo procesado correctamente.\n",
            "Procesando archivo clarin_sociedad_20200414.json:\n",
            "\tArchivo no encontrado.\n",
            "Procesando archivo clarin_sociedad_20200415.json:\n",
            "\tArchivo no encontrado.\n",
            "Procesando archivo clarin_tecnologia_20200411.json:\n",
            "\tArchivo procesado correctamente.\n",
            "Procesando archivo clarin_tecnologia_20200412.json:\n",
            "\tArchivo procesado correctamente.\n",
            "Procesando archivo clarin_tecnologia_20200413.json:\n",
            "\tArchivo procesado correctamente.\n",
            "Procesando archivo clarin_tecnologia_20200414.json:\n",
            "\tArchivo no encontrado.\n",
            "Procesando archivo clarin_tecnologia_20200415.json:\n",
            "\tArchivo no encontrado.\n",
            "Procesando archivo infobae_deportes_20200411.json:\n",
            "\tArchivo procesado correctamente.\n",
            "Procesando archivo infobae_deportes_20200412.json:\n",
            "\tArchivo procesado correctamente.\n",
            "Procesando archivo infobae_deportes_20200413.json:\n",
            "\tArchivo procesado correctamente.\n",
            "Procesando archivo infobae_deportes_20200414.json:\n",
            "\tArchivo no encontrado.\n",
            "Procesando archivo infobae_deportes_20200415.json:\n",
            "\tArchivo no encontrado.\n",
            "Procesando archivo infobae_economia_20200411.json:\n",
            "\tArchivo procesado correctamente.\n",
            "Procesando archivo infobae_economia_20200412.json:\n",
            "\tArchivo procesado correctamente.\n",
            "Procesando archivo infobae_economia_20200413.json:\n",
            "\tArchivo procesado correctamente.\n",
            "Procesando archivo infobae_economia_20200414.json:\n",
            "\tArchivo no encontrado.\n",
            "Procesando archivo infobae_economia_20200415.json:\n",
            "\tArchivo no encontrado.\n",
            "Procesando archivo infobae_sociedad_20200411.json:\n",
            "\tArchivo procesado correctamente.\n",
            "Procesando archivo infobae_sociedad_20200412.json:\n",
            "\tArchivo procesado correctamente.\n",
            "Procesando archivo infobae_sociedad_20200413.json:\n",
            "\tArchivo procesado correctamente.\n",
            "Procesando archivo infobae_sociedad_20200414.json:\n",
            "\tArchivo no encontrado.\n",
            "Procesando archivo infobae_sociedad_20200415.json:\n",
            "\tArchivo no encontrado.\n",
            "Procesando archivo infobae_tecnologia_20200411.json:\n",
            "\tArchivo procesado correctamente.\n",
            "Procesando archivo infobae_tecnologia_20200412.json:\n",
            "\tArchivo procesado correctamente.\n",
            "Procesando archivo infobae_tecnologia_20200413.json:\n",
            "\tArchivo procesado correctamente.\n",
            "Procesando archivo infobae_tecnologia_20200414.json:\n",
            "\tArchivo no encontrado.\n",
            "Procesando archivo infobae_tecnologia_20200415.json:\n",
            "\tArchivo no encontrado.\n",
            "Procesando archivo lanacion_deportes_20200411.json:\n",
            "\tArchivo procesado correctamente.\n",
            "Procesando archivo lanacion_deportes_20200412.json:\n",
            "\tArchivo procesado correctamente.\n",
            "Procesando archivo lanacion_deportes_20200413.json:\n",
            "\tArchivo procesado correctamente.\n",
            "Procesando archivo lanacion_deportes_20200414.json:\n",
            "\tArchivo no encontrado.\n",
            "Procesando archivo lanacion_deportes_20200415.json:\n",
            "\tArchivo no encontrado.\n",
            "Procesando archivo lanacion_economia_20200411.json:\n",
            "\tArchivo procesado correctamente.\n",
            "Procesando archivo lanacion_economia_20200412.json:\n",
            "\tArchivo procesado correctamente.\n",
            "Procesando archivo lanacion_economia_20200413.json:\n",
            "\tArchivo procesado correctamente.\n",
            "Procesando archivo lanacion_economia_20200414.json:\n",
            "\tArchivo no encontrado.\n",
            "Procesando archivo lanacion_economia_20200415.json:\n",
            "\tArchivo no encontrado.\n",
            "Procesando archivo lanacion_sociedad_20200411.json:\n",
            "\tArchivo procesado correctamente.\n",
            "Procesando archivo lanacion_sociedad_20200412.json:\n",
            "\tArchivo procesado correctamente.\n",
            "Procesando archivo lanacion_sociedad_20200413.json:\n",
            "\tArchivo procesado correctamente.\n",
            "Procesando archivo lanacion_sociedad_20200414.json:\n",
            "\tArchivo no encontrado.\n",
            "Procesando archivo lanacion_sociedad_20200415.json:\n",
            "\tArchivo no encontrado.\n",
            "Procesando archivo lanacion_tecnologia_20200411.json:\n",
            "\tArchivo procesado correctamente.\n",
            "Procesando archivo lanacion_tecnologia_20200412.json:\n",
            "\tArchivo procesado correctamente.\n",
            "Procesando archivo lanacion_tecnologia_20200413.json:\n",
            "\tArchivo procesado correctamente.\n",
            "Procesando archivo lanacion_tecnologia_20200414.json:\n",
            "\tArchivo no encontrado.\n",
            "Procesando archivo lanacion_tecnologia_20200415.json:\n",
            "\tArchivo no encontrado.\n"
          ],
          "name": "stdout"
        }
      ]
    },
    {
      "cell_type": "code",
      "metadata": {
        "id": "zwFnA6JNu4XM",
        "colab_type": "code",
        "colab": {}
      },
      "source": [
        "# Exporta el dataframe de noticias en formato CSV\n",
        "export_csv = noticias.to_csv(generar_nombre_export('todas'),index = None, header=True)\n",
        "\n",
        "#noticias.shape\n"
      ],
      "execution_count": 0,
      "outputs": []
    },
    {
      "cell_type": "code",
      "metadata": {
        "id": "8SsY-h37xBJH",
        "colab_type": "code",
        "colab": {
          "base_uri": "https://localhost:8080/",
          "height": 34
        },
        "outputId": "fe5625bd-9ee1-4472-84b9-5ae05fdb1e80"
      },
      "source": [
        "noticias.shape"
      ],
      "execution_count": 43,
      "outputs": [
        {
          "output_type": "execute_result",
          "data": {
            "text/plain": [
              "(715, 9)"
            ]
          },
          "metadata": {
            "tags": []
          },
          "execution_count": 43
        }
      ]
    },
    {
      "cell_type": "code",
      "metadata": {
        "id": "gq5Wp7oVw7Mo",
        "colab_type": "code",
        "colab": {
          "base_uri": "https://localhost:8080/",
          "height": 102
        },
        "outputId": "a3b9487d-7edd-4c9c-c0a6-cdb80c25233c"
      },
      "source": [
        "pd.value_counts(noticias['category'])"
      ],
      "execution_count": 46,
      "outputs": [
        {
          "output_type": "execute_result",
          "data": {
            "text/plain": [
              "tecnologia    201\n",
              "deportes      199\n",
              "sociedad      186\n",
              "economia      129\n",
              "Name: category, dtype: int64"
            ]
          },
          "metadata": {
            "tags": []
          },
          "execution_count": 46
        }
      ]
    },
    {
      "cell_type": "markdown",
      "metadata": {
        "id": "-kKC5KhAf39K",
        "colab_type": "text"
      },
      "source": [
        "---\n",
        "\n",
        "**Resumen de cantidad de noticias según diario y sección**\n",
        "\n",
        "---"
      ]
    },
    {
      "cell_type": "code",
      "metadata": {
        "id": "t8dCDEv2vJmY",
        "colab_type": "code",
        "colab": {}
      },
      "source": [
        "# Agrupa las noticias por diario y categoría\n",
        "a = noticias.groupby(['news_paper', 'category'])"
      ],
      "execution_count": 0,
      "outputs": []
    },
    {
      "cell_type": "code",
      "metadata": {
        "id": "SbpnEWKIvLhI",
        "colab_type": "code",
        "colab": {
          "base_uri": "https://localhost:8080/",
          "height": 34
        },
        "outputId": "1c6f9c23-71f2-476d-dece-9e53801b0923"
      },
      "source": [
        "# Genera un array numpay solo con la cantidad de noticias\n",
        "b = np.array(a.aggregate(np.count_nonzero)['link'])\n",
        "b"
      ],
      "execution_count": 48,
      "outputs": [
        {
          "output_type": "execute_result",
          "data": {
            "text/plain": [
              "array([ 40,  36,  36,  36, 111,  45,  60,  75,  48,  48,  90,  90])"
            ]
          },
          "metadata": {
            "tags": []
          },
          "execution_count": 48
        }
      ]
    },
    {
      "cell_type": "code",
      "metadata": {
        "id": "oXazF0_wzNeZ",
        "colab_type": "code",
        "colab": {
          "base_uri": "https://localhost:8080/",
          "height": 34
        },
        "outputId": "4a1be630-546b-45e7-c99e-ff079c71e4c8"
      },
      "source": [
        "b = b[0:5]\n",
        "b"
      ],
      "execution_count": 49,
      "outputs": [
        {
          "output_type": "execute_result",
          "data": {
            "text/plain": [
              "array([ 40,  36,  36,  36, 111])"
            ]
          },
          "metadata": {
            "tags": []
          },
          "execution_count": 49
        }
      ]
    },
    {
      "cell_type": "code",
      "metadata": {
        "id": "u7CfRnVHvNvw",
        "colab_type": "code",
        "colab": {
          "base_uri": "https://localhost:8080/",
          "height": 163
        },
        "outputId": "007f2e5d-4e93-46cd-a6d6-774814bce4f6"
      },
      "source": [
        "# Agrega al array la sumatoria por secciones\n",
        "b = np.append(b,[b[0:3] + b[3:7] + b[7:11]])"
      ],
      "execution_count": 52,
      "outputs": [
        {
          "output_type": "error",
          "ename": "ValueError",
          "evalue": "ignored",
          "traceback": [
            "\u001b[0;31m---------------------------------------------------------------------------\u001b[0m",
            "\u001b[0;31mValueError\u001b[0m                                Traceback (most recent call last)",
            "\u001b[0;32m<ipython-input-52-359cf33b3458>\u001b[0m in \u001b[0;36m<module>\u001b[0;34m()\u001b[0m\n\u001b[0;32m----> 1\u001b[0;31m \u001b[0mb\u001b[0m \u001b[0;34m=\u001b[0m \u001b[0mnp\u001b[0m\u001b[0;34m.\u001b[0m\u001b[0mappend\u001b[0m\u001b[0;34m(\u001b[0m\u001b[0mb\u001b[0m\u001b[0;34m,\u001b[0m\u001b[0;34m[\u001b[0m\u001b[0mb\u001b[0m\u001b[0;34m[\u001b[0m\u001b[0;36m0\u001b[0m\u001b[0;34m:\u001b[0m\u001b[0;36m3\u001b[0m\u001b[0;34m]\u001b[0m \u001b[0;34m+\u001b[0m \u001b[0mb\u001b[0m\u001b[0;34m[\u001b[0m\u001b[0;36m3\u001b[0m\u001b[0;34m:\u001b[0m\u001b[0;36m7\u001b[0m\u001b[0;34m]\u001b[0m \u001b[0;34m+\u001b[0m \u001b[0mb\u001b[0m\u001b[0;34m[\u001b[0m\u001b[0;36m7\u001b[0m\u001b[0;34m:\u001b[0m\u001b[0;36m11\u001b[0m\u001b[0;34m]\u001b[0m\u001b[0;34m]\u001b[0m\u001b[0;34m)\u001b[0m\u001b[0;34m\u001b[0m\u001b[0;34m\u001b[0m\u001b[0m\n\u001b[0m",
            "\u001b[0;31mValueError\u001b[0m: operands could not be broadcast together with shapes (3,) (2,) "
          ]
        }
      ]
    },
    {
      "cell_type": "code",
      "metadata": {
        "id": "H-JXlLEbN8KJ",
        "colab_type": "code",
        "outputId": "a45ecc99-6b32-4410-b2af-c1913e779926",
        "colab": {
          "base_uri": "https://localhost:8080/",
          "height": 231
        }
      },
      "source": [
        "# Genera un dataframe con la cantidad de noticias por seccion y diario y los totales\n",
        "resumen = pd.DataFrame({\"Clarin\":np.append(b[0:6],[b[0:6].sum()]), \n",
        "                        \"Infobae\":np.append(b[6:12],[b[6:12].sum()]),  \n",
        "                        \"La Nacion\":np.append(b[12:18],[b[12:18].sum()]),\n",
        "                        \"TOTAL\":np.append(b[18:24],[b[18:24].sum()])},\n",
        "             index=['Deportes', 'Economía','Espectaculos','Politica','Sociedad','Tecnologia','TOTAL'])\n",
        "# Muestra el dataframe\n",
        "resumen.T"
      ],
      "execution_count": 11,
      "outputs": [
        {
          "output_type": "error",
          "ename": "ValueError",
          "evalue": "ignored",
          "traceback": [
            "\u001b[0;31m---------------------------------------------------------------------------\u001b[0m",
            "\u001b[0;31mValueError\u001b[0m                                Traceback (most recent call last)",
            "\u001b[0;32m<ipython-input-11-f3b1b3a66c89>\u001b[0m in \u001b[0;36m<module>\u001b[0;34m()\u001b[0m\n\u001b[1;32m      3\u001b[0m \u001b[0mb\u001b[0m \u001b[0;34m=\u001b[0m \u001b[0mnp\u001b[0m\u001b[0;34m.\u001b[0m\u001b[0marray\u001b[0m\u001b[0;34m(\u001b[0m\u001b[0ma\u001b[0m\u001b[0;34m.\u001b[0m\u001b[0maggregate\u001b[0m\u001b[0;34m(\u001b[0m\u001b[0mnp\u001b[0m\u001b[0;34m.\u001b[0m\u001b[0mcount_nonzero\u001b[0m\u001b[0;34m)\u001b[0m\u001b[0;34m[\u001b[0m\u001b[0;34m'link'\u001b[0m\u001b[0;34m]\u001b[0m\u001b[0;34m)\u001b[0m\u001b[0;34m\u001b[0m\u001b[0;34m\u001b[0m\u001b[0m\n\u001b[1;32m      4\u001b[0m \u001b[0;31m# Agrega al array la sumatoria por secciones\u001b[0m\u001b[0;34m\u001b[0m\u001b[0;34m\u001b[0m\u001b[0;34m\u001b[0m\u001b[0m\n\u001b[0;32m----> 5\u001b[0;31m \u001b[0mb\u001b[0m \u001b[0;34m=\u001b[0m \u001b[0mnp\u001b[0m\u001b[0;34m.\u001b[0m\u001b[0mappend\u001b[0m\u001b[0;34m(\u001b[0m\u001b[0mb\u001b[0m\u001b[0;34m,\u001b[0m\u001b[0;34m[\u001b[0m\u001b[0mb\u001b[0m\u001b[0;34m[\u001b[0m\u001b[0;36m0\u001b[0m\u001b[0;34m:\u001b[0m\u001b[0;36m6\u001b[0m\u001b[0;34m]\u001b[0m \u001b[0;34m+\u001b[0m \u001b[0mb\u001b[0m\u001b[0;34m[\u001b[0m\u001b[0;36m6\u001b[0m\u001b[0;34m:\u001b[0m\u001b[0;36m12\u001b[0m\u001b[0;34m]\u001b[0m \u001b[0;34m+\u001b[0m \u001b[0mb\u001b[0m\u001b[0;34m[\u001b[0m\u001b[0;36m12\u001b[0m\u001b[0;34m:\u001b[0m\u001b[0;36m18\u001b[0m\u001b[0;34m]\u001b[0m\u001b[0;34m]\u001b[0m\u001b[0;34m)\u001b[0m\u001b[0;34m\u001b[0m\u001b[0;34m\u001b[0m\u001b[0m\n\u001b[0m\u001b[1;32m      6\u001b[0m \u001b[0;31m# Genera un dataframe con la cantidad de noticias por seccion y diario y los totales\u001b[0m\u001b[0;34m\u001b[0m\u001b[0;34m\u001b[0m\u001b[0;34m\u001b[0m\u001b[0m\n\u001b[1;32m      7\u001b[0m resumen = pd.DataFrame({\"Clarin\":np.append(b[0:6],[b[0:6].sum()]), \n",
            "\u001b[0;31mValueError\u001b[0m: operands could not be broadcast together with shapes (6,) (2,) "
          ]
        }
      ]
    },
    {
      "cell_type": "markdown",
      "metadata": {
        "id": "XNs1tPingMid",
        "colab_type": "text"
      },
      "source": [
        "---\n",
        "\n",
        "Se exporta la tabla resumen como archivo CSV\n",
        "\n",
        "---"
      ]
    },
    {
      "cell_type": "code",
      "metadata": {
        "id": "jTcBZ1-NVDjJ",
        "colab_type": "code",
        "colab": {}
      },
      "source": [
        "news_resumen = resumen.to_csv (r'/content/TMnews/data/news_resumen.csv', index = True, header=True)"
      ],
      "execution_count": 0,
      "outputs": []
    }
  ]
}